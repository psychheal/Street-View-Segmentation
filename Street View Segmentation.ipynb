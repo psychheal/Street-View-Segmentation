{
  "nbformat": 4,
  "nbformat_minor": 0,
  "metadata": {
    "colab": {
      "name": "ACV_Assignment3.ipynb",
      "provenance": [],
      "collapsed_sections": []
    },
    "kernelspec": {
      "name": "python3",
      "display_name": "Python 3"
    },
    "language_info": {
      "name": "python"
    }
  },
  "cells": [
    {
      "cell_type": "code",
      "source": [
        "from google.colab import drive\n",
        "drive.mount('/content/drive')"
      ],
      "metadata": {
        "colab": {
          "base_uri": "https://localhost:8080/"
        },
        "id": "udTKiCU7l4V_",
        "outputId": "40c603db-74e3-4b6d-faa0-84c38b51c8a9"
      },
      "execution_count": 1,
      "outputs": [
        {
          "output_type": "stream",
          "name": "stdout",
          "text": [
            "Drive already mounted at /content/drive; to attempt to forcibly remount, call drive.mount(\"/content/drive\", force_remount=True).\n"
          ]
        }
      ]
    },
    {
      "cell_type": "markdown",
      "source": [
        "## Install dependencies"
      ],
      "metadata": {
        "id": "Yf4Sc_tUmQGg"
      }
    },
    {
      "cell_type": "code",
      "source": [
        "!pip install -U -q segmentation-models\n",
        "#!pip uninstall tensorflow\n",
        "!pip install tensorflow==2.7"
      ],
      "metadata": {
        "colab": {
          "base_uri": "https://localhost:8080/"
        },
        "id": "HkuX0ma5l5Bu",
        "outputId": "c35b8c27-ea76-4661-d26d-a8f9cc77ab5d"
      },
      "execution_count": 2,
      "outputs": [
        {
          "output_type": "stream",
          "name": "stdout",
          "text": [
            "\u001b[K     |████████████████████████████████| 50 kB 7.2 MB/s \n",
            "\u001b[?25hCollecting tensorflow==2.7\n",
            "  Downloading tensorflow-2.7.0-cp37-cp37m-manylinux2010_x86_64.whl (489.6 MB)\n",
            "\u001b[K     |████████████████████████████████| 489.6 MB 22 kB/s \n",
            "\u001b[?25hRequirement already satisfied: h5py>=2.9.0 in /usr/local/lib/python3.7/dist-packages (from tensorflow==2.7) (3.1.0)\n",
            "Requirement already satisfied: absl-py>=0.4.0 in /usr/local/lib/python3.7/dist-packages (from tensorflow==2.7) (1.0.0)\n",
            "Requirement already satisfied: opt-einsum>=2.3.2 in /usr/local/lib/python3.7/dist-packages (from tensorflow==2.7) (3.3.0)\n",
            "Requirement already satisfied: termcolor>=1.1.0 in /usr/local/lib/python3.7/dist-packages (from tensorflow==2.7) (1.1.0)\n",
            "Collecting tensorflow-estimator<2.8,~=2.7.0rc0\n",
            "  Downloading tensorflow_estimator-2.7.0-py2.py3-none-any.whl (463 kB)\n",
            "\u001b[K     |████████████████████████████████| 463 kB 62.0 MB/s \n",
            "\u001b[?25hRequirement already satisfied: tensorflow-io-gcs-filesystem>=0.21.0 in /usr/local/lib/python3.7/dist-packages (from tensorflow==2.7) (0.25.0)\n",
            "Requirement already satisfied: wrapt>=1.11.0 in /usr/local/lib/python3.7/dist-packages (from tensorflow==2.7) (1.14.1)\n",
            "Requirement already satisfied: keras-preprocessing>=1.1.1 in /usr/local/lib/python3.7/dist-packages (from tensorflow==2.7) (1.1.2)\n",
            "Requirement already satisfied: protobuf>=3.9.2 in /usr/local/lib/python3.7/dist-packages (from tensorflow==2.7) (3.17.3)\n",
            "Requirement already satisfied: typing-extensions>=3.6.6 in /usr/local/lib/python3.7/dist-packages (from tensorflow==2.7) (4.2.0)\n",
            "Requirement already satisfied: six>=1.12.0 in /usr/local/lib/python3.7/dist-packages (from tensorflow==2.7) (1.15.0)\n",
            "Requirement already satisfied: google-pasta>=0.1.1 in /usr/local/lib/python3.7/dist-packages (from tensorflow==2.7) (0.2.0)\n",
            "Requirement already satisfied: wheel<1.0,>=0.32.0 in /usr/local/lib/python3.7/dist-packages (from tensorflow==2.7) (0.37.1)\n",
            "Requirement already satisfied: libclang>=9.0.1 in /usr/local/lib/python3.7/dist-packages (from tensorflow==2.7) (14.0.1)\n",
            "Requirement already satisfied: astunparse>=1.6.0 in /usr/local/lib/python3.7/dist-packages (from tensorflow==2.7) (1.6.3)\n",
            "Requirement already satisfied: tensorboard~=2.6 in /usr/local/lib/python3.7/dist-packages (from tensorflow==2.7) (2.8.0)\n",
            "Collecting keras<2.8,>=2.7.0rc0\n",
            "  Downloading keras-2.7.0-py2.py3-none-any.whl (1.3 MB)\n",
            "\u001b[K     |████████████████████████████████| 1.3 MB 52.0 MB/s \n",
            "\u001b[?25hCollecting gast<0.5.0,>=0.2.1\n",
            "  Downloading gast-0.4.0-py3-none-any.whl (9.8 kB)\n",
            "Requirement already satisfied: flatbuffers<3.0,>=1.12 in /usr/local/lib/python3.7/dist-packages (from tensorflow==2.7) (2.0)\n",
            "Requirement already satisfied: numpy>=1.14.5 in /usr/local/lib/python3.7/dist-packages (from tensorflow==2.7) (1.21.6)\n",
            "Requirement already satisfied: grpcio<2.0,>=1.24.3 in /usr/local/lib/python3.7/dist-packages (from tensorflow==2.7) (1.46.1)\n",
            "Requirement already satisfied: cached-property in /usr/local/lib/python3.7/dist-packages (from h5py>=2.9.0->tensorflow==2.7) (1.5.2)\n",
            "Requirement already satisfied: tensorboard-plugin-wit>=1.6.0 in /usr/local/lib/python3.7/dist-packages (from tensorboard~=2.6->tensorflow==2.7) (1.8.1)\n",
            "Requirement already satisfied: google-auth-oauthlib<0.5,>=0.4.1 in /usr/local/lib/python3.7/dist-packages (from tensorboard~=2.6->tensorflow==2.7) (0.4.6)\n",
            "Requirement already satisfied: google-auth<3,>=1.6.3 in /usr/local/lib/python3.7/dist-packages (from tensorboard~=2.6->tensorflow==2.7) (1.35.0)\n",
            "Requirement already satisfied: requests<3,>=2.21.0 in /usr/local/lib/python3.7/dist-packages (from tensorboard~=2.6->tensorflow==2.7) (2.23.0)\n",
            "Requirement already satisfied: werkzeug>=0.11.15 in /usr/local/lib/python3.7/dist-packages (from tensorboard~=2.6->tensorflow==2.7) (1.0.1)\n",
            "Requirement already satisfied: markdown>=2.6.8 in /usr/local/lib/python3.7/dist-packages (from tensorboard~=2.6->tensorflow==2.7) (3.3.7)\n",
            "Requirement already satisfied: tensorboard-data-server<0.7.0,>=0.6.0 in /usr/local/lib/python3.7/dist-packages (from tensorboard~=2.6->tensorflow==2.7) (0.6.1)\n",
            "Requirement already satisfied: setuptools>=41.0.0 in /usr/local/lib/python3.7/dist-packages (from tensorboard~=2.6->tensorflow==2.7) (57.4.0)\n",
            "Requirement already satisfied: cachetools<5.0,>=2.0.0 in /usr/local/lib/python3.7/dist-packages (from google-auth<3,>=1.6.3->tensorboard~=2.6->tensorflow==2.7) (4.2.4)\n",
            "Requirement already satisfied: pyasn1-modules>=0.2.1 in /usr/local/lib/python3.7/dist-packages (from google-auth<3,>=1.6.3->tensorboard~=2.6->tensorflow==2.7) (0.2.8)\n",
            "Requirement already satisfied: rsa<5,>=3.1.4 in /usr/local/lib/python3.7/dist-packages (from google-auth<3,>=1.6.3->tensorboard~=2.6->tensorflow==2.7) (4.8)\n",
            "Requirement already satisfied: requests-oauthlib>=0.7.0 in /usr/local/lib/python3.7/dist-packages (from google-auth-oauthlib<0.5,>=0.4.1->tensorboard~=2.6->tensorflow==2.7) (1.3.1)\n",
            "Requirement already satisfied: importlib-metadata>=4.4 in /usr/local/lib/python3.7/dist-packages (from markdown>=2.6.8->tensorboard~=2.6->tensorflow==2.7) (4.11.3)\n",
            "Requirement already satisfied: zipp>=0.5 in /usr/local/lib/python3.7/dist-packages (from importlib-metadata>=4.4->markdown>=2.6.8->tensorboard~=2.6->tensorflow==2.7) (3.8.0)\n",
            "Requirement already satisfied: pyasn1<0.5.0,>=0.4.6 in /usr/local/lib/python3.7/dist-packages (from pyasn1-modules>=0.2.1->google-auth<3,>=1.6.3->tensorboard~=2.6->tensorflow==2.7) (0.4.8)\n",
            "Requirement already satisfied: certifi>=2017.4.17 in /usr/local/lib/python3.7/dist-packages (from requests<3,>=2.21.0->tensorboard~=2.6->tensorflow==2.7) (2021.10.8)\n",
            "Requirement already satisfied: chardet<4,>=3.0.2 in /usr/local/lib/python3.7/dist-packages (from requests<3,>=2.21.0->tensorboard~=2.6->tensorflow==2.7) (3.0.4)\n",
            "Requirement already satisfied: idna<3,>=2.5 in /usr/local/lib/python3.7/dist-packages (from requests<3,>=2.21.0->tensorboard~=2.6->tensorflow==2.7) (2.10)\n",
            "Requirement already satisfied: urllib3!=1.25.0,!=1.25.1,<1.26,>=1.21.1 in /usr/local/lib/python3.7/dist-packages (from requests<3,>=2.21.0->tensorboard~=2.6->tensorflow==2.7) (1.24.3)\n",
            "Requirement already satisfied: oauthlib>=3.0.0 in /usr/local/lib/python3.7/dist-packages (from requests-oauthlib>=0.7.0->google-auth-oauthlib<0.5,>=0.4.1->tensorboard~=2.6->tensorflow==2.7) (3.2.0)\n",
            "Installing collected packages: tensorflow-estimator, keras, gast, tensorflow\n",
            "  Attempting uninstall: tensorflow-estimator\n",
            "    Found existing installation: tensorflow-estimator 2.8.0\n",
            "    Uninstalling tensorflow-estimator-2.8.0:\n",
            "      Successfully uninstalled tensorflow-estimator-2.8.0\n",
            "  Attempting uninstall: keras\n",
            "    Found existing installation: keras 2.8.0\n",
            "    Uninstalling keras-2.8.0:\n",
            "      Successfully uninstalled keras-2.8.0\n",
            "  Attempting uninstall: gast\n",
            "    Found existing installation: gast 0.5.3\n",
            "    Uninstalling gast-0.5.3:\n",
            "      Successfully uninstalled gast-0.5.3\n",
            "  Attempting uninstall: tensorflow\n",
            "    Found existing installation: tensorflow 2.8.0+zzzcolab20220506162203\n",
            "    Uninstalling tensorflow-2.8.0+zzzcolab20220506162203:\n",
            "      Successfully uninstalled tensorflow-2.8.0+zzzcolab20220506162203\n",
            "Successfully installed gast-0.4.0 keras-2.7.0 tensorflow-2.7.0 tensorflow-estimator-2.7.0\n"
          ]
        }
      ]
    },
    {
      "cell_type": "markdown",
      "source": [
        "**Import libraries**"
      ],
      "metadata": {
        "id": "pYgV2Cmypxnq"
      }
    },
    {
      "cell_type": "code",
      "source": [
        "import tensorflow as tf\n",
        "import segmentation_models as sm\n",
        "import glob\n",
        "from tensorflow.keras.layers import *\n",
        "from keras import backend as K\n",
        "from keras.applications.vgg16 import VGG16\n",
        "from keras.utils.vis_utils import plot_model\n",
        "import cv2\n",
        "import os\n",
        "from matplotlib import pyplot as plt\n",
        "import keras \n",
        "from tensorflow.keras.utils import normalize\n",
        "from keras.metrics import MeanIoU\n",
        "import numpy as np\n",
        "from skimage.transform import AffineTransform, warp\n",
        "import torchvision.models as models\n",
        "from skimage import io, img_as_ubyte\n",
        "from tensorflow.keras.models import *\n",
        "from tensorflow.keras.optimizers import *\n",
        "from tensorflow.keras.layers import *\n",
        "import random\n",
        "from random import randint,choice\n",
        "from scipy.ndimage import rotate\n",
        "from tensorflow.keras.utils import to_categorical\n",
        "from sklearn.model_selection import train_test_split\n",
        "from sklearn.preprocessing import LabelEncoder\n",
        "from natsort import natsorted\n",
        "from tensorflow.keras.models import Sequential,  Model\n",
        "from keras import Sequential, layers\n",
        "from keras.layers import Dense, Dropout, Activation, Flatten, Conv2D, MaxPooling2D,BatchNormalization,Add,GlobalAveragePooling2D,UpSampling2D\n"
      ],
      "metadata": {
        "id": "PYVlRbXlmTH2"
      },
      "execution_count": 25,
      "outputs": []
    },
    {
      "cell_type": "code",
      "source": [
        "from enum import Enum\n",
        "import numpy as np\n",
        "from scipy.ndimage import distance_transform_edt as distance\n",
        "import tensorflow as tf\n",
        "import tensorflow.keras as K\n",
        "\n",
        "\n",
        "# Define all possible losses\n",
        "class Loss(Enum):\n",
        "    CROSSENTROPY = 0,\n",
        "    DICE = 1,\n",
        "    ACTIVECONTOURS = 2,\n",
        "    SURFACEnDice = 3,\n",
        "    FOCALLOSS = 4,\n",
        "    WEIGHTEDCROSSENTROPY = 5,\n",
        "    WEIGHTED60CROSSENTROPY = 6,\n",
        "    WEIGHTED70CROSSENTROPY = 7,\n",
        "    CROSSENTROPY50DICE50 = 8,\n",
        "    CROSSENTROPY25DICE75 = 9,\n",
        "    CROSSENTROPY75DICE25 = 10,\n",
        "    WEIGHTEDCROSSENTROPY50DICE50 = 11,\n",
        "    WEIGHTEDCROSSENTROPY25DICE75 = 12,\n",
        "    WEIGHTEDCROSSENTROPY75DICE25 = 13\n",
        "\n",
        "\n",
        "alpha = K.backend.variable(1.0, dtype='float32')\n",
        "\n",
        "\"\"\"\n",
        "Scheduling example\n",
        "alpha = K.variable(1.0, dtype='float32')\n",
        "class AlphaScheduler(Callback):\n",
        " def on_epoch_end(self, epoch, logs=None):\n",
        "  alpha_ = K.get_value(alpha)\n",
        "  alpha_ -= 0.01\n",
        "  if alpha_ < 0.1:\n",
        "   alpha_ = 0.1\n",
        "  K.set_value(alpha, alpha_)\n",
        "  print(alpha_)\n",
        "\"\"\"\n",
        "\n",
        "\n",
        "def calc_dist_map(seg):\n",
        "    res = np.zeros_like(seg)\n",
        "    posmask = seg.astype(np.bool)\n",
        "    if posmask.any():\n",
        "        negmask = ~posmask\n",
        "        res = distance(negmask) * negmask - (distance(posmask) - 1) * posmask\n",
        "    return res\n",
        "\n",
        "#get weight matrix for tensor (image or images stack)\n",
        "def get_weight_matrix(y_true):\n",
        "    y_true = K.backend.cast(y_true, 'float32')\n",
        "    # if we want to get same size of output, kernel size must be odd number\n",
        "    #averaged_mask = K.pool2d(\n",
        "    #    y_true, pool_size=(11, 11), strides=(1, 1), padding='same', pool_mode='avg')\n",
        "    #border = K.cast(K.greater(averaged_mask, 0.005), 'float32') * K.cast(K.less(averaged_mask, 0.995), 'float32')\n",
        "    # basically finds label, (non-black) points in tensor\n",
        "    labelmatrix = K.backend.cast(K.backend.greater(y_true, 0.5), 'float32')\n",
        "    weight = K.backend.ones_like(y_true)\n",
        "    w0 = K.backend.sum(weight)\n",
        "    weight += labelmatrix\n",
        "    w1 = K.backend.sum(weight)\n",
        "    weight *= (w0 / w1)\n",
        "    return weight\n",
        "\n",
        "def binary_crossentropy(y_true, y_pred):\n",
        "    loss = tf.reduce_mean(tf.keras.losses.binary_crossentropy(y_true = y_true, y_pred = y_pred, from_logits = False))\n",
        "    return loss\n",
        "\n",
        "def dice_score(y_true, y_pred):\n",
        "    smooth = K.backend.epsilon()\n",
        "    y_true_f = K.backend.flatten(y_true)\n",
        "    y_pred_f = K.backend.flatten(y_pred)\n",
        "    intersection = K.backend.sum(y_true_f * y_pred_f)\n",
        "    answer = (2. * intersection + smooth) / (K.backend.sum(y_true_f) + K.backend.sum(y_pred_f) + smooth)\n",
        "    return answer"
      ],
      "metadata": {
        "id": "sRs8VozPrhVm"
      },
      "execution_count": null,
      "outputs": []
    },
    {
      "cell_type": "markdown",
      "source": [
        "**Data Pre-processing using custom data generators**"
      ],
      "metadata": {
        "id": "CfDiaM6ZAMZE"
      }
    },
    {
      "cell_type": "code",
      "source": [
        "def rotation(image, seed):\n",
        "    random.seed(seed)\n",
        "    angle= random.randint(-180,180)\n",
        "    r_img = rotate(image, angle, mode='reflect', reshape=False, order=0)\n",
        "    return r_img\n",
        "\n",
        "def h_flip(image, seed):\n",
        "    hflipped_img= np.fliplr(image)\n",
        "    return  hflipped_img\n",
        "\n",
        "def v_flip(image, seed):\n",
        "    vflipped_img= np.flipud(image)\n",
        "    return vflipped_img\n",
        "\n",
        "def v_transl(image, seed):\n",
        "    random.seed(seed)\n",
        "    n_pixels = random.randint(-64,64)\n",
        "    vtranslated_img = np.roll(image, n_pixels, axis=0)\n",
        "    return vtranslated_img\n",
        "\n",
        "def h_transl(image, seed):\n",
        "    random.seed(seed)\n",
        "    n_pixels = random.randint(-64,64)\n",
        "    htranslated_img = np.roll(image, n_pixels, axis=1)\n",
        "    return htranslated_img\n",
        "seed_for_random = 42\n",
        "transformations = {'rotate': rotation,\n",
        "                      'horizontal flip': h_flip, \n",
        "                      'vertical flip': v_flip,\n",
        "                   'vertical shift': v_transl,\n",
        "                   'horizontal shift': h_transl\n",
        "                 }                #use dictionary to store names of functions \n",
        "\n",
        "images_path=\"/content/drive/MyDrive/dataset1 - Copy/images_prepped_train\" #path to original images\n",
        "masks_path = \"/content/drive/MyDrive/dataset1 - Copy/annotations_prepped_train\"\n",
        "img_augmented_path=\"/content/drive/MyDrive/dataset1 - Copy/images_prepped_train\" # path to store aumented images\n",
        "msk_augmented_path=\"/content/drive/MyDrive/dataset1 - Copy/annotations_prepped_train\" # path to store aumented images\n",
        "images=[] # to store paths of images from folder\n",
        "masks=[]\n",
        "\n",
        "for im in os.listdir(images_path):  # read image name from folder and append its path into \"images\" array     \n",
        "    images.append(os.path.join(images_path,im))\n",
        "\n",
        "for msk in os.listdir(masks_path):  # read image name from folder and append its path into \"images\" array     \n",
        "    masks.append(os.path.join(masks_path,msk))\n",
        "\n",
        "i=0   # variable to iterate till images_to_generate\n",
        "\n",
        "while i<367: \n",
        "    image = images[i]\n",
        "    mask = masks[i]\n",
        "    original_image = io.imread(image)\n",
        "    original_mask = io.imread(mask)\n",
        "    transformed_image = None\n",
        "    transformed_mask = None\n",
        "    key = np.random.choice(list(transformations)) #randomly choosing method to call\n",
        "    print(key)\n",
        "    seed = random.randint(1,100)  #Generate seed to supply transformation functions. \n",
        "    transformed_image = transformations[key](original_image, seed)\n",
        "    transformed_mask = transformations[key](original_mask, seed)\n",
        "    new_image_path= \"%s/augmented_image_%s.png\" %(img_augmented_path, i)\n",
        "    new_mask_path = \"%s/augmented_mask_%s.png\" %(msk_augmented_path, i)   #Do not save as JPG\n",
        "    io.imsave(new_image_path, transformed_image)\n",
        "    io.imsave(new_mask_path, transformed_mask)\n",
        "    i =i+1\n"
      ],
      "metadata": {
        "colab": {
          "base_uri": "https://localhost:8080/"
        },
        "id": "6KUvlDX7AWAw",
        "outputId": "a8594758-3441-477b-c184-434682ef2c5d"
      },
      "execution_count": 4,
      "outputs": [
        {
          "output_type": "stream",
          "name": "stdout",
          "text": [
            "rotate\n"
          ]
        },
        {
          "output_type": "stream",
          "name": "stderr",
          "text": [
            "/usr/local/lib/python3.7/dist-packages/ipykernel_launcher.py:64: UserWarning: /content/drive/MyDrive/dataset1 - Copy/annotations_prepped_train/augmented_mask_0.png is a low contrast image\n"
          ]
        },
        {
          "output_type": "stream",
          "name": "stdout",
          "text": [
            "horizontal shift\n"
          ]
        },
        {
          "output_type": "stream",
          "name": "stderr",
          "text": [
            "/usr/local/lib/python3.7/dist-packages/ipykernel_launcher.py:64: UserWarning: /content/drive/MyDrive/dataset1 - Copy/annotations_prepped_train/augmented_mask_1.png is a low contrast image\n"
          ]
        },
        {
          "output_type": "stream",
          "name": "stdout",
          "text": [
            "horizontal flip\n"
          ]
        },
        {
          "output_type": "stream",
          "name": "stderr",
          "text": [
            "/usr/local/lib/python3.7/dist-packages/ipykernel_launcher.py:64: UserWarning: /content/drive/MyDrive/dataset1 - Copy/annotations_prepped_train/augmented_mask_2.png is a low contrast image\n"
          ]
        },
        {
          "output_type": "stream",
          "name": "stdout",
          "text": [
            "vertical shift\n"
          ]
        },
        {
          "output_type": "stream",
          "name": "stderr",
          "text": [
            "/usr/local/lib/python3.7/dist-packages/ipykernel_launcher.py:64: UserWarning: /content/drive/MyDrive/dataset1 - Copy/annotations_prepped_train/augmented_mask_3.png is a low contrast image\n"
          ]
        },
        {
          "output_type": "stream",
          "name": "stdout",
          "text": [
            "horizontal shift\n"
          ]
        },
        {
          "output_type": "stream",
          "name": "stderr",
          "text": [
            "/usr/local/lib/python3.7/dist-packages/ipykernel_launcher.py:64: UserWarning: /content/drive/MyDrive/dataset1 - Copy/annotations_prepped_train/augmented_mask_4.png is a low contrast image\n"
          ]
        },
        {
          "output_type": "stream",
          "name": "stdout",
          "text": [
            "rotate\n"
          ]
        },
        {
          "output_type": "stream",
          "name": "stderr",
          "text": [
            "/usr/local/lib/python3.7/dist-packages/ipykernel_launcher.py:64: UserWarning: /content/drive/MyDrive/dataset1 - Copy/annotations_prepped_train/augmented_mask_5.png is a low contrast image\n"
          ]
        },
        {
          "output_type": "stream",
          "name": "stdout",
          "text": [
            "horizontal flip\n"
          ]
        },
        {
          "output_type": "stream",
          "name": "stderr",
          "text": [
            "/usr/local/lib/python3.7/dist-packages/ipykernel_launcher.py:64: UserWarning: /content/drive/MyDrive/dataset1 - Copy/annotations_prepped_train/augmented_mask_6.png is a low contrast image\n"
          ]
        },
        {
          "output_type": "stream",
          "name": "stdout",
          "text": [
            "vertical shift\n"
          ]
        },
        {
          "output_type": "stream",
          "name": "stderr",
          "text": [
            "/usr/local/lib/python3.7/dist-packages/ipykernel_launcher.py:64: UserWarning: /content/drive/MyDrive/dataset1 - Copy/annotations_prepped_train/augmented_mask_7.png is a low contrast image\n"
          ]
        },
        {
          "output_type": "stream",
          "name": "stdout",
          "text": [
            "vertical flip\n"
          ]
        },
        {
          "output_type": "stream",
          "name": "stderr",
          "text": [
            "/usr/local/lib/python3.7/dist-packages/ipykernel_launcher.py:64: UserWarning: /content/drive/MyDrive/dataset1 - Copy/annotations_prepped_train/augmented_mask_8.png is a low contrast image\n"
          ]
        },
        {
          "output_type": "stream",
          "name": "stdout",
          "text": [
            "rotate\n"
          ]
        },
        {
          "output_type": "stream",
          "name": "stderr",
          "text": [
            "/usr/local/lib/python3.7/dist-packages/ipykernel_launcher.py:64: UserWarning: /content/drive/MyDrive/dataset1 - Copy/annotations_prepped_train/augmented_mask_9.png is a low contrast image\n"
          ]
        },
        {
          "output_type": "stream",
          "name": "stdout",
          "text": [
            "horizontal shift\n"
          ]
        },
        {
          "output_type": "stream",
          "name": "stderr",
          "text": [
            "/usr/local/lib/python3.7/dist-packages/ipykernel_launcher.py:64: UserWarning: /content/drive/MyDrive/dataset1 - Copy/annotations_prepped_train/augmented_mask_10.png is a low contrast image\n"
          ]
        },
        {
          "output_type": "stream",
          "name": "stdout",
          "text": [
            "vertical shift\n"
          ]
        },
        {
          "output_type": "stream",
          "name": "stderr",
          "text": [
            "/usr/local/lib/python3.7/dist-packages/ipykernel_launcher.py:64: UserWarning: /content/drive/MyDrive/dataset1 - Copy/annotations_prepped_train/augmented_mask_11.png is a low contrast image\n"
          ]
        },
        {
          "output_type": "stream",
          "name": "stdout",
          "text": [
            "horizontal shift\n"
          ]
        },
        {
          "output_type": "stream",
          "name": "stderr",
          "text": [
            "/usr/local/lib/python3.7/dist-packages/ipykernel_launcher.py:64: UserWarning: /content/drive/MyDrive/dataset1 - Copy/annotations_prepped_train/augmented_mask_12.png is a low contrast image\n"
          ]
        },
        {
          "output_type": "stream",
          "name": "stdout",
          "text": [
            "horizontal flip\n"
          ]
        },
        {
          "output_type": "stream",
          "name": "stderr",
          "text": [
            "/usr/local/lib/python3.7/dist-packages/ipykernel_launcher.py:64: UserWarning: /content/drive/MyDrive/dataset1 - Copy/annotations_prepped_train/augmented_mask_13.png is a low contrast image\n"
          ]
        },
        {
          "output_type": "stream",
          "name": "stdout",
          "text": [
            "rotate\n"
          ]
        },
        {
          "output_type": "stream",
          "name": "stderr",
          "text": [
            "/usr/local/lib/python3.7/dist-packages/ipykernel_launcher.py:64: UserWarning: /content/drive/MyDrive/dataset1 - Copy/annotations_prepped_train/augmented_mask_14.png is a low contrast image\n"
          ]
        },
        {
          "output_type": "stream",
          "name": "stdout",
          "text": [
            "vertical shift\n"
          ]
        },
        {
          "output_type": "stream",
          "name": "stderr",
          "text": [
            "/usr/local/lib/python3.7/dist-packages/ipykernel_launcher.py:64: UserWarning: /content/drive/MyDrive/dataset1 - Copy/annotations_prepped_train/augmented_mask_15.png is a low contrast image\n"
          ]
        },
        {
          "output_type": "stream",
          "name": "stdout",
          "text": [
            "horizontal shift\n"
          ]
        },
        {
          "output_type": "stream",
          "name": "stderr",
          "text": [
            "/usr/local/lib/python3.7/dist-packages/ipykernel_launcher.py:64: UserWarning: /content/drive/MyDrive/dataset1 - Copy/annotations_prepped_train/augmented_mask_16.png is a low contrast image\n"
          ]
        },
        {
          "output_type": "stream",
          "name": "stdout",
          "text": [
            "horizontal shift\n"
          ]
        },
        {
          "output_type": "stream",
          "name": "stderr",
          "text": [
            "/usr/local/lib/python3.7/dist-packages/ipykernel_launcher.py:64: UserWarning: /content/drive/MyDrive/dataset1 - Copy/annotations_prepped_train/augmented_mask_17.png is a low contrast image\n"
          ]
        },
        {
          "output_type": "stream",
          "name": "stdout",
          "text": [
            "horizontal shift\n"
          ]
        },
        {
          "output_type": "stream",
          "name": "stderr",
          "text": [
            "/usr/local/lib/python3.7/dist-packages/ipykernel_launcher.py:64: UserWarning: /content/drive/MyDrive/dataset1 - Copy/annotations_prepped_train/augmented_mask_18.png is a low contrast image\n"
          ]
        },
        {
          "output_type": "stream",
          "name": "stdout",
          "text": [
            "vertical flip\n"
          ]
        },
        {
          "output_type": "stream",
          "name": "stderr",
          "text": [
            "/usr/local/lib/python3.7/dist-packages/ipykernel_launcher.py:64: UserWarning: /content/drive/MyDrive/dataset1 - Copy/annotations_prepped_train/augmented_mask_19.png is a low contrast image\n"
          ]
        },
        {
          "output_type": "stream",
          "name": "stdout",
          "text": [
            "rotate\n"
          ]
        },
        {
          "output_type": "stream",
          "name": "stderr",
          "text": [
            "/usr/local/lib/python3.7/dist-packages/ipykernel_launcher.py:64: UserWarning: /content/drive/MyDrive/dataset1 - Copy/annotations_prepped_train/augmented_mask_20.png is a low contrast image\n"
          ]
        },
        {
          "output_type": "stream",
          "name": "stdout",
          "text": [
            "vertical shift\n"
          ]
        },
        {
          "output_type": "stream",
          "name": "stderr",
          "text": [
            "/usr/local/lib/python3.7/dist-packages/ipykernel_launcher.py:64: UserWarning: /content/drive/MyDrive/dataset1 - Copy/annotations_prepped_train/augmented_mask_21.png is a low contrast image\n"
          ]
        },
        {
          "output_type": "stream",
          "name": "stdout",
          "text": [
            "rotate\n"
          ]
        },
        {
          "output_type": "stream",
          "name": "stderr",
          "text": [
            "/usr/local/lib/python3.7/dist-packages/ipykernel_launcher.py:64: UserWarning: /content/drive/MyDrive/dataset1 - Copy/annotations_prepped_train/augmented_mask_22.png is a low contrast image\n"
          ]
        },
        {
          "output_type": "stream",
          "name": "stdout",
          "text": [
            "rotate\n"
          ]
        },
        {
          "output_type": "stream",
          "name": "stderr",
          "text": [
            "/usr/local/lib/python3.7/dist-packages/ipykernel_launcher.py:64: UserWarning: /content/drive/MyDrive/dataset1 - Copy/annotations_prepped_train/augmented_mask_23.png is a low contrast image\n"
          ]
        },
        {
          "output_type": "stream",
          "name": "stdout",
          "text": [
            "vertical shift\n"
          ]
        },
        {
          "output_type": "stream",
          "name": "stderr",
          "text": [
            "/usr/local/lib/python3.7/dist-packages/ipykernel_launcher.py:64: UserWarning: /content/drive/MyDrive/dataset1 - Copy/annotations_prepped_train/augmented_mask_24.png is a low contrast image\n"
          ]
        },
        {
          "output_type": "stream",
          "name": "stdout",
          "text": [
            "horizontal shift\n"
          ]
        },
        {
          "output_type": "stream",
          "name": "stderr",
          "text": [
            "/usr/local/lib/python3.7/dist-packages/ipykernel_launcher.py:64: UserWarning: /content/drive/MyDrive/dataset1 - Copy/annotations_prepped_train/augmented_mask_25.png is a low contrast image\n"
          ]
        },
        {
          "output_type": "stream",
          "name": "stdout",
          "text": [
            "vertical shift\n"
          ]
        },
        {
          "output_type": "stream",
          "name": "stderr",
          "text": [
            "/usr/local/lib/python3.7/dist-packages/ipykernel_launcher.py:64: UserWarning: /content/drive/MyDrive/dataset1 - Copy/annotations_prepped_train/augmented_mask_26.png is a low contrast image\n"
          ]
        },
        {
          "output_type": "stream",
          "name": "stdout",
          "text": [
            "vertical flip\n"
          ]
        },
        {
          "output_type": "stream",
          "name": "stderr",
          "text": [
            "/usr/local/lib/python3.7/dist-packages/ipykernel_launcher.py:64: UserWarning: /content/drive/MyDrive/dataset1 - Copy/annotations_prepped_train/augmented_mask_27.png is a low contrast image\n"
          ]
        },
        {
          "output_type": "stream",
          "name": "stdout",
          "text": [
            "rotate\n"
          ]
        },
        {
          "output_type": "stream",
          "name": "stderr",
          "text": [
            "/usr/local/lib/python3.7/dist-packages/ipykernel_launcher.py:64: UserWarning: /content/drive/MyDrive/dataset1 - Copy/annotations_prepped_train/augmented_mask_28.png is a low contrast image\n"
          ]
        },
        {
          "output_type": "stream",
          "name": "stdout",
          "text": [
            "rotate\n"
          ]
        },
        {
          "output_type": "stream",
          "name": "stderr",
          "text": [
            "/usr/local/lib/python3.7/dist-packages/ipykernel_launcher.py:64: UserWarning: /content/drive/MyDrive/dataset1 - Copy/annotations_prepped_train/augmented_mask_29.png is a low contrast image\n"
          ]
        },
        {
          "output_type": "stream",
          "name": "stdout",
          "text": [
            "horizontal shift\n"
          ]
        },
        {
          "output_type": "stream",
          "name": "stderr",
          "text": [
            "/usr/local/lib/python3.7/dist-packages/ipykernel_launcher.py:64: UserWarning: /content/drive/MyDrive/dataset1 - Copy/annotations_prepped_train/augmented_mask_30.png is a low contrast image\n"
          ]
        },
        {
          "output_type": "stream",
          "name": "stdout",
          "text": [
            "vertical flip\n"
          ]
        },
        {
          "output_type": "stream",
          "name": "stderr",
          "text": [
            "/usr/local/lib/python3.7/dist-packages/ipykernel_launcher.py:64: UserWarning: /content/drive/MyDrive/dataset1 - Copy/annotations_prepped_train/augmented_mask_31.png is a low contrast image\n"
          ]
        },
        {
          "output_type": "stream",
          "name": "stdout",
          "text": [
            "vertical flip\n"
          ]
        },
        {
          "output_type": "stream",
          "name": "stderr",
          "text": [
            "/usr/local/lib/python3.7/dist-packages/ipykernel_launcher.py:64: UserWarning: /content/drive/MyDrive/dataset1 - Copy/annotations_prepped_train/augmented_mask_32.png is a low contrast image\n"
          ]
        },
        {
          "output_type": "stream",
          "name": "stdout",
          "text": [
            "rotate\n"
          ]
        },
        {
          "output_type": "stream",
          "name": "stderr",
          "text": [
            "/usr/local/lib/python3.7/dist-packages/ipykernel_launcher.py:64: UserWarning: /content/drive/MyDrive/dataset1 - Copy/annotations_prepped_train/augmented_mask_33.png is a low contrast image\n"
          ]
        },
        {
          "output_type": "stream",
          "name": "stdout",
          "text": [
            "vertical shift\n"
          ]
        },
        {
          "output_type": "stream",
          "name": "stderr",
          "text": [
            "/usr/local/lib/python3.7/dist-packages/ipykernel_launcher.py:64: UserWarning: /content/drive/MyDrive/dataset1 - Copy/annotations_prepped_train/augmented_mask_34.png is a low contrast image\n"
          ]
        },
        {
          "output_type": "stream",
          "name": "stdout",
          "text": [
            "horizontal flip\n"
          ]
        },
        {
          "output_type": "stream",
          "name": "stderr",
          "text": [
            "/usr/local/lib/python3.7/dist-packages/ipykernel_launcher.py:64: UserWarning: /content/drive/MyDrive/dataset1 - Copy/annotations_prepped_train/augmented_mask_35.png is a low contrast image\n"
          ]
        },
        {
          "output_type": "stream",
          "name": "stdout",
          "text": [
            "vertical flip\n"
          ]
        },
        {
          "output_type": "stream",
          "name": "stderr",
          "text": [
            "/usr/local/lib/python3.7/dist-packages/ipykernel_launcher.py:64: UserWarning: /content/drive/MyDrive/dataset1 - Copy/annotations_prepped_train/augmented_mask_36.png is a low contrast image\n"
          ]
        },
        {
          "output_type": "stream",
          "name": "stdout",
          "text": [
            "rotate\n"
          ]
        },
        {
          "output_type": "stream",
          "name": "stderr",
          "text": [
            "/usr/local/lib/python3.7/dist-packages/ipykernel_launcher.py:64: UserWarning: /content/drive/MyDrive/dataset1 - Copy/annotations_prepped_train/augmented_mask_37.png is a low contrast image\n"
          ]
        },
        {
          "output_type": "stream",
          "name": "stdout",
          "text": [
            "rotate\n"
          ]
        },
        {
          "output_type": "stream",
          "name": "stderr",
          "text": [
            "/usr/local/lib/python3.7/dist-packages/ipykernel_launcher.py:64: UserWarning: /content/drive/MyDrive/dataset1 - Copy/annotations_prepped_train/augmented_mask_38.png is a low contrast image\n"
          ]
        },
        {
          "output_type": "stream",
          "name": "stdout",
          "text": [
            "vertical shift\n"
          ]
        },
        {
          "output_type": "stream",
          "name": "stderr",
          "text": [
            "/usr/local/lib/python3.7/dist-packages/ipykernel_launcher.py:64: UserWarning: /content/drive/MyDrive/dataset1 - Copy/annotations_prepped_train/augmented_mask_39.png is a low contrast image\n"
          ]
        },
        {
          "output_type": "stream",
          "name": "stdout",
          "text": [
            "horizontal shift\n"
          ]
        },
        {
          "output_type": "stream",
          "name": "stderr",
          "text": [
            "/usr/local/lib/python3.7/dist-packages/ipykernel_launcher.py:64: UserWarning: /content/drive/MyDrive/dataset1 - Copy/annotations_prepped_train/augmented_mask_40.png is a low contrast image\n"
          ]
        },
        {
          "output_type": "stream",
          "name": "stdout",
          "text": [
            "horizontal shift\n"
          ]
        },
        {
          "output_type": "stream",
          "name": "stderr",
          "text": [
            "/usr/local/lib/python3.7/dist-packages/ipykernel_launcher.py:64: UserWarning: /content/drive/MyDrive/dataset1 - Copy/annotations_prepped_train/augmented_mask_41.png is a low contrast image\n"
          ]
        },
        {
          "output_type": "stream",
          "name": "stdout",
          "text": [
            "rotate\n"
          ]
        },
        {
          "output_type": "stream",
          "name": "stderr",
          "text": [
            "/usr/local/lib/python3.7/dist-packages/ipykernel_launcher.py:64: UserWarning: /content/drive/MyDrive/dataset1 - Copy/annotations_prepped_train/augmented_mask_42.png is a low contrast image\n"
          ]
        },
        {
          "output_type": "stream",
          "name": "stdout",
          "text": [
            "rotate\n"
          ]
        },
        {
          "output_type": "stream",
          "name": "stderr",
          "text": [
            "/usr/local/lib/python3.7/dist-packages/ipykernel_launcher.py:64: UserWarning: /content/drive/MyDrive/dataset1 - Copy/annotations_prepped_train/augmented_mask_43.png is a low contrast image\n"
          ]
        },
        {
          "output_type": "stream",
          "name": "stdout",
          "text": [
            "vertical shift\n"
          ]
        },
        {
          "output_type": "stream",
          "name": "stderr",
          "text": [
            "/usr/local/lib/python3.7/dist-packages/ipykernel_launcher.py:64: UserWarning: /content/drive/MyDrive/dataset1 - Copy/annotations_prepped_train/augmented_mask_44.png is a low contrast image\n"
          ]
        },
        {
          "output_type": "stream",
          "name": "stdout",
          "text": [
            "horizontal flip\n"
          ]
        },
        {
          "output_type": "stream",
          "name": "stderr",
          "text": [
            "/usr/local/lib/python3.7/dist-packages/ipykernel_launcher.py:64: UserWarning: /content/drive/MyDrive/dataset1 - Copy/annotations_prepped_train/augmented_mask_45.png is a low contrast image\n"
          ]
        },
        {
          "output_type": "stream",
          "name": "stdout",
          "text": [
            "horizontal shift\n"
          ]
        },
        {
          "output_type": "stream",
          "name": "stderr",
          "text": [
            "/usr/local/lib/python3.7/dist-packages/ipykernel_launcher.py:64: UserWarning: /content/drive/MyDrive/dataset1 - Copy/annotations_prepped_train/augmented_mask_46.png is a low contrast image\n"
          ]
        },
        {
          "output_type": "stream",
          "name": "stdout",
          "text": [
            "rotate\n"
          ]
        },
        {
          "output_type": "stream",
          "name": "stderr",
          "text": [
            "/usr/local/lib/python3.7/dist-packages/ipykernel_launcher.py:64: UserWarning: /content/drive/MyDrive/dataset1 - Copy/annotations_prepped_train/augmented_mask_47.png is a low contrast image\n"
          ]
        },
        {
          "output_type": "stream",
          "name": "stdout",
          "text": [
            "vertical flip\n"
          ]
        },
        {
          "output_type": "stream",
          "name": "stderr",
          "text": [
            "/usr/local/lib/python3.7/dist-packages/ipykernel_launcher.py:64: UserWarning: /content/drive/MyDrive/dataset1 - Copy/annotations_prepped_train/augmented_mask_48.png is a low contrast image\n"
          ]
        },
        {
          "output_type": "stream",
          "name": "stdout",
          "text": [
            "rotate\n"
          ]
        },
        {
          "output_type": "stream",
          "name": "stderr",
          "text": [
            "/usr/local/lib/python3.7/dist-packages/ipykernel_launcher.py:64: UserWarning: /content/drive/MyDrive/dataset1 - Copy/annotations_prepped_train/augmented_mask_49.png is a low contrast image\n"
          ]
        },
        {
          "output_type": "stream",
          "name": "stdout",
          "text": [
            "vertical shift\n"
          ]
        },
        {
          "output_type": "stream",
          "name": "stderr",
          "text": [
            "/usr/local/lib/python3.7/dist-packages/ipykernel_launcher.py:64: UserWarning: /content/drive/MyDrive/dataset1 - Copy/annotations_prepped_train/augmented_mask_50.png is a low contrast image\n"
          ]
        },
        {
          "output_type": "stream",
          "name": "stdout",
          "text": [
            "vertical flip\n"
          ]
        },
        {
          "output_type": "stream",
          "name": "stderr",
          "text": [
            "/usr/local/lib/python3.7/dist-packages/ipykernel_launcher.py:64: UserWarning: /content/drive/MyDrive/dataset1 - Copy/annotations_prepped_train/augmented_mask_51.png is a low contrast image\n"
          ]
        },
        {
          "output_type": "stream",
          "name": "stdout",
          "text": [
            "horizontal flip\n"
          ]
        },
        {
          "output_type": "stream",
          "name": "stderr",
          "text": [
            "/usr/local/lib/python3.7/dist-packages/ipykernel_launcher.py:64: UserWarning: /content/drive/MyDrive/dataset1 - Copy/annotations_prepped_train/augmented_mask_52.png is a low contrast image\n"
          ]
        },
        {
          "output_type": "stream",
          "name": "stdout",
          "text": [
            "horizontal shift\n"
          ]
        },
        {
          "output_type": "stream",
          "name": "stderr",
          "text": [
            "/usr/local/lib/python3.7/dist-packages/ipykernel_launcher.py:64: UserWarning: /content/drive/MyDrive/dataset1 - Copy/annotations_prepped_train/augmented_mask_53.png is a low contrast image\n"
          ]
        },
        {
          "output_type": "stream",
          "name": "stdout",
          "text": [
            "vertical shift\n"
          ]
        },
        {
          "output_type": "stream",
          "name": "stderr",
          "text": [
            "/usr/local/lib/python3.7/dist-packages/ipykernel_launcher.py:64: UserWarning: /content/drive/MyDrive/dataset1 - Copy/annotations_prepped_train/augmented_mask_54.png is a low contrast image\n"
          ]
        },
        {
          "output_type": "stream",
          "name": "stdout",
          "text": [
            "vertical shift\n"
          ]
        },
        {
          "output_type": "stream",
          "name": "stderr",
          "text": [
            "/usr/local/lib/python3.7/dist-packages/ipykernel_launcher.py:64: UserWarning: /content/drive/MyDrive/dataset1 - Copy/annotations_prepped_train/augmented_mask_55.png is a low contrast image\n"
          ]
        },
        {
          "output_type": "stream",
          "name": "stdout",
          "text": [
            "horizontal flip\n"
          ]
        },
        {
          "output_type": "stream",
          "name": "stderr",
          "text": [
            "/usr/local/lib/python3.7/dist-packages/ipykernel_launcher.py:64: UserWarning: /content/drive/MyDrive/dataset1 - Copy/annotations_prepped_train/augmented_mask_56.png is a low contrast image\n"
          ]
        },
        {
          "output_type": "stream",
          "name": "stdout",
          "text": [
            "vertical shift\n"
          ]
        },
        {
          "output_type": "stream",
          "name": "stderr",
          "text": [
            "/usr/local/lib/python3.7/dist-packages/ipykernel_launcher.py:64: UserWarning: /content/drive/MyDrive/dataset1 - Copy/annotations_prepped_train/augmented_mask_57.png is a low contrast image\n"
          ]
        },
        {
          "output_type": "stream",
          "name": "stdout",
          "text": [
            "rotate\n"
          ]
        },
        {
          "output_type": "stream",
          "name": "stderr",
          "text": [
            "/usr/local/lib/python3.7/dist-packages/ipykernel_launcher.py:64: UserWarning: /content/drive/MyDrive/dataset1 - Copy/annotations_prepped_train/augmented_mask_58.png is a low contrast image\n"
          ]
        },
        {
          "output_type": "stream",
          "name": "stdout",
          "text": [
            "vertical shift\n"
          ]
        },
        {
          "output_type": "stream",
          "name": "stderr",
          "text": [
            "/usr/local/lib/python3.7/dist-packages/ipykernel_launcher.py:64: UserWarning: /content/drive/MyDrive/dataset1 - Copy/annotations_prepped_train/augmented_mask_59.png is a low contrast image\n"
          ]
        },
        {
          "output_type": "stream",
          "name": "stdout",
          "text": [
            "horizontal flip\n"
          ]
        },
        {
          "output_type": "stream",
          "name": "stderr",
          "text": [
            "/usr/local/lib/python3.7/dist-packages/ipykernel_launcher.py:64: UserWarning: /content/drive/MyDrive/dataset1 - Copy/annotations_prepped_train/augmented_mask_60.png is a low contrast image\n"
          ]
        },
        {
          "output_type": "stream",
          "name": "stdout",
          "text": [
            "horizontal shift\n"
          ]
        },
        {
          "output_type": "stream",
          "name": "stderr",
          "text": [
            "/usr/local/lib/python3.7/dist-packages/ipykernel_launcher.py:64: UserWarning: /content/drive/MyDrive/dataset1 - Copy/annotations_prepped_train/augmented_mask_61.png is a low contrast image\n"
          ]
        },
        {
          "output_type": "stream",
          "name": "stdout",
          "text": [
            "rotate\n"
          ]
        },
        {
          "output_type": "stream",
          "name": "stderr",
          "text": [
            "/usr/local/lib/python3.7/dist-packages/ipykernel_launcher.py:64: UserWarning: /content/drive/MyDrive/dataset1 - Copy/annotations_prepped_train/augmented_mask_62.png is a low contrast image\n"
          ]
        },
        {
          "output_type": "stream",
          "name": "stdout",
          "text": [
            "horizontal flip\n"
          ]
        },
        {
          "output_type": "stream",
          "name": "stderr",
          "text": [
            "/usr/local/lib/python3.7/dist-packages/ipykernel_launcher.py:64: UserWarning: /content/drive/MyDrive/dataset1 - Copy/annotations_prepped_train/augmented_mask_63.png is a low contrast image\n"
          ]
        },
        {
          "output_type": "stream",
          "name": "stdout",
          "text": [
            "rotate\n"
          ]
        },
        {
          "output_type": "stream",
          "name": "stderr",
          "text": [
            "/usr/local/lib/python3.7/dist-packages/ipykernel_launcher.py:64: UserWarning: /content/drive/MyDrive/dataset1 - Copy/annotations_prepped_train/augmented_mask_64.png is a low contrast image\n"
          ]
        },
        {
          "output_type": "stream",
          "name": "stdout",
          "text": [
            "horizontal shift\n"
          ]
        },
        {
          "output_type": "stream",
          "name": "stderr",
          "text": [
            "/usr/local/lib/python3.7/dist-packages/ipykernel_launcher.py:64: UserWarning: /content/drive/MyDrive/dataset1 - Copy/annotations_prepped_train/augmented_mask_65.png is a low contrast image\n"
          ]
        },
        {
          "output_type": "stream",
          "name": "stdout",
          "text": [
            "vertical flip\n"
          ]
        },
        {
          "output_type": "stream",
          "name": "stderr",
          "text": [
            "/usr/local/lib/python3.7/dist-packages/ipykernel_launcher.py:64: UserWarning: /content/drive/MyDrive/dataset1 - Copy/annotations_prepped_train/augmented_mask_66.png is a low contrast image\n"
          ]
        },
        {
          "output_type": "stream",
          "name": "stdout",
          "text": [
            "vertical shift\n"
          ]
        },
        {
          "output_type": "stream",
          "name": "stderr",
          "text": [
            "/usr/local/lib/python3.7/dist-packages/ipykernel_launcher.py:64: UserWarning: /content/drive/MyDrive/dataset1 - Copy/annotations_prepped_train/augmented_mask_67.png is a low contrast image\n"
          ]
        },
        {
          "output_type": "stream",
          "name": "stdout",
          "text": [
            "horizontal shift\n"
          ]
        },
        {
          "output_type": "stream",
          "name": "stderr",
          "text": [
            "/usr/local/lib/python3.7/dist-packages/ipykernel_launcher.py:64: UserWarning: /content/drive/MyDrive/dataset1 - Copy/annotations_prepped_train/augmented_mask_68.png is a low contrast image\n"
          ]
        },
        {
          "output_type": "stream",
          "name": "stdout",
          "text": [
            "vertical flip\n"
          ]
        },
        {
          "output_type": "stream",
          "name": "stderr",
          "text": [
            "/usr/local/lib/python3.7/dist-packages/ipykernel_launcher.py:64: UserWarning: /content/drive/MyDrive/dataset1 - Copy/annotations_prepped_train/augmented_mask_69.png is a low contrast image\n"
          ]
        },
        {
          "output_type": "stream",
          "name": "stdout",
          "text": [
            "horizontal shift\n"
          ]
        },
        {
          "output_type": "stream",
          "name": "stderr",
          "text": [
            "/usr/local/lib/python3.7/dist-packages/ipykernel_launcher.py:64: UserWarning: /content/drive/MyDrive/dataset1 - Copy/annotations_prepped_train/augmented_mask_70.png is a low contrast image\n"
          ]
        },
        {
          "output_type": "stream",
          "name": "stdout",
          "text": [
            "horizontal flip\n"
          ]
        },
        {
          "output_type": "stream",
          "name": "stderr",
          "text": [
            "/usr/local/lib/python3.7/dist-packages/ipykernel_launcher.py:64: UserWarning: /content/drive/MyDrive/dataset1 - Copy/annotations_prepped_train/augmented_mask_71.png is a low contrast image\n"
          ]
        },
        {
          "output_type": "stream",
          "name": "stdout",
          "text": [
            "horizontal flip\n"
          ]
        },
        {
          "output_type": "stream",
          "name": "stderr",
          "text": [
            "/usr/local/lib/python3.7/dist-packages/ipykernel_launcher.py:64: UserWarning: /content/drive/MyDrive/dataset1 - Copy/annotations_prepped_train/augmented_mask_72.png is a low contrast image\n"
          ]
        },
        {
          "output_type": "stream",
          "name": "stdout",
          "text": [
            "rotate\n"
          ]
        },
        {
          "output_type": "stream",
          "name": "stderr",
          "text": [
            "/usr/local/lib/python3.7/dist-packages/ipykernel_launcher.py:64: UserWarning: /content/drive/MyDrive/dataset1 - Copy/annotations_prepped_train/augmented_mask_73.png is a low contrast image\n"
          ]
        },
        {
          "output_type": "stream",
          "name": "stdout",
          "text": [
            "vertical flip\n"
          ]
        },
        {
          "output_type": "stream",
          "name": "stderr",
          "text": [
            "/usr/local/lib/python3.7/dist-packages/ipykernel_launcher.py:64: UserWarning: /content/drive/MyDrive/dataset1 - Copy/annotations_prepped_train/augmented_mask_74.png is a low contrast image\n"
          ]
        },
        {
          "output_type": "stream",
          "name": "stdout",
          "text": [
            "rotate\n"
          ]
        },
        {
          "output_type": "stream",
          "name": "stderr",
          "text": [
            "/usr/local/lib/python3.7/dist-packages/ipykernel_launcher.py:64: UserWarning: /content/drive/MyDrive/dataset1 - Copy/annotations_prepped_train/augmented_mask_75.png is a low contrast image\n"
          ]
        },
        {
          "output_type": "stream",
          "name": "stdout",
          "text": [
            "vertical shift\n"
          ]
        },
        {
          "output_type": "stream",
          "name": "stderr",
          "text": [
            "/usr/local/lib/python3.7/dist-packages/ipykernel_launcher.py:64: UserWarning: /content/drive/MyDrive/dataset1 - Copy/annotations_prepped_train/augmented_mask_76.png is a low contrast image\n"
          ]
        },
        {
          "output_type": "stream",
          "name": "stdout",
          "text": [
            "vertical flip\n"
          ]
        },
        {
          "output_type": "stream",
          "name": "stderr",
          "text": [
            "/usr/local/lib/python3.7/dist-packages/ipykernel_launcher.py:64: UserWarning: /content/drive/MyDrive/dataset1 - Copy/annotations_prepped_train/augmented_mask_77.png is a low contrast image\n"
          ]
        },
        {
          "output_type": "stream",
          "name": "stdout",
          "text": [
            "rotate\n"
          ]
        },
        {
          "output_type": "stream",
          "name": "stderr",
          "text": [
            "/usr/local/lib/python3.7/dist-packages/ipykernel_launcher.py:64: UserWarning: /content/drive/MyDrive/dataset1 - Copy/annotations_prepped_train/augmented_mask_78.png is a low contrast image\n"
          ]
        },
        {
          "output_type": "stream",
          "name": "stdout",
          "text": [
            "rotate\n"
          ]
        },
        {
          "output_type": "stream",
          "name": "stderr",
          "text": [
            "/usr/local/lib/python3.7/dist-packages/ipykernel_launcher.py:64: UserWarning: /content/drive/MyDrive/dataset1 - Copy/annotations_prepped_train/augmented_mask_79.png is a low contrast image\n"
          ]
        },
        {
          "output_type": "stream",
          "name": "stdout",
          "text": [
            "rotate\n"
          ]
        },
        {
          "output_type": "stream",
          "name": "stderr",
          "text": [
            "/usr/local/lib/python3.7/dist-packages/ipykernel_launcher.py:64: UserWarning: /content/drive/MyDrive/dataset1 - Copy/annotations_prepped_train/augmented_mask_80.png is a low contrast image\n"
          ]
        },
        {
          "output_type": "stream",
          "name": "stdout",
          "text": [
            "vertical flip\n"
          ]
        },
        {
          "output_type": "stream",
          "name": "stderr",
          "text": [
            "/usr/local/lib/python3.7/dist-packages/ipykernel_launcher.py:64: UserWarning: /content/drive/MyDrive/dataset1 - Copy/annotations_prepped_train/augmented_mask_81.png is a low contrast image\n"
          ]
        },
        {
          "output_type": "stream",
          "name": "stdout",
          "text": [
            "horizontal shift\n"
          ]
        },
        {
          "output_type": "stream",
          "name": "stderr",
          "text": [
            "/usr/local/lib/python3.7/dist-packages/ipykernel_launcher.py:64: UserWarning: /content/drive/MyDrive/dataset1 - Copy/annotations_prepped_train/augmented_mask_82.png is a low contrast image\n"
          ]
        },
        {
          "output_type": "stream",
          "name": "stdout",
          "text": [
            "horizontal flip\n"
          ]
        },
        {
          "output_type": "stream",
          "name": "stderr",
          "text": [
            "/usr/local/lib/python3.7/dist-packages/ipykernel_launcher.py:64: UserWarning: /content/drive/MyDrive/dataset1 - Copy/annotations_prepped_train/augmented_mask_83.png is a low contrast image\n"
          ]
        },
        {
          "output_type": "stream",
          "name": "stdout",
          "text": [
            "horizontal flip\n"
          ]
        },
        {
          "output_type": "stream",
          "name": "stderr",
          "text": [
            "/usr/local/lib/python3.7/dist-packages/ipykernel_launcher.py:64: UserWarning: /content/drive/MyDrive/dataset1 - Copy/annotations_prepped_train/augmented_mask_84.png is a low contrast image\n"
          ]
        },
        {
          "output_type": "stream",
          "name": "stdout",
          "text": [
            "horizontal shift\n"
          ]
        },
        {
          "output_type": "stream",
          "name": "stderr",
          "text": [
            "/usr/local/lib/python3.7/dist-packages/ipykernel_launcher.py:64: UserWarning: /content/drive/MyDrive/dataset1 - Copy/annotations_prepped_train/augmented_mask_85.png is a low contrast image\n"
          ]
        },
        {
          "output_type": "stream",
          "name": "stdout",
          "text": [
            "horizontal flip\n"
          ]
        },
        {
          "output_type": "stream",
          "name": "stderr",
          "text": [
            "/usr/local/lib/python3.7/dist-packages/ipykernel_launcher.py:64: UserWarning: /content/drive/MyDrive/dataset1 - Copy/annotations_prepped_train/augmented_mask_86.png is a low contrast image\n"
          ]
        },
        {
          "output_type": "stream",
          "name": "stdout",
          "text": [
            "vertical shift\n"
          ]
        },
        {
          "output_type": "stream",
          "name": "stderr",
          "text": [
            "/usr/local/lib/python3.7/dist-packages/ipykernel_launcher.py:64: UserWarning: /content/drive/MyDrive/dataset1 - Copy/annotations_prepped_train/augmented_mask_87.png is a low contrast image\n"
          ]
        },
        {
          "output_type": "stream",
          "name": "stdout",
          "text": [
            "horizontal shift\n"
          ]
        },
        {
          "output_type": "stream",
          "name": "stderr",
          "text": [
            "/usr/local/lib/python3.7/dist-packages/ipykernel_launcher.py:64: UserWarning: /content/drive/MyDrive/dataset1 - Copy/annotations_prepped_train/augmented_mask_88.png is a low contrast image\n"
          ]
        },
        {
          "output_type": "stream",
          "name": "stdout",
          "text": [
            "rotate\n"
          ]
        },
        {
          "output_type": "stream",
          "name": "stderr",
          "text": [
            "/usr/local/lib/python3.7/dist-packages/ipykernel_launcher.py:64: UserWarning: /content/drive/MyDrive/dataset1 - Copy/annotations_prepped_train/augmented_mask_89.png is a low contrast image\n"
          ]
        },
        {
          "output_type": "stream",
          "name": "stdout",
          "text": [
            "horizontal flip\n"
          ]
        },
        {
          "output_type": "stream",
          "name": "stderr",
          "text": [
            "/usr/local/lib/python3.7/dist-packages/ipykernel_launcher.py:64: UserWarning: /content/drive/MyDrive/dataset1 - Copy/annotations_prepped_train/augmented_mask_90.png is a low contrast image\n"
          ]
        },
        {
          "output_type": "stream",
          "name": "stdout",
          "text": [
            "rotate\n"
          ]
        },
        {
          "output_type": "stream",
          "name": "stderr",
          "text": [
            "/usr/local/lib/python3.7/dist-packages/ipykernel_launcher.py:64: UserWarning: /content/drive/MyDrive/dataset1 - Copy/annotations_prepped_train/augmented_mask_91.png is a low contrast image\n"
          ]
        },
        {
          "output_type": "stream",
          "name": "stdout",
          "text": [
            "vertical shift\n"
          ]
        },
        {
          "output_type": "stream",
          "name": "stderr",
          "text": [
            "/usr/local/lib/python3.7/dist-packages/ipykernel_launcher.py:64: UserWarning: /content/drive/MyDrive/dataset1 - Copy/annotations_prepped_train/augmented_mask_92.png is a low contrast image\n"
          ]
        },
        {
          "output_type": "stream",
          "name": "stdout",
          "text": [
            "vertical shift\n"
          ]
        },
        {
          "output_type": "stream",
          "name": "stderr",
          "text": [
            "/usr/local/lib/python3.7/dist-packages/ipykernel_launcher.py:64: UserWarning: /content/drive/MyDrive/dataset1 - Copy/annotations_prepped_train/augmented_mask_93.png is a low contrast image\n"
          ]
        },
        {
          "output_type": "stream",
          "name": "stdout",
          "text": [
            "horizontal shift\n"
          ]
        },
        {
          "output_type": "stream",
          "name": "stderr",
          "text": [
            "/usr/local/lib/python3.7/dist-packages/ipykernel_launcher.py:64: UserWarning: /content/drive/MyDrive/dataset1 - Copy/annotations_prepped_train/augmented_mask_94.png is a low contrast image\n"
          ]
        },
        {
          "output_type": "stream",
          "name": "stdout",
          "text": [
            "horizontal shift\n"
          ]
        },
        {
          "output_type": "stream",
          "name": "stderr",
          "text": [
            "/usr/local/lib/python3.7/dist-packages/ipykernel_launcher.py:64: UserWarning: /content/drive/MyDrive/dataset1 - Copy/annotations_prepped_train/augmented_mask_95.png is a low contrast image\n"
          ]
        },
        {
          "output_type": "stream",
          "name": "stdout",
          "text": [
            "vertical shift\n"
          ]
        },
        {
          "output_type": "stream",
          "name": "stderr",
          "text": [
            "/usr/local/lib/python3.7/dist-packages/ipykernel_launcher.py:64: UserWarning: /content/drive/MyDrive/dataset1 - Copy/annotations_prepped_train/augmented_mask_96.png is a low contrast image\n"
          ]
        },
        {
          "output_type": "stream",
          "name": "stdout",
          "text": [
            "vertical flip\n"
          ]
        },
        {
          "output_type": "stream",
          "name": "stderr",
          "text": [
            "/usr/local/lib/python3.7/dist-packages/ipykernel_launcher.py:64: UserWarning: /content/drive/MyDrive/dataset1 - Copy/annotations_prepped_train/augmented_mask_97.png is a low contrast image\n"
          ]
        },
        {
          "output_type": "stream",
          "name": "stdout",
          "text": [
            "vertical shift\n"
          ]
        },
        {
          "output_type": "stream",
          "name": "stderr",
          "text": [
            "/usr/local/lib/python3.7/dist-packages/ipykernel_launcher.py:64: UserWarning: /content/drive/MyDrive/dataset1 - Copy/annotations_prepped_train/augmented_mask_98.png is a low contrast image\n"
          ]
        },
        {
          "output_type": "stream",
          "name": "stdout",
          "text": [
            "vertical flip\n"
          ]
        },
        {
          "output_type": "stream",
          "name": "stderr",
          "text": [
            "/usr/local/lib/python3.7/dist-packages/ipykernel_launcher.py:64: UserWarning: /content/drive/MyDrive/dataset1 - Copy/annotations_prepped_train/augmented_mask_99.png is a low contrast image\n"
          ]
        },
        {
          "output_type": "stream",
          "name": "stdout",
          "text": [
            "horizontal shift\n"
          ]
        },
        {
          "output_type": "stream",
          "name": "stderr",
          "text": [
            "/usr/local/lib/python3.7/dist-packages/ipykernel_launcher.py:64: UserWarning: /content/drive/MyDrive/dataset1 - Copy/annotations_prepped_train/augmented_mask_100.png is a low contrast image\n"
          ]
        },
        {
          "output_type": "stream",
          "name": "stdout",
          "text": [
            "vertical shift\n"
          ]
        },
        {
          "output_type": "stream",
          "name": "stderr",
          "text": [
            "/usr/local/lib/python3.7/dist-packages/ipykernel_launcher.py:64: UserWarning: /content/drive/MyDrive/dataset1 - Copy/annotations_prepped_train/augmented_mask_101.png is a low contrast image\n"
          ]
        },
        {
          "output_type": "stream",
          "name": "stdout",
          "text": [
            "rotate\n"
          ]
        },
        {
          "output_type": "stream",
          "name": "stderr",
          "text": [
            "/usr/local/lib/python3.7/dist-packages/ipykernel_launcher.py:64: UserWarning: /content/drive/MyDrive/dataset1 - Copy/annotations_prepped_train/augmented_mask_102.png is a low contrast image\n"
          ]
        },
        {
          "output_type": "stream",
          "name": "stdout",
          "text": [
            "horizontal shift\n"
          ]
        },
        {
          "output_type": "stream",
          "name": "stderr",
          "text": [
            "/usr/local/lib/python3.7/dist-packages/ipykernel_launcher.py:64: UserWarning: /content/drive/MyDrive/dataset1 - Copy/annotations_prepped_train/augmented_mask_103.png is a low contrast image\n"
          ]
        },
        {
          "output_type": "stream",
          "name": "stdout",
          "text": [
            "rotate\n"
          ]
        },
        {
          "output_type": "stream",
          "name": "stderr",
          "text": [
            "/usr/local/lib/python3.7/dist-packages/ipykernel_launcher.py:64: UserWarning: /content/drive/MyDrive/dataset1 - Copy/annotations_prepped_train/augmented_mask_104.png is a low contrast image\n"
          ]
        },
        {
          "output_type": "stream",
          "name": "stdout",
          "text": [
            "horizontal shift\n"
          ]
        },
        {
          "output_type": "stream",
          "name": "stderr",
          "text": [
            "/usr/local/lib/python3.7/dist-packages/ipykernel_launcher.py:64: UserWarning: /content/drive/MyDrive/dataset1 - Copy/annotations_prepped_train/augmented_mask_105.png is a low contrast image\n"
          ]
        },
        {
          "output_type": "stream",
          "name": "stdout",
          "text": [
            "horizontal shift\n"
          ]
        },
        {
          "output_type": "stream",
          "name": "stderr",
          "text": [
            "/usr/local/lib/python3.7/dist-packages/ipykernel_launcher.py:64: UserWarning: /content/drive/MyDrive/dataset1 - Copy/annotations_prepped_train/augmented_mask_106.png is a low contrast image\n"
          ]
        },
        {
          "output_type": "stream",
          "name": "stdout",
          "text": [
            "vertical shift\n"
          ]
        },
        {
          "output_type": "stream",
          "name": "stderr",
          "text": [
            "/usr/local/lib/python3.7/dist-packages/ipykernel_launcher.py:64: UserWarning: /content/drive/MyDrive/dataset1 - Copy/annotations_prepped_train/augmented_mask_107.png is a low contrast image\n"
          ]
        },
        {
          "output_type": "stream",
          "name": "stdout",
          "text": [
            "vertical shift\n"
          ]
        },
        {
          "output_type": "stream",
          "name": "stderr",
          "text": [
            "/usr/local/lib/python3.7/dist-packages/ipykernel_launcher.py:64: UserWarning: /content/drive/MyDrive/dataset1 - Copy/annotations_prepped_train/augmented_mask_108.png is a low contrast image\n"
          ]
        },
        {
          "output_type": "stream",
          "name": "stdout",
          "text": [
            "vertical shift\n"
          ]
        },
        {
          "output_type": "stream",
          "name": "stderr",
          "text": [
            "/usr/local/lib/python3.7/dist-packages/ipykernel_launcher.py:64: UserWarning: /content/drive/MyDrive/dataset1 - Copy/annotations_prepped_train/augmented_mask_109.png is a low contrast image\n"
          ]
        },
        {
          "output_type": "stream",
          "name": "stdout",
          "text": [
            "vertical shift\n"
          ]
        },
        {
          "output_type": "stream",
          "name": "stderr",
          "text": [
            "/usr/local/lib/python3.7/dist-packages/ipykernel_launcher.py:64: UserWarning: /content/drive/MyDrive/dataset1 - Copy/annotations_prepped_train/augmented_mask_110.png is a low contrast image\n"
          ]
        },
        {
          "output_type": "stream",
          "name": "stdout",
          "text": [
            "horizontal flip\n"
          ]
        },
        {
          "output_type": "stream",
          "name": "stderr",
          "text": [
            "/usr/local/lib/python3.7/dist-packages/ipykernel_launcher.py:64: UserWarning: /content/drive/MyDrive/dataset1 - Copy/annotations_prepped_train/augmented_mask_111.png is a low contrast image\n"
          ]
        },
        {
          "output_type": "stream",
          "name": "stdout",
          "text": [
            "vertical shift\n"
          ]
        },
        {
          "output_type": "stream",
          "name": "stderr",
          "text": [
            "/usr/local/lib/python3.7/dist-packages/ipykernel_launcher.py:64: UserWarning: /content/drive/MyDrive/dataset1 - Copy/annotations_prepped_train/augmented_mask_112.png is a low contrast image\n"
          ]
        },
        {
          "output_type": "stream",
          "name": "stdout",
          "text": [
            "vertical flip\n"
          ]
        },
        {
          "output_type": "stream",
          "name": "stderr",
          "text": [
            "/usr/local/lib/python3.7/dist-packages/ipykernel_launcher.py:64: UserWarning: /content/drive/MyDrive/dataset1 - Copy/annotations_prepped_train/augmented_mask_113.png is a low contrast image\n"
          ]
        },
        {
          "output_type": "stream",
          "name": "stdout",
          "text": [
            "horizontal flip\n"
          ]
        },
        {
          "output_type": "stream",
          "name": "stderr",
          "text": [
            "/usr/local/lib/python3.7/dist-packages/ipykernel_launcher.py:64: UserWarning: /content/drive/MyDrive/dataset1 - Copy/annotations_prepped_train/augmented_mask_114.png is a low contrast image\n"
          ]
        },
        {
          "output_type": "stream",
          "name": "stdout",
          "text": [
            "horizontal flip\n"
          ]
        },
        {
          "output_type": "stream",
          "name": "stderr",
          "text": [
            "/usr/local/lib/python3.7/dist-packages/ipykernel_launcher.py:64: UserWarning: /content/drive/MyDrive/dataset1 - Copy/annotations_prepped_train/augmented_mask_115.png is a low contrast image\n"
          ]
        },
        {
          "output_type": "stream",
          "name": "stdout",
          "text": [
            "horizontal flip\n"
          ]
        },
        {
          "output_type": "stream",
          "name": "stderr",
          "text": [
            "/usr/local/lib/python3.7/dist-packages/ipykernel_launcher.py:64: UserWarning: /content/drive/MyDrive/dataset1 - Copy/annotations_prepped_train/augmented_mask_116.png is a low contrast image\n"
          ]
        },
        {
          "output_type": "stream",
          "name": "stdout",
          "text": [
            "rotate\n"
          ]
        },
        {
          "output_type": "stream",
          "name": "stderr",
          "text": [
            "/usr/local/lib/python3.7/dist-packages/ipykernel_launcher.py:64: UserWarning: /content/drive/MyDrive/dataset1 - Copy/annotations_prepped_train/augmented_mask_117.png is a low contrast image\n"
          ]
        },
        {
          "output_type": "stream",
          "name": "stdout",
          "text": [
            "horizontal flip\n"
          ]
        },
        {
          "output_type": "stream",
          "name": "stderr",
          "text": [
            "/usr/local/lib/python3.7/dist-packages/ipykernel_launcher.py:64: UserWarning: /content/drive/MyDrive/dataset1 - Copy/annotations_prepped_train/augmented_mask_118.png is a low contrast image\n"
          ]
        },
        {
          "output_type": "stream",
          "name": "stdout",
          "text": [
            "horizontal flip\n"
          ]
        },
        {
          "output_type": "stream",
          "name": "stderr",
          "text": [
            "/usr/local/lib/python3.7/dist-packages/ipykernel_launcher.py:64: UserWarning: /content/drive/MyDrive/dataset1 - Copy/annotations_prepped_train/augmented_mask_119.png is a low contrast image\n"
          ]
        },
        {
          "output_type": "stream",
          "name": "stdout",
          "text": [
            "rotate\n"
          ]
        },
        {
          "output_type": "stream",
          "name": "stderr",
          "text": [
            "/usr/local/lib/python3.7/dist-packages/ipykernel_launcher.py:64: UserWarning: /content/drive/MyDrive/dataset1 - Copy/annotations_prepped_train/augmented_mask_120.png is a low contrast image\n"
          ]
        },
        {
          "output_type": "stream",
          "name": "stdout",
          "text": [
            "horizontal flip\n"
          ]
        },
        {
          "output_type": "stream",
          "name": "stderr",
          "text": [
            "/usr/local/lib/python3.7/dist-packages/ipykernel_launcher.py:64: UserWarning: /content/drive/MyDrive/dataset1 - Copy/annotations_prepped_train/augmented_mask_121.png is a low contrast image\n"
          ]
        },
        {
          "output_type": "stream",
          "name": "stdout",
          "text": [
            "horizontal flip\n"
          ]
        },
        {
          "output_type": "stream",
          "name": "stderr",
          "text": [
            "/usr/local/lib/python3.7/dist-packages/ipykernel_launcher.py:64: UserWarning: /content/drive/MyDrive/dataset1 - Copy/annotations_prepped_train/augmented_mask_122.png is a low contrast image\n"
          ]
        },
        {
          "output_type": "stream",
          "name": "stdout",
          "text": [
            "horizontal shift\n"
          ]
        },
        {
          "output_type": "stream",
          "name": "stderr",
          "text": [
            "/usr/local/lib/python3.7/dist-packages/ipykernel_launcher.py:64: UserWarning: /content/drive/MyDrive/dataset1 - Copy/annotations_prepped_train/augmented_mask_123.png is a low contrast image\n"
          ]
        },
        {
          "output_type": "stream",
          "name": "stdout",
          "text": [
            "vertical flip\n"
          ]
        },
        {
          "output_type": "stream",
          "name": "stderr",
          "text": [
            "/usr/local/lib/python3.7/dist-packages/ipykernel_launcher.py:64: UserWarning: /content/drive/MyDrive/dataset1 - Copy/annotations_prepped_train/augmented_mask_124.png is a low contrast image\n"
          ]
        },
        {
          "output_type": "stream",
          "name": "stdout",
          "text": [
            "vertical shift\n"
          ]
        },
        {
          "output_type": "stream",
          "name": "stderr",
          "text": [
            "/usr/local/lib/python3.7/dist-packages/ipykernel_launcher.py:64: UserWarning: /content/drive/MyDrive/dataset1 - Copy/annotations_prepped_train/augmented_mask_125.png is a low contrast image\n"
          ]
        },
        {
          "output_type": "stream",
          "name": "stdout",
          "text": [
            "vertical flip\n"
          ]
        },
        {
          "output_type": "stream",
          "name": "stderr",
          "text": [
            "/usr/local/lib/python3.7/dist-packages/ipykernel_launcher.py:64: UserWarning: /content/drive/MyDrive/dataset1 - Copy/annotations_prepped_train/augmented_mask_126.png is a low contrast image\n"
          ]
        },
        {
          "output_type": "stream",
          "name": "stdout",
          "text": [
            "vertical flip\n"
          ]
        },
        {
          "output_type": "stream",
          "name": "stderr",
          "text": [
            "/usr/local/lib/python3.7/dist-packages/ipykernel_launcher.py:64: UserWarning: /content/drive/MyDrive/dataset1 - Copy/annotations_prepped_train/augmented_mask_127.png is a low contrast image\n"
          ]
        },
        {
          "output_type": "stream",
          "name": "stdout",
          "text": [
            "vertical flip\n"
          ]
        },
        {
          "output_type": "stream",
          "name": "stderr",
          "text": [
            "/usr/local/lib/python3.7/dist-packages/ipykernel_launcher.py:64: UserWarning: /content/drive/MyDrive/dataset1 - Copy/annotations_prepped_train/augmented_mask_128.png is a low contrast image\n"
          ]
        },
        {
          "output_type": "stream",
          "name": "stdout",
          "text": [
            "vertical flip\n"
          ]
        },
        {
          "output_type": "stream",
          "name": "stderr",
          "text": [
            "/usr/local/lib/python3.7/dist-packages/ipykernel_launcher.py:64: UserWarning: /content/drive/MyDrive/dataset1 - Copy/annotations_prepped_train/augmented_mask_129.png is a low contrast image\n"
          ]
        },
        {
          "output_type": "stream",
          "name": "stdout",
          "text": [
            "horizontal shift\n"
          ]
        },
        {
          "output_type": "stream",
          "name": "stderr",
          "text": [
            "/usr/local/lib/python3.7/dist-packages/ipykernel_launcher.py:64: UserWarning: /content/drive/MyDrive/dataset1 - Copy/annotations_prepped_train/augmented_mask_130.png is a low contrast image\n"
          ]
        },
        {
          "output_type": "stream",
          "name": "stdout",
          "text": [
            "vertical shift\n"
          ]
        },
        {
          "output_type": "stream",
          "name": "stderr",
          "text": [
            "/usr/local/lib/python3.7/dist-packages/ipykernel_launcher.py:64: UserWarning: /content/drive/MyDrive/dataset1 - Copy/annotations_prepped_train/augmented_mask_131.png is a low contrast image\n"
          ]
        },
        {
          "output_type": "stream",
          "name": "stdout",
          "text": [
            "horizontal flip\n"
          ]
        },
        {
          "output_type": "stream",
          "name": "stderr",
          "text": [
            "/usr/local/lib/python3.7/dist-packages/ipykernel_launcher.py:64: UserWarning: /content/drive/MyDrive/dataset1 - Copy/annotations_prepped_train/augmented_mask_132.png is a low contrast image\n"
          ]
        },
        {
          "output_type": "stream",
          "name": "stdout",
          "text": [
            "horizontal flip\n"
          ]
        },
        {
          "output_type": "stream",
          "name": "stderr",
          "text": [
            "/usr/local/lib/python3.7/dist-packages/ipykernel_launcher.py:64: UserWarning: /content/drive/MyDrive/dataset1 - Copy/annotations_prepped_train/augmented_mask_133.png is a low contrast image\n"
          ]
        },
        {
          "output_type": "stream",
          "name": "stdout",
          "text": [
            "vertical shift\n"
          ]
        },
        {
          "output_type": "stream",
          "name": "stderr",
          "text": [
            "/usr/local/lib/python3.7/dist-packages/ipykernel_launcher.py:64: UserWarning: /content/drive/MyDrive/dataset1 - Copy/annotations_prepped_train/augmented_mask_134.png is a low contrast image\n"
          ]
        },
        {
          "output_type": "stream",
          "name": "stdout",
          "text": [
            "horizontal shift\n"
          ]
        },
        {
          "output_type": "stream",
          "name": "stderr",
          "text": [
            "/usr/local/lib/python3.7/dist-packages/ipykernel_launcher.py:64: UserWarning: /content/drive/MyDrive/dataset1 - Copy/annotations_prepped_train/augmented_mask_135.png is a low contrast image\n"
          ]
        },
        {
          "output_type": "stream",
          "name": "stdout",
          "text": [
            "rotate\n"
          ]
        },
        {
          "output_type": "stream",
          "name": "stderr",
          "text": [
            "/usr/local/lib/python3.7/dist-packages/ipykernel_launcher.py:64: UserWarning: /content/drive/MyDrive/dataset1 - Copy/annotations_prepped_train/augmented_mask_136.png is a low contrast image\n"
          ]
        },
        {
          "output_type": "stream",
          "name": "stdout",
          "text": [
            "rotate\n"
          ]
        },
        {
          "output_type": "stream",
          "name": "stderr",
          "text": [
            "/usr/local/lib/python3.7/dist-packages/ipykernel_launcher.py:64: UserWarning: /content/drive/MyDrive/dataset1 - Copy/annotations_prepped_train/augmented_mask_137.png is a low contrast image\n"
          ]
        },
        {
          "output_type": "stream",
          "name": "stdout",
          "text": [
            "horizontal flip\n"
          ]
        },
        {
          "output_type": "stream",
          "name": "stderr",
          "text": [
            "/usr/local/lib/python3.7/dist-packages/ipykernel_launcher.py:64: UserWarning: /content/drive/MyDrive/dataset1 - Copy/annotations_prepped_train/augmented_mask_138.png is a low contrast image\n"
          ]
        },
        {
          "output_type": "stream",
          "name": "stdout",
          "text": [
            "rotate\n"
          ]
        },
        {
          "output_type": "stream",
          "name": "stderr",
          "text": [
            "/usr/local/lib/python3.7/dist-packages/ipykernel_launcher.py:64: UserWarning: /content/drive/MyDrive/dataset1 - Copy/annotations_prepped_train/augmented_mask_139.png is a low contrast image\n"
          ]
        },
        {
          "output_type": "stream",
          "name": "stdout",
          "text": [
            "rotate\n"
          ]
        },
        {
          "output_type": "stream",
          "name": "stderr",
          "text": [
            "/usr/local/lib/python3.7/dist-packages/ipykernel_launcher.py:64: UserWarning: /content/drive/MyDrive/dataset1 - Copy/annotations_prepped_train/augmented_mask_140.png is a low contrast image\n"
          ]
        },
        {
          "output_type": "stream",
          "name": "stdout",
          "text": [
            "rotate\n"
          ]
        },
        {
          "output_type": "stream",
          "name": "stderr",
          "text": [
            "/usr/local/lib/python3.7/dist-packages/ipykernel_launcher.py:64: UserWarning: /content/drive/MyDrive/dataset1 - Copy/annotations_prepped_train/augmented_mask_141.png is a low contrast image\n"
          ]
        },
        {
          "output_type": "stream",
          "name": "stdout",
          "text": [
            "horizontal flip\n"
          ]
        },
        {
          "output_type": "stream",
          "name": "stderr",
          "text": [
            "/usr/local/lib/python3.7/dist-packages/ipykernel_launcher.py:64: UserWarning: /content/drive/MyDrive/dataset1 - Copy/annotations_prepped_train/augmented_mask_142.png is a low contrast image\n"
          ]
        },
        {
          "output_type": "stream",
          "name": "stdout",
          "text": [
            "vertical flip\n"
          ]
        },
        {
          "output_type": "stream",
          "name": "stderr",
          "text": [
            "/usr/local/lib/python3.7/dist-packages/ipykernel_launcher.py:64: UserWarning: /content/drive/MyDrive/dataset1 - Copy/annotations_prepped_train/augmented_mask_143.png is a low contrast image\n"
          ]
        },
        {
          "output_type": "stream",
          "name": "stdout",
          "text": [
            "rotate\n"
          ]
        },
        {
          "output_type": "stream",
          "name": "stderr",
          "text": [
            "/usr/local/lib/python3.7/dist-packages/ipykernel_launcher.py:64: UserWarning: /content/drive/MyDrive/dataset1 - Copy/annotations_prepped_train/augmented_mask_144.png is a low contrast image\n"
          ]
        },
        {
          "output_type": "stream",
          "name": "stdout",
          "text": [
            "horizontal shift\n"
          ]
        },
        {
          "output_type": "stream",
          "name": "stderr",
          "text": [
            "/usr/local/lib/python3.7/dist-packages/ipykernel_launcher.py:64: UserWarning: /content/drive/MyDrive/dataset1 - Copy/annotations_prepped_train/augmented_mask_145.png is a low contrast image\n"
          ]
        },
        {
          "output_type": "stream",
          "name": "stdout",
          "text": [
            "horizontal shift\n"
          ]
        },
        {
          "output_type": "stream",
          "name": "stderr",
          "text": [
            "/usr/local/lib/python3.7/dist-packages/ipykernel_launcher.py:64: UserWarning: /content/drive/MyDrive/dataset1 - Copy/annotations_prepped_train/augmented_mask_146.png is a low contrast image\n"
          ]
        },
        {
          "output_type": "stream",
          "name": "stdout",
          "text": [
            "rotate\n"
          ]
        },
        {
          "output_type": "stream",
          "name": "stderr",
          "text": [
            "/usr/local/lib/python3.7/dist-packages/ipykernel_launcher.py:64: UserWarning: /content/drive/MyDrive/dataset1 - Copy/annotations_prepped_train/augmented_mask_147.png is a low contrast image\n"
          ]
        },
        {
          "output_type": "stream",
          "name": "stdout",
          "text": [
            "vertical shift\n"
          ]
        },
        {
          "output_type": "stream",
          "name": "stderr",
          "text": [
            "/usr/local/lib/python3.7/dist-packages/ipykernel_launcher.py:64: UserWarning: /content/drive/MyDrive/dataset1 - Copy/annotations_prepped_train/augmented_mask_148.png is a low contrast image\n"
          ]
        },
        {
          "output_type": "stream",
          "name": "stdout",
          "text": [
            "vertical flip\n"
          ]
        },
        {
          "output_type": "stream",
          "name": "stderr",
          "text": [
            "/usr/local/lib/python3.7/dist-packages/ipykernel_launcher.py:64: UserWarning: /content/drive/MyDrive/dataset1 - Copy/annotations_prepped_train/augmented_mask_149.png is a low contrast image\n"
          ]
        },
        {
          "output_type": "stream",
          "name": "stdout",
          "text": [
            "vertical flip\n"
          ]
        },
        {
          "output_type": "stream",
          "name": "stderr",
          "text": [
            "/usr/local/lib/python3.7/dist-packages/ipykernel_launcher.py:64: UserWarning: /content/drive/MyDrive/dataset1 - Copy/annotations_prepped_train/augmented_mask_150.png is a low contrast image\n"
          ]
        },
        {
          "output_type": "stream",
          "name": "stdout",
          "text": [
            "rotate\n"
          ]
        },
        {
          "output_type": "stream",
          "name": "stderr",
          "text": [
            "/usr/local/lib/python3.7/dist-packages/ipykernel_launcher.py:64: UserWarning: /content/drive/MyDrive/dataset1 - Copy/annotations_prepped_train/augmented_mask_151.png is a low contrast image\n"
          ]
        },
        {
          "output_type": "stream",
          "name": "stdout",
          "text": [
            "horizontal flip\n"
          ]
        },
        {
          "output_type": "stream",
          "name": "stderr",
          "text": [
            "/usr/local/lib/python3.7/dist-packages/ipykernel_launcher.py:64: UserWarning: /content/drive/MyDrive/dataset1 - Copy/annotations_prepped_train/augmented_mask_152.png is a low contrast image\n"
          ]
        },
        {
          "output_type": "stream",
          "name": "stdout",
          "text": [
            "rotate\n"
          ]
        },
        {
          "output_type": "stream",
          "name": "stderr",
          "text": [
            "/usr/local/lib/python3.7/dist-packages/ipykernel_launcher.py:64: UserWarning: /content/drive/MyDrive/dataset1 - Copy/annotations_prepped_train/augmented_mask_153.png is a low contrast image\n"
          ]
        },
        {
          "output_type": "stream",
          "name": "stdout",
          "text": [
            "horizontal flip\n"
          ]
        },
        {
          "output_type": "stream",
          "name": "stderr",
          "text": [
            "/usr/local/lib/python3.7/dist-packages/ipykernel_launcher.py:64: UserWarning: /content/drive/MyDrive/dataset1 - Copy/annotations_prepped_train/augmented_mask_154.png is a low contrast image\n"
          ]
        },
        {
          "output_type": "stream",
          "name": "stdout",
          "text": [
            "horizontal flip\n"
          ]
        },
        {
          "output_type": "stream",
          "name": "stderr",
          "text": [
            "/usr/local/lib/python3.7/dist-packages/ipykernel_launcher.py:64: UserWarning: /content/drive/MyDrive/dataset1 - Copy/annotations_prepped_train/augmented_mask_155.png is a low contrast image\n"
          ]
        },
        {
          "output_type": "stream",
          "name": "stdout",
          "text": [
            "rotate\n"
          ]
        },
        {
          "output_type": "stream",
          "name": "stderr",
          "text": [
            "/usr/local/lib/python3.7/dist-packages/ipykernel_launcher.py:64: UserWarning: /content/drive/MyDrive/dataset1 - Copy/annotations_prepped_train/augmented_mask_156.png is a low contrast image\n"
          ]
        },
        {
          "output_type": "stream",
          "name": "stdout",
          "text": [
            "horizontal flip\n"
          ]
        },
        {
          "output_type": "stream",
          "name": "stderr",
          "text": [
            "/usr/local/lib/python3.7/dist-packages/ipykernel_launcher.py:64: UserWarning: /content/drive/MyDrive/dataset1 - Copy/annotations_prepped_train/augmented_mask_157.png is a low contrast image\n"
          ]
        },
        {
          "output_type": "stream",
          "name": "stdout",
          "text": [
            "vertical flip\n"
          ]
        },
        {
          "output_type": "stream",
          "name": "stderr",
          "text": [
            "/usr/local/lib/python3.7/dist-packages/ipykernel_launcher.py:64: UserWarning: /content/drive/MyDrive/dataset1 - Copy/annotations_prepped_train/augmented_mask_158.png is a low contrast image\n"
          ]
        },
        {
          "output_type": "stream",
          "name": "stdout",
          "text": [
            "rotate\n"
          ]
        },
        {
          "output_type": "stream",
          "name": "stderr",
          "text": [
            "/usr/local/lib/python3.7/dist-packages/ipykernel_launcher.py:64: UserWarning: /content/drive/MyDrive/dataset1 - Copy/annotations_prepped_train/augmented_mask_159.png is a low contrast image\n"
          ]
        },
        {
          "output_type": "stream",
          "name": "stdout",
          "text": [
            "horizontal flip\n"
          ]
        },
        {
          "output_type": "stream",
          "name": "stderr",
          "text": [
            "/usr/local/lib/python3.7/dist-packages/ipykernel_launcher.py:64: UserWarning: /content/drive/MyDrive/dataset1 - Copy/annotations_prepped_train/augmented_mask_160.png is a low contrast image\n"
          ]
        },
        {
          "output_type": "stream",
          "name": "stdout",
          "text": [
            "rotate\n"
          ]
        },
        {
          "output_type": "stream",
          "name": "stderr",
          "text": [
            "/usr/local/lib/python3.7/dist-packages/ipykernel_launcher.py:64: UserWarning: /content/drive/MyDrive/dataset1 - Copy/annotations_prepped_train/augmented_mask_161.png is a low contrast image\n"
          ]
        },
        {
          "output_type": "stream",
          "name": "stdout",
          "text": [
            "vertical flip\n"
          ]
        },
        {
          "output_type": "stream",
          "name": "stderr",
          "text": [
            "/usr/local/lib/python3.7/dist-packages/ipykernel_launcher.py:64: UserWarning: /content/drive/MyDrive/dataset1 - Copy/annotations_prepped_train/augmented_mask_162.png is a low contrast image\n"
          ]
        },
        {
          "output_type": "stream",
          "name": "stdout",
          "text": [
            "vertical flip\n"
          ]
        },
        {
          "output_type": "stream",
          "name": "stderr",
          "text": [
            "/usr/local/lib/python3.7/dist-packages/ipykernel_launcher.py:64: UserWarning: /content/drive/MyDrive/dataset1 - Copy/annotations_prepped_train/augmented_mask_163.png is a low contrast image\n"
          ]
        },
        {
          "output_type": "stream",
          "name": "stdout",
          "text": [
            "horizontal shift\n"
          ]
        },
        {
          "output_type": "stream",
          "name": "stderr",
          "text": [
            "/usr/local/lib/python3.7/dist-packages/ipykernel_launcher.py:64: UserWarning: /content/drive/MyDrive/dataset1 - Copy/annotations_prepped_train/augmented_mask_164.png is a low contrast image\n"
          ]
        },
        {
          "output_type": "stream",
          "name": "stdout",
          "text": [
            "vertical shift\n"
          ]
        },
        {
          "output_type": "stream",
          "name": "stderr",
          "text": [
            "/usr/local/lib/python3.7/dist-packages/ipykernel_launcher.py:64: UserWarning: /content/drive/MyDrive/dataset1 - Copy/annotations_prepped_train/augmented_mask_165.png is a low contrast image\n"
          ]
        },
        {
          "output_type": "stream",
          "name": "stdout",
          "text": [
            "horizontal flip\n"
          ]
        },
        {
          "output_type": "stream",
          "name": "stderr",
          "text": [
            "/usr/local/lib/python3.7/dist-packages/ipykernel_launcher.py:64: UserWarning: /content/drive/MyDrive/dataset1 - Copy/annotations_prepped_train/augmented_mask_166.png is a low contrast image\n"
          ]
        },
        {
          "output_type": "stream",
          "name": "stdout",
          "text": [
            "horizontal flip\n"
          ]
        },
        {
          "output_type": "stream",
          "name": "stderr",
          "text": [
            "/usr/local/lib/python3.7/dist-packages/ipykernel_launcher.py:64: UserWarning: /content/drive/MyDrive/dataset1 - Copy/annotations_prepped_train/augmented_mask_167.png is a low contrast image\n"
          ]
        },
        {
          "output_type": "stream",
          "name": "stdout",
          "text": [
            "horizontal shift\n"
          ]
        },
        {
          "output_type": "stream",
          "name": "stderr",
          "text": [
            "/usr/local/lib/python3.7/dist-packages/ipykernel_launcher.py:64: UserWarning: /content/drive/MyDrive/dataset1 - Copy/annotations_prepped_train/augmented_mask_168.png is a low contrast image\n"
          ]
        },
        {
          "output_type": "stream",
          "name": "stdout",
          "text": [
            "horizontal shift\n"
          ]
        },
        {
          "output_type": "stream",
          "name": "stderr",
          "text": [
            "/usr/local/lib/python3.7/dist-packages/ipykernel_launcher.py:64: UserWarning: /content/drive/MyDrive/dataset1 - Copy/annotations_prepped_train/augmented_mask_169.png is a low contrast image\n"
          ]
        },
        {
          "output_type": "stream",
          "name": "stdout",
          "text": [
            "vertical shift\n"
          ]
        },
        {
          "output_type": "stream",
          "name": "stderr",
          "text": [
            "/usr/local/lib/python3.7/dist-packages/ipykernel_launcher.py:64: UserWarning: /content/drive/MyDrive/dataset1 - Copy/annotations_prepped_train/augmented_mask_170.png is a low contrast image\n"
          ]
        },
        {
          "output_type": "stream",
          "name": "stdout",
          "text": [
            "horizontal flip\n"
          ]
        },
        {
          "output_type": "stream",
          "name": "stderr",
          "text": [
            "/usr/local/lib/python3.7/dist-packages/ipykernel_launcher.py:64: UserWarning: /content/drive/MyDrive/dataset1 - Copy/annotations_prepped_train/augmented_mask_171.png is a low contrast image\n"
          ]
        },
        {
          "output_type": "stream",
          "name": "stdout",
          "text": [
            "rotate\n"
          ]
        },
        {
          "output_type": "stream",
          "name": "stderr",
          "text": [
            "/usr/local/lib/python3.7/dist-packages/ipykernel_launcher.py:64: UserWarning: /content/drive/MyDrive/dataset1 - Copy/annotations_prepped_train/augmented_mask_172.png is a low contrast image\n"
          ]
        },
        {
          "output_type": "stream",
          "name": "stdout",
          "text": [
            "vertical shift\n"
          ]
        },
        {
          "output_type": "stream",
          "name": "stderr",
          "text": [
            "/usr/local/lib/python3.7/dist-packages/ipykernel_launcher.py:64: UserWarning: /content/drive/MyDrive/dataset1 - Copy/annotations_prepped_train/augmented_mask_173.png is a low contrast image\n"
          ]
        },
        {
          "output_type": "stream",
          "name": "stdout",
          "text": [
            "rotate\n"
          ]
        },
        {
          "output_type": "stream",
          "name": "stderr",
          "text": [
            "/usr/local/lib/python3.7/dist-packages/ipykernel_launcher.py:64: UserWarning: /content/drive/MyDrive/dataset1 - Copy/annotations_prepped_train/augmented_mask_174.png is a low contrast image\n"
          ]
        },
        {
          "output_type": "stream",
          "name": "stdout",
          "text": [
            "rotate\n"
          ]
        },
        {
          "output_type": "stream",
          "name": "stderr",
          "text": [
            "/usr/local/lib/python3.7/dist-packages/ipykernel_launcher.py:64: UserWarning: /content/drive/MyDrive/dataset1 - Copy/annotations_prepped_train/augmented_mask_175.png is a low contrast image\n"
          ]
        },
        {
          "output_type": "stream",
          "name": "stdout",
          "text": [
            "vertical shift\n"
          ]
        },
        {
          "output_type": "stream",
          "name": "stderr",
          "text": [
            "/usr/local/lib/python3.7/dist-packages/ipykernel_launcher.py:64: UserWarning: /content/drive/MyDrive/dataset1 - Copy/annotations_prepped_train/augmented_mask_176.png is a low contrast image\n"
          ]
        },
        {
          "output_type": "stream",
          "name": "stdout",
          "text": [
            "vertical flip\n"
          ]
        },
        {
          "output_type": "stream",
          "name": "stderr",
          "text": [
            "/usr/local/lib/python3.7/dist-packages/ipykernel_launcher.py:64: UserWarning: /content/drive/MyDrive/dataset1 - Copy/annotations_prepped_train/augmented_mask_177.png is a low contrast image\n"
          ]
        },
        {
          "output_type": "stream",
          "name": "stdout",
          "text": [
            "vertical flip\n"
          ]
        },
        {
          "output_type": "stream",
          "name": "stderr",
          "text": [
            "/usr/local/lib/python3.7/dist-packages/ipykernel_launcher.py:64: UserWarning: /content/drive/MyDrive/dataset1 - Copy/annotations_prepped_train/augmented_mask_178.png is a low contrast image\n"
          ]
        },
        {
          "output_type": "stream",
          "name": "stdout",
          "text": [
            "horizontal flip\n"
          ]
        },
        {
          "output_type": "stream",
          "name": "stderr",
          "text": [
            "/usr/local/lib/python3.7/dist-packages/ipykernel_launcher.py:64: UserWarning: /content/drive/MyDrive/dataset1 - Copy/annotations_prepped_train/augmented_mask_179.png is a low contrast image\n"
          ]
        },
        {
          "output_type": "stream",
          "name": "stdout",
          "text": [
            "horizontal flip\n"
          ]
        },
        {
          "output_type": "stream",
          "name": "stderr",
          "text": [
            "/usr/local/lib/python3.7/dist-packages/ipykernel_launcher.py:64: UserWarning: /content/drive/MyDrive/dataset1 - Copy/annotations_prepped_train/augmented_mask_180.png is a low contrast image\n"
          ]
        },
        {
          "output_type": "stream",
          "name": "stdout",
          "text": [
            "rotate\n"
          ]
        },
        {
          "output_type": "stream",
          "name": "stderr",
          "text": [
            "/usr/local/lib/python3.7/dist-packages/ipykernel_launcher.py:64: UserWarning: /content/drive/MyDrive/dataset1 - Copy/annotations_prepped_train/augmented_mask_181.png is a low contrast image\n"
          ]
        },
        {
          "output_type": "stream",
          "name": "stdout",
          "text": [
            "vertical flip\n"
          ]
        },
        {
          "output_type": "stream",
          "name": "stderr",
          "text": [
            "/usr/local/lib/python3.7/dist-packages/ipykernel_launcher.py:64: UserWarning: /content/drive/MyDrive/dataset1 - Copy/annotations_prepped_train/augmented_mask_182.png is a low contrast image\n"
          ]
        },
        {
          "output_type": "stream",
          "name": "stdout",
          "text": [
            "horizontal shift\n"
          ]
        },
        {
          "output_type": "stream",
          "name": "stderr",
          "text": [
            "/usr/local/lib/python3.7/dist-packages/ipykernel_launcher.py:64: UserWarning: /content/drive/MyDrive/dataset1 - Copy/annotations_prepped_train/augmented_mask_183.png is a low contrast image\n"
          ]
        },
        {
          "output_type": "stream",
          "name": "stdout",
          "text": [
            "rotate\n"
          ]
        },
        {
          "output_type": "stream",
          "name": "stderr",
          "text": [
            "/usr/local/lib/python3.7/dist-packages/ipykernel_launcher.py:64: UserWarning: /content/drive/MyDrive/dataset1 - Copy/annotations_prepped_train/augmented_mask_184.png is a low contrast image\n"
          ]
        },
        {
          "output_type": "stream",
          "name": "stdout",
          "text": [
            "vertical shift\n"
          ]
        },
        {
          "output_type": "stream",
          "name": "stderr",
          "text": [
            "/usr/local/lib/python3.7/dist-packages/ipykernel_launcher.py:64: UserWarning: /content/drive/MyDrive/dataset1 - Copy/annotations_prepped_train/augmented_mask_185.png is a low contrast image\n"
          ]
        },
        {
          "output_type": "stream",
          "name": "stdout",
          "text": [
            "horizontal shift\n"
          ]
        },
        {
          "output_type": "stream",
          "name": "stderr",
          "text": [
            "/usr/local/lib/python3.7/dist-packages/ipykernel_launcher.py:64: UserWarning: /content/drive/MyDrive/dataset1 - Copy/annotations_prepped_train/augmented_mask_186.png is a low contrast image\n"
          ]
        },
        {
          "output_type": "stream",
          "name": "stdout",
          "text": [
            "horizontal shift\n"
          ]
        },
        {
          "output_type": "stream",
          "name": "stderr",
          "text": [
            "/usr/local/lib/python3.7/dist-packages/ipykernel_launcher.py:64: UserWarning: /content/drive/MyDrive/dataset1 - Copy/annotations_prepped_train/augmented_mask_187.png is a low contrast image\n"
          ]
        },
        {
          "output_type": "stream",
          "name": "stdout",
          "text": [
            "vertical flip\n"
          ]
        },
        {
          "output_type": "stream",
          "name": "stderr",
          "text": [
            "/usr/local/lib/python3.7/dist-packages/ipykernel_launcher.py:64: UserWarning: /content/drive/MyDrive/dataset1 - Copy/annotations_prepped_train/augmented_mask_188.png is a low contrast image\n"
          ]
        },
        {
          "output_type": "stream",
          "name": "stdout",
          "text": [
            "horizontal shift\n"
          ]
        },
        {
          "output_type": "stream",
          "name": "stderr",
          "text": [
            "/usr/local/lib/python3.7/dist-packages/ipykernel_launcher.py:64: UserWarning: /content/drive/MyDrive/dataset1 - Copy/annotations_prepped_train/augmented_mask_189.png is a low contrast image\n"
          ]
        },
        {
          "output_type": "stream",
          "name": "stdout",
          "text": [
            "vertical flip\n"
          ]
        },
        {
          "output_type": "stream",
          "name": "stderr",
          "text": [
            "/usr/local/lib/python3.7/dist-packages/ipykernel_launcher.py:64: UserWarning: /content/drive/MyDrive/dataset1 - Copy/annotations_prepped_train/augmented_mask_190.png is a low contrast image\n"
          ]
        },
        {
          "output_type": "stream",
          "name": "stdout",
          "text": [
            "vertical shift\n"
          ]
        },
        {
          "output_type": "stream",
          "name": "stderr",
          "text": [
            "/usr/local/lib/python3.7/dist-packages/ipykernel_launcher.py:64: UserWarning: /content/drive/MyDrive/dataset1 - Copy/annotations_prepped_train/augmented_mask_191.png is a low contrast image\n"
          ]
        },
        {
          "output_type": "stream",
          "name": "stdout",
          "text": [
            "vertical flip\n"
          ]
        },
        {
          "output_type": "stream",
          "name": "stderr",
          "text": [
            "/usr/local/lib/python3.7/dist-packages/ipykernel_launcher.py:64: UserWarning: /content/drive/MyDrive/dataset1 - Copy/annotations_prepped_train/augmented_mask_192.png is a low contrast image\n"
          ]
        },
        {
          "output_type": "stream",
          "name": "stdout",
          "text": [
            "vertical shift\n"
          ]
        },
        {
          "output_type": "stream",
          "name": "stderr",
          "text": [
            "/usr/local/lib/python3.7/dist-packages/ipykernel_launcher.py:64: UserWarning: /content/drive/MyDrive/dataset1 - Copy/annotations_prepped_train/augmented_mask_193.png is a low contrast image\n"
          ]
        },
        {
          "output_type": "stream",
          "name": "stdout",
          "text": [
            "horizontal shift\n"
          ]
        },
        {
          "output_type": "stream",
          "name": "stderr",
          "text": [
            "/usr/local/lib/python3.7/dist-packages/ipykernel_launcher.py:64: UserWarning: /content/drive/MyDrive/dataset1 - Copy/annotations_prepped_train/augmented_mask_194.png is a low contrast image\n"
          ]
        },
        {
          "output_type": "stream",
          "name": "stdout",
          "text": [
            "vertical shift\n"
          ]
        },
        {
          "output_type": "stream",
          "name": "stderr",
          "text": [
            "/usr/local/lib/python3.7/dist-packages/ipykernel_launcher.py:64: UserWarning: /content/drive/MyDrive/dataset1 - Copy/annotations_prepped_train/augmented_mask_195.png is a low contrast image\n"
          ]
        },
        {
          "output_type": "stream",
          "name": "stdout",
          "text": [
            "horizontal shift\n"
          ]
        },
        {
          "output_type": "stream",
          "name": "stderr",
          "text": [
            "/usr/local/lib/python3.7/dist-packages/ipykernel_launcher.py:64: UserWarning: /content/drive/MyDrive/dataset1 - Copy/annotations_prepped_train/augmented_mask_196.png is a low contrast image\n"
          ]
        },
        {
          "output_type": "stream",
          "name": "stdout",
          "text": [
            "horizontal flip\n"
          ]
        },
        {
          "output_type": "stream",
          "name": "stderr",
          "text": [
            "/usr/local/lib/python3.7/dist-packages/ipykernel_launcher.py:64: UserWarning: /content/drive/MyDrive/dataset1 - Copy/annotations_prepped_train/augmented_mask_197.png is a low contrast image\n"
          ]
        },
        {
          "output_type": "stream",
          "name": "stdout",
          "text": [
            "horizontal shift\n"
          ]
        },
        {
          "output_type": "stream",
          "name": "stderr",
          "text": [
            "/usr/local/lib/python3.7/dist-packages/ipykernel_launcher.py:64: UserWarning: /content/drive/MyDrive/dataset1 - Copy/annotations_prepped_train/augmented_mask_198.png is a low contrast image\n"
          ]
        },
        {
          "output_type": "stream",
          "name": "stdout",
          "text": [
            "rotate\n"
          ]
        },
        {
          "output_type": "stream",
          "name": "stderr",
          "text": [
            "/usr/local/lib/python3.7/dist-packages/ipykernel_launcher.py:64: UserWarning: /content/drive/MyDrive/dataset1 - Copy/annotations_prepped_train/augmented_mask_199.png is a low contrast image\n"
          ]
        },
        {
          "output_type": "stream",
          "name": "stdout",
          "text": [
            "rotate\n"
          ]
        },
        {
          "output_type": "stream",
          "name": "stderr",
          "text": [
            "/usr/local/lib/python3.7/dist-packages/ipykernel_launcher.py:64: UserWarning: /content/drive/MyDrive/dataset1 - Copy/annotations_prepped_train/augmented_mask_200.png is a low contrast image\n"
          ]
        },
        {
          "output_type": "stream",
          "name": "stdout",
          "text": [
            "horizontal flip\n"
          ]
        },
        {
          "output_type": "stream",
          "name": "stderr",
          "text": [
            "/usr/local/lib/python3.7/dist-packages/ipykernel_launcher.py:64: UserWarning: /content/drive/MyDrive/dataset1 - Copy/annotations_prepped_train/augmented_mask_201.png is a low contrast image\n"
          ]
        },
        {
          "output_type": "stream",
          "name": "stdout",
          "text": [
            "horizontal shift\n"
          ]
        },
        {
          "output_type": "stream",
          "name": "stderr",
          "text": [
            "/usr/local/lib/python3.7/dist-packages/ipykernel_launcher.py:64: UserWarning: /content/drive/MyDrive/dataset1 - Copy/annotations_prepped_train/augmented_mask_202.png is a low contrast image\n"
          ]
        },
        {
          "output_type": "stream",
          "name": "stdout",
          "text": [
            "horizontal shift\n"
          ]
        },
        {
          "output_type": "stream",
          "name": "stderr",
          "text": [
            "/usr/local/lib/python3.7/dist-packages/ipykernel_launcher.py:64: UserWarning: /content/drive/MyDrive/dataset1 - Copy/annotations_prepped_train/augmented_mask_203.png is a low contrast image\n"
          ]
        },
        {
          "output_type": "stream",
          "name": "stdout",
          "text": [
            "rotate\n"
          ]
        },
        {
          "output_type": "stream",
          "name": "stderr",
          "text": [
            "/usr/local/lib/python3.7/dist-packages/ipykernel_launcher.py:64: UserWarning: /content/drive/MyDrive/dataset1 - Copy/annotations_prepped_train/augmented_mask_204.png is a low contrast image\n"
          ]
        },
        {
          "output_type": "stream",
          "name": "stdout",
          "text": [
            "horizontal shift\n"
          ]
        },
        {
          "output_type": "stream",
          "name": "stderr",
          "text": [
            "/usr/local/lib/python3.7/dist-packages/ipykernel_launcher.py:64: UserWarning: /content/drive/MyDrive/dataset1 - Copy/annotations_prepped_train/augmented_mask_205.png is a low contrast image\n"
          ]
        },
        {
          "output_type": "stream",
          "name": "stdout",
          "text": [
            "horizontal flip\n"
          ]
        },
        {
          "output_type": "stream",
          "name": "stderr",
          "text": [
            "/usr/local/lib/python3.7/dist-packages/ipykernel_launcher.py:64: UserWarning: /content/drive/MyDrive/dataset1 - Copy/annotations_prepped_train/augmented_mask_206.png is a low contrast image\n"
          ]
        },
        {
          "output_type": "stream",
          "name": "stdout",
          "text": [
            "vertical flip\n"
          ]
        },
        {
          "output_type": "stream",
          "name": "stderr",
          "text": [
            "/usr/local/lib/python3.7/dist-packages/ipykernel_launcher.py:64: UserWarning: /content/drive/MyDrive/dataset1 - Copy/annotations_prepped_train/augmented_mask_207.png is a low contrast image\n"
          ]
        },
        {
          "output_type": "stream",
          "name": "stdout",
          "text": [
            "rotate\n"
          ]
        },
        {
          "output_type": "stream",
          "name": "stderr",
          "text": [
            "/usr/local/lib/python3.7/dist-packages/ipykernel_launcher.py:64: UserWarning: /content/drive/MyDrive/dataset1 - Copy/annotations_prepped_train/augmented_mask_208.png is a low contrast image\n"
          ]
        },
        {
          "output_type": "stream",
          "name": "stdout",
          "text": [
            "horizontal flip\n"
          ]
        },
        {
          "output_type": "stream",
          "name": "stderr",
          "text": [
            "/usr/local/lib/python3.7/dist-packages/ipykernel_launcher.py:64: UserWarning: /content/drive/MyDrive/dataset1 - Copy/annotations_prepped_train/augmented_mask_209.png is a low contrast image\n"
          ]
        },
        {
          "output_type": "stream",
          "name": "stdout",
          "text": [
            "rotate\n"
          ]
        },
        {
          "output_type": "stream",
          "name": "stderr",
          "text": [
            "/usr/local/lib/python3.7/dist-packages/ipykernel_launcher.py:64: UserWarning: /content/drive/MyDrive/dataset1 - Copy/annotations_prepped_train/augmented_mask_210.png is a low contrast image\n"
          ]
        },
        {
          "output_type": "stream",
          "name": "stdout",
          "text": [
            "rotate\n"
          ]
        },
        {
          "output_type": "stream",
          "name": "stderr",
          "text": [
            "/usr/local/lib/python3.7/dist-packages/ipykernel_launcher.py:64: UserWarning: /content/drive/MyDrive/dataset1 - Copy/annotations_prepped_train/augmented_mask_211.png is a low contrast image\n"
          ]
        },
        {
          "output_type": "stream",
          "name": "stdout",
          "text": [
            "horizontal flip\n"
          ]
        },
        {
          "output_type": "stream",
          "name": "stderr",
          "text": [
            "/usr/local/lib/python3.7/dist-packages/ipykernel_launcher.py:64: UserWarning: /content/drive/MyDrive/dataset1 - Copy/annotations_prepped_train/augmented_mask_212.png is a low contrast image\n"
          ]
        },
        {
          "output_type": "stream",
          "name": "stdout",
          "text": [
            "horizontal flip\n"
          ]
        },
        {
          "output_type": "stream",
          "name": "stderr",
          "text": [
            "/usr/local/lib/python3.7/dist-packages/ipykernel_launcher.py:64: UserWarning: /content/drive/MyDrive/dataset1 - Copy/annotations_prepped_train/augmented_mask_213.png is a low contrast image\n"
          ]
        },
        {
          "output_type": "stream",
          "name": "stdout",
          "text": [
            "rotate\n"
          ]
        },
        {
          "output_type": "stream",
          "name": "stderr",
          "text": [
            "/usr/local/lib/python3.7/dist-packages/ipykernel_launcher.py:64: UserWarning: /content/drive/MyDrive/dataset1 - Copy/annotations_prepped_train/augmented_mask_214.png is a low contrast image\n"
          ]
        },
        {
          "output_type": "stream",
          "name": "stdout",
          "text": [
            "rotate\n"
          ]
        },
        {
          "output_type": "stream",
          "name": "stderr",
          "text": [
            "/usr/local/lib/python3.7/dist-packages/ipykernel_launcher.py:64: UserWarning: /content/drive/MyDrive/dataset1 - Copy/annotations_prepped_train/augmented_mask_215.png is a low contrast image\n"
          ]
        },
        {
          "output_type": "stream",
          "name": "stdout",
          "text": [
            "rotate\n"
          ]
        },
        {
          "output_type": "stream",
          "name": "stderr",
          "text": [
            "/usr/local/lib/python3.7/dist-packages/ipykernel_launcher.py:64: UserWarning: /content/drive/MyDrive/dataset1 - Copy/annotations_prepped_train/augmented_mask_216.png is a low contrast image\n"
          ]
        },
        {
          "output_type": "stream",
          "name": "stdout",
          "text": [
            "horizontal shift\n"
          ]
        },
        {
          "output_type": "stream",
          "name": "stderr",
          "text": [
            "/usr/local/lib/python3.7/dist-packages/ipykernel_launcher.py:64: UserWarning: /content/drive/MyDrive/dataset1 - Copy/annotations_prepped_train/augmented_mask_217.png is a low contrast image\n"
          ]
        },
        {
          "output_type": "stream",
          "name": "stdout",
          "text": [
            "vertical flip\n"
          ]
        },
        {
          "output_type": "stream",
          "name": "stderr",
          "text": [
            "/usr/local/lib/python3.7/dist-packages/ipykernel_launcher.py:64: UserWarning: /content/drive/MyDrive/dataset1 - Copy/annotations_prepped_train/augmented_mask_218.png is a low contrast image\n"
          ]
        },
        {
          "output_type": "stream",
          "name": "stdout",
          "text": [
            "rotate\n"
          ]
        },
        {
          "output_type": "stream",
          "name": "stderr",
          "text": [
            "/usr/local/lib/python3.7/dist-packages/ipykernel_launcher.py:64: UserWarning: /content/drive/MyDrive/dataset1 - Copy/annotations_prepped_train/augmented_mask_219.png is a low contrast image\n"
          ]
        },
        {
          "output_type": "stream",
          "name": "stdout",
          "text": [
            "vertical shift\n"
          ]
        },
        {
          "output_type": "stream",
          "name": "stderr",
          "text": [
            "/usr/local/lib/python3.7/dist-packages/ipykernel_launcher.py:64: UserWarning: /content/drive/MyDrive/dataset1 - Copy/annotations_prepped_train/augmented_mask_220.png is a low contrast image\n"
          ]
        },
        {
          "output_type": "stream",
          "name": "stdout",
          "text": [
            "vertical shift\n"
          ]
        },
        {
          "output_type": "stream",
          "name": "stderr",
          "text": [
            "/usr/local/lib/python3.7/dist-packages/ipykernel_launcher.py:64: UserWarning: /content/drive/MyDrive/dataset1 - Copy/annotations_prepped_train/augmented_mask_221.png is a low contrast image\n"
          ]
        },
        {
          "output_type": "stream",
          "name": "stdout",
          "text": [
            "horizontal shift\n"
          ]
        },
        {
          "output_type": "stream",
          "name": "stderr",
          "text": [
            "/usr/local/lib/python3.7/dist-packages/ipykernel_launcher.py:64: UserWarning: /content/drive/MyDrive/dataset1 - Copy/annotations_prepped_train/augmented_mask_222.png is a low contrast image\n"
          ]
        },
        {
          "output_type": "stream",
          "name": "stdout",
          "text": [
            "horizontal shift\n"
          ]
        },
        {
          "output_type": "stream",
          "name": "stderr",
          "text": [
            "/usr/local/lib/python3.7/dist-packages/ipykernel_launcher.py:64: UserWarning: /content/drive/MyDrive/dataset1 - Copy/annotations_prepped_train/augmented_mask_223.png is a low contrast image\n"
          ]
        },
        {
          "output_type": "stream",
          "name": "stdout",
          "text": [
            "rotate\n"
          ]
        },
        {
          "output_type": "stream",
          "name": "stderr",
          "text": [
            "/usr/local/lib/python3.7/dist-packages/ipykernel_launcher.py:64: UserWarning: /content/drive/MyDrive/dataset1 - Copy/annotations_prepped_train/augmented_mask_224.png is a low contrast image\n"
          ]
        },
        {
          "output_type": "stream",
          "name": "stdout",
          "text": [
            "vertical shift\n"
          ]
        },
        {
          "output_type": "stream",
          "name": "stderr",
          "text": [
            "/usr/local/lib/python3.7/dist-packages/ipykernel_launcher.py:64: UserWarning: /content/drive/MyDrive/dataset1 - Copy/annotations_prepped_train/augmented_mask_225.png is a low contrast image\n"
          ]
        },
        {
          "output_type": "stream",
          "name": "stdout",
          "text": [
            "horizontal shift\n"
          ]
        },
        {
          "output_type": "stream",
          "name": "stderr",
          "text": [
            "/usr/local/lib/python3.7/dist-packages/ipykernel_launcher.py:64: UserWarning: /content/drive/MyDrive/dataset1 - Copy/annotations_prepped_train/augmented_mask_226.png is a low contrast image\n"
          ]
        },
        {
          "output_type": "stream",
          "name": "stdout",
          "text": [
            "horizontal flip\n"
          ]
        },
        {
          "output_type": "stream",
          "name": "stderr",
          "text": [
            "/usr/local/lib/python3.7/dist-packages/ipykernel_launcher.py:64: UserWarning: /content/drive/MyDrive/dataset1 - Copy/annotations_prepped_train/augmented_mask_227.png is a low contrast image\n"
          ]
        },
        {
          "output_type": "stream",
          "name": "stdout",
          "text": [
            "rotate\n"
          ]
        },
        {
          "output_type": "stream",
          "name": "stderr",
          "text": [
            "/usr/local/lib/python3.7/dist-packages/ipykernel_launcher.py:64: UserWarning: /content/drive/MyDrive/dataset1 - Copy/annotations_prepped_train/augmented_mask_228.png is a low contrast image\n"
          ]
        },
        {
          "output_type": "stream",
          "name": "stdout",
          "text": [
            "horizontal shift\n"
          ]
        },
        {
          "output_type": "stream",
          "name": "stderr",
          "text": [
            "/usr/local/lib/python3.7/dist-packages/ipykernel_launcher.py:64: UserWarning: /content/drive/MyDrive/dataset1 - Copy/annotations_prepped_train/augmented_mask_229.png is a low contrast image\n"
          ]
        },
        {
          "output_type": "stream",
          "name": "stdout",
          "text": [
            "horizontal shift\n"
          ]
        },
        {
          "output_type": "stream",
          "name": "stderr",
          "text": [
            "/usr/local/lib/python3.7/dist-packages/ipykernel_launcher.py:64: UserWarning: /content/drive/MyDrive/dataset1 - Copy/annotations_prepped_train/augmented_mask_230.png is a low contrast image\n"
          ]
        },
        {
          "output_type": "stream",
          "name": "stdout",
          "text": [
            "horizontal shift\n"
          ]
        },
        {
          "output_type": "stream",
          "name": "stderr",
          "text": [
            "/usr/local/lib/python3.7/dist-packages/ipykernel_launcher.py:64: UserWarning: /content/drive/MyDrive/dataset1 - Copy/annotations_prepped_train/augmented_mask_231.png is a low contrast image\n"
          ]
        },
        {
          "output_type": "stream",
          "name": "stdout",
          "text": [
            "horizontal flip\n"
          ]
        },
        {
          "output_type": "stream",
          "name": "stderr",
          "text": [
            "/usr/local/lib/python3.7/dist-packages/ipykernel_launcher.py:64: UserWarning: /content/drive/MyDrive/dataset1 - Copy/annotations_prepped_train/augmented_mask_232.png is a low contrast image\n"
          ]
        },
        {
          "output_type": "stream",
          "name": "stdout",
          "text": [
            "horizontal flip\n"
          ]
        },
        {
          "output_type": "stream",
          "name": "stderr",
          "text": [
            "/usr/local/lib/python3.7/dist-packages/ipykernel_launcher.py:64: UserWarning: /content/drive/MyDrive/dataset1 - Copy/annotations_prepped_train/augmented_mask_233.png is a low contrast image\n"
          ]
        },
        {
          "output_type": "stream",
          "name": "stdout",
          "text": [
            "horizontal shift\n"
          ]
        },
        {
          "output_type": "stream",
          "name": "stderr",
          "text": [
            "/usr/local/lib/python3.7/dist-packages/ipykernel_launcher.py:64: UserWarning: /content/drive/MyDrive/dataset1 - Copy/annotations_prepped_train/augmented_mask_234.png is a low contrast image\n"
          ]
        },
        {
          "output_type": "stream",
          "name": "stdout",
          "text": [
            "horizontal flip\n"
          ]
        },
        {
          "output_type": "stream",
          "name": "stderr",
          "text": [
            "/usr/local/lib/python3.7/dist-packages/ipykernel_launcher.py:64: UserWarning: /content/drive/MyDrive/dataset1 - Copy/annotations_prepped_train/augmented_mask_235.png is a low contrast image\n"
          ]
        },
        {
          "output_type": "stream",
          "name": "stdout",
          "text": [
            "horizontal shift\n"
          ]
        },
        {
          "output_type": "stream",
          "name": "stderr",
          "text": [
            "/usr/local/lib/python3.7/dist-packages/ipykernel_launcher.py:64: UserWarning: /content/drive/MyDrive/dataset1 - Copy/annotations_prepped_train/augmented_mask_236.png is a low contrast image\n"
          ]
        },
        {
          "output_type": "stream",
          "name": "stdout",
          "text": [
            "horizontal shift\n"
          ]
        },
        {
          "output_type": "stream",
          "name": "stderr",
          "text": [
            "/usr/local/lib/python3.7/dist-packages/ipykernel_launcher.py:64: UserWarning: /content/drive/MyDrive/dataset1 - Copy/annotations_prepped_train/augmented_mask_237.png is a low contrast image\n"
          ]
        },
        {
          "output_type": "stream",
          "name": "stdout",
          "text": [
            "rotate\n"
          ]
        },
        {
          "output_type": "stream",
          "name": "stderr",
          "text": [
            "/usr/local/lib/python3.7/dist-packages/ipykernel_launcher.py:64: UserWarning: /content/drive/MyDrive/dataset1 - Copy/annotations_prepped_train/augmented_mask_238.png is a low contrast image\n"
          ]
        },
        {
          "output_type": "stream",
          "name": "stdout",
          "text": [
            "horizontal flip\n"
          ]
        },
        {
          "output_type": "stream",
          "name": "stderr",
          "text": [
            "/usr/local/lib/python3.7/dist-packages/ipykernel_launcher.py:64: UserWarning: /content/drive/MyDrive/dataset1 - Copy/annotations_prepped_train/augmented_mask_239.png is a low contrast image\n"
          ]
        },
        {
          "output_type": "stream",
          "name": "stdout",
          "text": [
            "horizontal shift\n"
          ]
        },
        {
          "output_type": "stream",
          "name": "stderr",
          "text": [
            "/usr/local/lib/python3.7/dist-packages/ipykernel_launcher.py:64: UserWarning: /content/drive/MyDrive/dataset1 - Copy/annotations_prepped_train/augmented_mask_240.png is a low contrast image\n"
          ]
        },
        {
          "output_type": "stream",
          "name": "stdout",
          "text": [
            "vertical flip\n"
          ]
        },
        {
          "output_type": "stream",
          "name": "stderr",
          "text": [
            "/usr/local/lib/python3.7/dist-packages/ipykernel_launcher.py:64: UserWarning: /content/drive/MyDrive/dataset1 - Copy/annotations_prepped_train/augmented_mask_241.png is a low contrast image\n"
          ]
        },
        {
          "output_type": "stream",
          "name": "stdout",
          "text": [
            "rotate\n"
          ]
        },
        {
          "output_type": "stream",
          "name": "stderr",
          "text": [
            "/usr/local/lib/python3.7/dist-packages/ipykernel_launcher.py:64: UserWarning: /content/drive/MyDrive/dataset1 - Copy/annotations_prepped_train/augmented_mask_242.png is a low contrast image\n"
          ]
        },
        {
          "output_type": "stream",
          "name": "stdout",
          "text": [
            "rotate\n"
          ]
        },
        {
          "output_type": "stream",
          "name": "stderr",
          "text": [
            "/usr/local/lib/python3.7/dist-packages/ipykernel_launcher.py:64: UserWarning: /content/drive/MyDrive/dataset1 - Copy/annotations_prepped_train/augmented_mask_243.png is a low contrast image\n"
          ]
        },
        {
          "output_type": "stream",
          "name": "stdout",
          "text": [
            "horizontal shift\n"
          ]
        },
        {
          "output_type": "stream",
          "name": "stderr",
          "text": [
            "/usr/local/lib/python3.7/dist-packages/ipykernel_launcher.py:64: UserWarning: /content/drive/MyDrive/dataset1 - Copy/annotations_prepped_train/augmented_mask_244.png is a low contrast image\n"
          ]
        },
        {
          "output_type": "stream",
          "name": "stdout",
          "text": [
            "vertical flip\n"
          ]
        },
        {
          "output_type": "stream",
          "name": "stderr",
          "text": [
            "/usr/local/lib/python3.7/dist-packages/ipykernel_launcher.py:64: UserWarning: /content/drive/MyDrive/dataset1 - Copy/annotations_prepped_train/augmented_mask_245.png is a low contrast image\n"
          ]
        },
        {
          "output_type": "stream",
          "name": "stdout",
          "text": [
            "vertical shift\n"
          ]
        },
        {
          "output_type": "stream",
          "name": "stderr",
          "text": [
            "/usr/local/lib/python3.7/dist-packages/ipykernel_launcher.py:64: UserWarning: /content/drive/MyDrive/dataset1 - Copy/annotations_prepped_train/augmented_mask_246.png is a low contrast image\n"
          ]
        },
        {
          "output_type": "stream",
          "name": "stdout",
          "text": [
            "horizontal shift\n"
          ]
        },
        {
          "output_type": "stream",
          "name": "stderr",
          "text": [
            "/usr/local/lib/python3.7/dist-packages/ipykernel_launcher.py:64: UserWarning: /content/drive/MyDrive/dataset1 - Copy/annotations_prepped_train/augmented_mask_247.png is a low contrast image\n"
          ]
        },
        {
          "output_type": "stream",
          "name": "stdout",
          "text": [
            "horizontal flip\n"
          ]
        },
        {
          "output_type": "stream",
          "name": "stderr",
          "text": [
            "/usr/local/lib/python3.7/dist-packages/ipykernel_launcher.py:64: UserWarning: /content/drive/MyDrive/dataset1 - Copy/annotations_prepped_train/augmented_mask_248.png is a low contrast image\n"
          ]
        },
        {
          "output_type": "stream",
          "name": "stdout",
          "text": [
            "horizontal shift\n"
          ]
        },
        {
          "output_type": "stream",
          "name": "stderr",
          "text": [
            "/usr/local/lib/python3.7/dist-packages/ipykernel_launcher.py:64: UserWarning: /content/drive/MyDrive/dataset1 - Copy/annotations_prepped_train/augmented_mask_249.png is a low contrast image\n"
          ]
        },
        {
          "output_type": "stream",
          "name": "stdout",
          "text": [
            "horizontal flip\n"
          ]
        },
        {
          "output_type": "stream",
          "name": "stderr",
          "text": [
            "/usr/local/lib/python3.7/dist-packages/ipykernel_launcher.py:64: UserWarning: /content/drive/MyDrive/dataset1 - Copy/annotations_prepped_train/augmented_mask_250.png is a low contrast image\n"
          ]
        },
        {
          "output_type": "stream",
          "name": "stdout",
          "text": [
            "vertical flip\n"
          ]
        },
        {
          "output_type": "stream",
          "name": "stderr",
          "text": [
            "/usr/local/lib/python3.7/dist-packages/ipykernel_launcher.py:64: UserWarning: /content/drive/MyDrive/dataset1 - Copy/annotations_prepped_train/augmented_mask_251.png is a low contrast image\n"
          ]
        },
        {
          "output_type": "stream",
          "name": "stdout",
          "text": [
            "vertical shift\n"
          ]
        },
        {
          "output_type": "stream",
          "name": "stderr",
          "text": [
            "/usr/local/lib/python3.7/dist-packages/ipykernel_launcher.py:64: UserWarning: /content/drive/MyDrive/dataset1 - Copy/annotations_prepped_train/augmented_mask_252.png is a low contrast image\n"
          ]
        },
        {
          "output_type": "stream",
          "name": "stdout",
          "text": [
            "rotate\n"
          ]
        },
        {
          "output_type": "stream",
          "name": "stderr",
          "text": [
            "/usr/local/lib/python3.7/dist-packages/ipykernel_launcher.py:64: UserWarning: /content/drive/MyDrive/dataset1 - Copy/annotations_prepped_train/augmented_mask_253.png is a low contrast image\n"
          ]
        },
        {
          "output_type": "stream",
          "name": "stdout",
          "text": [
            "horizontal flip\n"
          ]
        },
        {
          "output_type": "stream",
          "name": "stderr",
          "text": [
            "/usr/local/lib/python3.7/dist-packages/ipykernel_launcher.py:64: UserWarning: /content/drive/MyDrive/dataset1 - Copy/annotations_prepped_train/augmented_mask_254.png is a low contrast image\n"
          ]
        },
        {
          "output_type": "stream",
          "name": "stdout",
          "text": [
            "rotate\n"
          ]
        },
        {
          "output_type": "stream",
          "name": "stderr",
          "text": [
            "/usr/local/lib/python3.7/dist-packages/ipykernel_launcher.py:64: UserWarning: /content/drive/MyDrive/dataset1 - Copy/annotations_prepped_train/augmented_mask_255.png is a low contrast image\n"
          ]
        },
        {
          "output_type": "stream",
          "name": "stdout",
          "text": [
            "vertical flip\n"
          ]
        },
        {
          "output_type": "stream",
          "name": "stderr",
          "text": [
            "/usr/local/lib/python3.7/dist-packages/ipykernel_launcher.py:64: UserWarning: /content/drive/MyDrive/dataset1 - Copy/annotations_prepped_train/augmented_mask_256.png is a low contrast image\n"
          ]
        },
        {
          "output_type": "stream",
          "name": "stdout",
          "text": [
            "horizontal shift\n"
          ]
        },
        {
          "output_type": "stream",
          "name": "stderr",
          "text": [
            "/usr/local/lib/python3.7/dist-packages/ipykernel_launcher.py:64: UserWarning: /content/drive/MyDrive/dataset1 - Copy/annotations_prepped_train/augmented_mask_257.png is a low contrast image\n"
          ]
        },
        {
          "output_type": "stream",
          "name": "stdout",
          "text": [
            "vertical flip\n"
          ]
        },
        {
          "output_type": "stream",
          "name": "stderr",
          "text": [
            "/usr/local/lib/python3.7/dist-packages/ipykernel_launcher.py:64: UserWarning: /content/drive/MyDrive/dataset1 - Copy/annotations_prepped_train/augmented_mask_258.png is a low contrast image\n"
          ]
        },
        {
          "output_type": "stream",
          "name": "stdout",
          "text": [
            "rotate\n"
          ]
        },
        {
          "output_type": "stream",
          "name": "stderr",
          "text": [
            "/usr/local/lib/python3.7/dist-packages/ipykernel_launcher.py:64: UserWarning: /content/drive/MyDrive/dataset1 - Copy/annotations_prepped_train/augmented_mask_259.png is a low contrast image\n"
          ]
        },
        {
          "output_type": "stream",
          "name": "stdout",
          "text": [
            "horizontal flip\n"
          ]
        },
        {
          "output_type": "stream",
          "name": "stderr",
          "text": [
            "/usr/local/lib/python3.7/dist-packages/ipykernel_launcher.py:64: UserWarning: /content/drive/MyDrive/dataset1 - Copy/annotations_prepped_train/augmented_mask_260.png is a low contrast image\n"
          ]
        },
        {
          "output_type": "stream",
          "name": "stdout",
          "text": [
            "vertical flip\n"
          ]
        },
        {
          "output_type": "stream",
          "name": "stderr",
          "text": [
            "/usr/local/lib/python3.7/dist-packages/ipykernel_launcher.py:64: UserWarning: /content/drive/MyDrive/dataset1 - Copy/annotations_prepped_train/augmented_mask_261.png is a low contrast image\n"
          ]
        },
        {
          "output_type": "stream",
          "name": "stdout",
          "text": [
            "horizontal flip\n"
          ]
        },
        {
          "output_type": "stream",
          "name": "stderr",
          "text": [
            "/usr/local/lib/python3.7/dist-packages/ipykernel_launcher.py:64: UserWarning: /content/drive/MyDrive/dataset1 - Copy/annotations_prepped_train/augmented_mask_262.png is a low contrast image\n"
          ]
        },
        {
          "output_type": "stream",
          "name": "stdout",
          "text": [
            "rotate\n"
          ]
        },
        {
          "output_type": "stream",
          "name": "stderr",
          "text": [
            "/usr/local/lib/python3.7/dist-packages/ipykernel_launcher.py:64: UserWarning: /content/drive/MyDrive/dataset1 - Copy/annotations_prepped_train/augmented_mask_263.png is a low contrast image\n"
          ]
        },
        {
          "output_type": "stream",
          "name": "stdout",
          "text": [
            "horizontal shift\n"
          ]
        },
        {
          "output_type": "stream",
          "name": "stderr",
          "text": [
            "/usr/local/lib/python3.7/dist-packages/ipykernel_launcher.py:64: UserWarning: /content/drive/MyDrive/dataset1 - Copy/annotations_prepped_train/augmented_mask_264.png is a low contrast image\n"
          ]
        },
        {
          "output_type": "stream",
          "name": "stdout",
          "text": [
            "vertical shift\n"
          ]
        },
        {
          "output_type": "stream",
          "name": "stderr",
          "text": [
            "/usr/local/lib/python3.7/dist-packages/ipykernel_launcher.py:64: UserWarning: /content/drive/MyDrive/dataset1 - Copy/annotations_prepped_train/augmented_mask_265.png is a low contrast image\n"
          ]
        },
        {
          "output_type": "stream",
          "name": "stdout",
          "text": [
            "rotate\n"
          ]
        },
        {
          "output_type": "stream",
          "name": "stderr",
          "text": [
            "/usr/local/lib/python3.7/dist-packages/ipykernel_launcher.py:64: UserWarning: /content/drive/MyDrive/dataset1 - Copy/annotations_prepped_train/augmented_mask_266.png is a low contrast image\n"
          ]
        },
        {
          "output_type": "stream",
          "name": "stdout",
          "text": [
            "vertical shift\n"
          ]
        },
        {
          "output_type": "stream",
          "name": "stderr",
          "text": [
            "/usr/local/lib/python3.7/dist-packages/ipykernel_launcher.py:64: UserWarning: /content/drive/MyDrive/dataset1 - Copy/annotations_prepped_train/augmented_mask_267.png is a low contrast image\n"
          ]
        },
        {
          "output_type": "stream",
          "name": "stdout",
          "text": [
            "vertical flip\n"
          ]
        },
        {
          "output_type": "stream",
          "name": "stderr",
          "text": [
            "/usr/local/lib/python3.7/dist-packages/ipykernel_launcher.py:64: UserWarning: /content/drive/MyDrive/dataset1 - Copy/annotations_prepped_train/augmented_mask_268.png is a low contrast image\n"
          ]
        },
        {
          "output_type": "stream",
          "name": "stdout",
          "text": [
            "vertical flip\n"
          ]
        },
        {
          "output_type": "stream",
          "name": "stderr",
          "text": [
            "/usr/local/lib/python3.7/dist-packages/ipykernel_launcher.py:64: UserWarning: /content/drive/MyDrive/dataset1 - Copy/annotations_prepped_train/augmented_mask_269.png is a low contrast image\n"
          ]
        },
        {
          "output_type": "stream",
          "name": "stdout",
          "text": [
            "rotate\n"
          ]
        },
        {
          "output_type": "stream",
          "name": "stderr",
          "text": [
            "/usr/local/lib/python3.7/dist-packages/ipykernel_launcher.py:64: UserWarning: /content/drive/MyDrive/dataset1 - Copy/annotations_prepped_train/augmented_mask_270.png is a low contrast image\n"
          ]
        },
        {
          "output_type": "stream",
          "name": "stdout",
          "text": [
            "vertical flip\n"
          ]
        },
        {
          "output_type": "stream",
          "name": "stderr",
          "text": [
            "/usr/local/lib/python3.7/dist-packages/ipykernel_launcher.py:64: UserWarning: /content/drive/MyDrive/dataset1 - Copy/annotations_prepped_train/augmented_mask_271.png is a low contrast image\n"
          ]
        },
        {
          "output_type": "stream",
          "name": "stdout",
          "text": [
            "horizontal flip\n"
          ]
        },
        {
          "output_type": "stream",
          "name": "stderr",
          "text": [
            "/usr/local/lib/python3.7/dist-packages/ipykernel_launcher.py:64: UserWarning: /content/drive/MyDrive/dataset1 - Copy/annotations_prepped_train/augmented_mask_272.png is a low contrast image\n"
          ]
        },
        {
          "output_type": "stream",
          "name": "stdout",
          "text": [
            "rotate\n"
          ]
        },
        {
          "output_type": "stream",
          "name": "stderr",
          "text": [
            "/usr/local/lib/python3.7/dist-packages/ipykernel_launcher.py:64: UserWarning: /content/drive/MyDrive/dataset1 - Copy/annotations_prepped_train/augmented_mask_273.png is a low contrast image\n"
          ]
        },
        {
          "output_type": "stream",
          "name": "stdout",
          "text": [
            "rotate\n"
          ]
        },
        {
          "output_type": "stream",
          "name": "stderr",
          "text": [
            "/usr/local/lib/python3.7/dist-packages/ipykernel_launcher.py:64: UserWarning: /content/drive/MyDrive/dataset1 - Copy/annotations_prepped_train/augmented_mask_274.png is a low contrast image\n"
          ]
        },
        {
          "output_type": "stream",
          "name": "stdout",
          "text": [
            "horizontal shift\n"
          ]
        },
        {
          "output_type": "stream",
          "name": "stderr",
          "text": [
            "/usr/local/lib/python3.7/dist-packages/ipykernel_launcher.py:64: UserWarning: /content/drive/MyDrive/dataset1 - Copy/annotations_prepped_train/augmented_mask_275.png is a low contrast image\n"
          ]
        },
        {
          "output_type": "stream",
          "name": "stdout",
          "text": [
            "horizontal flip\n"
          ]
        },
        {
          "output_type": "stream",
          "name": "stderr",
          "text": [
            "/usr/local/lib/python3.7/dist-packages/ipykernel_launcher.py:64: UserWarning: /content/drive/MyDrive/dataset1 - Copy/annotations_prepped_train/augmented_mask_276.png is a low contrast image\n"
          ]
        },
        {
          "output_type": "stream",
          "name": "stdout",
          "text": [
            "vertical flip\n"
          ]
        },
        {
          "output_type": "stream",
          "name": "stderr",
          "text": [
            "/usr/local/lib/python3.7/dist-packages/ipykernel_launcher.py:64: UserWarning: /content/drive/MyDrive/dataset1 - Copy/annotations_prepped_train/augmented_mask_277.png is a low contrast image\n"
          ]
        },
        {
          "output_type": "stream",
          "name": "stdout",
          "text": [
            "horizontal shift\n"
          ]
        },
        {
          "output_type": "stream",
          "name": "stderr",
          "text": [
            "/usr/local/lib/python3.7/dist-packages/ipykernel_launcher.py:64: UserWarning: /content/drive/MyDrive/dataset1 - Copy/annotations_prepped_train/augmented_mask_278.png is a low contrast image\n"
          ]
        },
        {
          "output_type": "stream",
          "name": "stdout",
          "text": [
            "horizontal flip\n"
          ]
        },
        {
          "output_type": "stream",
          "name": "stderr",
          "text": [
            "/usr/local/lib/python3.7/dist-packages/ipykernel_launcher.py:64: UserWarning: /content/drive/MyDrive/dataset1 - Copy/annotations_prepped_train/augmented_mask_279.png is a low contrast image\n"
          ]
        },
        {
          "output_type": "stream",
          "name": "stdout",
          "text": [
            "vertical flip\n"
          ]
        },
        {
          "output_type": "stream",
          "name": "stderr",
          "text": [
            "/usr/local/lib/python3.7/dist-packages/ipykernel_launcher.py:64: UserWarning: /content/drive/MyDrive/dataset1 - Copy/annotations_prepped_train/augmented_mask_280.png is a low contrast image\n"
          ]
        },
        {
          "output_type": "stream",
          "name": "stdout",
          "text": [
            "rotate\n"
          ]
        },
        {
          "output_type": "stream",
          "name": "stderr",
          "text": [
            "/usr/local/lib/python3.7/dist-packages/ipykernel_launcher.py:64: UserWarning: /content/drive/MyDrive/dataset1 - Copy/annotations_prepped_train/augmented_mask_281.png is a low contrast image\n"
          ]
        },
        {
          "output_type": "stream",
          "name": "stdout",
          "text": [
            "vertical flip\n"
          ]
        },
        {
          "output_type": "stream",
          "name": "stderr",
          "text": [
            "/usr/local/lib/python3.7/dist-packages/ipykernel_launcher.py:64: UserWarning: /content/drive/MyDrive/dataset1 - Copy/annotations_prepped_train/augmented_mask_282.png is a low contrast image\n"
          ]
        },
        {
          "output_type": "stream",
          "name": "stdout",
          "text": [
            "horizontal flip\n"
          ]
        },
        {
          "output_type": "stream",
          "name": "stderr",
          "text": [
            "/usr/local/lib/python3.7/dist-packages/ipykernel_launcher.py:64: UserWarning: /content/drive/MyDrive/dataset1 - Copy/annotations_prepped_train/augmented_mask_283.png is a low contrast image\n"
          ]
        },
        {
          "output_type": "stream",
          "name": "stdout",
          "text": [
            "rotate\n"
          ]
        },
        {
          "output_type": "stream",
          "name": "stderr",
          "text": [
            "/usr/local/lib/python3.7/dist-packages/ipykernel_launcher.py:64: UserWarning: /content/drive/MyDrive/dataset1 - Copy/annotations_prepped_train/augmented_mask_284.png is a low contrast image\n"
          ]
        },
        {
          "output_type": "stream",
          "name": "stdout",
          "text": [
            "vertical flip\n"
          ]
        },
        {
          "output_type": "stream",
          "name": "stderr",
          "text": [
            "/usr/local/lib/python3.7/dist-packages/ipykernel_launcher.py:64: UserWarning: /content/drive/MyDrive/dataset1 - Copy/annotations_prepped_train/augmented_mask_285.png is a low contrast image\n"
          ]
        },
        {
          "output_type": "stream",
          "name": "stdout",
          "text": [
            "vertical flip\n"
          ]
        },
        {
          "output_type": "stream",
          "name": "stderr",
          "text": [
            "/usr/local/lib/python3.7/dist-packages/ipykernel_launcher.py:64: UserWarning: /content/drive/MyDrive/dataset1 - Copy/annotations_prepped_train/augmented_mask_286.png is a low contrast image\n"
          ]
        },
        {
          "output_type": "stream",
          "name": "stdout",
          "text": [
            "horizontal shift\n"
          ]
        },
        {
          "output_type": "stream",
          "name": "stderr",
          "text": [
            "/usr/local/lib/python3.7/dist-packages/ipykernel_launcher.py:64: UserWarning: /content/drive/MyDrive/dataset1 - Copy/annotations_prepped_train/augmented_mask_287.png is a low contrast image\n"
          ]
        },
        {
          "output_type": "stream",
          "name": "stdout",
          "text": [
            "vertical shift\n"
          ]
        },
        {
          "output_type": "stream",
          "name": "stderr",
          "text": [
            "/usr/local/lib/python3.7/dist-packages/ipykernel_launcher.py:64: UserWarning: /content/drive/MyDrive/dataset1 - Copy/annotations_prepped_train/augmented_mask_288.png is a low contrast image\n"
          ]
        },
        {
          "output_type": "stream",
          "name": "stdout",
          "text": [
            "horizontal shift\n"
          ]
        },
        {
          "output_type": "stream",
          "name": "stderr",
          "text": [
            "/usr/local/lib/python3.7/dist-packages/ipykernel_launcher.py:64: UserWarning: /content/drive/MyDrive/dataset1 - Copy/annotations_prepped_train/augmented_mask_289.png is a low contrast image\n"
          ]
        },
        {
          "output_type": "stream",
          "name": "stdout",
          "text": [
            "vertical flip\n"
          ]
        },
        {
          "output_type": "stream",
          "name": "stderr",
          "text": [
            "/usr/local/lib/python3.7/dist-packages/ipykernel_launcher.py:64: UserWarning: /content/drive/MyDrive/dataset1 - Copy/annotations_prepped_train/augmented_mask_290.png is a low contrast image\n"
          ]
        },
        {
          "output_type": "stream",
          "name": "stdout",
          "text": [
            "rotate\n"
          ]
        },
        {
          "output_type": "stream",
          "name": "stderr",
          "text": [
            "/usr/local/lib/python3.7/dist-packages/ipykernel_launcher.py:64: UserWarning: /content/drive/MyDrive/dataset1 - Copy/annotations_prepped_train/augmented_mask_291.png is a low contrast image\n"
          ]
        },
        {
          "output_type": "stream",
          "name": "stdout",
          "text": [
            "vertical shift\n"
          ]
        },
        {
          "output_type": "stream",
          "name": "stderr",
          "text": [
            "/usr/local/lib/python3.7/dist-packages/ipykernel_launcher.py:64: UserWarning: /content/drive/MyDrive/dataset1 - Copy/annotations_prepped_train/augmented_mask_292.png is a low contrast image\n"
          ]
        },
        {
          "output_type": "stream",
          "name": "stdout",
          "text": [
            "vertical flip\n"
          ]
        },
        {
          "output_type": "stream",
          "name": "stderr",
          "text": [
            "/usr/local/lib/python3.7/dist-packages/ipykernel_launcher.py:64: UserWarning: /content/drive/MyDrive/dataset1 - Copy/annotations_prepped_train/augmented_mask_293.png is a low contrast image\n"
          ]
        },
        {
          "output_type": "stream",
          "name": "stdout",
          "text": [
            "vertical shift\n"
          ]
        },
        {
          "output_type": "stream",
          "name": "stderr",
          "text": [
            "/usr/local/lib/python3.7/dist-packages/ipykernel_launcher.py:64: UserWarning: /content/drive/MyDrive/dataset1 - Copy/annotations_prepped_train/augmented_mask_294.png is a low contrast image\n"
          ]
        },
        {
          "output_type": "stream",
          "name": "stdout",
          "text": [
            "rotate\n"
          ]
        },
        {
          "output_type": "stream",
          "name": "stderr",
          "text": [
            "/usr/local/lib/python3.7/dist-packages/ipykernel_launcher.py:64: UserWarning: /content/drive/MyDrive/dataset1 - Copy/annotations_prepped_train/augmented_mask_295.png is a low contrast image\n"
          ]
        },
        {
          "output_type": "stream",
          "name": "stdout",
          "text": [
            "vertical flip\n"
          ]
        },
        {
          "output_type": "stream",
          "name": "stderr",
          "text": [
            "/usr/local/lib/python3.7/dist-packages/ipykernel_launcher.py:64: UserWarning: /content/drive/MyDrive/dataset1 - Copy/annotations_prepped_train/augmented_mask_296.png is a low contrast image\n"
          ]
        },
        {
          "output_type": "stream",
          "name": "stdout",
          "text": [
            "horizontal flip\n"
          ]
        },
        {
          "output_type": "stream",
          "name": "stderr",
          "text": [
            "/usr/local/lib/python3.7/dist-packages/ipykernel_launcher.py:64: UserWarning: /content/drive/MyDrive/dataset1 - Copy/annotations_prepped_train/augmented_mask_297.png is a low contrast image\n"
          ]
        },
        {
          "output_type": "stream",
          "name": "stdout",
          "text": [
            "horizontal flip\n"
          ]
        },
        {
          "output_type": "stream",
          "name": "stderr",
          "text": [
            "/usr/local/lib/python3.7/dist-packages/ipykernel_launcher.py:64: UserWarning: /content/drive/MyDrive/dataset1 - Copy/annotations_prepped_train/augmented_mask_298.png is a low contrast image\n"
          ]
        },
        {
          "output_type": "stream",
          "name": "stdout",
          "text": [
            "vertical flip\n"
          ]
        },
        {
          "output_type": "stream",
          "name": "stderr",
          "text": [
            "/usr/local/lib/python3.7/dist-packages/ipykernel_launcher.py:64: UserWarning: /content/drive/MyDrive/dataset1 - Copy/annotations_prepped_train/augmented_mask_299.png is a low contrast image\n"
          ]
        },
        {
          "output_type": "stream",
          "name": "stdout",
          "text": [
            "horizontal shift\n"
          ]
        },
        {
          "output_type": "stream",
          "name": "stderr",
          "text": [
            "/usr/local/lib/python3.7/dist-packages/ipykernel_launcher.py:64: UserWarning: /content/drive/MyDrive/dataset1 - Copy/annotations_prepped_train/augmented_mask_300.png is a low contrast image\n"
          ]
        },
        {
          "output_type": "stream",
          "name": "stdout",
          "text": [
            "rotate\n"
          ]
        },
        {
          "output_type": "stream",
          "name": "stderr",
          "text": [
            "/usr/local/lib/python3.7/dist-packages/ipykernel_launcher.py:64: UserWarning: /content/drive/MyDrive/dataset1 - Copy/annotations_prepped_train/augmented_mask_301.png is a low contrast image\n"
          ]
        },
        {
          "output_type": "stream",
          "name": "stdout",
          "text": [
            "horizontal shift\n"
          ]
        },
        {
          "output_type": "stream",
          "name": "stderr",
          "text": [
            "/usr/local/lib/python3.7/dist-packages/ipykernel_launcher.py:64: UserWarning: /content/drive/MyDrive/dataset1 - Copy/annotations_prepped_train/augmented_mask_302.png is a low contrast image\n"
          ]
        },
        {
          "output_type": "stream",
          "name": "stdout",
          "text": [
            "vertical shift\n"
          ]
        },
        {
          "output_type": "stream",
          "name": "stderr",
          "text": [
            "/usr/local/lib/python3.7/dist-packages/ipykernel_launcher.py:64: UserWarning: /content/drive/MyDrive/dataset1 - Copy/annotations_prepped_train/augmented_mask_303.png is a low contrast image\n"
          ]
        },
        {
          "output_type": "stream",
          "name": "stdout",
          "text": [
            "rotate\n"
          ]
        },
        {
          "output_type": "stream",
          "name": "stderr",
          "text": [
            "/usr/local/lib/python3.7/dist-packages/ipykernel_launcher.py:64: UserWarning: /content/drive/MyDrive/dataset1 - Copy/annotations_prepped_train/augmented_mask_304.png is a low contrast image\n"
          ]
        },
        {
          "output_type": "stream",
          "name": "stdout",
          "text": [
            "rotate\n"
          ]
        },
        {
          "output_type": "stream",
          "name": "stderr",
          "text": [
            "/usr/local/lib/python3.7/dist-packages/ipykernel_launcher.py:64: UserWarning: /content/drive/MyDrive/dataset1 - Copy/annotations_prepped_train/augmented_mask_305.png is a low contrast image\n"
          ]
        },
        {
          "output_type": "stream",
          "name": "stdout",
          "text": [
            "vertical shift\n"
          ]
        },
        {
          "output_type": "stream",
          "name": "stderr",
          "text": [
            "/usr/local/lib/python3.7/dist-packages/ipykernel_launcher.py:64: UserWarning: /content/drive/MyDrive/dataset1 - Copy/annotations_prepped_train/augmented_mask_306.png is a low contrast image\n"
          ]
        },
        {
          "output_type": "stream",
          "name": "stdout",
          "text": [
            "vertical flip\n"
          ]
        },
        {
          "output_type": "stream",
          "name": "stderr",
          "text": [
            "/usr/local/lib/python3.7/dist-packages/ipykernel_launcher.py:64: UserWarning: /content/drive/MyDrive/dataset1 - Copy/annotations_prepped_train/augmented_mask_307.png is a low contrast image\n"
          ]
        },
        {
          "output_type": "stream",
          "name": "stdout",
          "text": [
            "vertical shift\n"
          ]
        },
        {
          "output_type": "stream",
          "name": "stderr",
          "text": [
            "/usr/local/lib/python3.7/dist-packages/ipykernel_launcher.py:64: UserWarning: /content/drive/MyDrive/dataset1 - Copy/annotations_prepped_train/augmented_mask_308.png is a low contrast image\n"
          ]
        },
        {
          "output_type": "stream",
          "name": "stdout",
          "text": [
            "vertical flip\n"
          ]
        },
        {
          "output_type": "stream",
          "name": "stderr",
          "text": [
            "/usr/local/lib/python3.7/dist-packages/ipykernel_launcher.py:64: UserWarning: /content/drive/MyDrive/dataset1 - Copy/annotations_prepped_train/augmented_mask_309.png is a low contrast image\n"
          ]
        },
        {
          "output_type": "stream",
          "name": "stdout",
          "text": [
            "vertical flip\n"
          ]
        },
        {
          "output_type": "stream",
          "name": "stderr",
          "text": [
            "/usr/local/lib/python3.7/dist-packages/ipykernel_launcher.py:64: UserWarning: /content/drive/MyDrive/dataset1 - Copy/annotations_prepped_train/augmented_mask_310.png is a low contrast image\n"
          ]
        },
        {
          "output_type": "stream",
          "name": "stdout",
          "text": [
            "vertical flip\n"
          ]
        },
        {
          "output_type": "stream",
          "name": "stderr",
          "text": [
            "/usr/local/lib/python3.7/dist-packages/ipykernel_launcher.py:64: UserWarning: /content/drive/MyDrive/dataset1 - Copy/annotations_prepped_train/augmented_mask_311.png is a low contrast image\n"
          ]
        },
        {
          "output_type": "stream",
          "name": "stdout",
          "text": [
            "vertical shift\n"
          ]
        },
        {
          "output_type": "stream",
          "name": "stderr",
          "text": [
            "/usr/local/lib/python3.7/dist-packages/ipykernel_launcher.py:64: UserWarning: /content/drive/MyDrive/dataset1 - Copy/annotations_prepped_train/augmented_mask_312.png is a low contrast image\n"
          ]
        },
        {
          "output_type": "stream",
          "name": "stdout",
          "text": [
            "vertical shift\n"
          ]
        },
        {
          "output_type": "stream",
          "name": "stderr",
          "text": [
            "/usr/local/lib/python3.7/dist-packages/ipykernel_launcher.py:64: UserWarning: /content/drive/MyDrive/dataset1 - Copy/annotations_prepped_train/augmented_mask_313.png is a low contrast image\n"
          ]
        },
        {
          "output_type": "stream",
          "name": "stdout",
          "text": [
            "horizontal flip\n"
          ]
        },
        {
          "output_type": "stream",
          "name": "stderr",
          "text": [
            "/usr/local/lib/python3.7/dist-packages/ipykernel_launcher.py:64: UserWarning: /content/drive/MyDrive/dataset1 - Copy/annotations_prepped_train/augmented_mask_314.png is a low contrast image\n"
          ]
        },
        {
          "output_type": "stream",
          "name": "stdout",
          "text": [
            "horizontal shift\n"
          ]
        },
        {
          "output_type": "stream",
          "name": "stderr",
          "text": [
            "/usr/local/lib/python3.7/dist-packages/ipykernel_launcher.py:64: UserWarning: /content/drive/MyDrive/dataset1 - Copy/annotations_prepped_train/augmented_mask_315.png is a low contrast image\n"
          ]
        },
        {
          "output_type": "stream",
          "name": "stdout",
          "text": [
            "vertical shift\n"
          ]
        },
        {
          "output_type": "stream",
          "name": "stderr",
          "text": [
            "/usr/local/lib/python3.7/dist-packages/ipykernel_launcher.py:64: UserWarning: /content/drive/MyDrive/dataset1 - Copy/annotations_prepped_train/augmented_mask_316.png is a low contrast image\n"
          ]
        },
        {
          "output_type": "stream",
          "name": "stdout",
          "text": [
            "horizontal shift\n"
          ]
        },
        {
          "output_type": "stream",
          "name": "stderr",
          "text": [
            "/usr/local/lib/python3.7/dist-packages/ipykernel_launcher.py:64: UserWarning: /content/drive/MyDrive/dataset1 - Copy/annotations_prepped_train/augmented_mask_317.png is a low contrast image\n"
          ]
        },
        {
          "output_type": "stream",
          "name": "stdout",
          "text": [
            "rotate\n"
          ]
        },
        {
          "output_type": "stream",
          "name": "stderr",
          "text": [
            "/usr/local/lib/python3.7/dist-packages/ipykernel_launcher.py:64: UserWarning: /content/drive/MyDrive/dataset1 - Copy/annotations_prepped_train/augmented_mask_318.png is a low contrast image\n"
          ]
        },
        {
          "output_type": "stream",
          "name": "stdout",
          "text": [
            "horizontal shift\n"
          ]
        },
        {
          "output_type": "stream",
          "name": "stderr",
          "text": [
            "/usr/local/lib/python3.7/dist-packages/ipykernel_launcher.py:64: UserWarning: /content/drive/MyDrive/dataset1 - Copy/annotations_prepped_train/augmented_mask_319.png is a low contrast image\n"
          ]
        },
        {
          "output_type": "stream",
          "name": "stdout",
          "text": [
            "vertical flip\n"
          ]
        },
        {
          "output_type": "stream",
          "name": "stderr",
          "text": [
            "/usr/local/lib/python3.7/dist-packages/ipykernel_launcher.py:64: UserWarning: /content/drive/MyDrive/dataset1 - Copy/annotations_prepped_train/augmented_mask_320.png is a low contrast image\n"
          ]
        },
        {
          "output_type": "stream",
          "name": "stdout",
          "text": [
            "horizontal flip\n"
          ]
        },
        {
          "output_type": "stream",
          "name": "stderr",
          "text": [
            "/usr/local/lib/python3.7/dist-packages/ipykernel_launcher.py:64: UserWarning: /content/drive/MyDrive/dataset1 - Copy/annotations_prepped_train/augmented_mask_321.png is a low contrast image\n"
          ]
        },
        {
          "output_type": "stream",
          "name": "stdout",
          "text": [
            "rotate\n"
          ]
        },
        {
          "output_type": "stream",
          "name": "stderr",
          "text": [
            "/usr/local/lib/python3.7/dist-packages/ipykernel_launcher.py:64: UserWarning: /content/drive/MyDrive/dataset1 - Copy/annotations_prepped_train/augmented_mask_322.png is a low contrast image\n"
          ]
        },
        {
          "output_type": "stream",
          "name": "stdout",
          "text": [
            "vertical shift\n"
          ]
        },
        {
          "output_type": "stream",
          "name": "stderr",
          "text": [
            "/usr/local/lib/python3.7/dist-packages/ipykernel_launcher.py:64: UserWarning: /content/drive/MyDrive/dataset1 - Copy/annotations_prepped_train/augmented_mask_323.png is a low contrast image\n"
          ]
        },
        {
          "output_type": "stream",
          "name": "stdout",
          "text": [
            "vertical shift\n"
          ]
        },
        {
          "output_type": "stream",
          "name": "stderr",
          "text": [
            "/usr/local/lib/python3.7/dist-packages/ipykernel_launcher.py:64: UserWarning: /content/drive/MyDrive/dataset1 - Copy/annotations_prepped_train/augmented_mask_324.png is a low contrast image\n"
          ]
        },
        {
          "output_type": "stream",
          "name": "stdout",
          "text": [
            "horizontal flip\n"
          ]
        },
        {
          "output_type": "stream",
          "name": "stderr",
          "text": [
            "/usr/local/lib/python3.7/dist-packages/ipykernel_launcher.py:64: UserWarning: /content/drive/MyDrive/dataset1 - Copy/annotations_prepped_train/augmented_mask_325.png is a low contrast image\n"
          ]
        },
        {
          "output_type": "stream",
          "name": "stdout",
          "text": [
            "rotate\n"
          ]
        },
        {
          "output_type": "stream",
          "name": "stderr",
          "text": [
            "/usr/local/lib/python3.7/dist-packages/ipykernel_launcher.py:64: UserWarning: /content/drive/MyDrive/dataset1 - Copy/annotations_prepped_train/augmented_mask_326.png is a low contrast image\n"
          ]
        },
        {
          "output_type": "stream",
          "name": "stdout",
          "text": [
            "vertical flip\n"
          ]
        },
        {
          "output_type": "stream",
          "name": "stderr",
          "text": [
            "/usr/local/lib/python3.7/dist-packages/ipykernel_launcher.py:64: UserWarning: /content/drive/MyDrive/dataset1 - Copy/annotations_prepped_train/augmented_mask_327.png is a low contrast image\n"
          ]
        },
        {
          "output_type": "stream",
          "name": "stdout",
          "text": [
            "rotate\n"
          ]
        },
        {
          "output_type": "stream",
          "name": "stderr",
          "text": [
            "/usr/local/lib/python3.7/dist-packages/ipykernel_launcher.py:64: UserWarning: /content/drive/MyDrive/dataset1 - Copy/annotations_prepped_train/augmented_mask_328.png is a low contrast image\n"
          ]
        },
        {
          "output_type": "stream",
          "name": "stdout",
          "text": [
            "horizontal shift\n"
          ]
        },
        {
          "output_type": "stream",
          "name": "stderr",
          "text": [
            "/usr/local/lib/python3.7/dist-packages/ipykernel_launcher.py:64: UserWarning: /content/drive/MyDrive/dataset1 - Copy/annotations_prepped_train/augmented_mask_329.png is a low contrast image\n"
          ]
        },
        {
          "output_type": "stream",
          "name": "stdout",
          "text": [
            "horizontal shift\n"
          ]
        },
        {
          "output_type": "stream",
          "name": "stderr",
          "text": [
            "/usr/local/lib/python3.7/dist-packages/ipykernel_launcher.py:64: UserWarning: /content/drive/MyDrive/dataset1 - Copy/annotations_prepped_train/augmented_mask_330.png is a low contrast image\n"
          ]
        },
        {
          "output_type": "stream",
          "name": "stdout",
          "text": [
            "vertical flip\n"
          ]
        },
        {
          "output_type": "stream",
          "name": "stderr",
          "text": [
            "/usr/local/lib/python3.7/dist-packages/ipykernel_launcher.py:64: UserWarning: /content/drive/MyDrive/dataset1 - Copy/annotations_prepped_train/augmented_mask_331.png is a low contrast image\n"
          ]
        },
        {
          "output_type": "stream",
          "name": "stdout",
          "text": [
            "vertical flip\n"
          ]
        },
        {
          "output_type": "stream",
          "name": "stderr",
          "text": [
            "/usr/local/lib/python3.7/dist-packages/ipykernel_launcher.py:64: UserWarning: /content/drive/MyDrive/dataset1 - Copy/annotations_prepped_train/augmented_mask_332.png is a low contrast image\n"
          ]
        },
        {
          "output_type": "stream",
          "name": "stdout",
          "text": [
            "vertical shift\n"
          ]
        },
        {
          "output_type": "stream",
          "name": "stderr",
          "text": [
            "/usr/local/lib/python3.7/dist-packages/ipykernel_launcher.py:64: UserWarning: /content/drive/MyDrive/dataset1 - Copy/annotations_prepped_train/augmented_mask_333.png is a low contrast image\n"
          ]
        },
        {
          "output_type": "stream",
          "name": "stdout",
          "text": [
            "horizontal flip\n"
          ]
        },
        {
          "output_type": "stream",
          "name": "stderr",
          "text": [
            "/usr/local/lib/python3.7/dist-packages/ipykernel_launcher.py:64: UserWarning: /content/drive/MyDrive/dataset1 - Copy/annotations_prepped_train/augmented_mask_334.png is a low contrast image\n"
          ]
        },
        {
          "output_type": "stream",
          "name": "stdout",
          "text": [
            "horizontal shift\n"
          ]
        },
        {
          "output_type": "stream",
          "name": "stderr",
          "text": [
            "/usr/local/lib/python3.7/dist-packages/ipykernel_launcher.py:64: UserWarning: /content/drive/MyDrive/dataset1 - Copy/annotations_prepped_train/augmented_mask_335.png is a low contrast image\n"
          ]
        },
        {
          "output_type": "stream",
          "name": "stdout",
          "text": [
            "rotate\n"
          ]
        },
        {
          "output_type": "stream",
          "name": "stderr",
          "text": [
            "/usr/local/lib/python3.7/dist-packages/ipykernel_launcher.py:64: UserWarning: /content/drive/MyDrive/dataset1 - Copy/annotations_prepped_train/augmented_mask_336.png is a low contrast image\n"
          ]
        },
        {
          "output_type": "stream",
          "name": "stdout",
          "text": [
            "horizontal flip\n"
          ]
        },
        {
          "output_type": "stream",
          "name": "stderr",
          "text": [
            "/usr/local/lib/python3.7/dist-packages/ipykernel_launcher.py:64: UserWarning: /content/drive/MyDrive/dataset1 - Copy/annotations_prepped_train/augmented_mask_337.png is a low contrast image\n"
          ]
        },
        {
          "output_type": "stream",
          "name": "stdout",
          "text": [
            "horizontal shift\n"
          ]
        },
        {
          "output_type": "stream",
          "name": "stderr",
          "text": [
            "/usr/local/lib/python3.7/dist-packages/ipykernel_launcher.py:64: UserWarning: /content/drive/MyDrive/dataset1 - Copy/annotations_prepped_train/augmented_mask_338.png is a low contrast image\n"
          ]
        },
        {
          "output_type": "stream",
          "name": "stdout",
          "text": [
            "rotate\n"
          ]
        },
        {
          "output_type": "stream",
          "name": "stderr",
          "text": [
            "/usr/local/lib/python3.7/dist-packages/ipykernel_launcher.py:64: UserWarning: /content/drive/MyDrive/dataset1 - Copy/annotations_prepped_train/augmented_mask_339.png is a low contrast image\n"
          ]
        },
        {
          "output_type": "stream",
          "name": "stdout",
          "text": [
            "vertical shift\n"
          ]
        },
        {
          "output_type": "stream",
          "name": "stderr",
          "text": [
            "/usr/local/lib/python3.7/dist-packages/ipykernel_launcher.py:64: UserWarning: /content/drive/MyDrive/dataset1 - Copy/annotations_prepped_train/augmented_mask_340.png is a low contrast image\n"
          ]
        },
        {
          "output_type": "stream",
          "name": "stdout",
          "text": [
            "vertical shift\n"
          ]
        },
        {
          "output_type": "stream",
          "name": "stderr",
          "text": [
            "/usr/local/lib/python3.7/dist-packages/ipykernel_launcher.py:64: UserWarning: /content/drive/MyDrive/dataset1 - Copy/annotations_prepped_train/augmented_mask_341.png is a low contrast image\n"
          ]
        },
        {
          "output_type": "stream",
          "name": "stdout",
          "text": [
            "rotate\n"
          ]
        },
        {
          "output_type": "stream",
          "name": "stderr",
          "text": [
            "/usr/local/lib/python3.7/dist-packages/ipykernel_launcher.py:64: UserWarning: /content/drive/MyDrive/dataset1 - Copy/annotations_prepped_train/augmented_mask_342.png is a low contrast image\n"
          ]
        },
        {
          "output_type": "stream",
          "name": "stdout",
          "text": [
            "horizontal shift\n"
          ]
        },
        {
          "output_type": "stream",
          "name": "stderr",
          "text": [
            "/usr/local/lib/python3.7/dist-packages/ipykernel_launcher.py:64: UserWarning: /content/drive/MyDrive/dataset1 - Copy/annotations_prepped_train/augmented_mask_343.png is a low contrast image\n"
          ]
        },
        {
          "output_type": "stream",
          "name": "stdout",
          "text": [
            "horizontal flip\n"
          ]
        },
        {
          "output_type": "stream",
          "name": "stderr",
          "text": [
            "/usr/local/lib/python3.7/dist-packages/ipykernel_launcher.py:64: UserWarning: /content/drive/MyDrive/dataset1 - Copy/annotations_prepped_train/augmented_mask_344.png is a low contrast image\n"
          ]
        },
        {
          "output_type": "stream",
          "name": "stdout",
          "text": [
            "vertical shift\n"
          ]
        },
        {
          "output_type": "stream",
          "name": "stderr",
          "text": [
            "/usr/local/lib/python3.7/dist-packages/ipykernel_launcher.py:64: UserWarning: /content/drive/MyDrive/dataset1 - Copy/annotations_prepped_train/augmented_mask_345.png is a low contrast image\n"
          ]
        },
        {
          "output_type": "stream",
          "name": "stdout",
          "text": [
            "vertical flip\n"
          ]
        },
        {
          "output_type": "stream",
          "name": "stderr",
          "text": [
            "/usr/local/lib/python3.7/dist-packages/ipykernel_launcher.py:64: UserWarning: /content/drive/MyDrive/dataset1 - Copy/annotations_prepped_train/augmented_mask_346.png is a low contrast image\n"
          ]
        },
        {
          "output_type": "stream",
          "name": "stdout",
          "text": [
            "horizontal flip\n"
          ]
        },
        {
          "output_type": "stream",
          "name": "stderr",
          "text": [
            "/usr/local/lib/python3.7/dist-packages/ipykernel_launcher.py:64: UserWarning: /content/drive/MyDrive/dataset1 - Copy/annotations_prepped_train/augmented_mask_347.png is a low contrast image\n"
          ]
        },
        {
          "output_type": "stream",
          "name": "stdout",
          "text": [
            "vertical shift\n"
          ]
        },
        {
          "output_type": "stream",
          "name": "stderr",
          "text": [
            "/usr/local/lib/python3.7/dist-packages/ipykernel_launcher.py:64: UserWarning: /content/drive/MyDrive/dataset1 - Copy/annotations_prepped_train/augmented_mask_348.png is a low contrast image\n"
          ]
        },
        {
          "output_type": "stream",
          "name": "stdout",
          "text": [
            "horizontal shift\n"
          ]
        },
        {
          "output_type": "stream",
          "name": "stderr",
          "text": [
            "/usr/local/lib/python3.7/dist-packages/ipykernel_launcher.py:64: UserWarning: /content/drive/MyDrive/dataset1 - Copy/annotations_prepped_train/augmented_mask_349.png is a low contrast image\n"
          ]
        },
        {
          "output_type": "stream",
          "name": "stdout",
          "text": [
            "horizontal flip\n"
          ]
        },
        {
          "output_type": "stream",
          "name": "stderr",
          "text": [
            "/usr/local/lib/python3.7/dist-packages/ipykernel_launcher.py:64: UserWarning: /content/drive/MyDrive/dataset1 - Copy/annotations_prepped_train/augmented_mask_350.png is a low contrast image\n"
          ]
        },
        {
          "output_type": "stream",
          "name": "stdout",
          "text": [
            "horizontal flip\n"
          ]
        },
        {
          "output_type": "stream",
          "name": "stderr",
          "text": [
            "/usr/local/lib/python3.7/dist-packages/ipykernel_launcher.py:64: UserWarning: /content/drive/MyDrive/dataset1 - Copy/annotations_prepped_train/augmented_mask_351.png is a low contrast image\n"
          ]
        },
        {
          "output_type": "stream",
          "name": "stdout",
          "text": [
            "vertical shift\n"
          ]
        },
        {
          "output_type": "stream",
          "name": "stderr",
          "text": [
            "/usr/local/lib/python3.7/dist-packages/ipykernel_launcher.py:64: UserWarning: /content/drive/MyDrive/dataset1 - Copy/annotations_prepped_train/augmented_mask_352.png is a low contrast image\n"
          ]
        },
        {
          "output_type": "stream",
          "name": "stdout",
          "text": [
            "vertical flip\n"
          ]
        },
        {
          "output_type": "stream",
          "name": "stderr",
          "text": [
            "/usr/local/lib/python3.7/dist-packages/ipykernel_launcher.py:64: UserWarning: /content/drive/MyDrive/dataset1 - Copy/annotations_prepped_train/augmented_mask_353.png is a low contrast image\n"
          ]
        },
        {
          "output_type": "stream",
          "name": "stdout",
          "text": [
            "vertical shift\n"
          ]
        },
        {
          "output_type": "stream",
          "name": "stderr",
          "text": [
            "/usr/local/lib/python3.7/dist-packages/ipykernel_launcher.py:64: UserWarning: /content/drive/MyDrive/dataset1 - Copy/annotations_prepped_train/augmented_mask_354.png is a low contrast image\n"
          ]
        },
        {
          "output_type": "stream",
          "name": "stdout",
          "text": [
            "vertical shift\n"
          ]
        },
        {
          "output_type": "stream",
          "name": "stderr",
          "text": [
            "/usr/local/lib/python3.7/dist-packages/ipykernel_launcher.py:64: UserWarning: /content/drive/MyDrive/dataset1 - Copy/annotations_prepped_train/augmented_mask_355.png is a low contrast image\n"
          ]
        },
        {
          "output_type": "stream",
          "name": "stdout",
          "text": [
            "vertical flip\n"
          ]
        },
        {
          "output_type": "stream",
          "name": "stderr",
          "text": [
            "/usr/local/lib/python3.7/dist-packages/ipykernel_launcher.py:64: UserWarning: /content/drive/MyDrive/dataset1 - Copy/annotations_prepped_train/augmented_mask_356.png is a low contrast image\n"
          ]
        },
        {
          "output_type": "stream",
          "name": "stdout",
          "text": [
            "vertical shift\n"
          ]
        },
        {
          "output_type": "stream",
          "name": "stderr",
          "text": [
            "/usr/local/lib/python3.7/dist-packages/ipykernel_launcher.py:64: UserWarning: /content/drive/MyDrive/dataset1 - Copy/annotations_prepped_train/augmented_mask_357.png is a low contrast image\n"
          ]
        },
        {
          "output_type": "stream",
          "name": "stdout",
          "text": [
            "horizontal shift\n"
          ]
        },
        {
          "output_type": "stream",
          "name": "stderr",
          "text": [
            "/usr/local/lib/python3.7/dist-packages/ipykernel_launcher.py:64: UserWarning: /content/drive/MyDrive/dataset1 - Copy/annotations_prepped_train/augmented_mask_358.png is a low contrast image\n"
          ]
        },
        {
          "output_type": "stream",
          "name": "stdout",
          "text": [
            "vertical shift\n"
          ]
        },
        {
          "output_type": "stream",
          "name": "stderr",
          "text": [
            "/usr/local/lib/python3.7/dist-packages/ipykernel_launcher.py:64: UserWarning: /content/drive/MyDrive/dataset1 - Copy/annotations_prepped_train/augmented_mask_359.png is a low contrast image\n"
          ]
        },
        {
          "output_type": "stream",
          "name": "stdout",
          "text": [
            "rotate\n"
          ]
        },
        {
          "output_type": "stream",
          "name": "stderr",
          "text": [
            "/usr/local/lib/python3.7/dist-packages/ipykernel_launcher.py:64: UserWarning: /content/drive/MyDrive/dataset1 - Copy/annotations_prepped_train/augmented_mask_360.png is a low contrast image\n"
          ]
        },
        {
          "output_type": "stream",
          "name": "stdout",
          "text": [
            "vertical shift\n"
          ]
        },
        {
          "output_type": "stream",
          "name": "stderr",
          "text": [
            "/usr/local/lib/python3.7/dist-packages/ipykernel_launcher.py:64: UserWarning: /content/drive/MyDrive/dataset1 - Copy/annotations_prepped_train/augmented_mask_361.png is a low contrast image\n"
          ]
        },
        {
          "output_type": "stream",
          "name": "stdout",
          "text": [
            "rotate\n"
          ]
        },
        {
          "output_type": "stream",
          "name": "stderr",
          "text": [
            "/usr/local/lib/python3.7/dist-packages/ipykernel_launcher.py:64: UserWarning: /content/drive/MyDrive/dataset1 - Copy/annotations_prepped_train/augmented_mask_362.png is a low contrast image\n"
          ]
        },
        {
          "output_type": "stream",
          "name": "stdout",
          "text": [
            "horizontal shift\n"
          ]
        },
        {
          "output_type": "stream",
          "name": "stderr",
          "text": [
            "/usr/local/lib/python3.7/dist-packages/ipykernel_launcher.py:64: UserWarning: /content/drive/MyDrive/dataset1 - Copy/annotations_prepped_train/augmented_mask_363.png is a low contrast image\n"
          ]
        },
        {
          "output_type": "stream",
          "name": "stdout",
          "text": [
            "rotate\n"
          ]
        },
        {
          "output_type": "stream",
          "name": "stderr",
          "text": [
            "/usr/local/lib/python3.7/dist-packages/ipykernel_launcher.py:64: UserWarning: /content/drive/MyDrive/dataset1 - Copy/annotations_prepped_train/augmented_mask_364.png is a low contrast image\n"
          ]
        },
        {
          "output_type": "stream",
          "name": "stdout",
          "text": [
            "horizontal flip\n"
          ]
        },
        {
          "output_type": "stream",
          "name": "stderr",
          "text": [
            "/usr/local/lib/python3.7/dist-packages/ipykernel_launcher.py:64: UserWarning: /content/drive/MyDrive/dataset1 - Copy/annotations_prepped_train/augmented_mask_365.png is a low contrast image\n"
          ]
        },
        {
          "output_type": "stream",
          "name": "stdout",
          "text": [
            "horizontal shift\n"
          ]
        },
        {
          "output_type": "stream",
          "name": "stderr",
          "text": [
            "/usr/local/lib/python3.7/dist-packages/ipykernel_launcher.py:64: UserWarning: /content/drive/MyDrive/dataset1 - Copy/annotations_prepped_train/augmented_mask_366.png is a low contrast image\n"
          ]
        }
      ]
    },
    {
      "cell_type": "markdown",
      "source": [
        "**Data Loading Functions**"
      ],
      "metadata": {
        "id": "c_lRqPfLqdQQ"
      }
    },
    {
      "cell_type": "code",
      "source": [
        "def readImages(path):\n",
        "  #names array reads the names of the files and sort them in ascending order by using natsorted library\n",
        "  #this sorting is required because cv2.imread reads images randomly so some masks doesn't corresponds to their respective images\n",
        "  names = []\n",
        "  images = []\n",
        "  # x and y defines the height and width size of the newly resized images so convolutions can be applied easily\n",
        "  x = 128\n",
        "  y = 128\n",
        "  # this loop reads the names of the image files and stores them in names list\n",
        "  for directory_path in glob.glob(path):\n",
        "    for name_path in glob.glob(os.path.join(directory_path, \"*.png\")):\n",
        "        names.append(name_path)\n",
        "  names = natsorted(names)  \n",
        "  # this loop reads the images in ascending order to ensure every mask matches their respective image\n",
        "  for i in range(len(names)):\n",
        "        #imgs.append(img_path)\n",
        "        img = cv2.imread(names[i], 1)       \n",
        "        print(names[i] + \" img\")\n",
        "        img = cv2.resize(img, (x, y))\n",
        "        #plt.imshow(img)\n",
        "        images.append(img)     \n",
        "#Convert list to array for machine learning processing        \n",
        "  images = np.array(images)\n",
        "  return images \n",
        "def readMasks(path):\n",
        "  #names array reads the names of the files and sort them in ascending order by using natsorted library\n",
        "  #this sorting is required because cv2.imread reads images randomly so some masks doesn't corresponds to their respective images\n",
        "  names = []\n",
        "  masks = []\n",
        "  # x and y defines the height and width size of the newly resized images so convolutions can be applied easily\n",
        "  x = 128\n",
        "  y = 128\n",
        "  # this loop reads the names of the image files and stores them in names list\n",
        "  for directory_path in glob.glob(path):\n",
        "    for name_path in glob.glob(os.path.join(directory_path, \"*.png\")):\n",
        "        names.append(name_path)\n",
        "  names = natsorted(names)  \n",
        "  # this loop reads the images in ascending order to ensure every mask matches their respective image\n",
        "  for i in range(len(names)):\n",
        "        #imgs.append(img_path)\n",
        "        msk = cv2.imread(names[i], 0)       \n",
        "        print(names[i] + \" mask\")\n",
        "        msk = cv2.resize(msk, (x, y), interpolation = cv2.INTER_NEAREST)\n",
        "        #plt.imshow(img)\n",
        "        masks.append(msk)     \n",
        "#Convert list to array for machine learning processing        \n",
        "  masks = np.array(masks)\n",
        "  return masks\n",
        "def oneHotEncoder(imagesMasks):\n",
        "  n_classes = 12\n",
        "  #imagesMasks = readImages(\"/content/drive/MyDrive/dataset1 - Copy/annotations_prepped_train/\")\n",
        "  labelencoder = LabelEncoder()\n",
        "  n, h, w = imagesMasks.shape\n",
        "  masks_reshaped = imagesMasks.reshape(-1,1)\n",
        "  masks_reshaped_encoded = labelencoder.fit_transform(masks_reshaped)\n",
        "  masks_encoded_original_shape = masks_reshaped_encoded.reshape(n, h, w)\n",
        "\n",
        "  np.unique(masks_encoded_original_shape)\n",
        "  train_masks_input = np.expand_dims(masks_encoded_original_shape, axis=3)\n",
        "  train_masks_cat = to_categorical(train_masks_input, num_classes=n_classes)\n",
        "  y_train_cat = train_masks_cat.reshape((train_masks_input.shape[0], train_masks_input.shape[1], train_masks_input.shape[2], n_classes))\n",
        "  return y_train_cat\n"
      ],
      "metadata": {
        "id": "gRBwVryXqZk3"
      },
      "execution_count": 6,
      "outputs": []
    },
    {
      "cell_type": "markdown",
      "source": [
        "**CNN Model Functions**"
      ],
      "metadata": {
        "id": "VlL2z3Y74rzu"
      }
    },
    {
      "cell_type": "code",
      "source": [
        "def unetModel(backBone, train_images, pretrained):\n",
        "  #Model\n",
        "  BACKBONE = backBone\n",
        "  preprocess_input = sm.get_preprocessing(BACKBONE)\n",
        "\n",
        "  # preprocess input\n",
        "  X_train = preprocess_input(train_images)\n",
        "\n",
        "  # define model\n",
        "  sm.set_framework('tf.keras')\n",
        "  sm.framework()\n",
        "  model = sm.Unet(BACKBONE, encoder_weights= pretrained, classes=n_classes, activation=activation)\n",
        "\n",
        "  # compile keras model with defined optimozer, loss and metrics\n",
        "  model.compile(modelOptimizer,  loss=tf.keras.losses.CategoricalCrossentropy() , metrics=metrics)\n",
        "\n",
        "  #model1.compile(optimizer='adam', loss='categorical_crossentropy', metrics=metrics)\n",
        "\n",
        "  print(model.summary())\n",
        "  return model, X_train\n",
        "\n"
      ],
      "metadata": {
        "id": "gkbwxOQH4xKg"
      },
      "execution_count": 35,
      "outputs": []
    },
    {
      "cell_type": "markdown",
      "source": [
        "**Accuracy measures and graphs functions**"
      ],
      "metadata": {
        "id": "dykDkyWGU1Rg"
      }
    },
    {
      "cell_type": "code",
      "source": [
        "def trainingGraph(history_):\n",
        "  loss = history_.history['loss']\n",
        "  #val_loss = history_.history['val_loss']\n",
        "  epochs = range(0, len(loss))\n",
        "  plt.plot(epochs, loss, 'y', label='Training loss')\n",
        "  #plt.plot(epochs, val_loss, 'r', label='Validation loss')\n",
        "  plt.title('Training loss')\n",
        "  plt.xlabel('Epochs')\n",
        "  plt.ylabel('Loss')\n",
        "  plt.legend()\n",
        "  plt.show()\n",
        "\n",
        "  acc = history_.history['iou_score']\n",
        "  #val_acc = history_.history['val_iou_score']\n",
        "\n",
        "  plt.plot(epochs, acc, 'y', label='Training IOU')\n",
        "  #plt.plot(epochs, val_acc, 'r', label='Validation IOU')\n",
        "  plt.title('Training IOU')\n",
        "  plt.xlabel('Epochs')\n",
        "  plt.ylabel('IOU')\n",
        "  plt.legend()\n",
        "  plt.show()\n",
        "  plt.figure(figsize=(8, 8))\n",
        "\n"
      ],
      "metadata": {
        "id": "VovGfBSXU7wn"
      },
      "execution_count": 34,
      "outputs": []
    },
    {
      "cell_type": "markdown",
      "source": [
        "Training Loop"
      ],
      "metadata": {
        "id": "1tBMhSmY4IJS"
      }
    },
    {
      "cell_type": "markdown",
      "source": [
        "Parameters used in all models"
      ],
      "metadata": {
        "id": "7AFTBZWH4O6p"
      }
    },
    {
      "cell_type": "code",
      "source": [
        "def dice_coef(y_true, y_pred):\n",
        "    y_true_f = K.flatten(y_true)\n",
        "    y_pred_f = K.flatten(y_pred)\n",
        "    intersection = K.sum(y_true_f * y_pred_f)\n",
        "    return (2. * intersection + K.epsilon()) / (K.sum(y_true_f) + K.sum(y_pred_f) + K.epsilon())\n",
        "n_classes=12\n",
        "activation='softmax'\n",
        "LR = 0.0001\n",
        "modelOptimizer = tf.keras.optimizers.Adam(LR)\n",
        "# Segmentation models losses can be combined together by '+' and scaled by integer or float factor\n",
        "# set class weights for dice_loss (car: 1.; pedestrian: 2.; background: 0.5;)\n",
        "dice_loss = sm.losses.DiceLoss(class_weights=np.array([0.083, 0.083, 0.083, 0.083,0.083,0.083,0.083,0.083,0.083,0.083,0.083,0.083])) \n",
        "focal_loss = sm.losses.CategoricalFocalLoss()\n",
        "total_loss = dice_loss + (1 * focal_loss)\n",
        "  # actulally total_loss can be imported directly from library, above example just show you how to manipulate with losses\n",
        "  # total_loss = sm.losses.binary_focal_dice_loss # or sm.losses.categorical_focal_dice_loss \n",
        "metrics = [sm.metrics.IOUScore(threshold=0.5), sm.metrics.FScore(threshold=0.5), \"accuracy\", dice_coef ]  "
      ],
      "metadata": {
        "id": "wseDZwD_4NWx"
      },
      "execution_count": 21,
      "outputs": []
    },
    {
      "cell_type": "code",
      "source": [
        "def training(imgpath, maskpath):\n",
        "  training_imgs = readImages(imgpath)\n",
        "  training_masks = readMasks(maskpath)\n",
        "  y_masks = oneHotEncoder(training_masks)\n",
        "  model, X_train = unetModel(\"vgg16\", training_imgs, \"imagenet\")\n",
        "  return model, training_imgs, y_masks,training_masks"
      ],
      "metadata": {
        "id": "UNHrnDsN4VIY"
      },
      "execution_count": 43,
      "outputs": []
    },
    {
      "cell_type": "markdown",
      "source": [
        "**Training on originam images without augmentation**"
      ],
      "metadata": {
        "id": "Q1PaIjxWt2k5"
      }
    },
    {
      "cell_type": "code",
      "source": [
        "trainimgPath = \"/content/drive/MyDrive/dataset1/images_prepped_train/\"\n",
        "trainmaskPath = \"/content/drive/MyDrive/dataset1/annotations_prepped_train/\"\n",
        "vgg16, training_imgs,y_masks, trainingMsks = training(trainimgPath,trainmaskPath)\n"
      ],
      "metadata": {
        "colab": {
          "base_uri": "https://localhost:8080/"
        },
        "id": "tYdDUm5Hn1vP",
        "outputId": "c0066735-b39b-4011-e216-fa7ab472f3c1"
      },
      "execution_count": 44,
      "outputs": [
        {
          "output_type": "stream",
          "name": "stdout",
          "text": [
            "/content/drive/MyDrive/dataset1/images_prepped_train/0001TP_006690.png img\n",
            "/content/drive/MyDrive/dataset1/images_prepped_train/0001TP_006720.png img\n",
            "/content/drive/MyDrive/dataset1/images_prepped_train/0001TP_006750.png img\n",
            "/content/drive/MyDrive/dataset1/images_prepped_train/0001TP_006780.png img\n",
            "/content/drive/MyDrive/dataset1/images_prepped_train/0001TP_006810.png img\n",
            "/content/drive/MyDrive/dataset1/images_prepped_train/0001TP_006840.png img\n",
            "/content/drive/MyDrive/dataset1/images_prepped_train/0001TP_006870.png img\n",
            "/content/drive/MyDrive/dataset1/images_prepped_train/0001TP_006900.png img\n",
            "/content/drive/MyDrive/dataset1/images_prepped_train/0001TP_006930.png img\n",
            "/content/drive/MyDrive/dataset1/images_prepped_train/0001TP_006960.png img\n",
            "/content/drive/MyDrive/dataset1/images_prepped_train/0001TP_006990.png img\n",
            "/content/drive/MyDrive/dataset1/images_prepped_train/0001TP_007020.png img\n",
            "/content/drive/MyDrive/dataset1/images_prepped_train/0001TP_007050.png img\n",
            "/content/drive/MyDrive/dataset1/images_prepped_train/0001TP_007080.png img\n",
            "/content/drive/MyDrive/dataset1/images_prepped_train/0001TP_007110.png img\n",
            "/content/drive/MyDrive/dataset1/images_prepped_train/0001TP_007140.png img\n",
            "/content/drive/MyDrive/dataset1/images_prepped_train/0001TP_007170.png img\n",
            "/content/drive/MyDrive/dataset1/images_prepped_train/0001TP_007200.png img\n",
            "/content/drive/MyDrive/dataset1/images_prepped_train/0001TP_007230.png img\n",
            "/content/drive/MyDrive/dataset1/images_prepped_train/0001TP_007260.png img\n",
            "/content/drive/MyDrive/dataset1/images_prepped_train/0001TP_007290.png img\n",
            "/content/drive/MyDrive/dataset1/images_prepped_train/0001TP_007320.png img\n",
            "/content/drive/MyDrive/dataset1/images_prepped_train/0001TP_007350.png img\n",
            "/content/drive/MyDrive/dataset1/images_prepped_train/0001TP_007380.png img\n",
            "/content/drive/MyDrive/dataset1/images_prepped_train/0001TP_007410.png img\n",
            "/content/drive/MyDrive/dataset1/images_prepped_train/0001TP_007440.png img\n",
            "/content/drive/MyDrive/dataset1/images_prepped_train/0001TP_007470.png img\n",
            "/content/drive/MyDrive/dataset1/images_prepped_train/0001TP_007500.png img\n",
            "/content/drive/MyDrive/dataset1/images_prepped_train/0001TP_007530.png img\n",
            "/content/drive/MyDrive/dataset1/images_prepped_train/0001TP_007560.png img\n",
            "/content/drive/MyDrive/dataset1/images_prepped_train/0001TP_007590.png img\n",
            "/content/drive/MyDrive/dataset1/images_prepped_train/0001TP_007620.png img\n",
            "/content/drive/MyDrive/dataset1/images_prepped_train/0001TP_007650.png img\n",
            "/content/drive/MyDrive/dataset1/images_prepped_train/0001TP_007680.png img\n",
            "/content/drive/MyDrive/dataset1/images_prepped_train/0001TP_007710.png img\n",
            "/content/drive/MyDrive/dataset1/images_prepped_train/0001TP_007740.png img\n",
            "/content/drive/MyDrive/dataset1/images_prepped_train/0001TP_007770.png img\n",
            "/content/drive/MyDrive/dataset1/images_prepped_train/0001TP_007800.png img\n",
            "/content/drive/MyDrive/dataset1/images_prepped_train/0001TP_007830.png img\n",
            "/content/drive/MyDrive/dataset1/images_prepped_train/0001TP_007860.png img\n",
            "/content/drive/MyDrive/dataset1/images_prepped_train/0001TP_007890.png img\n",
            "/content/drive/MyDrive/dataset1/images_prepped_train/0001TP_007920.png img\n",
            "/content/drive/MyDrive/dataset1/images_prepped_train/0001TP_007950.png img\n",
            "/content/drive/MyDrive/dataset1/images_prepped_train/0001TP_007980.png img\n",
            "/content/drive/MyDrive/dataset1/images_prepped_train/0001TP_008010.png img\n",
            "/content/drive/MyDrive/dataset1/images_prepped_train/0001TP_008040.png img\n",
            "/content/drive/MyDrive/dataset1/images_prepped_train/0001TP_008070.png img\n",
            "/content/drive/MyDrive/dataset1/images_prepped_train/0001TP_008100.png img\n",
            "/content/drive/MyDrive/dataset1/images_prepped_train/0001TP_008130.png img\n",
            "/content/drive/MyDrive/dataset1/images_prepped_train/0001TP_008160.png img\n",
            "/content/drive/MyDrive/dataset1/images_prepped_train/0001TP_008190.png img\n",
            "/content/drive/MyDrive/dataset1/images_prepped_train/0001TP_008220.png img\n",
            "/content/drive/MyDrive/dataset1/images_prepped_train/0001TP_008250.png img\n",
            "/content/drive/MyDrive/dataset1/images_prepped_train/0001TP_008280.png img\n",
            "/content/drive/MyDrive/dataset1/images_prepped_train/0001TP_008310.png img\n",
            "/content/drive/MyDrive/dataset1/images_prepped_train/0001TP_008340.png img\n",
            "/content/drive/MyDrive/dataset1/images_prepped_train/0001TP_008370.png img\n",
            "/content/drive/MyDrive/dataset1/images_prepped_train/0001TP_008400.png img\n",
            "/content/drive/MyDrive/dataset1/images_prepped_train/0001TP_008430.png img\n",
            "/content/drive/MyDrive/dataset1/images_prepped_train/0001TP_008460.png img\n",
            "/content/drive/MyDrive/dataset1/images_prepped_train/0001TP_008490.png img\n",
            "/content/drive/MyDrive/dataset1/images_prepped_train/0001TP_008520.png img\n",
            "/content/drive/MyDrive/dataset1/images_prepped_train/0006R0_f00930.png img\n",
            "/content/drive/MyDrive/dataset1/images_prepped_train/0006R0_f00960.png img\n",
            "/content/drive/MyDrive/dataset1/images_prepped_train/0006R0_f00990.png img\n",
            "/content/drive/MyDrive/dataset1/images_prepped_train/0006R0_f01020.png img\n",
            "/content/drive/MyDrive/dataset1/images_prepped_train/0006R0_f01050.png img\n",
            "/content/drive/MyDrive/dataset1/images_prepped_train/0006R0_f01080.png img\n",
            "/content/drive/MyDrive/dataset1/images_prepped_train/0006R0_f01110.png img\n",
            "/content/drive/MyDrive/dataset1/images_prepped_train/0006R0_f01140.png img\n",
            "/content/drive/MyDrive/dataset1/images_prepped_train/0006R0_f01170.png img\n",
            "/content/drive/MyDrive/dataset1/images_prepped_train/0006R0_f01200.png img\n",
            "/content/drive/MyDrive/dataset1/images_prepped_train/0006R0_f01230.png img\n",
            "/content/drive/MyDrive/dataset1/images_prepped_train/0006R0_f01260.png img\n",
            "/content/drive/MyDrive/dataset1/images_prepped_train/0006R0_f01290.png img\n",
            "/content/drive/MyDrive/dataset1/images_prepped_train/0006R0_f01320.png img\n",
            "/content/drive/MyDrive/dataset1/images_prepped_train/0006R0_f01350.png img\n",
            "/content/drive/MyDrive/dataset1/images_prepped_train/0006R0_f01380.png img\n",
            "/content/drive/MyDrive/dataset1/images_prepped_train/0006R0_f01410.png img\n",
            "/content/drive/MyDrive/dataset1/images_prepped_train/0006R0_f01440.png img\n",
            "/content/drive/MyDrive/dataset1/images_prepped_train/0006R0_f01470.png img\n",
            "/content/drive/MyDrive/dataset1/images_prepped_train/0006R0_f01500.png img\n",
            "/content/drive/MyDrive/dataset1/images_prepped_train/0006R0_f01530.png img\n",
            "/content/drive/MyDrive/dataset1/images_prepped_train/0006R0_f01560.png img\n",
            "/content/drive/MyDrive/dataset1/images_prepped_train/0006R0_f01590.png img\n",
            "/content/drive/MyDrive/dataset1/images_prepped_train/0006R0_f01620.png img\n",
            "/content/drive/MyDrive/dataset1/images_prepped_train/0006R0_f01650.png img\n",
            "/content/drive/MyDrive/dataset1/images_prepped_train/0006R0_f01680.png img\n",
            "/content/drive/MyDrive/dataset1/images_prepped_train/0006R0_f01710.png img\n",
            "/content/drive/MyDrive/dataset1/images_prepped_train/0006R0_f01740.png img\n",
            "/content/drive/MyDrive/dataset1/images_prepped_train/0006R0_f01770.png img\n",
            "/content/drive/MyDrive/dataset1/images_prepped_train/0006R0_f01800.png img\n",
            "/content/drive/MyDrive/dataset1/images_prepped_train/0006R0_f01830.png img\n",
            "/content/drive/MyDrive/dataset1/images_prepped_train/0006R0_f01860.png img\n",
            "/content/drive/MyDrive/dataset1/images_prepped_train/0006R0_f01890.png img\n",
            "/content/drive/MyDrive/dataset1/images_prepped_train/0006R0_f01920.png img\n",
            "/content/drive/MyDrive/dataset1/images_prepped_train/0006R0_f01950.png img\n",
            "/content/drive/MyDrive/dataset1/images_prepped_train/0006R0_f01980.png img\n",
            "/content/drive/MyDrive/dataset1/images_prepped_train/0006R0_f02010.png img\n",
            "/content/drive/MyDrive/dataset1/images_prepped_train/0006R0_f02040.png img\n",
            "/content/drive/MyDrive/dataset1/images_prepped_train/0006R0_f02070.png img\n",
            "/content/drive/MyDrive/dataset1/images_prepped_train/0006R0_f02100.png img\n",
            "/content/drive/MyDrive/dataset1/images_prepped_train/0006R0_f02130.png img\n",
            "/content/drive/MyDrive/dataset1/images_prepped_train/0006R0_f02160.png img\n",
            "/content/drive/MyDrive/dataset1/images_prepped_train/0006R0_f02190.png img\n",
            "/content/drive/MyDrive/dataset1/images_prepped_train/0006R0_f02220.png img\n",
            "/content/drive/MyDrive/dataset1/images_prepped_train/0006R0_f02250.png img\n",
            "/content/drive/MyDrive/dataset1/images_prepped_train/0006R0_f02280.png img\n",
            "/content/drive/MyDrive/dataset1/images_prepped_train/0006R0_f02310.png img\n",
            "/content/drive/MyDrive/dataset1/images_prepped_train/0006R0_f02340.png img\n",
            "/content/drive/MyDrive/dataset1/images_prepped_train/0006R0_f02370.png img\n",
            "/content/drive/MyDrive/dataset1/images_prepped_train/0006R0_f02400.png img\n",
            "/content/drive/MyDrive/dataset1/images_prepped_train/0006R0_f02430.png img\n",
            "/content/drive/MyDrive/dataset1/images_prepped_train/0006R0_f02460.png img\n",
            "/content/drive/MyDrive/dataset1/images_prepped_train/0006R0_f02490.png img\n",
            "/content/drive/MyDrive/dataset1/images_prepped_train/0006R0_f02520.png img\n",
            "/content/drive/MyDrive/dataset1/images_prepped_train/0006R0_f02550.png img\n",
            "/content/drive/MyDrive/dataset1/images_prepped_train/0006R0_f02580.png img\n",
            "/content/drive/MyDrive/dataset1/images_prepped_train/0006R0_f02610.png img\n",
            "/content/drive/MyDrive/dataset1/images_prepped_train/0006R0_f02640.png img\n",
            "/content/drive/MyDrive/dataset1/images_prepped_train/0006R0_f02670.png img\n",
            "/content/drive/MyDrive/dataset1/images_prepped_train/0006R0_f02700.png img\n",
            "/content/drive/MyDrive/dataset1/images_prepped_train/0006R0_f02730.png img\n",
            "/content/drive/MyDrive/dataset1/images_prepped_train/0006R0_f02760.png img\n",
            "/content/drive/MyDrive/dataset1/images_prepped_train/0006R0_f02790.png img\n",
            "/content/drive/MyDrive/dataset1/images_prepped_train/0006R0_f02820.png img\n",
            "/content/drive/MyDrive/dataset1/images_prepped_train/0006R0_f02850.png img\n",
            "/content/drive/MyDrive/dataset1/images_prepped_train/0006R0_f02880.png img\n",
            "/content/drive/MyDrive/dataset1/images_prepped_train/0006R0_f02910.png img\n",
            "/content/drive/MyDrive/dataset1/images_prepped_train/0006R0_f02940.png img\n",
            "/content/drive/MyDrive/dataset1/images_prepped_train/0006R0_f02970.png img\n",
            "/content/drive/MyDrive/dataset1/images_prepped_train/0006R0_f03000.png img\n",
            "/content/drive/MyDrive/dataset1/images_prepped_train/0006R0_f03030.png img\n",
            "/content/drive/MyDrive/dataset1/images_prepped_train/0006R0_f03060.png img\n",
            "/content/drive/MyDrive/dataset1/images_prepped_train/0006R0_f03090.png img\n",
            "/content/drive/MyDrive/dataset1/images_prepped_train/0006R0_f03120.png img\n",
            "/content/drive/MyDrive/dataset1/images_prepped_train/0006R0_f03150.png img\n",
            "/content/drive/MyDrive/dataset1/images_prepped_train/0006R0_f03180.png img\n",
            "/content/drive/MyDrive/dataset1/images_prepped_train/0006R0_f03210.png img\n",
            "/content/drive/MyDrive/dataset1/images_prepped_train/0006R0_f03240.png img\n",
            "/content/drive/MyDrive/dataset1/images_prepped_train/0006R0_f03270.png img\n",
            "/content/drive/MyDrive/dataset1/images_prepped_train/0006R0_f03300.png img\n",
            "/content/drive/MyDrive/dataset1/images_prepped_train/0006R0_f03330.png img\n",
            "/content/drive/MyDrive/dataset1/images_prepped_train/0006R0_f03360.png img\n",
            "/content/drive/MyDrive/dataset1/images_prepped_train/0006R0_f03390.png img\n",
            "/content/drive/MyDrive/dataset1/images_prepped_train/0006R0_f03420.png img\n",
            "/content/drive/MyDrive/dataset1/images_prepped_train/0006R0_f03450.png img\n",
            "/content/drive/MyDrive/dataset1/images_prepped_train/0006R0_f03480.png img\n",
            "/content/drive/MyDrive/dataset1/images_prepped_train/0006R0_f03510.png img\n",
            "/content/drive/MyDrive/dataset1/images_prepped_train/0006R0_f03540.png img\n",
            "/content/drive/MyDrive/dataset1/images_prepped_train/0006R0_f03570.png img\n",
            "/content/drive/MyDrive/dataset1/images_prepped_train/0006R0_f03600.png img\n",
            "/content/drive/MyDrive/dataset1/images_prepped_train/0006R0_f03630.png img\n",
            "/content/drive/MyDrive/dataset1/images_prepped_train/0006R0_f03660.png img\n",
            "/content/drive/MyDrive/dataset1/images_prepped_train/0006R0_f03690.png img\n",
            "/content/drive/MyDrive/dataset1/images_prepped_train/0006R0_f03720.png img\n",
            "/content/drive/MyDrive/dataset1/images_prepped_train/0006R0_f03750.png img\n",
            "/content/drive/MyDrive/dataset1/images_prepped_train/0006R0_f03780.png img\n",
            "/content/drive/MyDrive/dataset1/images_prepped_train/0006R0_f03810.png img\n",
            "/content/drive/MyDrive/dataset1/images_prepped_train/0006R0_f03840.png img\n",
            "/content/drive/MyDrive/dataset1/images_prepped_train/0006R0_f03870.png img\n",
            "/content/drive/MyDrive/dataset1/images_prepped_train/0006R0_f03900.png img\n",
            "/content/drive/MyDrive/dataset1/images_prepped_train/0006R0_f03930.png img\n",
            "/content/drive/MyDrive/dataset1/images_prepped_train/0016E5_00390.png img\n",
            "/content/drive/MyDrive/dataset1/images_prepped_train/0016E5_00420.png img\n",
            "/content/drive/MyDrive/dataset1/images_prepped_train/0016E5_00450.png img\n",
            "/content/drive/MyDrive/dataset1/images_prepped_train/0016E5_00480.png img\n",
            "/content/drive/MyDrive/dataset1/images_prepped_train/0016E5_00510.png img\n",
            "/content/drive/MyDrive/dataset1/images_prepped_train/0016E5_00540.png img\n",
            "/content/drive/MyDrive/dataset1/images_prepped_train/0016E5_00570.png img\n",
            "/content/drive/MyDrive/dataset1/images_prepped_train/0016E5_00600.png img\n",
            "/content/drive/MyDrive/dataset1/images_prepped_train/0016E5_00630.png img\n",
            "/content/drive/MyDrive/dataset1/images_prepped_train/0016E5_00660.png img\n",
            "/content/drive/MyDrive/dataset1/images_prepped_train/0016E5_00690.png img\n",
            "/content/drive/MyDrive/dataset1/images_prepped_train/0016E5_00720.png img\n",
            "/content/drive/MyDrive/dataset1/images_prepped_train/0016E5_00750.png img\n",
            "/content/drive/MyDrive/dataset1/images_prepped_train/0016E5_00780.png img\n",
            "/content/drive/MyDrive/dataset1/images_prepped_train/0016E5_00810.png img\n",
            "/content/drive/MyDrive/dataset1/images_prepped_train/0016E5_00840.png img\n",
            "/content/drive/MyDrive/dataset1/images_prepped_train/0016E5_00870.png img\n",
            "/content/drive/MyDrive/dataset1/images_prepped_train/0016E5_00901.png img\n",
            "/content/drive/MyDrive/dataset1/images_prepped_train/0016E5_00930.png img\n",
            "/content/drive/MyDrive/dataset1/images_prepped_train/0016E5_00960.png img\n",
            "/content/drive/MyDrive/dataset1/images_prepped_train/0016E5_00990.png img\n",
            "/content/drive/MyDrive/dataset1/images_prepped_train/0016E5_01020.png img\n",
            "/content/drive/MyDrive/dataset1/images_prepped_train/0016E5_01050.png img\n",
            "/content/drive/MyDrive/dataset1/images_prepped_train/0016E5_01080.png img\n",
            "/content/drive/MyDrive/dataset1/images_prepped_train/0016E5_01110.png img\n",
            "/content/drive/MyDrive/dataset1/images_prepped_train/0016E5_01140.png img\n",
            "/content/drive/MyDrive/dataset1/images_prepped_train/0016E5_01170.png img\n",
            "/content/drive/MyDrive/dataset1/images_prepped_train/0016E5_01200.png img\n",
            "/content/drive/MyDrive/dataset1/images_prepped_train/0016E5_01230.png img\n",
            "/content/drive/MyDrive/dataset1/images_prepped_train/0016E5_01260.png img\n",
            "/content/drive/MyDrive/dataset1/images_prepped_train/0016E5_01290.png img\n",
            "/content/drive/MyDrive/dataset1/images_prepped_train/0016E5_01320.png img\n",
            "/content/drive/MyDrive/dataset1/images_prepped_train/0016E5_01350.png img\n",
            "/content/drive/MyDrive/dataset1/images_prepped_train/0016E5_01380.png img\n",
            "/content/drive/MyDrive/dataset1/images_prepped_train/0016E5_01410.png img\n",
            "/content/drive/MyDrive/dataset1/images_prepped_train/0016E5_01440.png img\n",
            "/content/drive/MyDrive/dataset1/images_prepped_train/0016E5_01470.png img\n",
            "/content/drive/MyDrive/dataset1/images_prepped_train/0016E5_01500.png img\n",
            "/content/drive/MyDrive/dataset1/images_prepped_train/0016E5_01530.png img\n",
            "/content/drive/MyDrive/dataset1/images_prepped_train/0016E5_01560.png img\n",
            "/content/drive/MyDrive/dataset1/images_prepped_train/0016E5_01590.png img\n",
            "/content/drive/MyDrive/dataset1/images_prepped_train/0016E5_01620.png img\n",
            "/content/drive/MyDrive/dataset1/images_prepped_train/0016E5_01650.png img\n",
            "/content/drive/MyDrive/dataset1/images_prepped_train/0016E5_01680.png img\n",
            "/content/drive/MyDrive/dataset1/images_prepped_train/0016E5_01710.png img\n",
            "/content/drive/MyDrive/dataset1/images_prepped_train/0016E5_01740.png img\n",
            "/content/drive/MyDrive/dataset1/images_prepped_train/0016E5_01770.png img\n",
            "/content/drive/MyDrive/dataset1/images_prepped_train/0016E5_01800.png img\n",
            "/content/drive/MyDrive/dataset1/images_prepped_train/0016E5_01830.png img\n",
            "/content/drive/MyDrive/dataset1/images_prepped_train/0016E5_01860.png img\n",
            "/content/drive/MyDrive/dataset1/images_prepped_train/0016E5_01890.png img\n",
            "/content/drive/MyDrive/dataset1/images_prepped_train/0016E5_01920.png img\n",
            "/content/drive/MyDrive/dataset1/images_prepped_train/0016E5_01950.png img\n",
            "/content/drive/MyDrive/dataset1/images_prepped_train/0016E5_01980.png img\n",
            "/content/drive/MyDrive/dataset1/images_prepped_train/0016E5_02010.png img\n",
            "/content/drive/MyDrive/dataset1/images_prepped_train/0016E5_02040.png img\n",
            "/content/drive/MyDrive/dataset1/images_prepped_train/0016E5_02070.png img\n",
            "/content/drive/MyDrive/dataset1/images_prepped_train/0016E5_02100.png img\n",
            "/content/drive/MyDrive/dataset1/images_prepped_train/0016E5_02130.png img\n",
            "/content/drive/MyDrive/dataset1/images_prepped_train/0016E5_02160.png img\n",
            "/content/drive/MyDrive/dataset1/images_prepped_train/0016E5_02190.png img\n",
            "/content/drive/MyDrive/dataset1/images_prepped_train/0016E5_02220.png img\n",
            "/content/drive/MyDrive/dataset1/images_prepped_train/0016E5_02250.png img\n",
            "/content/drive/MyDrive/dataset1/images_prepped_train/0016E5_02280.png img\n",
            "/content/drive/MyDrive/dataset1/images_prepped_train/0016E5_02310.png img\n",
            "/content/drive/MyDrive/dataset1/images_prepped_train/0016E5_02340.png img\n",
            "/content/drive/MyDrive/dataset1/images_prepped_train/0016E5_02370.png img\n",
            "/content/drive/MyDrive/dataset1/images_prepped_train/0016E5_02400.png img\n",
            "/content/drive/MyDrive/dataset1/images_prepped_train/0016E5_04350.png img\n",
            "/content/drive/MyDrive/dataset1/images_prepped_train/0016E5_04380.png img\n",
            "/content/drive/MyDrive/dataset1/images_prepped_train/0016E5_04410.png img\n",
            "/content/drive/MyDrive/dataset1/images_prepped_train/0016E5_04440.png img\n",
            "/content/drive/MyDrive/dataset1/images_prepped_train/0016E5_04470.png img\n",
            "/content/drive/MyDrive/dataset1/images_prepped_train/0016E5_04500.png img\n",
            "/content/drive/MyDrive/dataset1/images_prepped_train/0016E5_04530.png img\n",
            "/content/drive/MyDrive/dataset1/images_prepped_train/0016E5_04560.png img\n",
            "/content/drive/MyDrive/dataset1/images_prepped_train/0016E5_04590.png img\n",
            "/content/drive/MyDrive/dataset1/images_prepped_train/0016E5_04620.png img\n",
            "/content/drive/MyDrive/dataset1/images_prepped_train/0016E5_04650.png img\n",
            "/content/drive/MyDrive/dataset1/images_prepped_train/0016E5_04680.png img\n",
            "/content/drive/MyDrive/dataset1/images_prepped_train/0016E5_04710.png img\n",
            "/content/drive/MyDrive/dataset1/images_prepped_train/0016E5_04740.png img\n",
            "/content/drive/MyDrive/dataset1/images_prepped_train/0016E5_04770.png img\n",
            "/content/drive/MyDrive/dataset1/images_prepped_train/0016E5_04800.png img\n",
            "/content/drive/MyDrive/dataset1/images_prepped_train/0016E5_04830.png img\n",
            "/content/drive/MyDrive/dataset1/images_prepped_train/0016E5_04860.png img\n",
            "/content/drive/MyDrive/dataset1/images_prepped_train/0016E5_04890.png img\n",
            "/content/drive/MyDrive/dataset1/images_prepped_train/0016E5_04920.png img\n",
            "/content/drive/MyDrive/dataset1/images_prepped_train/0016E5_04950.png img\n",
            "/content/drive/MyDrive/dataset1/images_prepped_train/0016E5_04980.png img\n",
            "/content/drive/MyDrive/dataset1/images_prepped_train/0016E5_05010.png img\n",
            "/content/drive/MyDrive/dataset1/images_prepped_train/0016E5_05040.png img\n",
            "/content/drive/MyDrive/dataset1/images_prepped_train/0016E5_05070.png img\n",
            "/content/drive/MyDrive/dataset1/images_prepped_train/0016E5_05100.png img\n",
            "/content/drive/MyDrive/dataset1/images_prepped_train/0016E5_05130.png img\n",
            "/content/drive/MyDrive/dataset1/images_prepped_train/0016E5_05160.png img\n",
            "/content/drive/MyDrive/dataset1/images_prepped_train/0016E5_05190.png img\n",
            "/content/drive/MyDrive/dataset1/images_prepped_train/0016E5_05220.png img\n",
            "/content/drive/MyDrive/dataset1/images_prepped_train/0016E5_05250.png img\n",
            "/content/drive/MyDrive/dataset1/images_prepped_train/0016E5_05280.png img\n",
            "/content/drive/MyDrive/dataset1/images_prepped_train/0016E5_05310.png img\n",
            "/content/drive/MyDrive/dataset1/images_prepped_train/0016E5_05340.png img\n",
            "/content/drive/MyDrive/dataset1/images_prepped_train/0016E5_05370.png img\n",
            "/content/drive/MyDrive/dataset1/images_prepped_train/0016E5_05400.png img\n",
            "/content/drive/MyDrive/dataset1/images_prepped_train/0016E5_05430.png img\n",
            "/content/drive/MyDrive/dataset1/images_prepped_train/0016E5_05460.png img\n",
            "/content/drive/MyDrive/dataset1/images_prepped_train/0016E5_05490.png img\n",
            "/content/drive/MyDrive/dataset1/images_prepped_train/0016E5_05520.png img\n",
            "/content/drive/MyDrive/dataset1/images_prepped_train/0016E5_05550.png img\n",
            "/content/drive/MyDrive/dataset1/images_prepped_train/0016E5_05580.png img\n",
            "/content/drive/MyDrive/dataset1/images_prepped_train/0016E5_05610.png img\n",
            "/content/drive/MyDrive/dataset1/images_prepped_train/0016E5_05640.png img\n",
            "/content/drive/MyDrive/dataset1/images_prepped_train/0016E5_05670.png img\n",
            "/content/drive/MyDrive/dataset1/images_prepped_train/0016E5_05700.png img\n",
            "/content/drive/MyDrive/dataset1/images_prepped_train/0016E5_05730.png img\n",
            "/content/drive/MyDrive/dataset1/images_prepped_train/0016E5_05760.png img\n",
            "/content/drive/MyDrive/dataset1/images_prepped_train/0016E5_05790.png img\n",
            "/content/drive/MyDrive/dataset1/images_prepped_train/0016E5_05820.png img\n",
            "/content/drive/MyDrive/dataset1/images_prepped_train/0016E5_05850.png img\n",
            "/content/drive/MyDrive/dataset1/images_prepped_train/0016E5_05880.png img\n",
            "/content/drive/MyDrive/dataset1/images_prepped_train/0016E5_05910.png img\n",
            "/content/drive/MyDrive/dataset1/images_prepped_train/0016E5_05940.png img\n",
            "/content/drive/MyDrive/dataset1/images_prepped_train/0016E5_05970.png img\n",
            "/content/drive/MyDrive/dataset1/images_prepped_train/0016E5_06000.png img\n",
            "/content/drive/MyDrive/dataset1/images_prepped_train/0016E5_06030.png img\n",
            "/content/drive/MyDrive/dataset1/images_prepped_train/0016E5_06060.png img\n",
            "/content/drive/MyDrive/dataset1/images_prepped_train/0016E5_06090.png img\n",
            "/content/drive/MyDrive/dataset1/images_prepped_train/0016E5_06120.png img\n",
            "/content/drive/MyDrive/dataset1/images_prepped_train/0016E5_06150.png img\n",
            "/content/drive/MyDrive/dataset1/images_prepped_train/0016E5_06180.png img\n",
            "/content/drive/MyDrive/dataset1/images_prepped_train/0016E5_06210.png img\n",
            "/content/drive/MyDrive/dataset1/images_prepped_train/0016E5_06240.png img\n",
            "/content/drive/MyDrive/dataset1/images_prepped_train/0016E5_06270.png img\n",
            "/content/drive/MyDrive/dataset1/images_prepped_train/0016E5_06300.png img\n",
            "/content/drive/MyDrive/dataset1/images_prepped_train/0016E5_06330.png img\n",
            "/content/drive/MyDrive/dataset1/images_prepped_train/0016E5_06360.png img\n",
            "/content/drive/MyDrive/dataset1/images_prepped_train/0016E5_06390.png img\n",
            "/content/drive/MyDrive/dataset1/images_prepped_train/0016E5_06420.png img\n",
            "/content/drive/MyDrive/dataset1/images_prepped_train/0016E5_06450.png img\n",
            "/content/drive/MyDrive/dataset1/images_prepped_train/0016E5_06480.png img\n",
            "/content/drive/MyDrive/dataset1/images_prepped_train/0016E5_06510.png img\n",
            "/content/drive/MyDrive/dataset1/images_prepped_train/0016E5_06540.png img\n",
            "/content/drive/MyDrive/dataset1/images_prepped_train/0016E5_06570.png img\n",
            "/content/drive/MyDrive/dataset1/images_prepped_train/0016E5_06600.png img\n",
            "/content/drive/MyDrive/dataset1/images_prepped_train/0016E5_06630.png img\n",
            "/content/drive/MyDrive/dataset1/images_prepped_train/0016E5_06660.png img\n",
            "/content/drive/MyDrive/dataset1/images_prepped_train/0016E5_06690.png img\n",
            "/content/drive/MyDrive/dataset1/images_prepped_train/0016E5_06720.png img\n",
            "/content/drive/MyDrive/dataset1/images_prepped_train/0016E5_06750.png img\n",
            "/content/drive/MyDrive/dataset1/images_prepped_train/0016E5_06780.png img\n",
            "/content/drive/MyDrive/dataset1/images_prepped_train/0016E5_06810.png img\n",
            "/content/drive/MyDrive/dataset1/images_prepped_train/0016E5_06840.png img\n",
            "/content/drive/MyDrive/dataset1/images_prepped_train/0016E5_06870.png img\n",
            "/content/drive/MyDrive/dataset1/images_prepped_train/0016E5_06900.png img\n",
            "/content/drive/MyDrive/dataset1/images_prepped_train/0016E5_06930.png img\n",
            "/content/drive/MyDrive/dataset1/images_prepped_train/0016E5_06960.png img\n",
            "/content/drive/MyDrive/dataset1/images_prepped_train/0016E5_06990.png img\n",
            "/content/drive/MyDrive/dataset1/images_prepped_train/0016E5_07020.png img\n",
            "/content/drive/MyDrive/dataset1/images_prepped_train/0016E5_07050.png img\n",
            "/content/drive/MyDrive/dataset1/images_prepped_train/0016E5_07080.png img\n",
            "/content/drive/MyDrive/dataset1/images_prepped_train/0016E5_07110.png img\n",
            "/content/drive/MyDrive/dataset1/images_prepped_train/0016E5_07140.png img\n",
            "/content/drive/MyDrive/dataset1/images_prepped_train/0016E5_07170.png img\n",
            "/content/drive/MyDrive/dataset1/images_prepped_train/0016E5_07200.png img\n",
            "/content/drive/MyDrive/dataset1/images_prepped_train/0016E5_07230.png img\n",
            "/content/drive/MyDrive/dataset1/images_prepped_train/0016E5_07260.png img\n",
            "/content/drive/MyDrive/dataset1/images_prepped_train/0016E5_07290.png img\n",
            "/content/drive/MyDrive/dataset1/images_prepped_train/0016E5_07320.png img\n",
            "/content/drive/MyDrive/dataset1/images_prepped_train/0016E5_07350.png img\n",
            "/content/drive/MyDrive/dataset1/images_prepped_train/0016E5_07380.png img\n",
            "/content/drive/MyDrive/dataset1/images_prepped_train/0016E5_07410.png img\n",
            "/content/drive/MyDrive/dataset1/images_prepped_train/0016E5_07440.png img\n",
            "/content/drive/MyDrive/dataset1/images_prepped_train/0016E5_07470.png img\n",
            "/content/drive/MyDrive/dataset1/images_prepped_train/0016E5_07500.png img\n",
            "/content/drive/MyDrive/dataset1/images_prepped_train/0016E5_07530.png img\n",
            "/content/drive/MyDrive/dataset1/images_prepped_train/0016E5_07560.png img\n",
            "/content/drive/MyDrive/dataset1/images_prepped_train/0016E5_07590.png img\n",
            "/content/drive/MyDrive/dataset1/images_prepped_train/0016E5_07620.png img\n",
            "/content/drive/MyDrive/dataset1/images_prepped_train/0016E5_07650.png img\n",
            "/content/drive/MyDrive/dataset1/images_prepped_train/0016E5_07680.png img\n",
            "/content/drive/MyDrive/dataset1/images_prepped_train/0016E5_07710.png img\n",
            "/content/drive/MyDrive/dataset1/images_prepped_train/0016E5_07740.png img\n",
            "/content/drive/MyDrive/dataset1/images_prepped_train/0016E5_07770.png img\n",
            "/content/drive/MyDrive/dataset1/images_prepped_train/0016E5_07800.png img\n",
            "/content/drive/MyDrive/dataset1/images_prepped_train/0016E5_07830.png img\n",
            "/content/drive/MyDrive/dataset1/images_prepped_train/0016E5_07860.png img\n",
            "/content/drive/MyDrive/dataset1/images_prepped_train/0016E5_07890.png img\n",
            "/content/drive/MyDrive/dataset1/images_prepped_train/0016E5_07920.png img\n",
            "/content/drive/MyDrive/dataset1/images_prepped_train/0016E5_08190.png img\n",
            "/content/drive/MyDrive/dataset1/images_prepped_train/0016E5_08220.png img\n",
            "/content/drive/MyDrive/dataset1/images_prepped_train/0016E5_08250.png img\n",
            "/content/drive/MyDrive/dataset1/images_prepped_train/0016E5_08280.png img\n",
            "/content/drive/MyDrive/dataset1/images_prepped_train/0016E5_08310.png img\n",
            "/content/drive/MyDrive/dataset1/images_prepped_train/0016E5_08340.png img\n",
            "/content/drive/MyDrive/dataset1/images_prepped_train/0016E5_08370.png img\n",
            "/content/drive/MyDrive/dataset1/images_prepped_train/0016E5_08400.png img\n",
            "/content/drive/MyDrive/dataset1/images_prepped_train/0016E5_08430.png img\n",
            "/content/drive/MyDrive/dataset1/images_prepped_train/0016E5_08460.png img\n",
            "/content/drive/MyDrive/dataset1/images_prepped_train/0016E5_08490.png img\n",
            "/content/drive/MyDrive/dataset1/images_prepped_train/0016E5_08520.png img\n",
            "/content/drive/MyDrive/dataset1/images_prepped_train/0016E5_08550.png img\n",
            "/content/drive/MyDrive/dataset1/images_prepped_train/0016E5_08580.png img\n",
            "/content/drive/MyDrive/dataset1/images_prepped_train/0016E5_08610.png img\n",
            "/content/drive/MyDrive/dataset1/images_prepped_train/0016E5_08640.png img\n",
            "/content/drive/MyDrive/dataset1/annotations_prepped_train/0001TP_006690.png mask\n",
            "/content/drive/MyDrive/dataset1/annotations_prepped_train/0001TP_006720.png mask\n",
            "/content/drive/MyDrive/dataset1/annotations_prepped_train/0001TP_006750.png mask\n",
            "/content/drive/MyDrive/dataset1/annotations_prepped_train/0001TP_006780.png mask\n",
            "/content/drive/MyDrive/dataset1/annotations_prepped_train/0001TP_006810.png mask\n",
            "/content/drive/MyDrive/dataset1/annotations_prepped_train/0001TP_006840.png mask\n",
            "/content/drive/MyDrive/dataset1/annotations_prepped_train/0001TP_006870.png mask\n",
            "/content/drive/MyDrive/dataset1/annotations_prepped_train/0001TP_006900.png mask\n",
            "/content/drive/MyDrive/dataset1/annotations_prepped_train/0001TP_006930.png mask\n",
            "/content/drive/MyDrive/dataset1/annotations_prepped_train/0001TP_006960.png mask\n",
            "/content/drive/MyDrive/dataset1/annotations_prepped_train/0001TP_006990.png mask\n",
            "/content/drive/MyDrive/dataset1/annotations_prepped_train/0001TP_007020.png mask\n",
            "/content/drive/MyDrive/dataset1/annotations_prepped_train/0001TP_007050.png mask\n",
            "/content/drive/MyDrive/dataset1/annotations_prepped_train/0001TP_007080.png mask\n",
            "/content/drive/MyDrive/dataset1/annotations_prepped_train/0001TP_007110.png mask\n",
            "/content/drive/MyDrive/dataset1/annotations_prepped_train/0001TP_007140.png mask\n",
            "/content/drive/MyDrive/dataset1/annotations_prepped_train/0001TP_007170.png mask\n",
            "/content/drive/MyDrive/dataset1/annotations_prepped_train/0001TP_007200.png mask\n",
            "/content/drive/MyDrive/dataset1/annotations_prepped_train/0001TP_007230.png mask\n",
            "/content/drive/MyDrive/dataset1/annotations_prepped_train/0001TP_007260.png mask\n",
            "/content/drive/MyDrive/dataset1/annotations_prepped_train/0001TP_007290.png mask\n",
            "/content/drive/MyDrive/dataset1/annotations_prepped_train/0001TP_007320.png mask\n",
            "/content/drive/MyDrive/dataset1/annotations_prepped_train/0001TP_007350.png mask\n",
            "/content/drive/MyDrive/dataset1/annotations_prepped_train/0001TP_007380.png mask\n",
            "/content/drive/MyDrive/dataset1/annotations_prepped_train/0001TP_007410.png mask\n",
            "/content/drive/MyDrive/dataset1/annotations_prepped_train/0001TP_007440.png mask\n",
            "/content/drive/MyDrive/dataset1/annotations_prepped_train/0001TP_007470.png mask\n",
            "/content/drive/MyDrive/dataset1/annotations_prepped_train/0001TP_007500.png mask\n",
            "/content/drive/MyDrive/dataset1/annotations_prepped_train/0001TP_007530.png mask\n",
            "/content/drive/MyDrive/dataset1/annotations_prepped_train/0001TP_007560.png mask\n",
            "/content/drive/MyDrive/dataset1/annotations_prepped_train/0001TP_007590.png mask\n",
            "/content/drive/MyDrive/dataset1/annotations_prepped_train/0001TP_007620.png mask\n",
            "/content/drive/MyDrive/dataset1/annotations_prepped_train/0001TP_007650.png mask\n",
            "/content/drive/MyDrive/dataset1/annotations_prepped_train/0001TP_007680.png mask\n",
            "/content/drive/MyDrive/dataset1/annotations_prepped_train/0001TP_007710.png mask\n",
            "/content/drive/MyDrive/dataset1/annotations_prepped_train/0001TP_007740.png mask\n",
            "/content/drive/MyDrive/dataset1/annotations_prepped_train/0001TP_007770.png mask\n",
            "/content/drive/MyDrive/dataset1/annotations_prepped_train/0001TP_007800.png mask\n",
            "/content/drive/MyDrive/dataset1/annotations_prepped_train/0001TP_007830.png mask\n",
            "/content/drive/MyDrive/dataset1/annotations_prepped_train/0001TP_007860.png mask\n",
            "/content/drive/MyDrive/dataset1/annotations_prepped_train/0001TP_007890.png mask\n",
            "/content/drive/MyDrive/dataset1/annotations_prepped_train/0001TP_007920.png mask\n",
            "/content/drive/MyDrive/dataset1/annotations_prepped_train/0001TP_007950.png mask\n",
            "/content/drive/MyDrive/dataset1/annotations_prepped_train/0001TP_007980.png mask\n",
            "/content/drive/MyDrive/dataset1/annotations_prepped_train/0001TP_008010.png mask\n",
            "/content/drive/MyDrive/dataset1/annotations_prepped_train/0001TP_008040.png mask\n",
            "/content/drive/MyDrive/dataset1/annotations_prepped_train/0001TP_008070.png mask\n",
            "/content/drive/MyDrive/dataset1/annotations_prepped_train/0001TP_008100.png mask\n",
            "/content/drive/MyDrive/dataset1/annotations_prepped_train/0001TP_008130.png mask\n",
            "/content/drive/MyDrive/dataset1/annotations_prepped_train/0001TP_008160.png mask\n",
            "/content/drive/MyDrive/dataset1/annotations_prepped_train/0001TP_008190.png mask\n",
            "/content/drive/MyDrive/dataset1/annotations_prepped_train/0001TP_008220.png mask\n",
            "/content/drive/MyDrive/dataset1/annotations_prepped_train/0001TP_008250.png mask\n",
            "/content/drive/MyDrive/dataset1/annotations_prepped_train/0001TP_008280.png mask\n",
            "/content/drive/MyDrive/dataset1/annotations_prepped_train/0001TP_008310.png mask\n",
            "/content/drive/MyDrive/dataset1/annotations_prepped_train/0001TP_008340.png mask\n",
            "/content/drive/MyDrive/dataset1/annotations_prepped_train/0001TP_008370.png mask\n",
            "/content/drive/MyDrive/dataset1/annotations_prepped_train/0001TP_008400.png mask\n",
            "/content/drive/MyDrive/dataset1/annotations_prepped_train/0001TP_008430.png mask\n",
            "/content/drive/MyDrive/dataset1/annotations_prepped_train/0001TP_008460.png mask\n",
            "/content/drive/MyDrive/dataset1/annotations_prepped_train/0001TP_008490.png mask\n",
            "/content/drive/MyDrive/dataset1/annotations_prepped_train/0001TP_008520.png mask\n",
            "/content/drive/MyDrive/dataset1/annotations_prepped_train/0006R0_f00930.png mask\n",
            "/content/drive/MyDrive/dataset1/annotations_prepped_train/0006R0_f00960.png mask\n",
            "/content/drive/MyDrive/dataset1/annotations_prepped_train/0006R0_f00990.png mask\n",
            "/content/drive/MyDrive/dataset1/annotations_prepped_train/0006R0_f01020.png mask\n",
            "/content/drive/MyDrive/dataset1/annotations_prepped_train/0006R0_f01050.png mask\n",
            "/content/drive/MyDrive/dataset1/annotations_prepped_train/0006R0_f01080.png mask\n",
            "/content/drive/MyDrive/dataset1/annotations_prepped_train/0006R0_f01110.png mask\n",
            "/content/drive/MyDrive/dataset1/annotations_prepped_train/0006R0_f01140.png mask\n",
            "/content/drive/MyDrive/dataset1/annotations_prepped_train/0006R0_f01170.png mask\n",
            "/content/drive/MyDrive/dataset1/annotations_prepped_train/0006R0_f01200.png mask\n",
            "/content/drive/MyDrive/dataset1/annotations_prepped_train/0006R0_f01230.png mask\n",
            "/content/drive/MyDrive/dataset1/annotations_prepped_train/0006R0_f01260.png mask\n",
            "/content/drive/MyDrive/dataset1/annotations_prepped_train/0006R0_f01290.png mask\n",
            "/content/drive/MyDrive/dataset1/annotations_prepped_train/0006R0_f01320.png mask\n",
            "/content/drive/MyDrive/dataset1/annotations_prepped_train/0006R0_f01350.png mask\n",
            "/content/drive/MyDrive/dataset1/annotations_prepped_train/0006R0_f01380.png mask\n",
            "/content/drive/MyDrive/dataset1/annotations_prepped_train/0006R0_f01410.png mask\n",
            "/content/drive/MyDrive/dataset1/annotations_prepped_train/0006R0_f01440.png mask\n",
            "/content/drive/MyDrive/dataset1/annotations_prepped_train/0006R0_f01470.png mask\n",
            "/content/drive/MyDrive/dataset1/annotations_prepped_train/0006R0_f01500.png mask\n",
            "/content/drive/MyDrive/dataset1/annotations_prepped_train/0006R0_f01530.png mask\n",
            "/content/drive/MyDrive/dataset1/annotations_prepped_train/0006R0_f01560.png mask\n",
            "/content/drive/MyDrive/dataset1/annotations_prepped_train/0006R0_f01590.png mask\n",
            "/content/drive/MyDrive/dataset1/annotations_prepped_train/0006R0_f01620.png mask\n",
            "/content/drive/MyDrive/dataset1/annotations_prepped_train/0006R0_f01650.png mask\n",
            "/content/drive/MyDrive/dataset1/annotations_prepped_train/0006R0_f01680.png mask\n",
            "/content/drive/MyDrive/dataset1/annotations_prepped_train/0006R0_f01710.png mask\n",
            "/content/drive/MyDrive/dataset1/annotations_prepped_train/0006R0_f01740.png mask\n",
            "/content/drive/MyDrive/dataset1/annotations_prepped_train/0006R0_f01770.png mask\n",
            "/content/drive/MyDrive/dataset1/annotations_prepped_train/0006R0_f01800.png mask\n",
            "/content/drive/MyDrive/dataset1/annotations_prepped_train/0006R0_f01830.png mask\n",
            "/content/drive/MyDrive/dataset1/annotations_prepped_train/0006R0_f01860.png mask\n",
            "/content/drive/MyDrive/dataset1/annotations_prepped_train/0006R0_f01890.png mask\n",
            "/content/drive/MyDrive/dataset1/annotations_prepped_train/0006R0_f01920.png mask\n",
            "/content/drive/MyDrive/dataset1/annotations_prepped_train/0006R0_f01950.png mask\n",
            "/content/drive/MyDrive/dataset1/annotations_prepped_train/0006R0_f01980.png mask\n",
            "/content/drive/MyDrive/dataset1/annotations_prepped_train/0006R0_f02010.png mask\n",
            "/content/drive/MyDrive/dataset1/annotations_prepped_train/0006R0_f02040.png mask\n",
            "/content/drive/MyDrive/dataset1/annotations_prepped_train/0006R0_f02070.png mask\n",
            "/content/drive/MyDrive/dataset1/annotations_prepped_train/0006R0_f02100.png mask\n",
            "/content/drive/MyDrive/dataset1/annotations_prepped_train/0006R0_f02130.png mask\n",
            "/content/drive/MyDrive/dataset1/annotations_prepped_train/0006R0_f02160.png mask\n",
            "/content/drive/MyDrive/dataset1/annotations_prepped_train/0006R0_f02190.png mask\n",
            "/content/drive/MyDrive/dataset1/annotations_prepped_train/0006R0_f02220.png mask\n",
            "/content/drive/MyDrive/dataset1/annotations_prepped_train/0006R0_f02250.png mask\n",
            "/content/drive/MyDrive/dataset1/annotations_prepped_train/0006R0_f02280.png mask\n",
            "/content/drive/MyDrive/dataset1/annotations_prepped_train/0006R0_f02310.png mask\n",
            "/content/drive/MyDrive/dataset1/annotations_prepped_train/0006R0_f02340.png mask\n",
            "/content/drive/MyDrive/dataset1/annotations_prepped_train/0006R0_f02370.png mask\n",
            "/content/drive/MyDrive/dataset1/annotations_prepped_train/0006R0_f02400.png mask\n",
            "/content/drive/MyDrive/dataset1/annotations_prepped_train/0006R0_f02430.png mask\n",
            "/content/drive/MyDrive/dataset1/annotations_prepped_train/0006R0_f02460.png mask\n",
            "/content/drive/MyDrive/dataset1/annotations_prepped_train/0006R0_f02490.png mask\n",
            "/content/drive/MyDrive/dataset1/annotations_prepped_train/0006R0_f02520.png mask\n",
            "/content/drive/MyDrive/dataset1/annotations_prepped_train/0006R0_f02550.png mask\n",
            "/content/drive/MyDrive/dataset1/annotations_prepped_train/0006R0_f02580.png mask\n",
            "/content/drive/MyDrive/dataset1/annotations_prepped_train/0006R0_f02610.png mask\n",
            "/content/drive/MyDrive/dataset1/annotations_prepped_train/0006R0_f02640.png mask\n",
            "/content/drive/MyDrive/dataset1/annotations_prepped_train/0006R0_f02670.png mask\n",
            "/content/drive/MyDrive/dataset1/annotations_prepped_train/0006R0_f02700.png mask\n",
            "/content/drive/MyDrive/dataset1/annotations_prepped_train/0006R0_f02730.png mask\n",
            "/content/drive/MyDrive/dataset1/annotations_prepped_train/0006R0_f02760.png mask\n",
            "/content/drive/MyDrive/dataset1/annotations_prepped_train/0006R0_f02790.png mask\n",
            "/content/drive/MyDrive/dataset1/annotations_prepped_train/0006R0_f02820.png mask\n",
            "/content/drive/MyDrive/dataset1/annotations_prepped_train/0006R0_f02850.png mask\n",
            "/content/drive/MyDrive/dataset1/annotations_prepped_train/0006R0_f02880.png mask\n",
            "/content/drive/MyDrive/dataset1/annotations_prepped_train/0006R0_f02910.png mask\n",
            "/content/drive/MyDrive/dataset1/annotations_prepped_train/0006R0_f02940.png mask\n",
            "/content/drive/MyDrive/dataset1/annotations_prepped_train/0006R0_f02970.png mask\n",
            "/content/drive/MyDrive/dataset1/annotations_prepped_train/0006R0_f03000.png mask\n",
            "/content/drive/MyDrive/dataset1/annotations_prepped_train/0006R0_f03030.png mask\n",
            "/content/drive/MyDrive/dataset1/annotations_prepped_train/0006R0_f03060.png mask\n",
            "/content/drive/MyDrive/dataset1/annotations_prepped_train/0006R0_f03090.png mask\n",
            "/content/drive/MyDrive/dataset1/annotations_prepped_train/0006R0_f03120.png mask\n",
            "/content/drive/MyDrive/dataset1/annotations_prepped_train/0006R0_f03150.png mask\n",
            "/content/drive/MyDrive/dataset1/annotations_prepped_train/0006R0_f03180.png mask\n",
            "/content/drive/MyDrive/dataset1/annotations_prepped_train/0006R0_f03210.png mask\n",
            "/content/drive/MyDrive/dataset1/annotations_prepped_train/0006R0_f03240.png mask\n",
            "/content/drive/MyDrive/dataset1/annotations_prepped_train/0006R0_f03270.png mask\n",
            "/content/drive/MyDrive/dataset1/annotations_prepped_train/0006R0_f03300.png mask\n",
            "/content/drive/MyDrive/dataset1/annotations_prepped_train/0006R0_f03330.png mask\n",
            "/content/drive/MyDrive/dataset1/annotations_prepped_train/0006R0_f03360.png mask\n",
            "/content/drive/MyDrive/dataset1/annotations_prepped_train/0006R0_f03390.png mask\n",
            "/content/drive/MyDrive/dataset1/annotations_prepped_train/0006R0_f03420.png mask\n",
            "/content/drive/MyDrive/dataset1/annotations_prepped_train/0006R0_f03450.png mask\n",
            "/content/drive/MyDrive/dataset1/annotations_prepped_train/0006R0_f03480.png mask\n",
            "/content/drive/MyDrive/dataset1/annotations_prepped_train/0006R0_f03510.png mask\n",
            "/content/drive/MyDrive/dataset1/annotations_prepped_train/0006R0_f03540.png mask\n",
            "/content/drive/MyDrive/dataset1/annotations_prepped_train/0006R0_f03570.png mask\n",
            "/content/drive/MyDrive/dataset1/annotations_prepped_train/0006R0_f03600.png mask\n",
            "/content/drive/MyDrive/dataset1/annotations_prepped_train/0006R0_f03630.png mask\n",
            "/content/drive/MyDrive/dataset1/annotations_prepped_train/0006R0_f03660.png mask\n",
            "/content/drive/MyDrive/dataset1/annotations_prepped_train/0006R0_f03690.png mask\n",
            "/content/drive/MyDrive/dataset1/annotations_prepped_train/0006R0_f03720.png mask\n",
            "/content/drive/MyDrive/dataset1/annotations_prepped_train/0006R0_f03750.png mask\n",
            "/content/drive/MyDrive/dataset1/annotations_prepped_train/0006R0_f03780.png mask\n",
            "/content/drive/MyDrive/dataset1/annotations_prepped_train/0006R0_f03810.png mask\n",
            "/content/drive/MyDrive/dataset1/annotations_prepped_train/0006R0_f03840.png mask\n",
            "/content/drive/MyDrive/dataset1/annotations_prepped_train/0006R0_f03870.png mask\n",
            "/content/drive/MyDrive/dataset1/annotations_prepped_train/0006R0_f03900.png mask\n",
            "/content/drive/MyDrive/dataset1/annotations_prepped_train/0006R0_f03930.png mask\n",
            "/content/drive/MyDrive/dataset1/annotations_prepped_train/0016E5_00390.png mask\n",
            "/content/drive/MyDrive/dataset1/annotations_prepped_train/0016E5_00420.png mask\n",
            "/content/drive/MyDrive/dataset1/annotations_prepped_train/0016E5_00450.png mask\n",
            "/content/drive/MyDrive/dataset1/annotations_prepped_train/0016E5_00480.png mask\n",
            "/content/drive/MyDrive/dataset1/annotations_prepped_train/0016E5_00510.png mask\n",
            "/content/drive/MyDrive/dataset1/annotations_prepped_train/0016E5_00540.png mask\n",
            "/content/drive/MyDrive/dataset1/annotations_prepped_train/0016E5_00570.png mask\n",
            "/content/drive/MyDrive/dataset1/annotations_prepped_train/0016E5_00600.png mask\n",
            "/content/drive/MyDrive/dataset1/annotations_prepped_train/0016E5_00630.png mask\n",
            "/content/drive/MyDrive/dataset1/annotations_prepped_train/0016E5_00660.png mask\n",
            "/content/drive/MyDrive/dataset1/annotations_prepped_train/0016E5_00690.png mask\n",
            "/content/drive/MyDrive/dataset1/annotations_prepped_train/0016E5_00720.png mask\n",
            "/content/drive/MyDrive/dataset1/annotations_prepped_train/0016E5_00750.png mask\n",
            "/content/drive/MyDrive/dataset1/annotations_prepped_train/0016E5_00780.png mask\n",
            "/content/drive/MyDrive/dataset1/annotations_prepped_train/0016E5_00810.png mask\n",
            "/content/drive/MyDrive/dataset1/annotations_prepped_train/0016E5_00840.png mask\n",
            "/content/drive/MyDrive/dataset1/annotations_prepped_train/0016E5_00870.png mask\n",
            "/content/drive/MyDrive/dataset1/annotations_prepped_train/0016E5_00901.png mask\n",
            "/content/drive/MyDrive/dataset1/annotations_prepped_train/0016E5_00930.png mask\n",
            "/content/drive/MyDrive/dataset1/annotations_prepped_train/0016E5_00960.png mask\n",
            "/content/drive/MyDrive/dataset1/annotations_prepped_train/0016E5_00990.png mask\n",
            "/content/drive/MyDrive/dataset1/annotations_prepped_train/0016E5_01020.png mask\n",
            "/content/drive/MyDrive/dataset1/annotations_prepped_train/0016E5_01050.png mask\n",
            "/content/drive/MyDrive/dataset1/annotations_prepped_train/0016E5_01080.png mask\n",
            "/content/drive/MyDrive/dataset1/annotations_prepped_train/0016E5_01110.png mask\n",
            "/content/drive/MyDrive/dataset1/annotations_prepped_train/0016E5_01140.png mask\n",
            "/content/drive/MyDrive/dataset1/annotations_prepped_train/0016E5_01170.png mask\n",
            "/content/drive/MyDrive/dataset1/annotations_prepped_train/0016E5_01200.png mask\n",
            "/content/drive/MyDrive/dataset1/annotations_prepped_train/0016E5_01230.png mask\n",
            "/content/drive/MyDrive/dataset1/annotations_prepped_train/0016E5_01260.png mask\n",
            "/content/drive/MyDrive/dataset1/annotations_prepped_train/0016E5_01290.png mask\n",
            "/content/drive/MyDrive/dataset1/annotations_prepped_train/0016E5_01320.png mask\n",
            "/content/drive/MyDrive/dataset1/annotations_prepped_train/0016E5_01350.png mask\n",
            "/content/drive/MyDrive/dataset1/annotations_prepped_train/0016E5_01380.png mask\n",
            "/content/drive/MyDrive/dataset1/annotations_prepped_train/0016E5_01410.png mask\n",
            "/content/drive/MyDrive/dataset1/annotations_prepped_train/0016E5_01440.png mask\n",
            "/content/drive/MyDrive/dataset1/annotations_prepped_train/0016E5_01470.png mask\n",
            "/content/drive/MyDrive/dataset1/annotations_prepped_train/0016E5_01500.png mask\n",
            "/content/drive/MyDrive/dataset1/annotations_prepped_train/0016E5_01530.png mask\n",
            "/content/drive/MyDrive/dataset1/annotations_prepped_train/0016E5_01560.png mask\n",
            "/content/drive/MyDrive/dataset1/annotations_prepped_train/0016E5_01590.png mask\n",
            "/content/drive/MyDrive/dataset1/annotations_prepped_train/0016E5_01620.png mask\n",
            "/content/drive/MyDrive/dataset1/annotations_prepped_train/0016E5_01650.png mask\n",
            "/content/drive/MyDrive/dataset1/annotations_prepped_train/0016E5_01680.png mask\n",
            "/content/drive/MyDrive/dataset1/annotations_prepped_train/0016E5_01710.png mask\n",
            "/content/drive/MyDrive/dataset1/annotations_prepped_train/0016E5_01740.png mask\n",
            "/content/drive/MyDrive/dataset1/annotations_prepped_train/0016E5_01770.png mask\n",
            "/content/drive/MyDrive/dataset1/annotations_prepped_train/0016E5_01800.png mask\n",
            "/content/drive/MyDrive/dataset1/annotations_prepped_train/0016E5_01830.png mask\n",
            "/content/drive/MyDrive/dataset1/annotations_prepped_train/0016E5_01860.png mask\n",
            "/content/drive/MyDrive/dataset1/annotations_prepped_train/0016E5_01890.png mask\n",
            "/content/drive/MyDrive/dataset1/annotations_prepped_train/0016E5_01920.png mask\n",
            "/content/drive/MyDrive/dataset1/annotations_prepped_train/0016E5_01950.png mask\n",
            "/content/drive/MyDrive/dataset1/annotations_prepped_train/0016E5_01980.png mask\n",
            "/content/drive/MyDrive/dataset1/annotations_prepped_train/0016E5_02010.png mask\n",
            "/content/drive/MyDrive/dataset1/annotations_prepped_train/0016E5_02040.png mask\n",
            "/content/drive/MyDrive/dataset1/annotations_prepped_train/0016E5_02070.png mask\n",
            "/content/drive/MyDrive/dataset1/annotations_prepped_train/0016E5_02100.png mask\n",
            "/content/drive/MyDrive/dataset1/annotations_prepped_train/0016E5_02130.png mask\n",
            "/content/drive/MyDrive/dataset1/annotations_prepped_train/0016E5_02160.png mask\n",
            "/content/drive/MyDrive/dataset1/annotations_prepped_train/0016E5_02190.png mask\n",
            "/content/drive/MyDrive/dataset1/annotations_prepped_train/0016E5_02220.png mask\n",
            "/content/drive/MyDrive/dataset1/annotations_prepped_train/0016E5_02250.png mask\n",
            "/content/drive/MyDrive/dataset1/annotations_prepped_train/0016E5_02280.png mask\n",
            "/content/drive/MyDrive/dataset1/annotations_prepped_train/0016E5_02310.png mask\n",
            "/content/drive/MyDrive/dataset1/annotations_prepped_train/0016E5_02340.png mask\n",
            "/content/drive/MyDrive/dataset1/annotations_prepped_train/0016E5_02370.png mask\n",
            "/content/drive/MyDrive/dataset1/annotations_prepped_train/0016E5_02400.png mask\n",
            "/content/drive/MyDrive/dataset1/annotations_prepped_train/0016E5_04350.png mask\n",
            "/content/drive/MyDrive/dataset1/annotations_prepped_train/0016E5_04380.png mask\n",
            "/content/drive/MyDrive/dataset1/annotations_prepped_train/0016E5_04410.png mask\n",
            "/content/drive/MyDrive/dataset1/annotations_prepped_train/0016E5_04440.png mask\n",
            "/content/drive/MyDrive/dataset1/annotations_prepped_train/0016E5_04470.png mask\n",
            "/content/drive/MyDrive/dataset1/annotations_prepped_train/0016E5_04500.png mask\n",
            "/content/drive/MyDrive/dataset1/annotations_prepped_train/0016E5_04530.png mask\n",
            "/content/drive/MyDrive/dataset1/annotations_prepped_train/0016E5_04560.png mask\n",
            "/content/drive/MyDrive/dataset1/annotations_prepped_train/0016E5_04590.png mask\n",
            "/content/drive/MyDrive/dataset1/annotations_prepped_train/0016E5_04620.png mask\n",
            "/content/drive/MyDrive/dataset1/annotations_prepped_train/0016E5_04650.png mask\n",
            "/content/drive/MyDrive/dataset1/annotations_prepped_train/0016E5_04680.png mask\n",
            "/content/drive/MyDrive/dataset1/annotations_prepped_train/0016E5_04710.png mask\n",
            "/content/drive/MyDrive/dataset1/annotations_prepped_train/0016E5_04740.png mask\n",
            "/content/drive/MyDrive/dataset1/annotations_prepped_train/0016E5_04770.png mask\n",
            "/content/drive/MyDrive/dataset1/annotations_prepped_train/0016E5_04800.png mask\n",
            "/content/drive/MyDrive/dataset1/annotations_prepped_train/0016E5_04830.png mask\n",
            "/content/drive/MyDrive/dataset1/annotations_prepped_train/0016E5_04860.png mask\n",
            "/content/drive/MyDrive/dataset1/annotations_prepped_train/0016E5_04890.png mask\n",
            "/content/drive/MyDrive/dataset1/annotations_prepped_train/0016E5_04920.png mask\n",
            "/content/drive/MyDrive/dataset1/annotations_prepped_train/0016E5_04950.png mask\n",
            "/content/drive/MyDrive/dataset1/annotations_prepped_train/0016E5_04980.png mask\n",
            "/content/drive/MyDrive/dataset1/annotations_prepped_train/0016E5_05010.png mask\n",
            "/content/drive/MyDrive/dataset1/annotations_prepped_train/0016E5_05040.png mask\n",
            "/content/drive/MyDrive/dataset1/annotations_prepped_train/0016E5_05070.png mask\n",
            "/content/drive/MyDrive/dataset1/annotations_prepped_train/0016E5_05100.png mask\n",
            "/content/drive/MyDrive/dataset1/annotations_prepped_train/0016E5_05130.png mask\n",
            "/content/drive/MyDrive/dataset1/annotations_prepped_train/0016E5_05160.png mask\n",
            "/content/drive/MyDrive/dataset1/annotations_prepped_train/0016E5_05190.png mask\n",
            "/content/drive/MyDrive/dataset1/annotations_prepped_train/0016E5_05220.png mask\n",
            "/content/drive/MyDrive/dataset1/annotations_prepped_train/0016E5_05250.png mask\n",
            "/content/drive/MyDrive/dataset1/annotations_prepped_train/0016E5_05280.png mask\n",
            "/content/drive/MyDrive/dataset1/annotations_prepped_train/0016E5_05310.png mask\n",
            "/content/drive/MyDrive/dataset1/annotations_prepped_train/0016E5_05340.png mask\n",
            "/content/drive/MyDrive/dataset1/annotations_prepped_train/0016E5_05370.png mask\n",
            "/content/drive/MyDrive/dataset1/annotations_prepped_train/0016E5_05400.png mask\n",
            "/content/drive/MyDrive/dataset1/annotations_prepped_train/0016E5_05430.png mask\n",
            "/content/drive/MyDrive/dataset1/annotations_prepped_train/0016E5_05460.png mask\n",
            "/content/drive/MyDrive/dataset1/annotations_prepped_train/0016E5_05490.png mask\n",
            "/content/drive/MyDrive/dataset1/annotations_prepped_train/0016E5_05520.png mask\n",
            "/content/drive/MyDrive/dataset1/annotations_prepped_train/0016E5_05550.png mask\n",
            "/content/drive/MyDrive/dataset1/annotations_prepped_train/0016E5_05580.png mask\n",
            "/content/drive/MyDrive/dataset1/annotations_prepped_train/0016E5_05610.png mask\n",
            "/content/drive/MyDrive/dataset1/annotations_prepped_train/0016E5_05640.png mask\n",
            "/content/drive/MyDrive/dataset1/annotations_prepped_train/0016E5_05670.png mask\n",
            "/content/drive/MyDrive/dataset1/annotations_prepped_train/0016E5_05700.png mask\n",
            "/content/drive/MyDrive/dataset1/annotations_prepped_train/0016E5_05730.png mask\n",
            "/content/drive/MyDrive/dataset1/annotations_prepped_train/0016E5_05760.png mask\n",
            "/content/drive/MyDrive/dataset1/annotations_prepped_train/0016E5_05790.png mask\n",
            "/content/drive/MyDrive/dataset1/annotations_prepped_train/0016E5_05820.png mask\n",
            "/content/drive/MyDrive/dataset1/annotations_prepped_train/0016E5_05850.png mask\n",
            "/content/drive/MyDrive/dataset1/annotations_prepped_train/0016E5_05880.png mask\n",
            "/content/drive/MyDrive/dataset1/annotations_prepped_train/0016E5_05910.png mask\n",
            "/content/drive/MyDrive/dataset1/annotations_prepped_train/0016E5_05940.png mask\n",
            "/content/drive/MyDrive/dataset1/annotations_prepped_train/0016E5_05970.png mask\n",
            "/content/drive/MyDrive/dataset1/annotations_prepped_train/0016E5_06000.png mask\n",
            "/content/drive/MyDrive/dataset1/annotations_prepped_train/0016E5_06030.png mask\n",
            "/content/drive/MyDrive/dataset1/annotations_prepped_train/0016E5_06060.png mask\n",
            "/content/drive/MyDrive/dataset1/annotations_prepped_train/0016E5_06090.png mask\n",
            "/content/drive/MyDrive/dataset1/annotations_prepped_train/0016E5_06120.png mask\n",
            "/content/drive/MyDrive/dataset1/annotations_prepped_train/0016E5_06150.png mask\n",
            "/content/drive/MyDrive/dataset1/annotations_prepped_train/0016E5_06180.png mask\n",
            "/content/drive/MyDrive/dataset1/annotations_prepped_train/0016E5_06210.png mask\n",
            "/content/drive/MyDrive/dataset1/annotations_prepped_train/0016E5_06240.png mask\n",
            "/content/drive/MyDrive/dataset1/annotations_prepped_train/0016E5_06270.png mask\n",
            "/content/drive/MyDrive/dataset1/annotations_prepped_train/0016E5_06300.png mask\n",
            "/content/drive/MyDrive/dataset1/annotations_prepped_train/0016E5_06330.png mask\n",
            "/content/drive/MyDrive/dataset1/annotations_prepped_train/0016E5_06360.png mask\n",
            "/content/drive/MyDrive/dataset1/annotations_prepped_train/0016E5_06390.png mask\n",
            "/content/drive/MyDrive/dataset1/annotations_prepped_train/0016E5_06420.png mask\n",
            "/content/drive/MyDrive/dataset1/annotations_prepped_train/0016E5_06450.png mask\n",
            "/content/drive/MyDrive/dataset1/annotations_prepped_train/0016E5_06480.png mask\n",
            "/content/drive/MyDrive/dataset1/annotations_prepped_train/0016E5_06510.png mask\n",
            "/content/drive/MyDrive/dataset1/annotations_prepped_train/0016E5_06540.png mask\n",
            "/content/drive/MyDrive/dataset1/annotations_prepped_train/0016E5_06570.png mask\n",
            "/content/drive/MyDrive/dataset1/annotations_prepped_train/0016E5_06600.png mask\n",
            "/content/drive/MyDrive/dataset1/annotations_prepped_train/0016E5_06630.png mask\n",
            "/content/drive/MyDrive/dataset1/annotations_prepped_train/0016E5_06660.png mask\n",
            "/content/drive/MyDrive/dataset1/annotations_prepped_train/0016E5_06690.png mask\n",
            "/content/drive/MyDrive/dataset1/annotations_prepped_train/0016E5_06720.png mask\n",
            "/content/drive/MyDrive/dataset1/annotations_prepped_train/0016E5_06750.png mask\n",
            "/content/drive/MyDrive/dataset1/annotations_prepped_train/0016E5_06780.png mask\n",
            "/content/drive/MyDrive/dataset1/annotations_prepped_train/0016E5_06810.png mask\n",
            "/content/drive/MyDrive/dataset1/annotations_prepped_train/0016E5_06840.png mask\n",
            "/content/drive/MyDrive/dataset1/annotations_prepped_train/0016E5_06870.png mask\n",
            "/content/drive/MyDrive/dataset1/annotations_prepped_train/0016E5_06900.png mask\n",
            "/content/drive/MyDrive/dataset1/annotations_prepped_train/0016E5_06930.png mask\n",
            "/content/drive/MyDrive/dataset1/annotations_prepped_train/0016E5_06960.png mask\n",
            "/content/drive/MyDrive/dataset1/annotations_prepped_train/0016E5_06990.png mask\n",
            "/content/drive/MyDrive/dataset1/annotations_prepped_train/0016E5_07020.png mask\n",
            "/content/drive/MyDrive/dataset1/annotations_prepped_train/0016E5_07050.png mask\n",
            "/content/drive/MyDrive/dataset1/annotations_prepped_train/0016E5_07080.png mask\n",
            "/content/drive/MyDrive/dataset1/annotations_prepped_train/0016E5_07110.png mask\n",
            "/content/drive/MyDrive/dataset1/annotations_prepped_train/0016E5_07140.png mask\n",
            "/content/drive/MyDrive/dataset1/annotations_prepped_train/0016E5_07170.png mask\n",
            "/content/drive/MyDrive/dataset1/annotations_prepped_train/0016E5_07200.png mask\n",
            "/content/drive/MyDrive/dataset1/annotations_prepped_train/0016E5_07230.png mask\n",
            "/content/drive/MyDrive/dataset1/annotations_prepped_train/0016E5_07260.png mask\n",
            "/content/drive/MyDrive/dataset1/annotations_prepped_train/0016E5_07290.png mask\n",
            "/content/drive/MyDrive/dataset1/annotations_prepped_train/0016E5_07320.png mask\n",
            "/content/drive/MyDrive/dataset1/annotations_prepped_train/0016E5_07350.png mask\n",
            "/content/drive/MyDrive/dataset1/annotations_prepped_train/0016E5_07380.png mask\n",
            "/content/drive/MyDrive/dataset1/annotations_prepped_train/0016E5_07410.png mask\n",
            "/content/drive/MyDrive/dataset1/annotations_prepped_train/0016E5_07440.png mask\n",
            "/content/drive/MyDrive/dataset1/annotations_prepped_train/0016E5_07470.png mask\n",
            "/content/drive/MyDrive/dataset1/annotations_prepped_train/0016E5_07500.png mask\n",
            "/content/drive/MyDrive/dataset1/annotations_prepped_train/0016E5_07530.png mask\n",
            "/content/drive/MyDrive/dataset1/annotations_prepped_train/0016E5_07560.png mask\n",
            "/content/drive/MyDrive/dataset1/annotations_prepped_train/0016E5_07590.png mask\n",
            "/content/drive/MyDrive/dataset1/annotations_prepped_train/0016E5_07620.png mask\n",
            "/content/drive/MyDrive/dataset1/annotations_prepped_train/0016E5_07650.png mask\n",
            "/content/drive/MyDrive/dataset1/annotations_prepped_train/0016E5_07680.png mask\n",
            "/content/drive/MyDrive/dataset1/annotations_prepped_train/0016E5_07710.png mask\n",
            "/content/drive/MyDrive/dataset1/annotations_prepped_train/0016E5_07740.png mask\n",
            "/content/drive/MyDrive/dataset1/annotations_prepped_train/0016E5_07770.png mask\n",
            "/content/drive/MyDrive/dataset1/annotations_prepped_train/0016E5_07800.png mask\n",
            "/content/drive/MyDrive/dataset1/annotations_prepped_train/0016E5_07830.png mask\n",
            "/content/drive/MyDrive/dataset1/annotations_prepped_train/0016E5_07860.png mask\n",
            "/content/drive/MyDrive/dataset1/annotations_prepped_train/0016E5_07890.png mask\n",
            "/content/drive/MyDrive/dataset1/annotations_prepped_train/0016E5_07920.png mask\n",
            "/content/drive/MyDrive/dataset1/annotations_prepped_train/0016E5_08190.png mask\n",
            "/content/drive/MyDrive/dataset1/annotations_prepped_train/0016E5_08220.png mask\n",
            "/content/drive/MyDrive/dataset1/annotations_prepped_train/0016E5_08250.png mask\n",
            "/content/drive/MyDrive/dataset1/annotations_prepped_train/0016E5_08280.png mask\n",
            "/content/drive/MyDrive/dataset1/annotations_prepped_train/0016E5_08310.png mask\n",
            "/content/drive/MyDrive/dataset1/annotations_prepped_train/0016E5_08340.png mask\n",
            "/content/drive/MyDrive/dataset1/annotations_prepped_train/0016E5_08370.png mask\n",
            "/content/drive/MyDrive/dataset1/annotations_prepped_train/0016E5_08400.png mask\n",
            "/content/drive/MyDrive/dataset1/annotations_prepped_train/0016E5_08430.png mask\n",
            "/content/drive/MyDrive/dataset1/annotations_prepped_train/0016E5_08460.png mask\n",
            "/content/drive/MyDrive/dataset1/annotations_prepped_train/0016E5_08490.png mask\n",
            "/content/drive/MyDrive/dataset1/annotations_prepped_train/0016E5_08520.png mask\n",
            "/content/drive/MyDrive/dataset1/annotations_prepped_train/0016E5_08550.png mask\n",
            "/content/drive/MyDrive/dataset1/annotations_prepped_train/0016E5_08580.png mask\n",
            "/content/drive/MyDrive/dataset1/annotations_prepped_train/0016E5_08610.png mask\n",
            "/content/drive/MyDrive/dataset1/annotations_prepped_train/0016E5_08640.png mask\n"
          ]
        },
        {
          "output_type": "stream",
          "name": "stderr",
          "text": [
            "/usr/local/lib/python3.7/dist-packages/sklearn/preprocessing/_label.py:115: DataConversionWarning: A column-vector y was passed when a 1d array was expected. Please change the shape of y to (n_samples, ), for example using ravel().\n",
            "  y = column_or_1d(y, warn=True)\n"
          ]
        },
        {
          "output_type": "stream",
          "name": "stdout",
          "text": [
            "Downloading data from https://github.com/fchollet/deep-learning-models/releases/download/v0.1/vgg16_weights_tf_dim_ordering_tf_kernels_notop.h5\n",
            "58892288/58889256 [==============================] - 0s 0us/step\n",
            "58900480/58889256 [==============================] - 0s 0us/step\n",
            "Model: \"model_11\"\n",
            "__________________________________________________________________________________________________\n",
            " Layer (type)                   Output Shape         Param #     Connected to                     \n",
            "==================================================================================================\n",
            " input_2 (InputLayer)           [(None, None, None,  0           []                               \n",
            "                                 3)]                                                              \n",
            "                                                                                                  \n",
            " block1_conv1 (Conv2D)          (None, None, None,   1792        ['input_2[0][0]']                \n",
            "                                64)                                                               \n",
            "                                                                                                  \n",
            " block1_conv2 (Conv2D)          (None, None, None,   36928       ['block1_conv1[0][0]']           \n",
            "                                64)                                                               \n",
            "                                                                                                  \n",
            " block1_pool (MaxPooling2D)     (None, None, None,   0           ['block1_conv2[0][0]']           \n",
            "                                64)                                                               \n",
            "                                                                                                  \n",
            " block2_conv1 (Conv2D)          (None, None, None,   73856       ['block1_pool[0][0]']            \n",
            "                                128)                                                              \n",
            "                                                                                                  \n",
            " block2_conv2 (Conv2D)          (None, None, None,   147584      ['block2_conv1[0][0]']           \n",
            "                                128)                                                              \n",
            "                                                                                                  \n",
            " block2_pool (MaxPooling2D)     (None, None, None,   0           ['block2_conv2[0][0]']           \n",
            "                                128)                                                              \n",
            "                                                                                                  \n",
            " block3_conv1 (Conv2D)          (None, None, None,   295168      ['block2_pool[0][0]']            \n",
            "                                256)                                                              \n",
            "                                                                                                  \n",
            " block3_conv2 (Conv2D)          (None, None, None,   590080      ['block3_conv1[0][0]']           \n",
            "                                256)                                                              \n",
            "                                                                                                  \n",
            " block3_conv3 (Conv2D)          (None, None, None,   590080      ['block3_conv2[0][0]']           \n",
            "                                256)                                                              \n",
            "                                                                                                  \n",
            " block3_pool (MaxPooling2D)     (None, None, None,   0           ['block3_conv3[0][0]']           \n",
            "                                256)                                                              \n",
            "                                                                                                  \n",
            " block4_conv1 (Conv2D)          (None, None, None,   1180160     ['block3_pool[0][0]']            \n",
            "                                512)                                                              \n",
            "                                                                                                  \n",
            " block4_conv2 (Conv2D)          (None, None, None,   2359808     ['block4_conv1[0][0]']           \n",
            "                                512)                                                              \n",
            "                                                                                                  \n",
            " block4_conv3 (Conv2D)          (None, None, None,   2359808     ['block4_conv2[0][0]']           \n",
            "                                512)                                                              \n",
            "                                                                                                  \n",
            " block4_pool (MaxPooling2D)     (None, None, None,   0           ['block4_conv3[0][0]']           \n",
            "                                512)                                                              \n",
            "                                                                                                  \n",
            " block5_conv1 (Conv2D)          (None, None, None,   2359808     ['block4_pool[0][0]']            \n",
            "                                512)                                                              \n",
            "                                                                                                  \n",
            " block5_conv2 (Conv2D)          (None, None, None,   2359808     ['block5_conv1[0][0]']           \n",
            "                                512)                                                              \n",
            "                                                                                                  \n",
            " block5_conv3 (Conv2D)          (None, None, None,   2359808     ['block5_conv2[0][0]']           \n",
            "                                512)                                                              \n",
            "                                                                                                  \n",
            " block5_pool (MaxPooling2D)     (None, None, None,   0           ['block5_conv3[0][0]']           \n",
            "                                512)                                                              \n",
            "                                                                                                  \n",
            " center_block1_conv (Conv2D)    (None, None, None,   2359296     ['block5_pool[0][0]']            \n",
            "                                512)                                                              \n",
            "                                                                                                  \n",
            " center_block1_bn (BatchNormali  (None, None, None,   2048       ['center_block1_conv[0][0]']     \n",
            " zation)                        512)                                                              \n",
            "                                                                                                  \n",
            " center_block1_relu (Activation  (None, None, None,   0          ['center_block1_bn[0][0]']       \n",
            " )                              512)                                                              \n",
            "                                                                                                  \n",
            " center_block2_conv (Conv2D)    (None, None, None,   2359296     ['center_block1_relu[0][0]']     \n",
            "                                512)                                                              \n",
            "                                                                                                  \n",
            " center_block2_bn (BatchNormali  (None, None, None,   2048       ['center_block2_conv[0][0]']     \n",
            " zation)                        512)                                                              \n",
            "                                                                                                  \n",
            " center_block2_relu (Activation  (None, None, None,   0          ['center_block2_bn[0][0]']       \n",
            " )                              512)                                                              \n",
            "                                                                                                  \n",
            " decoder_stage0_upsampling (UpS  (None, None, None,   0          ['center_block2_relu[0][0]']     \n",
            " ampling2D)                     512)                                                              \n",
            "                                                                                                  \n",
            " decoder_stage0_concat (Concate  (None, None, None,   0          ['decoder_stage0_upsampling[0][0]\n",
            " nate)                          1024)                            ',                               \n",
            "                                                                  'block5_conv3[0][0]']           \n",
            "                                                                                                  \n",
            " decoder_stage0a_conv (Conv2D)  (None, None, None,   2359296     ['decoder_stage0_concat[0][0]']  \n",
            "                                256)                                                              \n",
            "                                                                                                  \n",
            " decoder_stage0a_bn (BatchNorma  (None, None, None,   1024       ['decoder_stage0a_conv[0][0]']   \n",
            " lization)                      256)                                                              \n",
            "                                                                                                  \n",
            " decoder_stage0a_relu (Activati  (None, None, None,   0          ['decoder_stage0a_bn[0][0]']     \n",
            " on)                            256)                                                              \n",
            "                                                                                                  \n",
            " decoder_stage0b_conv (Conv2D)  (None, None, None,   589824      ['decoder_stage0a_relu[0][0]']   \n",
            "                                256)                                                              \n",
            "                                                                                                  \n",
            " decoder_stage0b_bn (BatchNorma  (None, None, None,   1024       ['decoder_stage0b_conv[0][0]']   \n",
            " lization)                      256)                                                              \n",
            "                                                                                                  \n",
            " decoder_stage0b_relu (Activati  (None, None, None,   0          ['decoder_stage0b_bn[0][0]']     \n",
            " on)                            256)                                                              \n",
            "                                                                                                  \n",
            " decoder_stage1_upsampling (UpS  (None, None, None,   0          ['decoder_stage0b_relu[0][0]']   \n",
            " ampling2D)                     256)                                                              \n",
            "                                                                                                  \n",
            " decoder_stage1_concat (Concate  (None, None, None,   0          ['decoder_stage1_upsampling[0][0]\n",
            " nate)                          768)                             ',                               \n",
            "                                                                  'block4_conv3[0][0]']           \n",
            "                                                                                                  \n",
            " decoder_stage1a_conv (Conv2D)  (None, None, None,   884736      ['decoder_stage1_concat[0][0]']  \n",
            "                                128)                                                              \n",
            "                                                                                                  \n",
            " decoder_stage1a_bn (BatchNorma  (None, None, None,   512        ['decoder_stage1a_conv[0][0]']   \n",
            " lization)                      128)                                                              \n",
            "                                                                                                  \n",
            " decoder_stage1a_relu (Activati  (None, None, None,   0          ['decoder_stage1a_bn[0][0]']     \n",
            " on)                            128)                                                              \n",
            "                                                                                                  \n",
            " decoder_stage1b_conv (Conv2D)  (None, None, None,   147456      ['decoder_stage1a_relu[0][0]']   \n",
            "                                128)                                                              \n",
            "                                                                                                  \n",
            " decoder_stage1b_bn (BatchNorma  (None, None, None,   512        ['decoder_stage1b_conv[0][0]']   \n",
            " lization)                      128)                                                              \n",
            "                                                                                                  \n",
            " decoder_stage1b_relu (Activati  (None, None, None,   0          ['decoder_stage1b_bn[0][0]']     \n",
            " on)                            128)                                                              \n",
            "                                                                                                  \n",
            " decoder_stage2_upsampling (UpS  (None, None, None,   0          ['decoder_stage1b_relu[0][0]']   \n",
            " ampling2D)                     128)                                                              \n",
            "                                                                                                  \n",
            " decoder_stage2_concat (Concate  (None, None, None,   0          ['decoder_stage2_upsampling[0][0]\n",
            " nate)                          384)                             ',                               \n",
            "                                                                  'block3_conv3[0][0]']           \n",
            "                                                                                                  \n",
            " decoder_stage2a_conv (Conv2D)  (None, None, None,   221184      ['decoder_stage2_concat[0][0]']  \n",
            "                                64)                                                               \n",
            "                                                                                                  \n",
            " decoder_stage2a_bn (BatchNorma  (None, None, None,   256        ['decoder_stage2a_conv[0][0]']   \n",
            " lization)                      64)                                                               \n",
            "                                                                                                  \n",
            " decoder_stage2a_relu (Activati  (None, None, None,   0          ['decoder_stage2a_bn[0][0]']     \n",
            " on)                            64)                                                               \n",
            "                                                                                                  \n",
            " decoder_stage2b_conv (Conv2D)  (None, None, None,   36864       ['decoder_stage2a_relu[0][0]']   \n",
            "                                64)                                                               \n",
            "                                                                                                  \n",
            " decoder_stage2b_bn (BatchNorma  (None, None, None,   256        ['decoder_stage2b_conv[0][0]']   \n",
            " lization)                      64)                                                               \n",
            "                                                                                                  \n",
            " decoder_stage2b_relu (Activati  (None, None, None,   0          ['decoder_stage2b_bn[0][0]']     \n",
            " on)                            64)                                                               \n",
            "                                                                                                  \n",
            " decoder_stage3_upsampling (UpS  (None, None, None,   0          ['decoder_stage2b_relu[0][0]']   \n",
            " ampling2D)                     64)                                                               \n",
            "                                                                                                  \n",
            " decoder_stage3_concat (Concate  (None, None, None,   0          ['decoder_stage3_upsampling[0][0]\n",
            " nate)                          192)                             ',                               \n",
            "                                                                  'block2_conv2[0][0]']           \n",
            "                                                                                                  \n",
            " decoder_stage3a_conv (Conv2D)  (None, None, None,   55296       ['decoder_stage3_concat[0][0]']  \n",
            "                                32)                                                               \n",
            "                                                                                                  \n",
            " decoder_stage3a_bn (BatchNorma  (None, None, None,   128        ['decoder_stage3a_conv[0][0]']   \n",
            " lization)                      32)                                                               \n",
            "                                                                                                  \n",
            " decoder_stage3a_relu (Activati  (None, None, None,   0          ['decoder_stage3a_bn[0][0]']     \n",
            " on)                            32)                                                               \n",
            "                                                                                                  \n",
            " decoder_stage3b_conv (Conv2D)  (None, None, None,   9216        ['decoder_stage3a_relu[0][0]']   \n",
            "                                32)                                                               \n",
            "                                                                                                  \n",
            " decoder_stage3b_bn (BatchNorma  (None, None, None,   128        ['decoder_stage3b_conv[0][0]']   \n",
            " lization)                      32)                                                               \n",
            "                                                                                                  \n",
            " decoder_stage3b_relu (Activati  (None, None, None,   0          ['decoder_stage3b_bn[0][0]']     \n",
            " on)                            32)                                                               \n",
            "                                                                                                  \n",
            " decoder_stage4_upsampling (UpS  (None, None, None,   0          ['decoder_stage3b_relu[0][0]']   \n",
            " ampling2D)                     32)                                                               \n",
            "                                                                                                  \n",
            " decoder_stage4a_conv (Conv2D)  (None, None, None,   4608        ['decoder_stage4_upsampling[0][0]\n",
            "                                16)                              ']                               \n",
            "                                                                                                  \n",
            " decoder_stage4a_bn (BatchNorma  (None, None, None,   64         ['decoder_stage4a_conv[0][0]']   \n",
            " lization)                      16)                                                               \n",
            "                                                                                                  \n",
            " decoder_stage4a_relu (Activati  (None, None, None,   0          ['decoder_stage4a_bn[0][0]']     \n",
            " on)                            16)                                                               \n",
            "                                                                                                  \n",
            " decoder_stage4b_conv (Conv2D)  (None, None, None,   2304        ['decoder_stage4a_relu[0][0]']   \n",
            "                                16)                                                               \n",
            "                                                                                                  \n",
            " decoder_stage4b_bn (BatchNorma  (None, None, None,   64         ['decoder_stage4b_conv[0][0]']   \n",
            " lization)                      16)                                                               \n",
            "                                                                                                  \n",
            " decoder_stage4b_relu (Activati  (None, None, None,   0          ['decoder_stage4b_bn[0][0]']     \n",
            " on)                            16)                                                               \n",
            "                                                                                                  \n",
            " final_conv (Conv2D)            (None, None, None,   1740        ['decoder_stage4b_relu[0][0]']   \n",
            "                                12)                                                               \n",
            "                                                                                                  \n",
            " softmax (Activation)           (None, None, None,   0           ['final_conv[0][0]']             \n",
            "                                12)                                                               \n",
            "                                                                                                  \n",
            "==================================================================================================\n",
            "Total params: 23,753,868\n",
            "Trainable params: 23,749,836\n",
            "Non-trainable params: 4,032\n",
            "__________________________________________________________________________________________________\n",
            "None\n"
          ]
        }
      ]
    },
    {
      "cell_type": "code",
      "source": [
        "VGG16History= vgg16.fit(training_imgs, \n",
        "          y_masks,\n",
        "          batch_size=32, \n",
        "          epochs=50,\n",
        "          verbose=1)\n",
        "tf.saved_model.save(vgg16, 'VGG16') "
      ],
      "metadata": {
        "colab": {
          "base_uri": "https://localhost:8080/"
        },
        "id": "Ee2IIRoG5c6i",
        "outputId": "7f92e394-22fd-423d-c642-cdb6e636c5c4"
      },
      "execution_count": 45,
      "outputs": [
        {
          "output_type": "stream",
          "name": "stdout",
          "text": [
            "Epoch 1/50\n",
            "12/12 [==============================] - 336s 28s/step - loss: 2.3604 - iou_score: 0.0044 - f1-score: 0.0085 - accuracy: 0.1912 - dice_coef: 0.1159\n",
            "Epoch 2/50\n",
            "12/12 [==============================] - 331s 28s/step - loss: 1.7763 - iou_score: 0.0134 - f1-score: 0.0223 - accuracy: 0.5168 - dice_coef: 0.2110\n",
            "Epoch 3/50\n",
            "12/12 [==============================] - 326s 27s/step - loss: 1.4359 - iou_score: 0.0869 - f1-score: 0.1127 - accuracy: 0.6369 - dice_coef: 0.3168\n",
            "Epoch 4/50\n",
            "12/12 [==============================] - 324s 27s/step - loss: 1.2458 - iou_score: 0.1259 - f1-score: 0.1510 - accuracy: 0.6715 - dice_coef: 0.3953\n",
            "Epoch 5/50\n",
            "12/12 [==============================] - 325s 27s/step - loss: 1.1239 - iou_score: 0.1505 - f1-score: 0.1781 - accuracy: 0.6900 - dice_coef: 0.4545\n",
            "Epoch 6/50\n",
            "12/12 [==============================] - 325s 27s/step - loss: 1.0379 - iou_score: 0.1686 - f1-score: 0.1980 - accuracy: 0.7100 - dice_coef: 0.4962\n",
            "Epoch 7/50\n",
            "12/12 [==============================] - 327s 27s/step - loss: 0.9721 - iou_score: 0.1829 - f1-score: 0.2155 - accuracy: 0.7289 - dice_coef: 0.5286\n",
            "Epoch 8/50\n",
            "12/12 [==============================] - 328s 27s/step - loss: 0.9181 - iou_score: 0.2019 - f1-score: 0.2422 - accuracy: 0.7451 - dice_coef: 0.5556\n",
            "Epoch 9/50\n",
            "12/12 [==============================] - 326s 27s/step - loss: 0.8692 - iou_score: 0.2178 - f1-score: 0.2625 - accuracy: 0.7579 - dice_coef: 0.5784\n",
            "Epoch 10/50\n",
            "12/12 [==============================] - 328s 27s/step - loss: 0.8317 - iou_score: 0.2318 - f1-score: 0.2789 - accuracy: 0.7685 - dice_coef: 0.5987\n",
            "Epoch 11/50\n",
            "12/12 [==============================] - 327s 27s/step - loss: 0.7954 - iou_score: 0.2460 - f1-score: 0.2941 - accuracy: 0.7772 - dice_coef: 0.6170\n",
            "Epoch 12/50\n",
            "12/12 [==============================] - 327s 27s/step - loss: 0.7695 - iou_score: 0.2545 - f1-score: 0.3031 - accuracy: 0.7837 - dice_coef: 0.6294\n",
            "Epoch 13/50\n",
            "12/12 [==============================] - 327s 27s/step - loss: 0.7400 - iou_score: 0.2643 - f1-score: 0.3126 - accuracy: 0.7918 - dice_coef: 0.6437\n",
            "Epoch 14/50\n",
            "12/12 [==============================] - 326s 27s/step - loss: 0.7122 - iou_score: 0.2739 - f1-score: 0.3215 - accuracy: 0.7996 - dice_coef: 0.6576\n",
            "Epoch 15/50\n",
            "12/12 [==============================] - 327s 27s/step - loss: 0.6886 - iou_score: 0.2804 - f1-score: 0.3271 - accuracy: 0.8064 - dice_coef: 0.6692\n",
            "Epoch 16/50\n",
            "12/12 [==============================] - 327s 27s/step - loss: 0.6634 - iou_score: 0.2878 - f1-score: 0.3335 - accuracy: 0.8155 - dice_coef: 0.6812\n",
            "Epoch 17/50\n",
            "12/12 [==============================] - 329s 27s/step - loss: 0.6397 - iou_score: 0.2946 - f1-score: 0.3390 - accuracy: 0.8234 - dice_coef: 0.6916\n",
            "Epoch 18/50\n",
            "12/12 [==============================] - 328s 27s/step - loss: 0.6188 - iou_score: 0.3012 - f1-score: 0.3449 - accuracy: 0.8299 - dice_coef: 0.7008\n",
            "Epoch 19/50\n",
            "12/12 [==============================] - 328s 27s/step - loss: 0.6031 - iou_score: 0.3089 - f1-score: 0.3535 - accuracy: 0.8349 - dice_coef: 0.7103\n",
            "Epoch 20/50\n",
            "12/12 [==============================] - 327s 27s/step - loss: 0.5810 - iou_score: 0.3204 - f1-score: 0.3689 - accuracy: 0.8428 - dice_coef: 0.7184\n",
            "Epoch 21/50\n",
            "12/12 [==============================] - 327s 27s/step - loss: 0.5626 - iou_score: 0.3336 - f1-score: 0.3839 - accuracy: 0.8476 - dice_coef: 0.7290\n",
            "Epoch 22/50\n",
            "12/12 [==============================] - 325s 27s/step - loss: 0.5438 - iou_score: 0.3469 - f1-score: 0.3986 - accuracy: 0.8532 - dice_coef: 0.7375\n",
            "Epoch 23/50\n",
            "12/12 [==============================] - 326s 27s/step - loss: 0.5334 - iou_score: 0.3542 - f1-score: 0.4061 - accuracy: 0.8553 - dice_coef: 0.7433\n",
            "Epoch 24/50\n",
            "12/12 [==============================] - 327s 27s/step - loss: 0.5196 - iou_score: 0.3627 - f1-score: 0.4138 - accuracy: 0.8575 - dice_coef: 0.7496\n",
            "Epoch 25/50\n",
            "12/12 [==============================] - 325s 27s/step - loss: 0.5049 - iou_score: 0.3707 - f1-score: 0.4204 - accuracy: 0.8619 - dice_coef: 0.7565\n",
            "Epoch 26/50\n",
            "12/12 [==============================] - 326s 27s/step - loss: 0.4908 - iou_score: 0.3784 - f1-score: 0.4265 - accuracy: 0.8646 - dice_coef: 0.7634\n",
            "Epoch 27/50\n",
            "12/12 [==============================] - 324s 27s/step - loss: 0.4817 - iou_score: 0.3816 - f1-score: 0.4289 - accuracy: 0.8663 - dice_coef: 0.7677\n",
            "Epoch 28/50\n",
            "12/12 [==============================] - 325s 27s/step - loss: 0.4693 - iou_score: 0.3875 - f1-score: 0.4333 - accuracy: 0.8698 - dice_coef: 0.7748\n",
            "Epoch 29/50\n",
            "12/12 [==============================] - 326s 27s/step - loss: 0.4592 - iou_score: 0.3916 - f1-score: 0.4362 - accuracy: 0.8719 - dice_coef: 0.7798\n",
            "Epoch 30/50\n",
            "12/12 [==============================] - 324s 27s/step - loss: 0.4505 - iou_score: 0.3921 - f1-score: 0.4365 - accuracy: 0.8735 - dice_coef: 0.7833\n",
            "Epoch 31/50\n",
            "12/12 [==============================] - 325s 27s/step - loss: 0.4429 - iou_score: 0.3969 - f1-score: 0.4400 - accuracy: 0.8758 - dice_coef: 0.7872\n",
            "Epoch 32/50\n",
            "12/12 [==============================] - 326s 27s/step - loss: 0.4341 - iou_score: 0.3994 - f1-score: 0.4417 - accuracy: 0.8787 - dice_coef: 0.7907\n",
            "Epoch 33/50\n",
            "12/12 [==============================] - 327s 27s/step - loss: 0.4291 - iou_score: 0.4013 - f1-score: 0.4430 - accuracy: 0.8796 - dice_coef: 0.7931\n",
            "Epoch 34/50\n",
            "12/12 [==============================] - 326s 27s/step - loss: 0.4281 - iou_score: 0.4015 - f1-score: 0.4432 - accuracy: 0.8799 - dice_coef: 0.7947\n",
            "Epoch 35/50\n",
            "12/12 [==============================] - 327s 27s/step - loss: 0.4177 - iou_score: 0.4055 - f1-score: 0.4459 - accuracy: 0.8832 - dice_coef: 0.8001\n",
            "Epoch 36/50\n",
            "12/12 [==============================] - 325s 27s/step - loss: 0.4052 - iou_score: 0.4084 - f1-score: 0.4478 - accuracy: 0.8869 - dice_coef: 0.8042\n",
            "Epoch 37/50\n",
            "12/12 [==============================] - 326s 27s/step - loss: 0.4001 - iou_score: 0.4107 - f1-score: 0.4496 - accuracy: 0.8884 - dice_coef: 0.8062\n",
            "Epoch 38/50\n",
            "12/12 [==============================] - 328s 27s/step - loss: 0.3961 - iou_score: 0.4121 - f1-score: 0.4508 - accuracy: 0.8897 - dice_coef: 0.8085\n",
            "Epoch 39/50\n",
            "12/12 [==============================] - 328s 27s/step - loss: 0.3937 - iou_score: 0.4130 - f1-score: 0.4522 - accuracy: 0.8908 - dice_coef: 0.8111\n",
            "Epoch 40/50\n",
            "12/12 [==============================] - 327s 27s/step - loss: 0.3842 - iou_score: 0.4161 - f1-score: 0.4548 - accuracy: 0.8934 - dice_coef: 0.8134\n",
            "Epoch 41/50\n",
            "12/12 [==============================] - 325s 27s/step - loss: 0.3814 - iou_score: 0.4179 - f1-score: 0.4567 - accuracy: 0.8941 - dice_coef: 0.8157\n",
            "Epoch 42/50\n",
            "12/12 [==============================] - 326s 27s/step - loss: 0.3721 - iou_score: 0.4210 - f1-score: 0.4601 - accuracy: 0.8975 - dice_coef: 0.8181\n",
            "Epoch 43/50\n",
            "12/12 [==============================] - 326s 27s/step - loss: 0.3719 - iou_score: 0.4229 - f1-score: 0.4624 - accuracy: 0.8974 - dice_coef: 0.8203\n",
            "Epoch 44/50\n",
            "12/12 [==============================] - 326s 27s/step - loss: 0.3651 - iou_score: 0.4247 - f1-score: 0.4644 - accuracy: 0.8991 - dice_coef: 0.8229\n",
            "Epoch 45/50\n",
            "12/12 [==============================] - 326s 27s/step - loss: 0.3600 - iou_score: 0.4271 - f1-score: 0.4672 - accuracy: 0.9006 - dice_coef: 0.8250\n",
            "Epoch 46/50\n",
            "12/12 [==============================] - 326s 27s/step - loss: 0.3549 - iou_score: 0.4299 - f1-score: 0.4697 - accuracy: 0.9021 - dice_coef: 0.8276\n",
            "Epoch 47/50\n",
            "12/12 [==============================] - 326s 27s/step - loss: 0.3475 - iou_score: 0.4322 - f1-score: 0.4718 - accuracy: 0.9043 - dice_coef: 0.8309\n",
            "Epoch 48/50\n",
            "12/12 [==============================] - 326s 27s/step - loss: 0.3449 - iou_score: 0.4331 - f1-score: 0.4731 - accuracy: 0.9045 - dice_coef: 0.8320\n",
            "Epoch 49/50\n",
            "12/12 [==============================] - 325s 27s/step - loss: 0.3432 - iou_score: 0.4357 - f1-score: 0.4761 - accuracy: 0.9049 - dice_coef: 0.8336\n",
            "Epoch 50/50\n",
            "12/12 [==============================] - 326s 27s/step - loss: 0.3377 - iou_score: 0.4358 - f1-score: 0.4767 - accuracy: 0.9062 - dice_coef: 0.8355\n",
            "INFO:tensorflow:Assets written to: VGG16/assets\n"
          ]
        }
      ]
    },
    {
      "cell_type": "code",
      "source": [
        "tf.saved_model.save('VGG16') "
      ],
      "metadata": {
        "colab": {
          "base_uri": "https://localhost:8080/",
          "height": 165
        },
        "id": "qcmsko-3uHS6",
        "outputId": "cffe9d0f-6f59-4a5a-fe29-9672e4ff388c"
      },
      "execution_count": 48,
      "outputs": [
        {
          "output_type": "error",
          "ename": "TypeError",
          "evalue": "ignored",
          "traceback": [
            "\u001b[0;31m---------------------------------------------------------------------------\u001b[0m",
            "\u001b[0;31mTypeError\u001b[0m                                 Traceback (most recent call last)",
            "\u001b[0;32m<ipython-input-48-5ba63e4b4397>\u001b[0m in \u001b[0;36m<module>\u001b[0;34m()\u001b[0m\n\u001b[0;32m----> 1\u001b[0;31m \u001b[0mtf\u001b[0m\u001b[0;34m.\u001b[0m\u001b[0msaved_model\u001b[0m\u001b[0;34m.\u001b[0m\u001b[0msave\u001b[0m\u001b[0;34m(\u001b[0m\u001b[0;34m'VGG16'\u001b[0m\u001b[0;34m)\u001b[0m\u001b[0;34m\u001b[0m\u001b[0;34m\u001b[0m\u001b[0m\n\u001b[0m",
            "\u001b[0;31mTypeError\u001b[0m: save() missing 1 required positional argument: 'export_dir'"
          ]
        }
      ]
    },
    {
      "cell_type": "code",
      "source": [
        "trainingGraph(VGG16History)"
      ],
      "metadata": {
        "colab": {
          "base_uri": "https://localhost:8080/",
          "height": 590
        },
        "id": "5KfvaeAGlFc0",
        "outputId": "389fe327-fc50-489c-f10a-76e57acbbadd"
      },
      "execution_count": 46,
      "outputs": [
        {
          "output_type": "display_data",
          "data": {
            "text/plain": [
              "<Figure size 432x288 with 1 Axes>"
            ],
            "image/png": "[encoded data removed]"
          },
          "metadata": {
            "needs_background": "light"
          }
        },
        {
          "output_type": "display_data",
          "data": {
            "text/plain": [
              "<Figure size 432x288 with 1 Axes>"
            ],
            "image/png": "[encoded data removed]"
          },
          "metadata": {
            "needs_background": "light"
          }
        },
        {
          "output_type": "display_data",
          "data": {
            "text/plain": [
              "<Figure size 576x576 with 0 Axes>"
            ]
          },
          "metadata": {}
        }
      ]
    },
    {
      "cell_type": "code",
      "source": [
        "history2= model.fit(training_imgs, \n",
        "          y_masks,\n",
        "          batch_size=32, \n",
        "          epochs=50,\n",
        "          verbose=1)\n",
        "#model2.save('res34_backbone_50epochs2.hdf5')\n",
        "tf.saved_model.save(model, 'saved_model') "
      ],
      "metadata": {
        "colab": {
          "base_uri": "https://localhost:8080/"
        },
        "id": "Xos-6qYGwHOs",
        "outputId": "730f9749-7c59-49f3-f30c-f936835d361c"
      },
      "execution_count": null,
      "outputs": [
        {
          "output_type": "stream",
          "name": "stdout",
          "text": [
            "Epoch 1/50\n",
            "12/12 [==============================] - 142s 11s/step - loss: 1.0335 - iou_score: 0.0066 - f1-score: 0.0122\n",
            "Epoch 2/50\n",
            "12/12 [==============================] - 134s 11s/step - loss: 1.0224 - iou_score: 0.0313 - f1-score: 0.0512\n",
            "Epoch 3/50\n",
            "12/12 [==============================] - 133s 11s/step - loss: 1.0131 - iou_score: 0.0794 - f1-score: 0.1161\n",
            "Epoch 4/50\n",
            "12/12 [==============================] - 139s 12s/step - loss: 1.0064 - iou_score: 0.1269 - f1-score: 0.1705\n",
            "Epoch 5/50\n",
            "12/12 [==============================] - 133s 11s/step - loss: 1.0021 - iou_score: 0.1599 - f1-score: 0.2008\n",
            "Epoch 6/50\n",
            "12/12 [==============================] - 134s 11s/step - loss: 0.9985 - iou_score: 0.1796 - f1-score: 0.2189\n",
            "Epoch 7/50\n",
            "12/12 [==============================] - 133s 11s/step - loss: 0.9958 - iou_score: 0.1966 - f1-score: 0.2391\n",
            "Epoch 8/50\n",
            "12/12 [==============================] - 138s 11s/step - loss: 0.9930 - iou_score: 0.2188 - f1-score: 0.2687\n",
            "Epoch 9/50\n",
            "12/12 [==============================] - 135s 11s/step - loss: 0.9907 - iou_score: 0.2462 - f1-score: 0.3035\n",
            "Epoch 10/50\n",
            "12/12 [==============================] - 137s 11s/step - loss: 0.9885 - iou_score: 0.2681 - f1-score: 0.3292\n",
            "Epoch 11/50\n",
            "12/12 [==============================] - 137s 11s/step - loss: 0.9868 - iou_score: 0.2883 - f1-score: 0.3546\n",
            "Epoch 12/50\n",
            "12/12 [==============================] - 136s 11s/step - loss: 0.9847 - iou_score: 0.3152 - f1-score: 0.3856\n",
            "Epoch 13/50\n",
            "12/12 [==============================] - 135s 11s/step - loss: 0.9829 - iou_score: 0.3337 - f1-score: 0.4069\n",
            "Epoch 14/50\n",
            "12/12 [==============================] - 135s 11s/step - loss: 0.9812 - iou_score: 0.3512 - f1-score: 0.4240\n",
            "Epoch 15/50\n",
            "12/12 [==============================] - 137s 11s/step - loss: 0.9799 - iou_score: 0.3633 - f1-score: 0.4360\n",
            "Epoch 16/50\n",
            "12/12 [==============================] - 136s 11s/step - loss: 0.9785 - iou_score: 0.3806 - f1-score: 0.4519\n",
            "Epoch 17/50\n",
            "12/12 [==============================] - 138s 11s/step - loss: 0.9770 - iou_score: 0.3973 - f1-score: 0.4658\n",
            "Epoch 18/50\n",
            "12/12 [==============================] - 138s 11s/step - loss: 0.9758 - iou_score: 0.4080 - f1-score: 0.4741\n",
            "Epoch 19/50\n",
            "12/12 [==============================] - 139s 12s/step - loss: 0.9749 - iou_score: 0.4143 - f1-score: 0.4784\n",
            "Epoch 20/50\n",
            "12/12 [==============================] - 139s 12s/step - loss: 0.9739 - iou_score: 0.4205 - f1-score: 0.4833\n",
            "Epoch 21/50\n",
            "12/12 [==============================] - 138s 11s/step - loss: 0.9730 - iou_score: 0.4251 - f1-score: 0.4864\n",
            "Epoch 22/50\n",
            "12/12 [==============================] - 139s 11s/step - loss: 0.9721 - iou_score: 0.4305 - f1-score: 0.4901\n",
            "Epoch 23/50\n",
            "12/12 [==============================] - 139s 12s/step - loss: 0.9714 - iou_score: 0.4337 - f1-score: 0.4924\n",
            "Epoch 24/50\n",
            "12/12 [==============================] - 139s 12s/step - loss: 0.9707 - iou_score: 0.4373 - f1-score: 0.4949\n",
            "Epoch 25/50\n",
            "12/12 [==============================] - 138s 11s/step - loss: 0.9699 - iou_score: 0.4429 - f1-score: 0.4990\n",
            "Epoch 26/50\n",
            "12/12 [==============================] - 139s 12s/step - loss: 0.9692 - iou_score: 0.4463 - f1-score: 0.5015\n",
            "Epoch 27/50\n",
            "12/12 [==============================] - 139s 12s/step - loss: 0.9685 - iou_score: 0.4490 - f1-score: 0.5031\n",
            "Epoch 28/50\n",
            "12/12 [==============================] - 136s 11s/step - loss: 0.9677 - iou_score: 0.4521 - f1-score: 0.5053\n",
            "Epoch 29/50\n",
            "12/12 [==============================] - 135s 11s/step - loss: 0.9670 - iou_score: 0.4542 - f1-score: 0.5071\n",
            "Epoch 30/50\n",
            "12/12 [==============================] - 140s 12s/step - loss: 0.9662 - iou_score: 0.4741 - f1-score: 0.5358\n",
            "Epoch 31/50\n",
            "12/12 [==============================] - 136s 11s/step - loss: 0.9650 - iou_score: 0.5011 - f1-score: 0.5655\n",
            "Epoch 32/50\n",
            "12/12 [==============================] - 134s 11s/step - loss: 0.9644 - iou_score: 0.5081 - f1-score: 0.5716\n",
            "Epoch 33/50\n",
            "12/12 [==============================] - 134s 11s/step - loss: 0.9636 - iou_score: 0.5132 - f1-score: 0.5756\n",
            "Epoch 34/50\n",
            "12/12 [==============================] - 138s 11s/step - loss: 0.9628 - iou_score: 0.5182 - f1-score: 0.5790\n",
            "Epoch 35/50\n",
            "12/12 [==============================] - 139s 12s/step - loss: 0.9624 - iou_score: 0.5174 - f1-score: 0.5783\n",
            "Epoch 36/50\n",
            "12/12 [==============================] - 140s 12s/step - loss: 0.9617 - iou_score: 0.5204 - f1-score: 0.5802\n",
            "Epoch 37/50\n",
            "12/12 [==============================] - 142s 12s/step - loss: 0.9613 - iou_score: 0.5244 - f1-score: 0.5835\n",
            "Epoch 38/50\n",
            "12/12 [==============================] - 146s 12s/step - loss: 0.9610 - iou_score: 0.5239 - f1-score: 0.5829\n",
            "Epoch 39/50\n",
            "12/12 [==============================] - 140s 12s/step - loss: 0.9605 - iou_score: 0.5266 - f1-score: 0.5845\n",
            "Epoch 40/50\n",
            "12/12 [==============================] - 139s 12s/step - loss: 0.9603 - iou_score: 0.5266 - f1-score: 0.5846\n",
            "Epoch 41/50\n",
            "12/12 [==============================] - 138s 11s/step - loss: 0.9596 - iou_score: 0.5301 - f1-score: 0.5870\n",
            "Epoch 42/50\n",
            "12/12 [==============================] - 139s 12s/step - loss: 0.9591 - iou_score: 0.5304 - f1-score: 0.5869\n",
            "Epoch 43/50\n",
            "12/12 [==============================] - 142s 12s/step - loss: 0.9583 - iou_score: 0.5373 - f1-score: 0.5919\n",
            "Epoch 44/50\n",
            "12/12 [==============================] - 141s 12s/step - loss: 0.9579 - iou_score: 0.5368 - f1-score: 0.5914\n",
            "Epoch 45/50\n",
            "12/12 [==============================] - 141s 12s/step - loss: 0.9573 - iou_score: 0.5379 - f1-score: 0.5922\n",
            "Epoch 46/50\n",
            "12/12 [==============================] - 141s 12s/step - loss: 0.9563 - iou_score: 0.5451 - f1-score: 0.6014\n",
            "Epoch 47/50\n",
            "12/12 [==============================] - 139s 12s/step - loss: 0.9556 - iou_score: 0.5727 - f1-score: 0.6468\n",
            "Epoch 48/50\n",
            "12/12 [==============================] - 138s 11s/step - loss: 0.9540 - iou_score: 0.6067 - f1-score: 0.6884\n",
            "Epoch 49/50\n",
            "12/12 [==============================] - 140s 12s/step - loss: 0.9531 - iou_score: 0.6256 - f1-score: 0.7164\n",
            "Epoch 50/50\n",
            "12/12 [==============================] - 140s 12s/step - loss: 0.9520 - iou_score: 0.6370 - f1-score: 0.7323\n",
            "INFO:tensorflow:Assets written to: saved_model/assets\n"
          ]
        }
      ]
    },
    {
      "cell_type": "code",
      "source": [
        ""
      ],
      "metadata": {
        "colab": {
          "base_uri": "https://localhost:8080/",
          "height": 450
        },
        "id": "wIXpYp91uMA_",
        "outputId": "42d5b114-d5c7-43a1-849d-03f1119f3555"
      },
      "execution_count": 50,
      "outputs": [
        {
          "output_type": "error",
          "ename": "ValueError",
          "evalue": "ignored",
          "traceback": [
            "\u001b[0;31m---------------------------------------------------------------------------\u001b[0m",
            "\u001b[0;31mValueError\u001b[0m                                Traceback (most recent call last)",
            "\u001b[0;32m<ipython-input-50-962ecda4b994>\u001b[0m in \u001b[0;36m<module>\u001b[0;34m()\u001b[0m\n\u001b[0;32m----> 1\u001b[0;31m \u001b[0mvgg16\u001b[0m\u001b[0;34m.\u001b[0m\u001b[0msave\u001b[0m\u001b[0;34m(\u001b[0m\u001b[0;34m'vgg16_imagenet_model.hdf5'\u001b[0m\u001b[0;34m)\u001b[0m\u001b[0;34m\u001b[0m\u001b[0;34m\u001b[0m\u001b[0m\n\u001b[0m",
            "\u001b[0;32m/usr/local/lib/python3.7/dist-packages/keras/utils/traceback_utils.py\u001b[0m in \u001b[0;36merror_handler\u001b[0;34m(*args, **kwargs)\u001b[0m\n\u001b[1;32m     65\u001b[0m     \u001b[0;32mexcept\u001b[0m \u001b[0mException\u001b[0m \u001b[0;32mas\u001b[0m \u001b[0me\u001b[0m\u001b[0;34m:\u001b[0m  \u001b[0;31m# pylint: disable=broad-except\u001b[0m\u001b[0;34m\u001b[0m\u001b[0;34m\u001b[0m\u001b[0m\n\u001b[1;32m     66\u001b[0m       \u001b[0mfiltered_tb\u001b[0m \u001b[0;34m=\u001b[0m \u001b[0m_process_traceback_frames\u001b[0m\u001b[0;34m(\u001b[0m\u001b[0me\u001b[0m\u001b[0;34m.\u001b[0m\u001b[0m__traceback__\u001b[0m\u001b[0;34m)\u001b[0m\u001b[0;34m\u001b[0m\u001b[0;34m\u001b[0m\u001b[0m\n\u001b[0;32m---> 67\u001b[0;31m       \u001b[0;32mraise\u001b[0m \u001b[0me\u001b[0m\u001b[0;34m.\u001b[0m\u001b[0mwith_traceback\u001b[0m\u001b[0;34m(\u001b[0m\u001b[0mfiltered_tb\u001b[0m\u001b[0;34m)\u001b[0m \u001b[0;32mfrom\u001b[0m \u001b[0;32mNone\u001b[0m\u001b[0;34m\u001b[0m\u001b[0;34m\u001b[0m\u001b[0m\n\u001b[0m\u001b[1;32m     68\u001b[0m     \u001b[0;32mfinally\u001b[0m\u001b[0;34m:\u001b[0m\u001b[0;34m\u001b[0m\u001b[0;34m\u001b[0m\u001b[0m\n\u001b[1;32m     69\u001b[0m       \u001b[0;32mdel\u001b[0m \u001b[0mfiltered_tb\u001b[0m\u001b[0;34m\u001b[0m\u001b[0;34m\u001b[0m\u001b[0m\n",
            "\u001b[0;32m/usr/local/lib/python3.7/dist-packages/h5py/_hl/group.py\u001b[0m in \u001b[0;36mcreate_dataset\u001b[0;34m(self, name, shape, dtype, data, **kwds)\u001b[0m\n\u001b[1;32m    146\u001b[0m                     \u001b[0mgroup\u001b[0m \u001b[0;34m=\u001b[0m \u001b[0mself\u001b[0m\u001b[0;34m.\u001b[0m\u001b[0mrequire_group\u001b[0m\u001b[0;34m(\u001b[0m\u001b[0mparent_path\u001b[0m\u001b[0;34m)\u001b[0m\u001b[0;34m\u001b[0m\u001b[0;34m\u001b[0m\u001b[0m\n\u001b[1;32m    147\u001b[0m \u001b[0;34m\u001b[0m\u001b[0m\n\u001b[0;32m--> 148\u001b[0;31m             \u001b[0mdsid\u001b[0m \u001b[0;34m=\u001b[0m \u001b[0mdataset\u001b[0m\u001b[0;34m.\u001b[0m\u001b[0mmake_new_dset\u001b[0m\u001b[0;34m(\u001b[0m\u001b[0mgroup\u001b[0m\u001b[0;34m,\u001b[0m \u001b[0mshape\u001b[0m\u001b[0;34m,\u001b[0m \u001b[0mdtype\u001b[0m\u001b[0;34m,\u001b[0m \u001b[0mdata\u001b[0m\u001b[0;34m,\u001b[0m \u001b[0mname\u001b[0m\u001b[0;34m,\u001b[0m \u001b[0;34m**\u001b[0m\u001b[0mkwds\u001b[0m\u001b[0;34m)\u001b[0m\u001b[0;34m\u001b[0m\u001b[0;34m\u001b[0m\u001b[0m\n\u001b[0m\u001b[1;32m    149\u001b[0m             \u001b[0mdset\u001b[0m \u001b[0;34m=\u001b[0m \u001b[0mdataset\u001b[0m\u001b[0;34m.\u001b[0m\u001b[0mDataset\u001b[0m\u001b[0;34m(\u001b[0m\u001b[0mdsid\u001b[0m\u001b[0;34m)\u001b[0m\u001b[0;34m\u001b[0m\u001b[0;34m\u001b[0m\u001b[0m\n\u001b[1;32m    150\u001b[0m             \u001b[0;32mreturn\u001b[0m \u001b[0mdset\u001b[0m\u001b[0;34m\u001b[0m\u001b[0;34m\u001b[0m\u001b[0m\n",
            "\u001b[0;32m/usr/local/lib/python3.7/dist-packages/h5py/_hl/dataset.py\u001b[0m in \u001b[0;36mmake_new_dset\u001b[0;34m(parent, shape, dtype, data, name, chunks, compression, shuffle, fletcher32, maxshape, compression_opts, fillvalue, scaleoffset, track_times, external, track_order, dcpl, allow_unknown_filter)\u001b[0m\n\u001b[1;32m    135\u001b[0m \u001b[0;34m\u001b[0m\u001b[0m\n\u001b[1;32m    136\u001b[0m \u001b[0;34m\u001b[0m\u001b[0m\n\u001b[0;32m--> 137\u001b[0;31m     \u001b[0mdset_id\u001b[0m \u001b[0;34m=\u001b[0m \u001b[0mh5d\u001b[0m\u001b[0;34m.\u001b[0m\u001b[0mcreate\u001b[0m\u001b[0;34m(\u001b[0m\u001b[0mparent\u001b[0m\u001b[0;34m.\u001b[0m\u001b[0mid\u001b[0m\u001b[0;34m,\u001b[0m \u001b[0mname\u001b[0m\u001b[0;34m,\u001b[0m \u001b[0mtid\u001b[0m\u001b[0;34m,\u001b[0m \u001b[0msid\u001b[0m\u001b[0;34m,\u001b[0m \u001b[0mdcpl\u001b[0m\u001b[0;34m=\u001b[0m\u001b[0mdcpl\u001b[0m\u001b[0;34m)\u001b[0m\u001b[0;34m\u001b[0m\u001b[0;34m\u001b[0m\u001b[0m\n\u001b[0m\u001b[1;32m    138\u001b[0m \u001b[0;34m\u001b[0m\u001b[0m\n\u001b[1;32m    139\u001b[0m     \u001b[0;32mif\u001b[0m \u001b[0;34m(\u001b[0m\u001b[0mdata\u001b[0m \u001b[0;32mis\u001b[0m \u001b[0;32mnot\u001b[0m \u001b[0;32mNone\u001b[0m\u001b[0;34m)\u001b[0m \u001b[0;32mand\u001b[0m \u001b[0;34m(\u001b[0m\u001b[0;32mnot\u001b[0m \u001b[0misinstance\u001b[0m\u001b[0;34m(\u001b[0m\u001b[0mdata\u001b[0m\u001b[0;34m,\u001b[0m \u001b[0mEmpty\u001b[0m\u001b[0;34m)\u001b[0m\u001b[0;34m)\u001b[0m\u001b[0;34m:\u001b[0m\u001b[0;34m\u001b[0m\u001b[0;34m\u001b[0m\u001b[0m\n",
            "\u001b[0;32mh5py/_objects.pyx\u001b[0m in \u001b[0;36mh5py._objects.with_phil.wrapper\u001b[0;34m()\u001b[0m\n",
            "\u001b[0;32mh5py/_objects.pyx\u001b[0m in \u001b[0;36mh5py._objects.with_phil.wrapper\u001b[0;34m()\u001b[0m\n",
            "\u001b[0;32mh5py/h5d.pyx\u001b[0m in \u001b[0;36mh5py.h5d.create\u001b[0;34m()\u001b[0m\n",
            "\u001b[0;31mValueError\u001b[0m: Unable to create dataset (name already exists)"
          ]
        }
      ]
    },
    {
      "cell_type": "code",
      "source": [
        "VGG16.save_model(\"VGG16.hdf5\")"
      ],
      "metadata": {
        "id": "4AhiYz-7btRP",
        "colab": {
          "base_uri": "https://localhost:8080/",
          "height": 165
        },
        "outputId": "659a07cd-f5ba-4194-ddab-f66bae4b382e"
      },
      "execution_count": 47,
      "outputs": [
        {
          "output_type": "error",
          "ename": "AttributeError",
          "evalue": "ignored",
          "traceback": [
            "\u001b[0;31m---------------------------------------------------------------------------\u001b[0m",
            "\u001b[0;31mAttributeError\u001b[0m                            Traceback (most recent call last)",
            "\u001b[0;32m<ipython-input-47-111df031da4e>\u001b[0m in \u001b[0;36m<module>\u001b[0;34m()\u001b[0m\n\u001b[0;32m----> 1\u001b[0;31m \u001b[0mVGG16\u001b[0m\u001b[0;34m.\u001b[0m\u001b[0msave_model\u001b[0m\u001b[0;34m(\u001b[0m\u001b[0;34m\"VGG16.hdf5\"\u001b[0m\u001b[0;34m)\u001b[0m\u001b[0;34m\u001b[0m\u001b[0;34m\u001b[0m\u001b[0m\n\u001b[0m",
            "\u001b[0;31mAttributeError\u001b[0m: 'function' object has no attribute 'save_model'"
          ]
        }
      ]
    },
    {
      "cell_type": "code",
      "source": [
        "trainingGraph(history2)"
      ],
      "metadata": {
        "colab": {
          "base_uri": "https://localhost:8080/",
          "height": 573
        },
        "id": "HZ9pMs7F6WLZ",
        "outputId": "b453c083-70f4-4eac-95d3-820d3e599320"
      },
      "execution_count": null,
      "outputs": [
        {
          "output_type": "display_data",
          "data": {
            "text/plain": [
              "<Figure size 432x288 with 1 Axes>"
            ],
            "image/png": "[encoded data removed]"
          },
          "metadata": {
            "needs_background": "light"
          }
        },
        {
          "output_type": "display_data",
          "data": {
            "text/plain": [
              "<Figure size 432x288 with 1 Axes>"
            ],
            "image/png": "[encoded data removed]"
          },
          "metadata": {
            "needs_background": "light"
          }
        }
      ]
    },
    {
      "cell_type": "markdown",
      "source": [
        "**Training on images with augmentation**"
      ],
      "metadata": {
        "id": "IOpaqrs3t9vw"
      }
    },
    {
      "cell_type": "code",
      "source": [
        "trainimgPath2 = \"/content/drive/MyDrive/dataset1 - Copy/images_prepped_train\"\n",
        "trainmaskPath2 = \"/content/drive/MyDrive/dataset1 - Copy/annotations_prepped_train\"\n",
        "model2, training_imgs2,y_masks2, trainingMsks2 = training(trainimgPath2,trainmaskPath2)"
      ],
      "metadata": {
        "colab": {
          "base_uri": "https://localhost:8080/"
        },
        "id": "303sjsZM3JvM",
        "outputId": "6991033b-21ad-402f-df51-c6942eff3fef"
      },
      "execution_count": null,
      "outputs": [
        {
          "output_type": "stream",
          "name": "stdout",
          "text": [
            "/content/drive/MyDrive/dataset1 - Copy/images_prepped_train/1 (1).png img\n",
            "/content/drive/MyDrive/dataset1 - Copy/images_prepped_train/1 (2).png img\n",
            "/content/drive/MyDrive/dataset1 - Copy/images_prepped_train/1 (3).png img\n",
            "/content/drive/MyDrive/dataset1 - Copy/images_prepped_train/1 (4).png img\n",
            "/content/drive/MyDrive/dataset1 - Copy/images_prepped_train/1 (5).png img\n",
            "/content/drive/MyDrive/dataset1 - Copy/images_prepped_train/1 (6).png img\n",
            "/content/drive/MyDrive/dataset1 - Copy/images_prepped_train/1 (7).png img\n",
            "/content/drive/MyDrive/dataset1 - Copy/images_prepped_train/1 (8).png img\n",
            "/content/drive/MyDrive/dataset1 - Copy/images_prepped_train/1 (9).png img\n",
            "/content/drive/MyDrive/dataset1 - Copy/images_prepped_train/1 (10).png img\n",
            "/content/drive/MyDrive/dataset1 - Copy/images_prepped_train/1 (11).png img\n",
            "/content/drive/MyDrive/dataset1 - Copy/images_prepped_train/1 (12).png img\n",
            "/content/drive/MyDrive/dataset1 - Copy/images_prepped_train/1 (13).png img\n",
            "/content/drive/MyDrive/dataset1 - Copy/images_prepped_train/1 (14).png img\n",
            "/content/drive/MyDrive/dataset1 - Copy/images_prepped_train/1 (15).png img\n",
            "/content/drive/MyDrive/dataset1 - Copy/images_prepped_train/1 (16).png img\n",
            "/content/drive/MyDrive/dataset1 - Copy/images_prepped_train/1 (17).png img\n",
            "/content/drive/MyDrive/dataset1 - Copy/images_prepped_train/1 (18).png img\n",
            "/content/drive/MyDrive/dataset1 - Copy/images_prepped_train/1 (19).png img\n",
            "/content/drive/MyDrive/dataset1 - Copy/images_prepped_train/1 (20).png img\n",
            "/content/drive/MyDrive/dataset1 - Copy/images_prepped_train/1 (21).png img\n",
            "/content/drive/MyDrive/dataset1 - Copy/images_prepped_train/1 (22).png img\n",
            "/content/drive/MyDrive/dataset1 - Copy/images_prepped_train/1 (23).png img\n",
            "/content/drive/MyDrive/dataset1 - Copy/images_prepped_train/1 (24).png img\n",
            "/content/drive/MyDrive/dataset1 - Copy/images_prepped_train/1 (25).png img\n",
            "/content/drive/MyDrive/dataset1 - Copy/images_prepped_train/1 (26).png img\n",
            "/content/drive/MyDrive/dataset1 - Copy/images_prepped_train/1 (27).png img\n",
            "/content/drive/MyDrive/dataset1 - Copy/images_prepped_train/1 (28).png img\n",
            "/content/drive/MyDrive/dataset1 - Copy/images_prepped_train/1 (29).png img\n",
            "/content/drive/MyDrive/dataset1 - Copy/images_prepped_train/1 (30).png img\n",
            "/content/drive/MyDrive/dataset1 - Copy/images_prepped_train/1 (31).png img\n",
            "/content/drive/MyDrive/dataset1 - Copy/images_prepped_train/1 (32).png img\n",
            "/content/drive/MyDrive/dataset1 - Copy/images_prepped_train/1 (33).png img\n",
            "/content/drive/MyDrive/dataset1 - Copy/images_prepped_train/1 (34).png img\n",
            "/content/drive/MyDrive/dataset1 - Copy/images_prepped_train/1 (35).png img\n",
            "/content/drive/MyDrive/dataset1 - Copy/images_prepped_train/1 (36).png img\n",
            "/content/drive/MyDrive/dataset1 - Copy/images_prepped_train/1 (37).png img\n",
            "/content/drive/MyDrive/dataset1 - Copy/images_prepped_train/1 (38).png img\n",
            "/content/drive/MyDrive/dataset1 - Copy/images_prepped_train/1 (39).png img\n",
            "/content/drive/MyDrive/dataset1 - Copy/images_prepped_train/1 (40).png img\n",
            "/content/drive/MyDrive/dataset1 - Copy/images_prepped_train/1 (41).png img\n",
            "/content/drive/MyDrive/dataset1 - Copy/images_prepped_train/1 (42).png img\n",
            "/content/drive/MyDrive/dataset1 - Copy/images_prepped_train/1 (43).png img\n",
            "/content/drive/MyDrive/dataset1 - Copy/images_prepped_train/1 (44).png img\n",
            "/content/drive/MyDrive/dataset1 - Copy/images_prepped_train/1 (45).png img\n",
            "/content/drive/MyDrive/dataset1 - Copy/images_prepped_train/1 (46).png img\n",
            "/content/drive/MyDrive/dataset1 - Copy/images_prepped_train/1 (47).png img\n",
            "/content/drive/MyDrive/dataset1 - Copy/images_prepped_train/1 (48).png img\n",
            "/content/drive/MyDrive/dataset1 - Copy/images_prepped_train/1 (49).png img\n",
            "/content/drive/MyDrive/dataset1 - Copy/images_prepped_train/1 (50).png img\n",
            "/content/drive/MyDrive/dataset1 - Copy/images_prepped_train/1 (51).png img\n",
            "/content/drive/MyDrive/dataset1 - Copy/images_prepped_train/1 (52).png img\n",
            "/content/drive/MyDrive/dataset1 - Copy/images_prepped_train/1 (53).png img\n",
            "/content/drive/MyDrive/dataset1 - Copy/images_prepped_train/1 (54).png img\n",
            "/content/drive/MyDrive/dataset1 - Copy/images_prepped_train/1 (55).png img\n",
            "/content/drive/MyDrive/dataset1 - Copy/images_prepped_train/1 (56).png img\n",
            "/content/drive/MyDrive/dataset1 - Copy/images_prepped_train/1 (57).png img\n",
            "/content/drive/MyDrive/dataset1 - Copy/images_prepped_train/1 (58).png img\n",
            "/content/drive/MyDrive/dataset1 - Copy/images_prepped_train/1 (59).png img\n",
            "/content/drive/MyDrive/dataset1 - Copy/images_prepped_train/1 (60).png img\n",
            "/content/drive/MyDrive/dataset1 - Copy/images_prepped_train/1 (61).png img\n",
            "/content/drive/MyDrive/dataset1 - Copy/images_prepped_train/1 (62).png img\n",
            "/content/drive/MyDrive/dataset1 - Copy/images_prepped_train/1 (63).png img\n",
            "/content/drive/MyDrive/dataset1 - Copy/images_prepped_train/1 (64).png img\n",
            "/content/drive/MyDrive/dataset1 - Copy/images_prepped_train/1 (65).png img\n",
            "/content/drive/MyDrive/dataset1 - Copy/images_prepped_train/1 (66).png img\n",
            "/content/drive/MyDrive/dataset1 - Copy/images_prepped_train/1 (67).png img\n",
            "/content/drive/MyDrive/dataset1 - Copy/images_prepped_train/1 (68).png img\n",
            "/content/drive/MyDrive/dataset1 - Copy/images_prepped_train/1 (69).png img\n",
            "/content/drive/MyDrive/dataset1 - Copy/images_prepped_train/1 (70).png img\n",
            "/content/drive/MyDrive/dataset1 - Copy/images_prepped_train/1 (71).png img\n",
            "/content/drive/MyDrive/dataset1 - Copy/images_prepped_train/1 (72).png img\n",
            "/content/drive/MyDrive/dataset1 - Copy/images_prepped_train/1 (73).png img\n",
            "/content/drive/MyDrive/dataset1 - Copy/images_prepped_train/1 (74).png img\n",
            "/content/drive/MyDrive/dataset1 - Copy/images_prepped_train/1 (75).png img\n",
            "/content/drive/MyDrive/dataset1 - Copy/images_prepped_train/1 (76).png img\n",
            "/content/drive/MyDrive/dataset1 - Copy/images_prepped_train/1 (77).png img\n",
            "/content/drive/MyDrive/dataset1 - Copy/images_prepped_train/1 (78).png img\n",
            "/content/drive/MyDrive/dataset1 - Copy/images_prepped_train/1 (79).png img\n",
            "/content/drive/MyDrive/dataset1 - Copy/images_prepped_train/1 (80).png img\n",
            "/content/drive/MyDrive/dataset1 - Copy/images_prepped_train/1 (81).png img\n",
            "/content/drive/MyDrive/dataset1 - Copy/images_prepped_train/1 (82).png img\n",
            "/content/drive/MyDrive/dataset1 - Copy/images_prepped_train/1 (83).png img\n",
            "/content/drive/MyDrive/dataset1 - Copy/images_prepped_train/1 (84).png img\n",
            "/content/drive/MyDrive/dataset1 - Copy/images_prepped_train/1 (85).png img\n",
            "/content/drive/MyDrive/dataset1 - Copy/images_prepped_train/1 (86).png img\n",
            "/content/drive/MyDrive/dataset1 - Copy/images_prepped_train/1 (87).png img\n",
            "/content/drive/MyDrive/dataset1 - Copy/images_prepped_train/1 (88).png img\n",
            "/content/drive/MyDrive/dataset1 - Copy/images_prepped_train/1 (89).png img\n",
            "/content/drive/MyDrive/dataset1 - Copy/images_prepped_train/1 (90).png img\n",
            "/content/drive/MyDrive/dataset1 - Copy/images_prepped_train/1 (91).png img\n",
            "/content/drive/MyDrive/dataset1 - Copy/images_prepped_train/1 (92).png img\n",
            "/content/drive/MyDrive/dataset1 - Copy/images_prepped_train/1 (93).png img\n",
            "/content/drive/MyDrive/dataset1 - Copy/images_prepped_train/1 (94).png img\n",
            "/content/drive/MyDrive/dataset1 - Copy/images_prepped_train/1 (95).png img\n",
            "/content/drive/MyDrive/dataset1 - Copy/images_prepped_train/1 (96).png img\n",
            "/content/drive/MyDrive/dataset1 - Copy/images_prepped_train/1 (97).png img\n",
            "/content/drive/MyDrive/dataset1 - Copy/images_prepped_train/1 (98).png img\n",
            "/content/drive/MyDrive/dataset1 - Copy/images_prepped_train/1 (99).png img\n",
            "/content/drive/MyDrive/dataset1 - Copy/images_prepped_train/1 (100).png img\n",
            "/content/drive/MyDrive/dataset1 - Copy/images_prepped_train/1 (101).png img\n",
            "/content/drive/MyDrive/dataset1 - Copy/images_prepped_train/1 (102).png img\n",
            "/content/drive/MyDrive/dataset1 - Copy/images_prepped_train/1 (103).png img\n",
            "/content/drive/MyDrive/dataset1 - Copy/images_prepped_train/1 (104).png img\n",
            "/content/drive/MyDrive/dataset1 - Copy/images_prepped_train/1 (105).png img\n",
            "/content/drive/MyDrive/dataset1 - Copy/images_prepped_train/1 (106).png img\n",
            "/content/drive/MyDrive/dataset1 - Copy/images_prepped_train/1 (107).png img\n",
            "/content/drive/MyDrive/dataset1 - Copy/images_prepped_train/1 (108).png img\n",
            "/content/drive/MyDrive/dataset1 - Copy/images_prepped_train/1 (109).png img\n",
            "/content/drive/MyDrive/dataset1 - Copy/images_prepped_train/1 (110).png img\n",
            "/content/drive/MyDrive/dataset1 - Copy/images_prepped_train/1 (111).png img\n",
            "/content/drive/MyDrive/dataset1 - Copy/images_prepped_train/1 (112).png img\n",
            "/content/drive/MyDrive/dataset1 - Copy/images_prepped_train/1 (113).png img\n",
            "/content/drive/MyDrive/dataset1 - Copy/images_prepped_train/1 (114).png img\n",
            "/content/drive/MyDrive/dataset1 - Copy/images_prepped_train/1 (115).png img\n",
            "/content/drive/MyDrive/dataset1 - Copy/images_prepped_train/1 (116).png img\n",
            "/content/drive/MyDrive/dataset1 - Copy/images_prepped_train/1 (117).png img\n",
            "/content/drive/MyDrive/dataset1 - Copy/images_prepped_train/1 (118).png img\n",
            "/content/drive/MyDrive/dataset1 - Copy/images_prepped_train/1 (119).png img\n",
            "/content/drive/MyDrive/dataset1 - Copy/images_prepped_train/1 (120).png img\n",
            "/content/drive/MyDrive/dataset1 - Copy/images_prepped_train/1 (121).png img\n",
            "/content/drive/MyDrive/dataset1 - Copy/images_prepped_train/1 (122).png img\n",
            "/content/drive/MyDrive/dataset1 - Copy/images_prepped_train/1 (123).png img\n",
            "/content/drive/MyDrive/dataset1 - Copy/images_prepped_train/1 (124).png img\n",
            "/content/drive/MyDrive/dataset1 - Copy/images_prepped_train/1 (125).png img\n",
            "/content/drive/MyDrive/dataset1 - Copy/images_prepped_train/1 (126).png img\n",
            "/content/drive/MyDrive/dataset1 - Copy/images_prepped_train/1 (127).png img\n",
            "/content/drive/MyDrive/dataset1 - Copy/images_prepped_train/1 (128).png img\n",
            "/content/drive/MyDrive/dataset1 - Copy/images_prepped_train/1 (129).png img\n",
            "/content/drive/MyDrive/dataset1 - Copy/images_prepped_train/1 (130).png img\n",
            "/content/drive/MyDrive/dataset1 - Copy/images_prepped_train/1 (131).png img\n",
            "/content/drive/MyDrive/dataset1 - Copy/images_prepped_train/1 (132).png img\n",
            "/content/drive/MyDrive/dataset1 - Copy/images_prepped_train/1 (133).png img\n",
            "/content/drive/MyDrive/dataset1 - Copy/images_prepped_train/1 (134).png img\n",
            "/content/drive/MyDrive/dataset1 - Copy/images_prepped_train/1 (135).png img\n",
            "/content/drive/MyDrive/dataset1 - Copy/images_prepped_train/1 (136).png img\n",
            "/content/drive/MyDrive/dataset1 - Copy/images_prepped_train/1 (137).png img\n",
            "/content/drive/MyDrive/dataset1 - Copy/images_prepped_train/1 (138).png img\n",
            "/content/drive/MyDrive/dataset1 - Copy/images_prepped_train/1 (139).png img\n",
            "/content/drive/MyDrive/dataset1 - Copy/images_prepped_train/1 (140).png img\n",
            "/content/drive/MyDrive/dataset1 - Copy/images_prepped_train/1 (141).png img\n",
            "/content/drive/MyDrive/dataset1 - Copy/images_prepped_train/1 (142).png img\n",
            "/content/drive/MyDrive/dataset1 - Copy/images_prepped_train/1 (143).png img\n",
            "/content/drive/MyDrive/dataset1 - Copy/images_prepped_train/1 (144).png img\n",
            "/content/drive/MyDrive/dataset1 - Copy/images_prepped_train/1 (145).png img\n",
            "/content/drive/MyDrive/dataset1 - Copy/images_prepped_train/1 (146).png img\n",
            "/content/drive/MyDrive/dataset1 - Copy/images_prepped_train/1 (147).png img\n",
            "/content/drive/MyDrive/dataset1 - Copy/images_prepped_train/1 (148).png img\n",
            "/content/drive/MyDrive/dataset1 - Copy/images_prepped_train/1 (149).png img\n",
            "/content/drive/MyDrive/dataset1 - Copy/images_prepped_train/1 (150).png img\n",
            "/content/drive/MyDrive/dataset1 - Copy/images_prepped_train/1 (151).png img\n",
            "/content/drive/MyDrive/dataset1 - Copy/images_prepped_train/1 (152).png img\n",
            "/content/drive/MyDrive/dataset1 - Copy/images_prepped_train/1 (153).png img\n",
            "/content/drive/MyDrive/dataset1 - Copy/images_prepped_train/1 (154).png img\n",
            "/content/drive/MyDrive/dataset1 - Copy/images_prepped_train/1 (155).png img\n",
            "/content/drive/MyDrive/dataset1 - Copy/images_prepped_train/1 (156).png img\n",
            "/content/drive/MyDrive/dataset1 - Copy/images_prepped_train/1 (157).png img\n",
            "/content/drive/MyDrive/dataset1 - Copy/images_prepped_train/1 (158).png img\n",
            "/content/drive/MyDrive/dataset1 - Copy/images_prepped_train/1 (159).png img\n",
            "/content/drive/MyDrive/dataset1 - Copy/images_prepped_train/1 (160).png img\n",
            "/content/drive/MyDrive/dataset1 - Copy/images_prepped_train/1 (161).png img\n",
            "/content/drive/MyDrive/dataset1 - Copy/images_prepped_train/1 (162).png img\n",
            "/content/drive/MyDrive/dataset1 - Copy/images_prepped_train/1 (163).png img\n",
            "/content/drive/MyDrive/dataset1 - Copy/images_prepped_train/1 (164).png img\n",
            "/content/drive/MyDrive/dataset1 - Copy/images_prepped_train/1 (165).png img\n",
            "/content/drive/MyDrive/dataset1 - Copy/images_prepped_train/1 (166).png img\n",
            "/content/drive/MyDrive/dataset1 - Copy/images_prepped_train/1 (167).png img\n",
            "/content/drive/MyDrive/dataset1 - Copy/images_prepped_train/1 (168).png img\n",
            "/content/drive/MyDrive/dataset1 - Copy/images_prepped_train/1 (169).png img\n",
            "/content/drive/MyDrive/dataset1 - Copy/images_prepped_train/1 (170).png img\n",
            "/content/drive/MyDrive/dataset1 - Copy/images_prepped_train/1 (171).png img\n",
            "/content/drive/MyDrive/dataset1 - Copy/images_prepped_train/1 (172).png img\n",
            "/content/drive/MyDrive/dataset1 - Copy/images_prepped_train/1 (173).png img\n",
            "/content/drive/MyDrive/dataset1 - Copy/images_prepped_train/1 (174).png img\n",
            "/content/drive/MyDrive/dataset1 - Copy/images_prepped_train/1 (175).png img\n",
            "/content/drive/MyDrive/dataset1 - Copy/images_prepped_train/1 (176).png img\n",
            "/content/drive/MyDrive/dataset1 - Copy/images_prepped_train/1 (177).png img\n",
            "/content/drive/MyDrive/dataset1 - Copy/images_prepped_train/1 (178).png img\n",
            "/content/drive/MyDrive/dataset1 - Copy/images_prepped_train/1 (179).png img\n",
            "/content/drive/MyDrive/dataset1 - Copy/images_prepped_train/1 (180).png img\n",
            "/content/drive/MyDrive/dataset1 - Copy/images_prepped_train/1 (181).png img\n",
            "/content/drive/MyDrive/dataset1 - Copy/images_prepped_train/1 (182).png img\n",
            "/content/drive/MyDrive/dataset1 - Copy/images_prepped_train/1 (183).png img\n",
            "/content/drive/MyDrive/dataset1 - Copy/images_prepped_train/1 (184).png img\n",
            "/content/drive/MyDrive/dataset1 - Copy/images_prepped_train/1 (185).png img\n",
            "/content/drive/MyDrive/dataset1 - Copy/images_prepped_train/1 (186).png img\n",
            "/content/drive/MyDrive/dataset1 - Copy/images_prepped_train/1 (187).png img\n",
            "/content/drive/MyDrive/dataset1 - Copy/images_prepped_train/1 (188).png img\n",
            "/content/drive/MyDrive/dataset1 - Copy/images_prepped_train/1 (189).png img\n",
            "/content/drive/MyDrive/dataset1 - Copy/images_prepped_train/1 (190).png img\n",
            "/content/drive/MyDrive/dataset1 - Copy/images_prepped_train/1 (191).png img\n",
            "/content/drive/MyDrive/dataset1 - Copy/images_prepped_train/1 (192).png img\n",
            "/content/drive/MyDrive/dataset1 - Copy/images_prepped_train/1 (193).png img\n",
            "/content/drive/MyDrive/dataset1 - Copy/images_prepped_train/1 (194).png img\n",
            "/content/drive/MyDrive/dataset1 - Copy/images_prepped_train/1 (195).png img\n",
            "/content/drive/MyDrive/dataset1 - Copy/images_prepped_train/1 (196).png img\n",
            "/content/drive/MyDrive/dataset1 - Copy/images_prepped_train/1 (197).png img\n",
            "/content/drive/MyDrive/dataset1 - Copy/images_prepped_train/1 (198).png img\n",
            "/content/drive/MyDrive/dataset1 - Copy/images_prepped_train/1 (199).png img\n",
            "/content/drive/MyDrive/dataset1 - Copy/images_prepped_train/1 (200).png img\n",
            "/content/drive/MyDrive/dataset1 - Copy/images_prepped_train/1 (201).png img\n",
            "/content/drive/MyDrive/dataset1 - Copy/images_prepped_train/1 (202).png img\n",
            "/content/drive/MyDrive/dataset1 - Copy/images_prepped_train/1 (203).png img\n",
            "/content/drive/MyDrive/dataset1 - Copy/images_prepped_train/1 (204).png img\n",
            "/content/drive/MyDrive/dataset1 - Copy/images_prepped_train/1 (205).png img\n",
            "/content/drive/MyDrive/dataset1 - Copy/images_prepped_train/1 (206).png img\n",
            "/content/drive/MyDrive/dataset1 - Copy/images_prepped_train/1 (207).png img\n",
            "/content/drive/MyDrive/dataset1 - Copy/images_prepped_train/1 (208).png img\n",
            "/content/drive/MyDrive/dataset1 - Copy/images_prepped_train/1 (209).png img\n",
            "/content/drive/MyDrive/dataset1 - Copy/images_prepped_train/1 (210).png img\n",
            "/content/drive/MyDrive/dataset1 - Copy/images_prepped_train/1 (211).png img\n",
            "/content/drive/MyDrive/dataset1 - Copy/images_prepped_train/1 (212).png img\n",
            "/content/drive/MyDrive/dataset1 - Copy/images_prepped_train/1 (213).png img\n",
            "/content/drive/MyDrive/dataset1 - Copy/images_prepped_train/1 (214).png img\n",
            "/content/drive/MyDrive/dataset1 - Copy/images_prepped_train/1 (215).png img\n",
            "/content/drive/MyDrive/dataset1 - Copy/images_prepped_train/1 (216).png img\n",
            "/content/drive/MyDrive/dataset1 - Copy/images_prepped_train/1 (217).png img\n",
            "/content/drive/MyDrive/dataset1 - Copy/images_prepped_train/1 (218).png img\n",
            "/content/drive/MyDrive/dataset1 - Copy/images_prepped_train/1 (219).png img\n",
            "/content/drive/MyDrive/dataset1 - Copy/images_prepped_train/1 (220).png img\n",
            "/content/drive/MyDrive/dataset1 - Copy/images_prepped_train/1 (221).png img\n",
            "/content/drive/MyDrive/dataset1 - Copy/images_prepped_train/1 (222).png img\n",
            "/content/drive/MyDrive/dataset1 - Copy/images_prepped_train/1 (223).png img\n",
            "/content/drive/MyDrive/dataset1 - Copy/images_prepped_train/1 (224).png img\n",
            "/content/drive/MyDrive/dataset1 - Copy/images_prepped_train/1 (225).png img\n",
            "/content/drive/MyDrive/dataset1 - Copy/images_prepped_train/1 (226).png img\n",
            "/content/drive/MyDrive/dataset1 - Copy/images_prepped_train/1 (227).png img\n",
            "/content/drive/MyDrive/dataset1 - Copy/images_prepped_train/1 (228).png img\n",
            "/content/drive/MyDrive/dataset1 - Copy/images_prepped_train/1 (229).png img\n",
            "/content/drive/MyDrive/dataset1 - Copy/images_prepped_train/1 (230).png img\n",
            "/content/drive/MyDrive/dataset1 - Copy/images_prepped_train/1 (231).png img\n",
            "/content/drive/MyDrive/dataset1 - Copy/images_prepped_train/1 (232).png img\n",
            "/content/drive/MyDrive/dataset1 - Copy/images_prepped_train/1 (233).png img\n",
            "/content/drive/MyDrive/dataset1 - Copy/images_prepped_train/1 (234).png img\n",
            "/content/drive/MyDrive/dataset1 - Copy/images_prepped_train/1 (235).png img\n",
            "/content/drive/MyDrive/dataset1 - Copy/images_prepped_train/1 (236).png img\n",
            "/content/drive/MyDrive/dataset1 - Copy/images_prepped_train/1 (237).png img\n",
            "/content/drive/MyDrive/dataset1 - Copy/images_prepped_train/1 (238).png img\n",
            "/content/drive/MyDrive/dataset1 - Copy/images_prepped_train/1 (239).png img\n",
            "/content/drive/MyDrive/dataset1 - Copy/images_prepped_train/1 (240).png img\n",
            "/content/drive/MyDrive/dataset1 - Copy/images_prepped_train/1 (241).png img\n",
            "/content/drive/MyDrive/dataset1 - Copy/images_prepped_train/1 (242).png img\n",
            "/content/drive/MyDrive/dataset1 - Copy/images_prepped_train/1 (243).png img\n",
            "/content/drive/MyDrive/dataset1 - Copy/images_prepped_train/1 (244).png img\n",
            "/content/drive/MyDrive/dataset1 - Copy/images_prepped_train/1 (245).png img\n",
            "/content/drive/MyDrive/dataset1 - Copy/images_prepped_train/1 (246).png img\n",
            "/content/drive/MyDrive/dataset1 - Copy/images_prepped_train/1 (247).png img\n",
            "/content/drive/MyDrive/dataset1 - Copy/images_prepped_train/1 (248).png img\n",
            "/content/drive/MyDrive/dataset1 - Copy/images_prepped_train/1 (249).png img\n",
            "/content/drive/MyDrive/dataset1 - Copy/images_prepped_train/1 (250).png img\n",
            "/content/drive/MyDrive/dataset1 - Copy/images_prepped_train/1 (251).png img\n",
            "/content/drive/MyDrive/dataset1 - Copy/images_prepped_train/1 (252).png img\n",
            "/content/drive/MyDrive/dataset1 - Copy/images_prepped_train/1 (253).png img\n",
            "/content/drive/MyDrive/dataset1 - Copy/images_prepped_train/1 (254).png img\n",
            "/content/drive/MyDrive/dataset1 - Copy/images_prepped_train/1 (255).png img\n",
            "/content/drive/MyDrive/dataset1 - Copy/images_prepped_train/1 (256).png img\n",
            "/content/drive/MyDrive/dataset1 - Copy/images_prepped_train/1 (257).png img\n",
            "/content/drive/MyDrive/dataset1 - Copy/images_prepped_train/1 (258).png img\n",
            "/content/drive/MyDrive/dataset1 - Copy/images_prepped_train/1 (259).png img\n",
            "/content/drive/MyDrive/dataset1 - Copy/images_prepped_train/1 (260).png img\n",
            "/content/drive/MyDrive/dataset1 - Copy/images_prepped_train/1 (261).png img\n",
            "/content/drive/MyDrive/dataset1 - Copy/images_prepped_train/1 (262).png img\n",
            "/content/drive/MyDrive/dataset1 - Copy/images_prepped_train/1 (263).png img\n",
            "/content/drive/MyDrive/dataset1 - Copy/images_prepped_train/1 (264).png img\n",
            "/content/drive/MyDrive/dataset1 - Copy/images_prepped_train/1 (265).png img\n",
            "/content/drive/MyDrive/dataset1 - Copy/images_prepped_train/1 (266).png img\n",
            "/content/drive/MyDrive/dataset1 - Copy/images_prepped_train/1 (267).png img\n",
            "/content/drive/MyDrive/dataset1 - Copy/images_prepped_train/1 (268).png img\n",
            "/content/drive/MyDrive/dataset1 - Copy/images_prepped_train/1 (269).png img\n",
            "/content/drive/MyDrive/dataset1 - Copy/images_prepped_train/1 (270).png img\n",
            "/content/drive/MyDrive/dataset1 - Copy/images_prepped_train/1 (271).png img\n",
            "/content/drive/MyDrive/dataset1 - Copy/images_prepped_train/1 (272).png img\n",
            "/content/drive/MyDrive/dataset1 - Copy/images_prepped_train/1 (273).png img\n",
            "/content/drive/MyDrive/dataset1 - Copy/images_prepped_train/1 (274).png img\n",
            "/content/drive/MyDrive/dataset1 - Copy/images_prepped_train/1 (275).png img\n",
            "/content/drive/MyDrive/dataset1 - Copy/images_prepped_train/1 (276).png img\n",
            "/content/drive/MyDrive/dataset1 - Copy/images_prepped_train/1 (277).png img\n",
            "/content/drive/MyDrive/dataset1 - Copy/images_prepped_train/1 (278).png img\n",
            "/content/drive/MyDrive/dataset1 - Copy/images_prepped_train/1 (279).png img\n",
            "/content/drive/MyDrive/dataset1 - Copy/images_prepped_train/1 (280).png img\n",
            "/content/drive/MyDrive/dataset1 - Copy/images_prepped_train/1 (281).png img\n",
            "/content/drive/MyDrive/dataset1 - Copy/images_prepped_train/1 (282).png img\n",
            "/content/drive/MyDrive/dataset1 - Copy/images_prepped_train/1 (283).png img\n",
            "/content/drive/MyDrive/dataset1 - Copy/images_prepped_train/1 (284).png img\n",
            "/content/drive/MyDrive/dataset1 - Copy/images_prepped_train/1 (285).png img\n",
            "/content/drive/MyDrive/dataset1 - Copy/images_prepped_train/1 (286).png img\n",
            "/content/drive/MyDrive/dataset1 - Copy/images_prepped_train/1 (287).png img\n",
            "/content/drive/MyDrive/dataset1 - Copy/images_prepped_train/1 (288).png img\n",
            "/content/drive/MyDrive/dataset1 - Copy/images_prepped_train/1 (289).png img\n",
            "/content/drive/MyDrive/dataset1 - Copy/images_prepped_train/1 (290).png img\n",
            "/content/drive/MyDrive/dataset1 - Copy/images_prepped_train/1 (291).png img\n",
            "/content/drive/MyDrive/dataset1 - Copy/images_prepped_train/1 (292).png img\n",
            "/content/drive/MyDrive/dataset1 - Copy/images_prepped_train/1 (293).png img\n",
            "/content/drive/MyDrive/dataset1 - Copy/images_prepped_train/1 (294).png img\n",
            "/content/drive/MyDrive/dataset1 - Copy/images_prepped_train/1 (295).png img\n",
            "/content/drive/MyDrive/dataset1 - Copy/images_prepped_train/1 (296).png img\n",
            "/content/drive/MyDrive/dataset1 - Copy/images_prepped_train/1 (297).png img\n",
            "/content/drive/MyDrive/dataset1 - Copy/images_prepped_train/1 (298).png img\n",
            "/content/drive/MyDrive/dataset1 - Copy/images_prepped_train/1 (299).png img\n",
            "/content/drive/MyDrive/dataset1 - Copy/images_prepped_train/1 (300).png img\n",
            "/content/drive/MyDrive/dataset1 - Copy/images_prepped_train/1 (301).png img\n",
            "/content/drive/MyDrive/dataset1 - Copy/images_prepped_train/1 (302).png img\n",
            "/content/drive/MyDrive/dataset1 - Copy/images_prepped_train/1 (303).png img\n",
            "/content/drive/MyDrive/dataset1 - Copy/images_prepped_train/1 (304).png img\n",
            "/content/drive/MyDrive/dataset1 - Copy/images_prepped_train/1 (305).png img\n",
            "/content/drive/MyDrive/dataset1 - Copy/images_prepped_train/1 (306).png img\n",
            "/content/drive/MyDrive/dataset1 - Copy/images_prepped_train/1 (307).png img\n",
            "/content/drive/MyDrive/dataset1 - Copy/images_prepped_train/1 (308).png img\n",
            "/content/drive/MyDrive/dataset1 - Copy/images_prepped_train/1 (309).png img\n",
            "/content/drive/MyDrive/dataset1 - Copy/images_prepped_train/1 (310).png img\n",
            "/content/drive/MyDrive/dataset1 - Copy/images_prepped_train/1 (311).png img\n",
            "/content/drive/MyDrive/dataset1 - Copy/images_prepped_train/1 (312).png img\n",
            "/content/drive/MyDrive/dataset1 - Copy/images_prepped_train/1 (313).png img\n",
            "/content/drive/MyDrive/dataset1 - Copy/images_prepped_train/1 (314).png img\n",
            "/content/drive/MyDrive/dataset1 - Copy/images_prepped_train/1 (315).png img\n",
            "/content/drive/MyDrive/dataset1 - Copy/images_prepped_train/1 (316).png img\n",
            "/content/drive/MyDrive/dataset1 - Copy/images_prepped_train/1 (317).png img\n",
            "/content/drive/MyDrive/dataset1 - Copy/images_prepped_train/1 (318).png img\n",
            "/content/drive/MyDrive/dataset1 - Copy/images_prepped_train/1 (319).png img\n",
            "/content/drive/MyDrive/dataset1 - Copy/images_prepped_train/1 (320).png img\n",
            "/content/drive/MyDrive/dataset1 - Copy/images_prepped_train/1 (321).png img\n",
            "/content/drive/MyDrive/dataset1 - Copy/images_prepped_train/1 (322).png img\n",
            "/content/drive/MyDrive/dataset1 - Copy/images_prepped_train/1 (323).png img\n",
            "/content/drive/MyDrive/dataset1 - Copy/images_prepped_train/1 (324).png img\n",
            "/content/drive/MyDrive/dataset1 - Copy/images_prepped_train/1 (325).png img\n",
            "/content/drive/MyDrive/dataset1 - Copy/images_prepped_train/1 (326).png img\n",
            "/content/drive/MyDrive/dataset1 - Copy/images_prepped_train/1 (327).png img\n",
            "/content/drive/MyDrive/dataset1 - Copy/images_prepped_train/1 (328).png img\n",
            "/content/drive/MyDrive/dataset1 - Copy/images_prepped_train/1 (329).png img\n",
            "/content/drive/MyDrive/dataset1 - Copy/images_prepped_train/1 (330).png img\n",
            "/content/drive/MyDrive/dataset1 - Copy/images_prepped_train/1 (331).png img\n",
            "/content/drive/MyDrive/dataset1 - Copy/images_prepped_train/1 (332).png img\n",
            "/content/drive/MyDrive/dataset1 - Copy/images_prepped_train/1 (333).png img\n",
            "/content/drive/MyDrive/dataset1 - Copy/images_prepped_train/1 (334).png img\n",
            "/content/drive/MyDrive/dataset1 - Copy/images_prepped_train/1 (335).png img\n",
            "/content/drive/MyDrive/dataset1 - Copy/images_prepped_train/1 (336).png img\n",
            "/content/drive/MyDrive/dataset1 - Copy/images_prepped_train/1 (337).png img\n",
            "/content/drive/MyDrive/dataset1 - Copy/images_prepped_train/1 (338).png img\n",
            "/content/drive/MyDrive/dataset1 - Copy/images_prepped_train/1 (339).png img\n",
            "/content/drive/MyDrive/dataset1 - Copy/images_prepped_train/1 (340).png img\n",
            "/content/drive/MyDrive/dataset1 - Copy/images_prepped_train/1 (341).png img\n",
            "/content/drive/MyDrive/dataset1 - Copy/images_prepped_train/1 (342).png img\n",
            "/content/drive/MyDrive/dataset1 - Copy/images_prepped_train/1 (343).png img\n",
            "/content/drive/MyDrive/dataset1 - Copy/images_prepped_train/1 (344).png img\n",
            "/content/drive/MyDrive/dataset1 - Copy/images_prepped_train/1 (345).png img\n",
            "/content/drive/MyDrive/dataset1 - Copy/images_prepped_train/1 (346).png img\n",
            "/content/drive/MyDrive/dataset1 - Copy/images_prepped_train/1 (347).png img\n",
            "/content/drive/MyDrive/dataset1 - Copy/images_prepped_train/1 (348).png img\n",
            "/content/drive/MyDrive/dataset1 - Copy/images_prepped_train/1 (349).png img\n",
            "/content/drive/MyDrive/dataset1 - Copy/images_prepped_train/1 (350).png img\n",
            "/content/drive/MyDrive/dataset1 - Copy/images_prepped_train/1 (351).png img\n",
            "/content/drive/MyDrive/dataset1 - Copy/images_prepped_train/1 (352).png img\n",
            "/content/drive/MyDrive/dataset1 - Copy/images_prepped_train/1 (353).png img\n",
            "/content/drive/MyDrive/dataset1 - Copy/images_prepped_train/1 (354).png img\n",
            "/content/drive/MyDrive/dataset1 - Copy/images_prepped_train/1 (355).png img\n",
            "/content/drive/MyDrive/dataset1 - Copy/images_prepped_train/1 (356).png img\n",
            "/content/drive/MyDrive/dataset1 - Copy/images_prepped_train/1 (357).png img\n",
            "/content/drive/MyDrive/dataset1 - Copy/images_prepped_train/1 (358).png img\n",
            "/content/drive/MyDrive/dataset1 - Copy/images_prepped_train/1 (359).png img\n",
            "/content/drive/MyDrive/dataset1 - Copy/images_prepped_train/1 (360).png img\n",
            "/content/drive/MyDrive/dataset1 - Copy/images_prepped_train/1 (361).png img\n",
            "/content/drive/MyDrive/dataset1 - Copy/images_prepped_train/1 (362).png img\n",
            "/content/drive/MyDrive/dataset1 - Copy/images_prepped_train/1 (363).png img\n",
            "/content/drive/MyDrive/dataset1 - Copy/images_prepped_train/1 (364).png img\n",
            "/content/drive/MyDrive/dataset1 - Copy/images_prepped_train/1 (365).png img\n",
            "/content/drive/MyDrive/dataset1 - Copy/images_prepped_train/1 (366).png img\n",
            "/content/drive/MyDrive/dataset1 - Copy/images_prepped_train/1 (367).png img\n",
            "/content/drive/MyDrive/dataset1 - Copy/images_prepped_train/augmented_image_0.png img\n",
            "/content/drive/MyDrive/dataset1 - Copy/images_prepped_train/augmented_image_1.png img\n",
            "/content/drive/MyDrive/dataset1 - Copy/images_prepped_train/augmented_image_2.png img\n",
            "/content/drive/MyDrive/dataset1 - Copy/images_prepped_train/augmented_image_3.png img\n",
            "/content/drive/MyDrive/dataset1 - Copy/images_prepped_train/augmented_image_4.png img\n",
            "/content/drive/MyDrive/dataset1 - Copy/images_prepped_train/augmented_image_5.png img\n",
            "/content/drive/MyDrive/dataset1 - Copy/images_prepped_train/augmented_image_6.png img\n",
            "/content/drive/MyDrive/dataset1 - Copy/images_prepped_train/augmented_image_7.png img\n",
            "/content/drive/MyDrive/dataset1 - Copy/images_prepped_train/augmented_image_8.png img\n",
            "/content/drive/MyDrive/dataset1 - Copy/images_prepped_train/augmented_image_9.png img\n",
            "/content/drive/MyDrive/dataset1 - Copy/images_prepped_train/augmented_image_10.png img\n",
            "/content/drive/MyDrive/dataset1 - Copy/images_prepped_train/augmented_image_11.png img\n",
            "/content/drive/MyDrive/dataset1 - Copy/images_prepped_train/augmented_image_12.png img\n",
            "/content/drive/MyDrive/dataset1 - Copy/images_prepped_train/augmented_image_13.png img\n",
            "/content/drive/MyDrive/dataset1 - Copy/images_prepped_train/augmented_image_14.png img\n",
            "/content/drive/MyDrive/dataset1 - Copy/images_prepped_train/augmented_image_15.png img\n",
            "/content/drive/MyDrive/dataset1 - Copy/images_prepped_train/augmented_image_16.png img\n",
            "/content/drive/MyDrive/dataset1 - Copy/images_prepped_train/augmented_image_17.png img\n",
            "/content/drive/MyDrive/dataset1 - Copy/images_prepped_train/augmented_image_18.png img\n",
            "/content/drive/MyDrive/dataset1 - Copy/images_prepped_train/augmented_image_19.png img\n",
            "/content/drive/MyDrive/dataset1 - Copy/images_prepped_train/augmented_image_20.png img\n",
            "/content/drive/MyDrive/dataset1 - Copy/images_prepped_train/augmented_image_21.png img\n",
            "/content/drive/MyDrive/dataset1 - Copy/images_prepped_train/augmented_image_22.png img\n",
            "/content/drive/MyDrive/dataset1 - Copy/images_prepped_train/augmented_image_23.png img\n",
            "/content/drive/MyDrive/dataset1 - Copy/images_prepped_train/augmented_image_24.png img\n",
            "/content/drive/MyDrive/dataset1 - Copy/images_prepped_train/augmented_image_25.png img\n",
            "/content/drive/MyDrive/dataset1 - Copy/images_prepped_train/augmented_image_26.png img\n",
            "/content/drive/MyDrive/dataset1 - Copy/images_prepped_train/augmented_image_27.png img\n",
            "/content/drive/MyDrive/dataset1 - Copy/images_prepped_train/augmented_image_28.png img\n",
            "/content/drive/MyDrive/dataset1 - Copy/images_prepped_train/augmented_image_29.png img\n",
            "/content/drive/MyDrive/dataset1 - Copy/images_prepped_train/augmented_image_30.png img\n",
            "/content/drive/MyDrive/dataset1 - Copy/images_prepped_train/augmented_image_31.png img\n",
            "/content/drive/MyDrive/dataset1 - Copy/images_prepped_train/augmented_image_32.png img\n",
            "/content/drive/MyDrive/dataset1 - Copy/images_prepped_train/augmented_image_33.png img\n",
            "/content/drive/MyDrive/dataset1 - Copy/images_prepped_train/augmented_image_34.png img\n",
            "/content/drive/MyDrive/dataset1 - Copy/images_prepped_train/augmented_image_35.png img\n",
            "/content/drive/MyDrive/dataset1 - Copy/images_prepped_train/augmented_image_36.png img\n",
            "/content/drive/MyDrive/dataset1 - Copy/images_prepped_train/augmented_image_37.png img\n",
            "/content/drive/MyDrive/dataset1 - Copy/images_prepped_train/augmented_image_38.png img\n",
            "/content/drive/MyDrive/dataset1 - Copy/images_prepped_train/augmented_image_39.png img\n",
            "/content/drive/MyDrive/dataset1 - Copy/images_prepped_train/augmented_image_40.png img\n",
            "/content/drive/MyDrive/dataset1 - Copy/images_prepped_train/augmented_image_41.png img\n",
            "/content/drive/MyDrive/dataset1 - Copy/images_prepped_train/augmented_image_42.png img\n",
            "/content/drive/MyDrive/dataset1 - Copy/images_prepped_train/augmented_image_43.png img\n",
            "/content/drive/MyDrive/dataset1 - Copy/images_prepped_train/augmented_image_44.png img\n",
            "/content/drive/MyDrive/dataset1 - Copy/images_prepped_train/augmented_image_45.png img\n",
            "/content/drive/MyDrive/dataset1 - Copy/images_prepped_train/augmented_image_46.png img\n",
            "/content/drive/MyDrive/dataset1 - Copy/images_prepped_train/augmented_image_47.png img\n",
            "/content/drive/MyDrive/dataset1 - Copy/images_prepped_train/augmented_image_48.png img\n",
            "/content/drive/MyDrive/dataset1 - Copy/images_prepped_train/augmented_image_49.png img\n",
            "/content/drive/MyDrive/dataset1 - Copy/images_prepped_train/augmented_image_50.png img\n",
            "/content/drive/MyDrive/dataset1 - Copy/images_prepped_train/augmented_image_51.png img\n",
            "/content/drive/MyDrive/dataset1 - Copy/images_prepped_train/augmented_image_52.png img\n",
            "/content/drive/MyDrive/dataset1 - Copy/images_prepped_train/augmented_image_53.png img\n",
            "/content/drive/MyDrive/dataset1 - Copy/images_prepped_train/augmented_image_54.png img\n",
            "/content/drive/MyDrive/dataset1 - Copy/images_prepped_train/augmented_image_55.png img\n",
            "/content/drive/MyDrive/dataset1 - Copy/images_prepped_train/augmented_image_56.png img\n",
            "/content/drive/MyDrive/dataset1 - Copy/images_prepped_train/augmented_image_57.png img\n",
            "/content/drive/MyDrive/dataset1 - Copy/images_prepped_train/augmented_image_58.png img\n",
            "/content/drive/MyDrive/dataset1 - Copy/images_prepped_train/augmented_image_59.png img\n",
            "/content/drive/MyDrive/dataset1 - Copy/images_prepped_train/augmented_image_60.png img\n",
            "/content/drive/MyDrive/dataset1 - Copy/images_prepped_train/augmented_image_61.png img\n",
            "/content/drive/MyDrive/dataset1 - Copy/images_prepped_train/augmented_image_62.png img\n",
            "/content/drive/MyDrive/dataset1 - Copy/images_prepped_train/augmented_image_63.png img\n",
            "/content/drive/MyDrive/dataset1 - Copy/images_prepped_train/augmented_image_64.png img\n",
            "/content/drive/MyDrive/dataset1 - Copy/images_prepped_train/augmented_image_65.png img\n",
            "/content/drive/MyDrive/dataset1 - Copy/images_prepped_train/augmented_image_66.png img\n",
            "/content/drive/MyDrive/dataset1 - Copy/images_prepped_train/augmented_image_67.png img\n",
            "/content/drive/MyDrive/dataset1 - Copy/images_prepped_train/augmented_image_68.png img\n",
            "/content/drive/MyDrive/dataset1 - Copy/images_prepped_train/augmented_image_69.png img\n",
            "/content/drive/MyDrive/dataset1 - Copy/images_prepped_train/augmented_image_70.png img\n",
            "/content/drive/MyDrive/dataset1 - Copy/images_prepped_train/augmented_image_71.png img\n",
            "/content/drive/MyDrive/dataset1 - Copy/images_prepped_train/augmented_image_72.png img\n",
            "/content/drive/MyDrive/dataset1 - Copy/images_prepped_train/augmented_image_73.png img\n",
            "/content/drive/MyDrive/dataset1 - Copy/images_prepped_train/augmented_image_74.png img\n",
            "/content/drive/MyDrive/dataset1 - Copy/images_prepped_train/augmented_image_75.png img\n",
            "/content/drive/MyDrive/dataset1 - Copy/images_prepped_train/augmented_image_76.png img\n",
            "/content/drive/MyDrive/dataset1 - Copy/images_prepped_train/augmented_image_77.png img\n",
            "/content/drive/MyDrive/dataset1 - Copy/images_prepped_train/augmented_image_78.png img\n",
            "/content/drive/MyDrive/dataset1 - Copy/images_prepped_train/augmented_image_79.png img\n",
            "/content/drive/MyDrive/dataset1 - Copy/images_prepped_train/augmented_image_80.png img\n",
            "/content/drive/MyDrive/dataset1 - Copy/images_prepped_train/augmented_image_81.png img\n",
            "/content/drive/MyDrive/dataset1 - Copy/images_prepped_train/augmented_image_82.png img\n",
            "/content/drive/MyDrive/dataset1 - Copy/images_prepped_train/augmented_image_83.png img\n",
            "/content/drive/MyDrive/dataset1 - Copy/images_prepped_train/augmented_image_84.png img\n",
            "/content/drive/MyDrive/dataset1 - Copy/images_prepped_train/augmented_image_85.png img\n",
            "/content/drive/MyDrive/dataset1 - Copy/images_prepped_train/augmented_image_86.png img\n",
            "/content/drive/MyDrive/dataset1 - Copy/images_prepped_train/augmented_image_87.png img\n",
            "/content/drive/MyDrive/dataset1 - Copy/images_prepped_train/augmented_image_88.png img\n",
            "/content/drive/MyDrive/dataset1 - Copy/images_prepped_train/augmented_image_89.png img\n",
            "/content/drive/MyDrive/dataset1 - Copy/images_prepped_train/augmented_image_90.png img\n",
            "/content/drive/MyDrive/dataset1 - Copy/images_prepped_train/augmented_image_91.png img\n",
            "/content/drive/MyDrive/dataset1 - Copy/images_prepped_train/augmented_image_92.png img\n",
            "/content/drive/MyDrive/dataset1 - Copy/images_prepped_train/augmented_image_93.png img\n",
            "/content/drive/MyDrive/dataset1 - Copy/images_prepped_train/augmented_image_94.png img\n",
            "/content/drive/MyDrive/dataset1 - Copy/images_prepped_train/augmented_image_95.png img\n",
            "/content/drive/MyDrive/dataset1 - Copy/images_prepped_train/augmented_image_96.png img\n",
            "/content/drive/MyDrive/dataset1 - Copy/images_prepped_train/augmented_image_97.png img\n",
            "/content/drive/MyDrive/dataset1 - Copy/images_prepped_train/augmented_image_98.png img\n",
            "/content/drive/MyDrive/dataset1 - Copy/images_prepped_train/augmented_image_99.png img\n",
            "/content/drive/MyDrive/dataset1 - Copy/images_prepped_train/augmented_image_100.png img\n",
            "/content/drive/MyDrive/dataset1 - Copy/images_prepped_train/augmented_image_101.png img\n",
            "/content/drive/MyDrive/dataset1 - Copy/images_prepped_train/augmented_image_102.png img\n",
            "/content/drive/MyDrive/dataset1 - Copy/images_prepped_train/augmented_image_103.png img\n",
            "/content/drive/MyDrive/dataset1 - Copy/images_prepped_train/augmented_image_104.png img\n",
            "/content/drive/MyDrive/dataset1 - Copy/images_prepped_train/augmented_image_105.png img\n",
            "/content/drive/MyDrive/dataset1 - Copy/images_prepped_train/augmented_image_106.png img\n",
            "/content/drive/MyDrive/dataset1 - Copy/images_prepped_train/augmented_image_107.png img\n",
            "/content/drive/MyDrive/dataset1 - Copy/images_prepped_train/augmented_image_108.png img\n",
            "/content/drive/MyDrive/dataset1 - Copy/images_prepped_train/augmented_image_109.png img\n",
            "/content/drive/MyDrive/dataset1 - Copy/images_prepped_train/augmented_image_110.png img\n",
            "/content/drive/MyDrive/dataset1 - Copy/images_prepped_train/augmented_image_111.png img\n",
            "/content/drive/MyDrive/dataset1 - Copy/images_prepped_train/augmented_image_112.png img\n",
            "/content/drive/MyDrive/dataset1 - Copy/images_prepped_train/augmented_image_113.png img\n",
            "/content/drive/MyDrive/dataset1 - Copy/images_prepped_train/augmented_image_114.png img\n",
            "/content/drive/MyDrive/dataset1 - Copy/images_prepped_train/augmented_image_115.png img\n",
            "/content/drive/MyDrive/dataset1 - Copy/images_prepped_train/augmented_image_116.png img\n",
            "/content/drive/MyDrive/dataset1 - Copy/images_prepped_train/augmented_image_117.png img\n",
            "/content/drive/MyDrive/dataset1 - Copy/images_prepped_train/augmented_image_118.png img\n",
            "/content/drive/MyDrive/dataset1 - Copy/images_prepped_train/augmented_image_119.png img\n",
            "/content/drive/MyDrive/dataset1 - Copy/images_prepped_train/augmented_image_120.png img\n",
            "/content/drive/MyDrive/dataset1 - Copy/images_prepped_train/augmented_image_121.png img\n",
            "/content/drive/MyDrive/dataset1 - Copy/images_prepped_train/augmented_image_122.png img\n",
            "/content/drive/MyDrive/dataset1 - Copy/images_prepped_train/augmented_image_123.png img\n",
            "/content/drive/MyDrive/dataset1 - Copy/images_prepped_train/augmented_image_124.png img\n",
            "/content/drive/MyDrive/dataset1 - Copy/images_prepped_train/augmented_image_125.png img\n",
            "/content/drive/MyDrive/dataset1 - Copy/images_prepped_train/augmented_image_126.png img\n",
            "/content/drive/MyDrive/dataset1 - Copy/images_prepped_train/augmented_image_127.png img\n",
            "/content/drive/MyDrive/dataset1 - Copy/images_prepped_train/augmented_image_128.png img\n",
            "/content/drive/MyDrive/dataset1 - Copy/images_prepped_train/augmented_image_129.png img\n",
            "/content/drive/MyDrive/dataset1 - Copy/images_prepped_train/augmented_image_130.png img\n",
            "/content/drive/MyDrive/dataset1 - Copy/images_prepped_train/augmented_image_131.png img\n",
            "/content/drive/MyDrive/dataset1 - Copy/images_prepped_train/augmented_image_132.png img\n",
            "/content/drive/MyDrive/dataset1 - Copy/images_prepped_train/augmented_image_133.png img\n",
            "/content/drive/MyDrive/dataset1 - Copy/images_prepped_train/augmented_image_134.png img\n",
            "/content/drive/MyDrive/dataset1 - Copy/images_prepped_train/augmented_image_135.png img\n",
            "/content/drive/MyDrive/dataset1 - Copy/images_prepped_train/augmented_image_136.png img\n",
            "/content/drive/MyDrive/dataset1 - Copy/images_prepped_train/augmented_image_137.png img\n",
            "/content/drive/MyDrive/dataset1 - Copy/images_prepped_train/augmented_image_138.png img\n",
            "/content/drive/MyDrive/dataset1 - Copy/images_prepped_train/augmented_image_139.png img\n",
            "/content/drive/MyDrive/dataset1 - Copy/images_prepped_train/augmented_image_140.png img\n",
            "/content/drive/MyDrive/dataset1 - Copy/images_prepped_train/augmented_image_141.png img\n",
            "/content/drive/MyDrive/dataset1 - Copy/images_prepped_train/augmented_image_142.png img\n",
            "/content/drive/MyDrive/dataset1 - Copy/images_prepped_train/augmented_image_143.png img\n",
            "/content/drive/MyDrive/dataset1 - Copy/images_prepped_train/augmented_image_144.png img\n",
            "/content/drive/MyDrive/dataset1 - Copy/images_prepped_train/augmented_image_145.png img\n",
            "/content/drive/MyDrive/dataset1 - Copy/images_prepped_train/augmented_image_146.png img\n",
            "/content/drive/MyDrive/dataset1 - Copy/images_prepped_train/augmented_image_147.png img\n",
            "/content/drive/MyDrive/dataset1 - Copy/images_prepped_train/augmented_image_148.png img\n",
            "/content/drive/MyDrive/dataset1 - Copy/images_prepped_train/augmented_image_149.png img\n",
            "/content/drive/MyDrive/dataset1 - Copy/images_prepped_train/augmented_image_150.png img\n",
            "/content/drive/MyDrive/dataset1 - Copy/images_prepped_train/augmented_image_151.png img\n",
            "/content/drive/MyDrive/dataset1 - Copy/images_prepped_train/augmented_image_152.png img\n",
            "/content/drive/MyDrive/dataset1 - Copy/images_prepped_train/augmented_image_153.png img\n",
            "/content/drive/MyDrive/dataset1 - Copy/images_prepped_train/augmented_image_154.png img\n",
            "/content/drive/MyDrive/dataset1 - Copy/images_prepped_train/augmented_image_155.png img\n",
            "/content/drive/MyDrive/dataset1 - Copy/images_prepped_train/augmented_image_156.png img\n",
            "/content/drive/MyDrive/dataset1 - Copy/images_prepped_train/augmented_image_157.png img\n",
            "/content/drive/MyDrive/dataset1 - Copy/images_prepped_train/augmented_image_158.png img\n",
            "/content/drive/MyDrive/dataset1 - Copy/images_prepped_train/augmented_image_159.png img\n",
            "/content/drive/MyDrive/dataset1 - Copy/images_prepped_train/augmented_image_160.png img\n",
            "/content/drive/MyDrive/dataset1 - Copy/images_prepped_train/augmented_image_161.png img\n",
            "/content/drive/MyDrive/dataset1 - Copy/images_prepped_train/augmented_image_162.png img\n",
            "/content/drive/MyDrive/dataset1 - Copy/images_prepped_train/augmented_image_163.png img\n",
            "/content/drive/MyDrive/dataset1 - Copy/images_prepped_train/augmented_image_164.png img\n",
            "/content/drive/MyDrive/dataset1 - Copy/images_prepped_train/augmented_image_165.png img\n",
            "/content/drive/MyDrive/dataset1 - Copy/images_prepped_train/augmented_image_166.png img\n",
            "/content/drive/MyDrive/dataset1 - Copy/images_prepped_train/augmented_image_167.png img\n",
            "/content/drive/MyDrive/dataset1 - Copy/images_prepped_train/augmented_image_168.png img\n",
            "/content/drive/MyDrive/dataset1 - Copy/images_prepped_train/augmented_image_169.png img\n",
            "/content/drive/MyDrive/dataset1 - Copy/images_prepped_train/augmented_image_170.png img\n",
            "/content/drive/MyDrive/dataset1 - Copy/images_prepped_train/augmented_image_171.png img\n",
            "/content/drive/MyDrive/dataset1 - Copy/images_prepped_train/augmented_image_172.png img\n",
            "/content/drive/MyDrive/dataset1 - Copy/images_prepped_train/augmented_image_173.png img\n",
            "/content/drive/MyDrive/dataset1 - Copy/images_prepped_train/augmented_image_174.png img\n",
            "/content/drive/MyDrive/dataset1 - Copy/images_prepped_train/augmented_image_175.png img\n",
            "/content/drive/MyDrive/dataset1 - Copy/images_prepped_train/augmented_image_176.png img\n",
            "/content/drive/MyDrive/dataset1 - Copy/images_prepped_train/augmented_image_177.png img\n",
            "/content/drive/MyDrive/dataset1 - Copy/images_prepped_train/augmented_image_178.png img\n",
            "/content/drive/MyDrive/dataset1 - Copy/images_prepped_train/augmented_image_179.png img\n",
            "/content/drive/MyDrive/dataset1 - Copy/images_prepped_train/augmented_image_180.png img\n",
            "/content/drive/MyDrive/dataset1 - Copy/images_prepped_train/augmented_image_181.png img\n",
            "/content/drive/MyDrive/dataset1 - Copy/images_prepped_train/augmented_image_182.png img\n",
            "/content/drive/MyDrive/dataset1 - Copy/images_prepped_train/augmented_image_183.png img\n",
            "/content/drive/MyDrive/dataset1 - Copy/images_prepped_train/augmented_image_184.png img\n",
            "/content/drive/MyDrive/dataset1 - Copy/images_prepped_train/augmented_image_185.png img\n",
            "/content/drive/MyDrive/dataset1 - Copy/images_prepped_train/augmented_image_186.png img\n",
            "/content/drive/MyDrive/dataset1 - Copy/images_prepped_train/augmented_image_187.png img\n",
            "/content/drive/MyDrive/dataset1 - Copy/images_prepped_train/augmented_image_188.png img\n",
            "/content/drive/MyDrive/dataset1 - Copy/images_prepped_train/augmented_image_189.png img\n",
            "/content/drive/MyDrive/dataset1 - Copy/images_prepped_train/augmented_image_190.png img\n",
            "/content/drive/MyDrive/dataset1 - Copy/images_prepped_train/augmented_image_191.png img\n",
            "/content/drive/MyDrive/dataset1 - Copy/images_prepped_train/augmented_image_192.png img\n",
            "/content/drive/MyDrive/dataset1 - Copy/images_prepped_train/augmented_image_193.png img\n",
            "/content/drive/MyDrive/dataset1 - Copy/images_prepped_train/augmented_image_194.png img\n",
            "/content/drive/MyDrive/dataset1 - Copy/images_prepped_train/augmented_image_195.png img\n",
            "/content/drive/MyDrive/dataset1 - Copy/images_prepped_train/augmented_image_196.png img\n",
            "/content/drive/MyDrive/dataset1 - Copy/images_prepped_train/augmented_image_197.png img\n",
            "/content/drive/MyDrive/dataset1 - Copy/images_prepped_train/augmented_image_198.png img\n",
            "/content/drive/MyDrive/dataset1 - Copy/images_prepped_train/augmented_image_199.png img\n",
            "/content/drive/MyDrive/dataset1 - Copy/images_prepped_train/augmented_image_200.png img\n",
            "/content/drive/MyDrive/dataset1 - Copy/images_prepped_train/augmented_image_201.png img\n",
            "/content/drive/MyDrive/dataset1 - Copy/images_prepped_train/augmented_image_202.png img\n",
            "/content/drive/MyDrive/dataset1 - Copy/images_prepped_train/augmented_image_203.png img\n",
            "/content/drive/MyDrive/dataset1 - Copy/images_prepped_train/augmented_image_204.png img\n",
            "/content/drive/MyDrive/dataset1 - Copy/images_prepped_train/augmented_image_205.png img\n",
            "/content/drive/MyDrive/dataset1 - Copy/images_prepped_train/augmented_image_206.png img\n",
            "/content/drive/MyDrive/dataset1 - Copy/images_prepped_train/augmented_image_207.png img\n",
            "/content/drive/MyDrive/dataset1 - Copy/images_prepped_train/augmented_image_208.png img\n",
            "/content/drive/MyDrive/dataset1 - Copy/images_prepped_train/augmented_image_209.png img\n",
            "/content/drive/MyDrive/dataset1 - Copy/images_prepped_train/augmented_image_210.png img\n",
            "/content/drive/MyDrive/dataset1 - Copy/images_prepped_train/augmented_image_211.png img\n",
            "/content/drive/MyDrive/dataset1 - Copy/images_prepped_train/augmented_image_212.png img\n",
            "/content/drive/MyDrive/dataset1 - Copy/images_prepped_train/augmented_image_213.png img\n",
            "/content/drive/MyDrive/dataset1 - Copy/images_prepped_train/augmented_image_214.png img\n",
            "/content/drive/MyDrive/dataset1 - Copy/images_prepped_train/augmented_image_215.png img\n",
            "/content/drive/MyDrive/dataset1 - Copy/images_prepped_train/augmented_image_216.png img\n",
            "/content/drive/MyDrive/dataset1 - Copy/images_prepped_train/augmented_image_217.png img\n",
            "/content/drive/MyDrive/dataset1 - Copy/images_prepped_train/augmented_image_218.png img\n",
            "/content/drive/MyDrive/dataset1 - Copy/images_prepped_train/augmented_image_219.png img\n",
            "/content/drive/MyDrive/dataset1 - Copy/images_prepped_train/augmented_image_220.png img\n",
            "/content/drive/MyDrive/dataset1 - Copy/images_prepped_train/augmented_image_221.png img\n",
            "/content/drive/MyDrive/dataset1 - Copy/images_prepped_train/augmented_image_222.png img\n",
            "/content/drive/MyDrive/dataset1 - Copy/images_prepped_train/augmented_image_223.png img\n",
            "/content/drive/MyDrive/dataset1 - Copy/images_prepped_train/augmented_image_224.png img\n",
            "/content/drive/MyDrive/dataset1 - Copy/images_prepped_train/augmented_image_225.png img\n",
            "/content/drive/MyDrive/dataset1 - Copy/images_prepped_train/augmented_image_226.png img\n",
            "/content/drive/MyDrive/dataset1 - Copy/images_prepped_train/augmented_image_227.png img\n",
            "/content/drive/MyDrive/dataset1 - Copy/images_prepped_train/augmented_image_228.png img\n",
            "/content/drive/MyDrive/dataset1 - Copy/images_prepped_train/augmented_image_229.png img\n",
            "/content/drive/MyDrive/dataset1 - Copy/images_prepped_train/augmented_image_230.png img\n",
            "/content/drive/MyDrive/dataset1 - Copy/images_prepped_train/augmented_image_231.png img\n",
            "/content/drive/MyDrive/dataset1 - Copy/images_prepped_train/augmented_image_232.png img\n",
            "/content/drive/MyDrive/dataset1 - Copy/images_prepped_train/augmented_image_233.png img\n",
            "/content/drive/MyDrive/dataset1 - Copy/images_prepped_train/augmented_image_234.png img\n",
            "/content/drive/MyDrive/dataset1 - Copy/images_prepped_train/augmented_image_235.png img\n",
            "/content/drive/MyDrive/dataset1 - Copy/images_prepped_train/augmented_image_236.png img\n",
            "/content/drive/MyDrive/dataset1 - Copy/images_prepped_train/augmented_image_237.png img\n",
            "/content/drive/MyDrive/dataset1 - Copy/images_prepped_train/augmented_image_238.png img\n",
            "/content/drive/MyDrive/dataset1 - Copy/images_prepped_train/augmented_image_239.png img\n",
            "/content/drive/MyDrive/dataset1 - Copy/images_prepped_train/augmented_image_240.png img\n",
            "/content/drive/MyDrive/dataset1 - Copy/images_prepped_train/augmented_image_241.png img\n",
            "/content/drive/MyDrive/dataset1 - Copy/images_prepped_train/augmented_image_242.png img\n",
            "/content/drive/MyDrive/dataset1 - Copy/images_prepped_train/augmented_image_243.png img\n",
            "/content/drive/MyDrive/dataset1 - Copy/images_prepped_train/augmented_image_244.png img\n",
            "/content/drive/MyDrive/dataset1 - Copy/images_prepped_train/augmented_image_245.png img\n",
            "/content/drive/MyDrive/dataset1 - Copy/images_prepped_train/augmented_image_246.png img\n",
            "/content/drive/MyDrive/dataset1 - Copy/images_prepped_train/augmented_image_247.png img\n",
            "/content/drive/MyDrive/dataset1 - Copy/images_prepped_train/augmented_image_248.png img\n",
            "/content/drive/MyDrive/dataset1 - Copy/images_prepped_train/augmented_image_249.png img\n",
            "/content/drive/MyDrive/dataset1 - Copy/images_prepped_train/augmented_image_250.png img\n",
            "/content/drive/MyDrive/dataset1 - Copy/images_prepped_train/augmented_image_251.png img\n",
            "/content/drive/MyDrive/dataset1 - Copy/images_prepped_train/augmented_image_252.png img\n",
            "/content/drive/MyDrive/dataset1 - Copy/images_prepped_train/augmented_image_253.png img\n",
            "/content/drive/MyDrive/dataset1 - Copy/images_prepped_train/augmented_image_254.png img\n",
            "/content/drive/MyDrive/dataset1 - Copy/images_prepped_train/augmented_image_255.png img\n",
            "/content/drive/MyDrive/dataset1 - Copy/images_prepped_train/augmented_image_256.png img\n",
            "/content/drive/MyDrive/dataset1 - Copy/images_prepped_train/augmented_image_257.png img\n",
            "/content/drive/MyDrive/dataset1 - Copy/images_prepped_train/augmented_image_258.png img\n",
            "/content/drive/MyDrive/dataset1 - Copy/images_prepped_train/augmented_image_259.png img\n",
            "/content/drive/MyDrive/dataset1 - Copy/images_prepped_train/augmented_image_260.png img\n",
            "/content/drive/MyDrive/dataset1 - Copy/images_prepped_train/augmented_image_261.png img\n",
            "/content/drive/MyDrive/dataset1 - Copy/images_prepped_train/augmented_image_262.png img\n",
            "/content/drive/MyDrive/dataset1 - Copy/images_prepped_train/augmented_image_263.png img\n",
            "/content/drive/MyDrive/dataset1 - Copy/images_prepped_train/augmented_image_264.png img\n",
            "/content/drive/MyDrive/dataset1 - Copy/images_prepped_train/augmented_image_265.png img\n",
            "/content/drive/MyDrive/dataset1 - Copy/images_prepped_train/augmented_image_266.png img\n",
            "/content/drive/MyDrive/dataset1 - Copy/images_prepped_train/augmented_image_267.png img\n",
            "/content/drive/MyDrive/dataset1 - Copy/images_prepped_train/augmented_image_268.png img\n",
            "/content/drive/MyDrive/dataset1 - Copy/images_prepped_train/augmented_image_269.png img\n",
            "/content/drive/MyDrive/dataset1 - Copy/images_prepped_train/augmented_image_270.png img\n",
            "/content/drive/MyDrive/dataset1 - Copy/images_prepped_train/augmented_image_271.png img\n",
            "/content/drive/MyDrive/dataset1 - Copy/images_prepped_train/augmented_image_272.png img\n",
            "/content/drive/MyDrive/dataset1 - Copy/images_prepped_train/augmented_image_273.png img\n",
            "/content/drive/MyDrive/dataset1 - Copy/images_prepped_train/augmented_image_274.png img\n",
            "/content/drive/MyDrive/dataset1 - Copy/images_prepped_train/augmented_image_275.png img\n",
            "/content/drive/MyDrive/dataset1 - Copy/images_prepped_train/augmented_image_276.png img\n",
            "/content/drive/MyDrive/dataset1 - Copy/images_prepped_train/augmented_image_277.png img\n",
            "/content/drive/MyDrive/dataset1 - Copy/images_prepped_train/augmented_image_278.png img\n",
            "/content/drive/MyDrive/dataset1 - Copy/images_prepped_train/augmented_image_279.png img\n",
            "/content/drive/MyDrive/dataset1 - Copy/images_prepped_train/augmented_image_280.png img\n",
            "/content/drive/MyDrive/dataset1 - Copy/images_prepped_train/augmented_image_281.png img\n",
            "/content/drive/MyDrive/dataset1 - Copy/images_prepped_train/augmented_image_282.png img\n",
            "/content/drive/MyDrive/dataset1 - Copy/images_prepped_train/augmented_image_283.png img\n",
            "/content/drive/MyDrive/dataset1 - Copy/images_prepped_train/augmented_image_284.png img\n",
            "/content/drive/MyDrive/dataset1 - Copy/images_prepped_train/augmented_image_285.png img\n",
            "/content/drive/MyDrive/dataset1 - Copy/images_prepped_train/augmented_image_286.png img\n",
            "/content/drive/MyDrive/dataset1 - Copy/images_prepped_train/augmented_image_287.png img\n",
            "/content/drive/MyDrive/dataset1 - Copy/images_prepped_train/augmented_image_288.png img\n",
            "/content/drive/MyDrive/dataset1 - Copy/images_prepped_train/augmented_image_289.png img\n",
            "/content/drive/MyDrive/dataset1 - Copy/images_prepped_train/augmented_image_290.png img\n",
            "/content/drive/MyDrive/dataset1 - Copy/images_prepped_train/augmented_image_291.png img\n",
            "/content/drive/MyDrive/dataset1 - Copy/images_prepped_train/augmented_image_292.png img\n",
            "/content/drive/MyDrive/dataset1 - Copy/images_prepped_train/augmented_image_293.png img\n",
            "/content/drive/MyDrive/dataset1 - Copy/images_prepped_train/augmented_image_294.png img\n",
            "/content/drive/MyDrive/dataset1 - Copy/images_prepped_train/augmented_image_295.png img\n",
            "/content/drive/MyDrive/dataset1 - Copy/images_prepped_train/augmented_image_296.png img\n",
            "/content/drive/MyDrive/dataset1 - Copy/images_prepped_train/augmented_image_297.png img\n",
            "/content/drive/MyDrive/dataset1 - Copy/images_prepped_train/augmented_image_298.png img\n",
            "/content/drive/MyDrive/dataset1 - Copy/images_prepped_train/augmented_image_299.png img\n",
            "/content/drive/MyDrive/dataset1 - Copy/images_prepped_train/augmented_image_300.png img\n",
            "/content/drive/MyDrive/dataset1 - Copy/images_prepped_train/augmented_image_301.png img\n",
            "/content/drive/MyDrive/dataset1 - Copy/images_prepped_train/augmented_image_302.png img\n",
            "/content/drive/MyDrive/dataset1 - Copy/images_prepped_train/augmented_image_303.png img\n",
            "/content/drive/MyDrive/dataset1 - Copy/images_prepped_train/augmented_image_304.png img\n",
            "/content/drive/MyDrive/dataset1 - Copy/images_prepped_train/augmented_image_305.png img\n",
            "/content/drive/MyDrive/dataset1 - Copy/images_prepped_train/augmented_image_306.png img\n",
            "/content/drive/MyDrive/dataset1 - Copy/images_prepped_train/augmented_image_307.png img\n",
            "/content/drive/MyDrive/dataset1 - Copy/images_prepped_train/augmented_image_308.png img\n",
            "/content/drive/MyDrive/dataset1 - Copy/images_prepped_train/augmented_image_309.png img\n",
            "/content/drive/MyDrive/dataset1 - Copy/images_prepped_train/augmented_image_310.png img\n",
            "/content/drive/MyDrive/dataset1 - Copy/images_prepped_train/augmented_image_311.png img\n",
            "/content/drive/MyDrive/dataset1 - Copy/images_prepped_train/augmented_image_312.png img\n",
            "/content/drive/MyDrive/dataset1 - Copy/images_prepped_train/augmented_image_313.png img\n",
            "/content/drive/MyDrive/dataset1 - Copy/images_prepped_train/augmented_image_314.png img\n",
            "/content/drive/MyDrive/dataset1 - Copy/images_prepped_train/augmented_image_315.png img\n",
            "/content/drive/MyDrive/dataset1 - Copy/images_prepped_train/augmented_image_316.png img\n",
            "/content/drive/MyDrive/dataset1 - Copy/images_prepped_train/augmented_image_317.png img\n",
            "/content/drive/MyDrive/dataset1 - Copy/images_prepped_train/augmented_image_318.png img\n",
            "/content/drive/MyDrive/dataset1 - Copy/images_prepped_train/augmented_image_319.png img\n",
            "/content/drive/MyDrive/dataset1 - Copy/images_prepped_train/augmented_image_320.png img\n",
            "/content/drive/MyDrive/dataset1 - Copy/images_prepped_train/augmented_image_321.png img\n",
            "/content/drive/MyDrive/dataset1 - Copy/images_prepped_train/augmented_image_322.png img\n",
            "/content/drive/MyDrive/dataset1 - Copy/images_prepped_train/augmented_image_323.png img\n",
            "/content/drive/MyDrive/dataset1 - Copy/images_prepped_train/augmented_image_324.png img\n",
            "/content/drive/MyDrive/dataset1 - Copy/images_prepped_train/augmented_image_325.png img\n",
            "/content/drive/MyDrive/dataset1 - Copy/images_prepped_train/augmented_image_326.png img\n",
            "/content/drive/MyDrive/dataset1 - Copy/images_prepped_train/augmented_image_327.png img\n",
            "/content/drive/MyDrive/dataset1 - Copy/images_prepped_train/augmented_image_328.png img\n",
            "/content/drive/MyDrive/dataset1 - Copy/images_prepped_train/augmented_image_329.png img\n",
            "/content/drive/MyDrive/dataset1 - Copy/images_prepped_train/augmented_image_330.png img\n",
            "/content/drive/MyDrive/dataset1 - Copy/images_prepped_train/augmented_image_331.png img\n",
            "/content/drive/MyDrive/dataset1 - Copy/images_prepped_train/augmented_image_332.png img\n",
            "/content/drive/MyDrive/dataset1 - Copy/images_prepped_train/augmented_image_333.png img\n",
            "/content/drive/MyDrive/dataset1 - Copy/images_prepped_train/augmented_image_334.png img\n",
            "/content/drive/MyDrive/dataset1 - Copy/images_prepped_train/augmented_image_335.png img\n",
            "/content/drive/MyDrive/dataset1 - Copy/images_prepped_train/augmented_image_336.png img\n",
            "/content/drive/MyDrive/dataset1 - Copy/images_prepped_train/augmented_image_337.png img\n",
            "/content/drive/MyDrive/dataset1 - Copy/images_prepped_train/augmented_image_338.png img\n",
            "/content/drive/MyDrive/dataset1 - Copy/images_prepped_train/augmented_image_339.png img\n",
            "/content/drive/MyDrive/dataset1 - Copy/images_prepped_train/augmented_image_340.png img\n",
            "/content/drive/MyDrive/dataset1 - Copy/images_prepped_train/augmented_image_341.png img\n",
            "/content/drive/MyDrive/dataset1 - Copy/images_prepped_train/augmented_image_342.png img\n",
            "/content/drive/MyDrive/dataset1 - Copy/images_prepped_train/augmented_image_343.png img\n",
            "/content/drive/MyDrive/dataset1 - Copy/images_prepped_train/augmented_image_344.png img\n",
            "/content/drive/MyDrive/dataset1 - Copy/images_prepped_train/augmented_image_345.png img\n",
            "/content/drive/MyDrive/dataset1 - Copy/images_prepped_train/augmented_image_346.png img\n",
            "/content/drive/MyDrive/dataset1 - Copy/images_prepped_train/augmented_image_347.png img\n",
            "/content/drive/MyDrive/dataset1 - Copy/images_prepped_train/augmented_image_348.png img\n",
            "/content/drive/MyDrive/dataset1 - Copy/images_prepped_train/augmented_image_349.png img\n",
            "/content/drive/MyDrive/dataset1 - Copy/images_prepped_train/augmented_image_350.png img\n",
            "/content/drive/MyDrive/dataset1 - Copy/images_prepped_train/augmented_image_351.png img\n",
            "/content/drive/MyDrive/dataset1 - Copy/images_prepped_train/augmented_image_352.png img\n",
            "/content/drive/MyDrive/dataset1 - Copy/images_prepped_train/augmented_image_353.png img\n",
            "/content/drive/MyDrive/dataset1 - Copy/images_prepped_train/augmented_image_354.png img\n",
            "/content/drive/MyDrive/dataset1 - Copy/images_prepped_train/augmented_image_355.png img\n",
            "/content/drive/MyDrive/dataset1 - Copy/images_prepped_train/augmented_image_356.png img\n",
            "/content/drive/MyDrive/dataset1 - Copy/images_prepped_train/augmented_image_357.png img\n",
            "/content/drive/MyDrive/dataset1 - Copy/images_prepped_train/augmented_image_358.png img\n",
            "/content/drive/MyDrive/dataset1 - Copy/images_prepped_train/augmented_image_359.png img\n",
            "/content/drive/MyDrive/dataset1 - Copy/images_prepped_train/augmented_image_360.png img\n",
            "/content/drive/MyDrive/dataset1 - Copy/images_prepped_train/augmented_image_361.png img\n",
            "/content/drive/MyDrive/dataset1 - Copy/images_prepped_train/augmented_image_362.png img\n",
            "/content/drive/MyDrive/dataset1 - Copy/images_prepped_train/augmented_image_363.png img\n",
            "/content/drive/MyDrive/dataset1 - Copy/images_prepped_train/augmented_image_364.png img\n",
            "/content/drive/MyDrive/dataset1 - Copy/images_prepped_train/augmented_image_365.png img\n",
            "/content/drive/MyDrive/dataset1 - Copy/images_prepped_train/augmented_image_366.png img\n",
            "/content/drive/MyDrive/dataset1 - Copy/annotations_prepped_train/1 (1).png mask\n",
            "/content/drive/MyDrive/dataset1 - Copy/annotations_prepped_train/1 (2).png mask\n",
            "/content/drive/MyDrive/dataset1 - Copy/annotations_prepped_train/1 (3).png mask\n",
            "/content/drive/MyDrive/dataset1 - Copy/annotations_prepped_train/1 (4).png mask\n",
            "/content/drive/MyDrive/dataset1 - Copy/annotations_prepped_train/1 (5).png mask\n",
            "/content/drive/MyDrive/dataset1 - Copy/annotations_prepped_train/1 (6).png mask\n",
            "/content/drive/MyDrive/dataset1 - Copy/annotations_prepped_train/1 (7).png mask\n",
            "/content/drive/MyDrive/dataset1 - Copy/annotations_prepped_train/1 (8).png mask\n",
            "/content/drive/MyDrive/dataset1 - Copy/annotations_prepped_train/1 (9).png mask\n",
            "/content/drive/MyDrive/dataset1 - Copy/annotations_prepped_train/1 (10).png mask\n",
            "/content/drive/MyDrive/dataset1 - Copy/annotations_prepped_train/1 (11).png mask\n",
            "/content/drive/MyDrive/dataset1 - Copy/annotations_prepped_train/1 (12).png mask\n",
            "/content/drive/MyDrive/dataset1 - Copy/annotations_prepped_train/1 (13).png mask\n",
            "/content/drive/MyDrive/dataset1 - Copy/annotations_prepped_train/1 (14).png mask\n",
            "/content/drive/MyDrive/dataset1 - Copy/annotations_prepped_train/1 (15).png mask\n",
            "/content/drive/MyDrive/dataset1 - Copy/annotations_prepped_train/1 (16).png mask\n",
            "/content/drive/MyDrive/dataset1 - Copy/annotations_prepped_train/1 (17).png mask\n",
            "/content/drive/MyDrive/dataset1 - Copy/annotations_prepped_train/1 (18).png mask\n",
            "/content/drive/MyDrive/dataset1 - Copy/annotations_prepped_train/1 (19).png mask\n",
            "/content/drive/MyDrive/dataset1 - Copy/annotations_prepped_train/1 (20).png mask\n",
            "/content/drive/MyDrive/dataset1 - Copy/annotations_prepped_train/1 (21).png mask\n",
            "/content/drive/MyDrive/dataset1 - Copy/annotations_prepped_train/1 (22).png mask\n",
            "/content/drive/MyDrive/dataset1 - Copy/annotations_prepped_train/1 (23).png mask\n",
            "/content/drive/MyDrive/dataset1 - Copy/annotations_prepped_train/1 (24).png mask\n",
            "/content/drive/MyDrive/dataset1 - Copy/annotations_prepped_train/1 (25).png mask\n",
            "/content/drive/MyDrive/dataset1 - Copy/annotations_prepped_train/1 (26).png mask\n",
            "/content/drive/MyDrive/dataset1 - Copy/annotations_prepped_train/1 (27).png mask\n",
            "/content/drive/MyDrive/dataset1 - Copy/annotations_prepped_train/1 (28).png mask\n",
            "/content/drive/MyDrive/dataset1 - Copy/annotations_prepped_train/1 (29).png mask\n",
            "/content/drive/MyDrive/dataset1 - Copy/annotations_prepped_train/1 (30).png mask\n",
            "/content/drive/MyDrive/dataset1 - Copy/annotations_prepped_train/1 (31).png mask\n",
            "/content/drive/MyDrive/dataset1 - Copy/annotations_prepped_train/1 (32).png mask\n",
            "/content/drive/MyDrive/dataset1 - Copy/annotations_prepped_train/1 (33).png mask\n",
            "/content/drive/MyDrive/dataset1 - Copy/annotations_prepped_train/1 (34).png mask\n",
            "/content/drive/MyDrive/dataset1 - Copy/annotations_prepped_train/1 (35).png mask\n",
            "/content/drive/MyDrive/dataset1 - Copy/annotations_prepped_train/1 (36).png mask\n",
            "/content/drive/MyDrive/dataset1 - Copy/annotations_prepped_train/1 (37).png mask\n",
            "/content/drive/MyDrive/dataset1 - Copy/annotations_prepped_train/1 (38).png mask\n",
            "/content/drive/MyDrive/dataset1 - Copy/annotations_prepped_train/1 (39).png mask\n",
            "/content/drive/MyDrive/dataset1 - Copy/annotations_prepped_train/1 (40).png mask\n",
            "/content/drive/MyDrive/dataset1 - Copy/annotations_prepped_train/1 (41).png mask\n",
            "/content/drive/MyDrive/dataset1 - Copy/annotations_prepped_train/1 (42).png mask\n",
            "/content/drive/MyDrive/dataset1 - Copy/annotations_prepped_train/1 (43).png mask\n",
            "/content/drive/MyDrive/dataset1 - Copy/annotations_prepped_train/1 (44).png mask\n",
            "/content/drive/MyDrive/dataset1 - Copy/annotations_prepped_train/1 (45).png mask\n",
            "/content/drive/MyDrive/dataset1 - Copy/annotations_prepped_train/1 (46).png mask\n",
            "/content/drive/MyDrive/dataset1 - Copy/annotations_prepped_train/1 (47).png mask\n",
            "/content/drive/MyDrive/dataset1 - Copy/annotations_prepped_train/1 (48).png mask\n",
            "/content/drive/MyDrive/dataset1 - Copy/annotations_prepped_train/1 (49).png mask\n",
            "/content/drive/MyDrive/dataset1 - Copy/annotations_prepped_train/1 (50).png mask\n",
            "/content/drive/MyDrive/dataset1 - Copy/annotations_prepped_train/1 (51).png mask\n",
            "/content/drive/MyDrive/dataset1 - Copy/annotations_prepped_train/1 (52).png mask\n",
            "/content/drive/MyDrive/dataset1 - Copy/annotations_prepped_train/1 (53).png mask\n",
            "/content/drive/MyDrive/dataset1 - Copy/annotations_prepped_train/1 (54).png mask\n",
            "/content/drive/MyDrive/dataset1 - Copy/annotations_prepped_train/1 (55).png mask\n",
            "/content/drive/MyDrive/dataset1 - Copy/annotations_prepped_train/1 (56).png mask\n",
            "/content/drive/MyDrive/dataset1 - Copy/annotations_prepped_train/1 (57).png mask\n",
            "/content/drive/MyDrive/dataset1 - Copy/annotations_prepped_train/1 (58).png mask\n",
            "/content/drive/MyDrive/dataset1 - Copy/annotations_prepped_train/1 (59).png mask\n",
            "/content/drive/MyDrive/dataset1 - Copy/annotations_prepped_train/1 (60).png mask\n",
            "/content/drive/MyDrive/dataset1 - Copy/annotations_prepped_train/1 (61).png mask\n",
            "/content/drive/MyDrive/dataset1 - Copy/annotations_prepped_train/1 (62).png mask\n",
            "/content/drive/MyDrive/dataset1 - Copy/annotations_prepped_train/1 (63).png mask\n",
            "/content/drive/MyDrive/dataset1 - Copy/annotations_prepped_train/1 (64).png mask\n",
            "/content/drive/MyDrive/dataset1 - Copy/annotations_prepped_train/1 (65).png mask\n",
            "/content/drive/MyDrive/dataset1 - Copy/annotations_prepped_train/1 (66).png mask\n",
            "/content/drive/MyDrive/dataset1 - Copy/annotations_prepped_train/1 (67).png mask\n",
            "/content/drive/MyDrive/dataset1 - Copy/annotations_prepped_train/1 (68).png mask\n",
            "/content/drive/MyDrive/dataset1 - Copy/annotations_prepped_train/1 (69).png mask\n",
            "/content/drive/MyDrive/dataset1 - Copy/annotations_prepped_train/1 (70).png mask\n",
            "/content/drive/MyDrive/dataset1 - Copy/annotations_prepped_train/1 (71).png mask\n",
            "/content/drive/MyDrive/dataset1 - Copy/annotations_prepped_train/1 (72).png mask\n",
            "/content/drive/MyDrive/dataset1 - Copy/annotations_prepped_train/1 (73).png mask\n",
            "/content/drive/MyDrive/dataset1 - Copy/annotations_prepped_train/1 (74).png mask\n",
            "/content/drive/MyDrive/dataset1 - Copy/annotations_prepped_train/1 (75).png mask\n",
            "/content/drive/MyDrive/dataset1 - Copy/annotations_prepped_train/1 (76).png mask\n",
            "/content/drive/MyDrive/dataset1 - Copy/annotations_prepped_train/1 (77).png mask\n",
            "/content/drive/MyDrive/dataset1 - Copy/annotations_prepped_train/1 (78).png mask\n",
            "/content/drive/MyDrive/dataset1 - Copy/annotations_prepped_train/1 (79).png mask\n",
            "/content/drive/MyDrive/dataset1 - Copy/annotations_prepped_train/1 (80).png mask\n",
            "/content/drive/MyDrive/dataset1 - Copy/annotations_prepped_train/1 (81).png mask\n",
            "/content/drive/MyDrive/dataset1 - Copy/annotations_prepped_train/1 (82).png mask\n",
            "/content/drive/MyDrive/dataset1 - Copy/annotations_prepped_train/1 (83).png mask\n",
            "/content/drive/MyDrive/dataset1 - Copy/annotations_prepped_train/1 (84).png mask\n",
            "/content/drive/MyDrive/dataset1 - Copy/annotations_prepped_train/1 (85).png mask\n",
            "/content/drive/MyDrive/dataset1 - Copy/annotations_prepped_train/1 (86).png mask\n",
            "/content/drive/MyDrive/dataset1 - Copy/annotations_prepped_train/1 (87).png mask\n",
            "/content/drive/MyDrive/dataset1 - Copy/annotations_prepped_train/1 (88).png mask\n",
            "/content/drive/MyDrive/dataset1 - Copy/annotations_prepped_train/1 (89).png mask\n",
            "/content/drive/MyDrive/dataset1 - Copy/annotations_prepped_train/1 (90).png mask\n",
            "/content/drive/MyDrive/dataset1 - Copy/annotations_prepped_train/1 (91).png mask\n",
            "/content/drive/MyDrive/dataset1 - Copy/annotations_prepped_train/1 (92).png mask\n",
            "/content/drive/MyDrive/dataset1 - Copy/annotations_prepped_train/1 (93).png mask\n",
            "/content/drive/MyDrive/dataset1 - Copy/annotations_prepped_train/1 (94).png mask\n",
            "/content/drive/MyDrive/dataset1 - Copy/annotations_prepped_train/1 (95).png mask\n",
            "/content/drive/MyDrive/dataset1 - Copy/annotations_prepped_train/1 (96).png mask\n",
            "/content/drive/MyDrive/dataset1 - Copy/annotations_prepped_train/1 (97).png mask\n",
            "/content/drive/MyDrive/dataset1 - Copy/annotations_prepped_train/1 (98).png mask\n",
            "/content/drive/MyDrive/dataset1 - Copy/annotations_prepped_train/1 (99).png mask\n",
            "/content/drive/MyDrive/dataset1 - Copy/annotations_prepped_train/1 (100).png mask\n",
            "/content/drive/MyDrive/dataset1 - Copy/annotations_prepped_train/1 (101).png mask\n",
            "/content/drive/MyDrive/dataset1 - Copy/annotations_prepped_train/1 (102).png mask\n",
            "/content/drive/MyDrive/dataset1 - Copy/annotations_prepped_train/1 (103).png mask\n",
            "/content/drive/MyDrive/dataset1 - Copy/annotations_prepped_train/1 (104).png mask\n",
            "/content/drive/MyDrive/dataset1 - Copy/annotations_prepped_train/1 (105).png mask\n",
            "/content/drive/MyDrive/dataset1 - Copy/annotations_prepped_train/1 (106).png mask\n",
            "/content/drive/MyDrive/dataset1 - Copy/annotations_prepped_train/1 (107).png mask\n",
            "/content/drive/MyDrive/dataset1 - Copy/annotations_prepped_train/1 (108).png mask\n",
            "/content/drive/MyDrive/dataset1 - Copy/annotations_prepped_train/1 (109).png mask\n",
            "/content/drive/MyDrive/dataset1 - Copy/annotations_prepped_train/1 (110).png mask\n",
            "/content/drive/MyDrive/dataset1 - Copy/annotations_prepped_train/1 (111).png mask\n",
            "/content/drive/MyDrive/dataset1 - Copy/annotations_prepped_train/1 (112).png mask\n",
            "/content/drive/MyDrive/dataset1 - Copy/annotations_prepped_train/1 (113).png mask\n",
            "/content/drive/MyDrive/dataset1 - Copy/annotations_prepped_train/1 (114).png mask\n",
            "/content/drive/MyDrive/dataset1 - Copy/annotations_prepped_train/1 (115).png mask\n",
            "/content/drive/MyDrive/dataset1 - Copy/annotations_prepped_train/1 (116).png mask\n",
            "/content/drive/MyDrive/dataset1 - Copy/annotations_prepped_train/1 (117).png mask\n",
            "/content/drive/MyDrive/dataset1 - Copy/annotations_prepped_train/1 (118).png mask\n",
            "/content/drive/MyDrive/dataset1 - Copy/annotations_prepped_train/1 (119).png mask\n",
            "/content/drive/MyDrive/dataset1 - Copy/annotations_prepped_train/1 (120).png mask\n",
            "/content/drive/MyDrive/dataset1 - Copy/annotations_prepped_train/1 (121).png mask\n",
            "/content/drive/MyDrive/dataset1 - Copy/annotations_prepped_train/1 (122).png mask\n",
            "/content/drive/MyDrive/dataset1 - Copy/annotations_prepped_train/1 (123).png mask\n",
            "/content/drive/MyDrive/dataset1 - Copy/annotations_prepped_train/1 (124).png mask\n",
            "/content/drive/MyDrive/dataset1 - Copy/annotations_prepped_train/1 (125).png mask\n",
            "/content/drive/MyDrive/dataset1 - Copy/annotations_prepped_train/1 (126).png mask\n",
            "/content/drive/MyDrive/dataset1 - Copy/annotations_prepped_train/1 (127).png mask\n",
            "/content/drive/MyDrive/dataset1 - Copy/annotations_prepped_train/1 (128).png mask\n",
            "/content/drive/MyDrive/dataset1 - Copy/annotations_prepped_train/1 (129).png mask\n",
            "/content/drive/MyDrive/dataset1 - Copy/annotations_prepped_train/1 (130).png mask\n",
            "/content/drive/MyDrive/dataset1 - Copy/annotations_prepped_train/1 (131).png mask\n",
            "/content/drive/MyDrive/dataset1 - Copy/annotations_prepped_train/1 (132).png mask\n",
            "/content/drive/MyDrive/dataset1 - Copy/annotations_prepped_train/1 (133).png mask\n",
            "/content/drive/MyDrive/dataset1 - Copy/annotations_prepped_train/1 (134).png mask\n",
            "/content/drive/MyDrive/dataset1 - Copy/annotations_prepped_train/1 (135).png mask\n",
            "/content/drive/MyDrive/dataset1 - Copy/annotations_prepped_train/1 (136).png mask\n",
            "/content/drive/MyDrive/dataset1 - Copy/annotations_prepped_train/1 (137).png mask\n",
            "/content/drive/MyDrive/dataset1 - Copy/annotations_prepped_train/1 (138).png mask\n",
            "/content/drive/MyDrive/dataset1 - Copy/annotations_prepped_train/1 (139).png mask\n",
            "/content/drive/MyDrive/dataset1 - Copy/annotations_prepped_train/1 (140).png mask\n",
            "/content/drive/MyDrive/dataset1 - Copy/annotations_prepped_train/1 (141).png mask\n",
            "/content/drive/MyDrive/dataset1 - Copy/annotations_prepped_train/1 (142).png mask\n",
            "/content/drive/MyDrive/dataset1 - Copy/annotations_prepped_train/1 (143).png mask\n",
            "/content/drive/MyDrive/dataset1 - Copy/annotations_prepped_train/1 (144).png mask\n",
            "/content/drive/MyDrive/dataset1 - Copy/annotations_prepped_train/1 (145).png mask\n",
            "/content/drive/MyDrive/dataset1 - Copy/annotations_prepped_train/1 (146).png mask\n",
            "/content/drive/MyDrive/dataset1 - Copy/annotations_prepped_train/1 (147).png mask\n",
            "/content/drive/MyDrive/dataset1 - Copy/annotations_prepped_train/1 (148).png mask\n",
            "/content/drive/MyDrive/dataset1 - Copy/annotations_prepped_train/1 (149).png mask\n",
            "/content/drive/MyDrive/dataset1 - Copy/annotations_prepped_train/1 (150).png mask\n",
            "/content/drive/MyDrive/dataset1 - Copy/annotations_prepped_train/1 (151).png mask\n",
            "/content/drive/MyDrive/dataset1 - Copy/annotations_prepped_train/1 (152).png mask\n",
            "/content/drive/MyDrive/dataset1 - Copy/annotations_prepped_train/1 (153).png mask\n",
            "/content/drive/MyDrive/dataset1 - Copy/annotations_prepped_train/1 (154).png mask\n",
            "/content/drive/MyDrive/dataset1 - Copy/annotations_prepped_train/1 (155).png mask\n",
            "/content/drive/MyDrive/dataset1 - Copy/annotations_prepped_train/1 (156).png mask\n",
            "/content/drive/MyDrive/dataset1 - Copy/annotations_prepped_train/1 (157).png mask\n",
            "/content/drive/MyDrive/dataset1 - Copy/annotations_prepped_train/1 (158).png mask\n",
            "/content/drive/MyDrive/dataset1 - Copy/annotations_prepped_train/1 (159).png mask\n",
            "/content/drive/MyDrive/dataset1 - Copy/annotations_prepped_train/1 (160).png mask\n",
            "/content/drive/MyDrive/dataset1 - Copy/annotations_prepped_train/1 (161).png mask\n",
            "/content/drive/MyDrive/dataset1 - Copy/annotations_prepped_train/1 (162).png mask\n",
            "/content/drive/MyDrive/dataset1 - Copy/annotations_prepped_train/1 (163).png mask\n",
            "/content/drive/MyDrive/dataset1 - Copy/annotations_prepped_train/1 (164).png mask\n",
            "/content/drive/MyDrive/dataset1 - Copy/annotations_prepped_train/1 (165).png mask\n",
            "/content/drive/MyDrive/dataset1 - Copy/annotations_prepped_train/1 (166).png mask\n",
            "/content/drive/MyDrive/dataset1 - Copy/annotations_prepped_train/1 (167).png mask\n",
            "/content/drive/MyDrive/dataset1 - Copy/annotations_prepped_train/1 (168).png mask\n",
            "/content/drive/MyDrive/dataset1 - Copy/annotations_prepped_train/1 (169).png mask\n",
            "/content/drive/MyDrive/dataset1 - Copy/annotations_prepped_train/1 (170).png mask\n",
            "/content/drive/MyDrive/dataset1 - Copy/annotations_prepped_train/1 (171).png mask\n",
            "/content/drive/MyDrive/dataset1 - Copy/annotations_prepped_train/1 (172).png mask\n",
            "/content/drive/MyDrive/dataset1 - Copy/annotations_prepped_train/1 (173).png mask\n",
            "/content/drive/MyDrive/dataset1 - Copy/annotations_prepped_train/1 (174).png mask\n",
            "/content/drive/MyDrive/dataset1 - Copy/annotations_prepped_train/1 (175).png mask\n",
            "/content/drive/MyDrive/dataset1 - Copy/annotations_prepped_train/1 (176).png mask\n",
            "/content/drive/MyDrive/dataset1 - Copy/annotations_prepped_train/1 (177).png mask\n",
            "/content/drive/MyDrive/dataset1 - Copy/annotations_prepped_train/1 (178).png mask\n",
            "/content/drive/MyDrive/dataset1 - Copy/annotations_prepped_train/1 (179).png mask\n",
            "/content/drive/MyDrive/dataset1 - Copy/annotations_prepped_train/1 (180).png mask\n",
            "/content/drive/MyDrive/dataset1 - Copy/annotations_prepped_train/1 (181).png mask\n",
            "/content/drive/MyDrive/dataset1 - Copy/annotations_prepped_train/1 (182).png mask\n",
            "/content/drive/MyDrive/dataset1 - Copy/annotations_prepped_train/1 (183).png mask\n",
            "/content/drive/MyDrive/dataset1 - Copy/annotations_prepped_train/1 (184).png mask\n",
            "/content/drive/MyDrive/dataset1 - Copy/annotations_prepped_train/1 (185).png mask\n",
            "/content/drive/MyDrive/dataset1 - Copy/annotations_prepped_train/1 (186).png mask\n",
            "/content/drive/MyDrive/dataset1 - Copy/annotations_prepped_train/1 (187).png mask\n",
            "/content/drive/MyDrive/dataset1 - Copy/annotations_prepped_train/1 (188).png mask\n",
            "/content/drive/MyDrive/dataset1 - Copy/annotations_prepped_train/1 (189).png mask\n",
            "/content/drive/MyDrive/dataset1 - Copy/annotations_prepped_train/1 (190).png mask\n",
            "/content/drive/MyDrive/dataset1 - Copy/annotations_prepped_train/1 (191).png mask\n",
            "/content/drive/MyDrive/dataset1 - Copy/annotations_prepped_train/1 (192).png mask\n",
            "/content/drive/MyDrive/dataset1 - Copy/annotations_prepped_train/1 (193).png mask\n",
            "/content/drive/MyDrive/dataset1 - Copy/annotations_prepped_train/1 (194).png mask\n",
            "/content/drive/MyDrive/dataset1 - Copy/annotations_prepped_train/1 (195).png mask\n",
            "/content/drive/MyDrive/dataset1 - Copy/annotations_prepped_train/1 (196).png mask\n",
            "/content/drive/MyDrive/dataset1 - Copy/annotations_prepped_train/1 (197).png mask\n",
            "/content/drive/MyDrive/dataset1 - Copy/annotations_prepped_train/1 (198).png mask\n",
            "/content/drive/MyDrive/dataset1 - Copy/annotations_prepped_train/1 (199).png mask\n",
            "/content/drive/MyDrive/dataset1 - Copy/annotations_prepped_train/1 (200).png mask\n",
            "/content/drive/MyDrive/dataset1 - Copy/annotations_prepped_train/1 (201).png mask\n",
            "/content/drive/MyDrive/dataset1 - Copy/annotations_prepped_train/1 (202).png mask\n",
            "/content/drive/MyDrive/dataset1 - Copy/annotations_prepped_train/1 (203).png mask\n",
            "/content/drive/MyDrive/dataset1 - Copy/annotations_prepped_train/1 (204).png mask\n",
            "/content/drive/MyDrive/dataset1 - Copy/annotations_prepped_train/1 (205).png mask\n",
            "/content/drive/MyDrive/dataset1 - Copy/annotations_prepped_train/1 (206).png mask\n",
            "/content/drive/MyDrive/dataset1 - Copy/annotations_prepped_train/1 (207).png mask\n",
            "/content/drive/MyDrive/dataset1 - Copy/annotations_prepped_train/1 (208).png mask\n",
            "/content/drive/MyDrive/dataset1 - Copy/annotations_prepped_train/1 (209).png mask\n",
            "/content/drive/MyDrive/dataset1 - Copy/annotations_prepped_train/1 (210).png mask\n",
            "/content/drive/MyDrive/dataset1 - Copy/annotations_prepped_train/1 (211).png mask\n",
            "/content/drive/MyDrive/dataset1 - Copy/annotations_prepped_train/1 (212).png mask\n",
            "/content/drive/MyDrive/dataset1 - Copy/annotations_prepped_train/1 (213).png mask\n",
            "/content/drive/MyDrive/dataset1 - Copy/annotations_prepped_train/1 (214).png mask\n",
            "/content/drive/MyDrive/dataset1 - Copy/annotations_prepped_train/1 (215).png mask\n",
            "/content/drive/MyDrive/dataset1 - Copy/annotations_prepped_train/1 (216).png mask\n",
            "/content/drive/MyDrive/dataset1 - Copy/annotations_prepped_train/1 (217).png mask\n",
            "/content/drive/MyDrive/dataset1 - Copy/annotations_prepped_train/1 (218).png mask\n",
            "/content/drive/MyDrive/dataset1 - Copy/annotations_prepped_train/1 (219).png mask\n",
            "/content/drive/MyDrive/dataset1 - Copy/annotations_prepped_train/1 (220).png mask\n",
            "/content/drive/MyDrive/dataset1 - Copy/annotations_prepped_train/1 (221).png mask\n",
            "/content/drive/MyDrive/dataset1 - Copy/annotations_prepped_train/1 (222).png mask\n",
            "/content/drive/MyDrive/dataset1 - Copy/annotations_prepped_train/1 (223).png mask\n",
            "/content/drive/MyDrive/dataset1 - Copy/annotations_prepped_train/1 (224).png mask\n",
            "/content/drive/MyDrive/dataset1 - Copy/annotations_prepped_train/1 (225).png mask\n",
            "/content/drive/MyDrive/dataset1 - Copy/annotations_prepped_train/1 (226).png mask\n",
            "/content/drive/MyDrive/dataset1 - Copy/annotations_prepped_train/1 (227).png mask\n",
            "/content/drive/MyDrive/dataset1 - Copy/annotations_prepped_train/1 (228).png mask\n",
            "/content/drive/MyDrive/dataset1 - Copy/annotations_prepped_train/1 (229).png mask\n",
            "/content/drive/MyDrive/dataset1 - Copy/annotations_prepped_train/1 (230).png mask\n",
            "/content/drive/MyDrive/dataset1 - Copy/annotations_prepped_train/1 (231).png mask\n",
            "/content/drive/MyDrive/dataset1 - Copy/annotations_prepped_train/1 (232).png mask\n",
            "/content/drive/MyDrive/dataset1 - Copy/annotations_prepped_train/1 (233).png mask\n",
            "/content/drive/MyDrive/dataset1 - Copy/annotations_prepped_train/1 (234).png mask\n",
            "/content/drive/MyDrive/dataset1 - Copy/annotations_prepped_train/1 (235).png mask\n",
            "/content/drive/MyDrive/dataset1 - Copy/annotations_prepped_train/1 (236).png mask\n",
            "/content/drive/MyDrive/dataset1 - Copy/annotations_prepped_train/1 (237).png mask\n",
            "/content/drive/MyDrive/dataset1 - Copy/annotations_prepped_train/1 (238).png mask\n",
            "/content/drive/MyDrive/dataset1 - Copy/annotations_prepped_train/1 (239).png mask\n",
            "/content/drive/MyDrive/dataset1 - Copy/annotations_prepped_train/1 (240).png mask\n",
            "/content/drive/MyDrive/dataset1 - Copy/annotations_prepped_train/1 (241).png mask\n",
            "/content/drive/MyDrive/dataset1 - Copy/annotations_prepped_train/1 (242).png mask\n",
            "/content/drive/MyDrive/dataset1 - Copy/annotations_prepped_train/1 (243).png mask\n",
            "/content/drive/MyDrive/dataset1 - Copy/annotations_prepped_train/1 (244).png mask\n",
            "/content/drive/MyDrive/dataset1 - Copy/annotations_prepped_train/1 (245).png mask\n",
            "/content/drive/MyDrive/dataset1 - Copy/annotations_prepped_train/1 (246).png mask\n",
            "/content/drive/MyDrive/dataset1 - Copy/annotations_prepped_train/1 (247).png mask\n",
            "/content/drive/MyDrive/dataset1 - Copy/annotations_prepped_train/1 (248).png mask\n",
            "/content/drive/MyDrive/dataset1 - Copy/annotations_prepped_train/1 (249).png mask\n",
            "/content/drive/MyDrive/dataset1 - Copy/annotations_prepped_train/1 (250).png mask\n",
            "/content/drive/MyDrive/dataset1 - Copy/annotations_prepped_train/1 (251).png mask\n",
            "/content/drive/MyDrive/dataset1 - Copy/annotations_prepped_train/1 (252).png mask\n",
            "/content/drive/MyDrive/dataset1 - Copy/annotations_prepped_train/1 (253).png mask\n",
            "/content/drive/MyDrive/dataset1 - Copy/annotations_prepped_train/1 (254).png mask\n",
            "/content/drive/MyDrive/dataset1 - Copy/annotations_prepped_train/1 (255).png mask\n",
            "/content/drive/MyDrive/dataset1 - Copy/annotations_prepped_train/1 (256).png mask\n",
            "/content/drive/MyDrive/dataset1 - Copy/annotations_prepped_train/1 (257).png mask\n",
            "/content/drive/MyDrive/dataset1 - Copy/annotations_prepped_train/1 (258).png mask\n",
            "/content/drive/MyDrive/dataset1 - Copy/annotations_prepped_train/1 (259).png mask\n",
            "/content/drive/MyDrive/dataset1 - Copy/annotations_prepped_train/1 (260).png mask\n",
            "/content/drive/MyDrive/dataset1 - Copy/annotations_prepped_train/1 (261).png mask\n",
            "/content/drive/MyDrive/dataset1 - Copy/annotations_prepped_train/1 (262).png mask\n",
            "/content/drive/MyDrive/dataset1 - Copy/annotations_prepped_train/1 (263).png mask\n",
            "/content/drive/MyDrive/dataset1 - Copy/annotations_prepped_train/1 (264).png mask\n",
            "/content/drive/MyDrive/dataset1 - Copy/annotations_prepped_train/1 (265).png mask\n",
            "/content/drive/MyDrive/dataset1 - Copy/annotations_prepped_train/1 (266).png mask\n",
            "/content/drive/MyDrive/dataset1 - Copy/annotations_prepped_train/1 (267).png mask\n",
            "/content/drive/MyDrive/dataset1 - Copy/annotations_prepped_train/1 (268).png mask\n",
            "/content/drive/MyDrive/dataset1 - Copy/annotations_prepped_train/1 (269).png mask\n",
            "/content/drive/MyDrive/dataset1 - Copy/annotations_prepped_train/1 (270).png mask\n",
            "/content/drive/MyDrive/dataset1 - Copy/annotations_prepped_train/1 (271).png mask\n",
            "/content/drive/MyDrive/dataset1 - Copy/annotations_prepped_train/1 (272).png mask\n",
            "/content/drive/MyDrive/dataset1 - Copy/annotations_prepped_train/1 (273).png mask\n",
            "/content/drive/MyDrive/dataset1 - Copy/annotations_prepped_train/1 (274).png mask\n",
            "/content/drive/MyDrive/dataset1 - Copy/annotations_prepped_train/1 (275).png mask\n",
            "/content/drive/MyDrive/dataset1 - Copy/annotations_prepped_train/1 (276).png mask\n",
            "/content/drive/MyDrive/dataset1 - Copy/annotations_prepped_train/1 (277).png mask\n",
            "/content/drive/MyDrive/dataset1 - Copy/annotations_prepped_train/1 (278).png mask\n",
            "/content/drive/MyDrive/dataset1 - Copy/annotations_prepped_train/1 (279).png mask\n",
            "/content/drive/MyDrive/dataset1 - Copy/annotations_prepped_train/1 (280).png mask\n",
            "/content/drive/MyDrive/dataset1 - Copy/annotations_prepped_train/1 (281).png mask\n",
            "/content/drive/MyDrive/dataset1 - Copy/annotations_prepped_train/1 (282).png mask\n",
            "/content/drive/MyDrive/dataset1 - Copy/annotations_prepped_train/1 (283).png mask\n",
            "/content/drive/MyDrive/dataset1 - Copy/annotations_prepped_train/1 (284).png mask\n",
            "/content/drive/MyDrive/dataset1 - Copy/annotations_prepped_train/1 (285).png mask\n",
            "/content/drive/MyDrive/dataset1 - Copy/annotations_prepped_train/1 (286).png mask\n",
            "/content/drive/MyDrive/dataset1 - Copy/annotations_prepped_train/1 (287).png mask\n",
            "/content/drive/MyDrive/dataset1 - Copy/annotations_prepped_train/1 (288).png mask\n",
            "/content/drive/MyDrive/dataset1 - Copy/annotations_prepped_train/1 (289).png mask\n",
            "/content/drive/MyDrive/dataset1 - Copy/annotations_prepped_train/1 (290).png mask\n",
            "/content/drive/MyDrive/dataset1 - Copy/annotations_prepped_train/1 (291).png mask\n",
            "/content/drive/MyDrive/dataset1 - Copy/annotations_prepped_train/1 (292).png mask\n",
            "/content/drive/MyDrive/dataset1 - Copy/annotations_prepped_train/1 (293).png mask\n",
            "/content/drive/MyDrive/dataset1 - Copy/annotations_prepped_train/1 (294).png mask\n",
            "/content/drive/MyDrive/dataset1 - Copy/annotations_prepped_train/1 (295).png mask\n",
            "/content/drive/MyDrive/dataset1 - Copy/annotations_prepped_train/1 (296).png mask\n",
            "/content/drive/MyDrive/dataset1 - Copy/annotations_prepped_train/1 (297).png mask\n",
            "/content/drive/MyDrive/dataset1 - Copy/annotations_prepped_train/1 (298).png mask\n",
            "/content/drive/MyDrive/dataset1 - Copy/annotations_prepped_train/1 (299).png mask\n",
            "/content/drive/MyDrive/dataset1 - Copy/annotations_prepped_train/1 (300).png mask\n",
            "/content/drive/MyDrive/dataset1 - Copy/annotations_prepped_train/1 (301).png mask\n",
            "/content/drive/MyDrive/dataset1 - Copy/annotations_prepped_train/1 (302).png mask\n",
            "/content/drive/MyDrive/dataset1 - Copy/annotations_prepped_train/1 (303).png mask\n",
            "/content/drive/MyDrive/dataset1 - Copy/annotations_prepped_train/1 (304).png mask\n",
            "/content/drive/MyDrive/dataset1 - Copy/annotations_prepped_train/1 (305).png mask\n",
            "/content/drive/MyDrive/dataset1 - Copy/annotations_prepped_train/1 (306).png mask\n",
            "/content/drive/MyDrive/dataset1 - Copy/annotations_prepped_train/1 (307).png mask\n",
            "/content/drive/MyDrive/dataset1 - Copy/annotations_prepped_train/1 (308).png mask\n",
            "/content/drive/MyDrive/dataset1 - Copy/annotations_prepped_train/1 (309).png mask\n",
            "/content/drive/MyDrive/dataset1 - Copy/annotations_prepped_train/1 (310).png mask\n",
            "/content/drive/MyDrive/dataset1 - Copy/annotations_prepped_train/1 (311).png mask\n",
            "/content/drive/MyDrive/dataset1 - Copy/annotations_prepped_train/1 (312).png mask\n",
            "/content/drive/MyDrive/dataset1 - Copy/annotations_prepped_train/1 (313).png mask\n",
            "/content/drive/MyDrive/dataset1 - Copy/annotations_prepped_train/1 (314).png mask\n",
            "/content/drive/MyDrive/dataset1 - Copy/annotations_prepped_train/1 (315).png mask\n",
            "/content/drive/MyDrive/dataset1 - Copy/annotations_prepped_train/1 (316).png mask\n",
            "/content/drive/MyDrive/dataset1 - Copy/annotations_prepped_train/1 (317).png mask\n",
            "/content/drive/MyDrive/dataset1 - Copy/annotations_prepped_train/1 (318).png mask\n",
            "/content/drive/MyDrive/dataset1 - Copy/annotations_prepped_train/1 (319).png mask\n",
            "/content/drive/MyDrive/dataset1 - Copy/annotations_prepped_train/1 (320).png mask\n",
            "/content/drive/MyDrive/dataset1 - Copy/annotations_prepped_train/1 (321).png mask\n",
            "/content/drive/MyDrive/dataset1 - Copy/annotations_prepped_train/1 (322).png mask\n",
            "/content/drive/MyDrive/dataset1 - Copy/annotations_prepped_train/1 (323).png mask\n",
            "/content/drive/MyDrive/dataset1 - Copy/annotations_prepped_train/1 (324).png mask\n",
            "/content/drive/MyDrive/dataset1 - Copy/annotations_prepped_train/1 (325).png mask\n",
            "/content/drive/MyDrive/dataset1 - Copy/annotations_prepped_train/1 (326).png mask\n",
            "/content/drive/MyDrive/dataset1 - Copy/annotations_prepped_train/1 (327).png mask\n",
            "/content/drive/MyDrive/dataset1 - Copy/annotations_prepped_train/1 (328).png mask\n",
            "/content/drive/MyDrive/dataset1 - Copy/annotations_prepped_train/1 (329).png mask\n",
            "/content/drive/MyDrive/dataset1 - Copy/annotations_prepped_train/1 (330).png mask\n",
            "/content/drive/MyDrive/dataset1 - Copy/annotations_prepped_train/1 (331).png mask\n",
            "/content/drive/MyDrive/dataset1 - Copy/annotations_prepped_train/1 (332).png mask\n",
            "/content/drive/MyDrive/dataset1 - Copy/annotations_prepped_train/1 (333).png mask\n",
            "/content/drive/MyDrive/dataset1 - Copy/annotations_prepped_train/1 (334).png mask\n",
            "/content/drive/MyDrive/dataset1 - Copy/annotations_prepped_train/1 (335).png mask\n",
            "/content/drive/MyDrive/dataset1 - Copy/annotations_prepped_train/1 (336).png mask\n",
            "/content/drive/MyDrive/dataset1 - Copy/annotations_prepped_train/1 (337).png mask\n",
            "/content/drive/MyDrive/dataset1 - Copy/annotations_prepped_train/1 (338).png mask\n",
            "/content/drive/MyDrive/dataset1 - Copy/annotations_prepped_train/1 (339).png mask\n",
            "/content/drive/MyDrive/dataset1 - Copy/annotations_prepped_train/1 (340).png mask\n",
            "/content/drive/MyDrive/dataset1 - Copy/annotations_prepped_train/1 (341).png mask\n",
            "/content/drive/MyDrive/dataset1 - Copy/annotations_prepped_train/1 (342).png mask\n",
            "/content/drive/MyDrive/dataset1 - Copy/annotations_prepped_train/1 (343).png mask\n",
            "/content/drive/MyDrive/dataset1 - Copy/annotations_prepped_train/1 (344).png mask\n",
            "/content/drive/MyDrive/dataset1 - Copy/annotations_prepped_train/1 (345).png mask\n",
            "/content/drive/MyDrive/dataset1 - Copy/annotations_prepped_train/1 (346).png mask\n",
            "/content/drive/MyDrive/dataset1 - Copy/annotations_prepped_train/1 (347).png mask\n",
            "/content/drive/MyDrive/dataset1 - Copy/annotations_prepped_train/1 (348).png mask\n",
            "/content/drive/MyDrive/dataset1 - Copy/annotations_prepped_train/1 (349).png mask\n",
            "/content/drive/MyDrive/dataset1 - Copy/annotations_prepped_train/1 (350).png mask\n",
            "/content/drive/MyDrive/dataset1 - Copy/annotations_prepped_train/1 (351).png mask\n",
            "/content/drive/MyDrive/dataset1 - Copy/annotations_prepped_train/1 (352).png mask\n",
            "/content/drive/MyDrive/dataset1 - Copy/annotations_prepped_train/1 (353).png mask\n",
            "/content/drive/MyDrive/dataset1 - Copy/annotations_prepped_train/1 (354).png mask\n",
            "/content/drive/MyDrive/dataset1 - Copy/annotations_prepped_train/1 (355).png mask\n",
            "/content/drive/MyDrive/dataset1 - Copy/annotations_prepped_train/1 (356).png mask\n",
            "/content/drive/MyDrive/dataset1 - Copy/annotations_prepped_train/1 (357).png mask\n",
            "/content/drive/MyDrive/dataset1 - Copy/annotations_prepped_train/1 (358).png mask\n",
            "/content/drive/MyDrive/dataset1 - Copy/annotations_prepped_train/1 (359).png mask\n",
            "/content/drive/MyDrive/dataset1 - Copy/annotations_prepped_train/1 (360).png mask\n",
            "/content/drive/MyDrive/dataset1 - Copy/annotations_prepped_train/1 (361).png mask\n",
            "/content/drive/MyDrive/dataset1 - Copy/annotations_prepped_train/1 (362).png mask\n",
            "/content/drive/MyDrive/dataset1 - Copy/annotations_prepped_train/1 (363).png mask\n",
            "/content/drive/MyDrive/dataset1 - Copy/annotations_prepped_train/1 (364).png mask\n",
            "/content/drive/MyDrive/dataset1 - Copy/annotations_prepped_train/1 (365).png mask\n",
            "/content/drive/MyDrive/dataset1 - Copy/annotations_prepped_train/1 (366).png mask\n",
            "/content/drive/MyDrive/dataset1 - Copy/annotations_prepped_train/1 (367).png mask\n",
            "/content/drive/MyDrive/dataset1 - Copy/annotations_prepped_train/augmented_mask_0.png mask\n",
            "/content/drive/MyDrive/dataset1 - Copy/annotations_prepped_train/augmented_mask_1.png mask\n",
            "/content/drive/MyDrive/dataset1 - Copy/annotations_prepped_train/augmented_mask_2.png mask\n",
            "/content/drive/MyDrive/dataset1 - Copy/annotations_prepped_train/augmented_mask_3.png mask\n",
            "/content/drive/MyDrive/dataset1 - Copy/annotations_prepped_train/augmented_mask_4.png mask\n",
            "/content/drive/MyDrive/dataset1 - Copy/annotations_prepped_train/augmented_mask_5.png mask\n",
            "/content/drive/MyDrive/dataset1 - Copy/annotations_prepped_train/augmented_mask_6.png mask\n",
            "/content/drive/MyDrive/dataset1 - Copy/annotations_prepped_train/augmented_mask_7.png mask\n",
            "/content/drive/MyDrive/dataset1 - Copy/annotations_prepped_train/augmented_mask_8.png mask\n",
            "/content/drive/MyDrive/dataset1 - Copy/annotations_prepped_train/augmented_mask_9.png mask\n",
            "/content/drive/MyDrive/dataset1 - Copy/annotations_prepped_train/augmented_mask_10.png mask\n",
            "/content/drive/MyDrive/dataset1 - Copy/annotations_prepped_train/augmented_mask_11.png mask\n",
            "/content/drive/MyDrive/dataset1 - Copy/annotations_prepped_train/augmented_mask_12.png mask\n",
            "/content/drive/MyDrive/dataset1 - Copy/annotations_prepped_train/augmented_mask_13.png mask\n",
            "/content/drive/MyDrive/dataset1 - Copy/annotations_prepped_train/augmented_mask_14.png mask\n",
            "/content/drive/MyDrive/dataset1 - Copy/annotations_prepped_train/augmented_mask_15.png mask\n",
            "/content/drive/MyDrive/dataset1 - Copy/annotations_prepped_train/augmented_mask_16.png mask\n",
            "/content/drive/MyDrive/dataset1 - Copy/annotations_prepped_train/augmented_mask_17.png mask\n",
            "/content/drive/MyDrive/dataset1 - Copy/annotations_prepped_train/augmented_mask_18.png mask\n",
            "/content/drive/MyDrive/dataset1 - Copy/annotations_prepped_train/augmented_mask_19.png mask\n",
            "/content/drive/MyDrive/dataset1 - Copy/annotations_prepped_train/augmented_mask_20.png mask\n",
            "/content/drive/MyDrive/dataset1 - Copy/annotations_prepped_train/augmented_mask_21.png mask\n",
            "/content/drive/MyDrive/dataset1 - Copy/annotations_prepped_train/augmented_mask_22.png mask\n",
            "/content/drive/MyDrive/dataset1 - Copy/annotations_prepped_train/augmented_mask_23.png mask\n",
            "/content/drive/MyDrive/dataset1 - Copy/annotations_prepped_train/augmented_mask_24.png mask\n",
            "/content/drive/MyDrive/dataset1 - Copy/annotations_prepped_train/augmented_mask_25.png mask\n",
            "/content/drive/MyDrive/dataset1 - Copy/annotations_prepped_train/augmented_mask_26.png mask\n",
            "/content/drive/MyDrive/dataset1 - Copy/annotations_prepped_train/augmented_mask_27.png mask\n",
            "/content/drive/MyDrive/dataset1 - Copy/annotations_prepped_train/augmented_mask_28.png mask\n",
            "/content/drive/MyDrive/dataset1 - Copy/annotations_prepped_train/augmented_mask_29.png mask\n",
            "/content/drive/MyDrive/dataset1 - Copy/annotations_prepped_train/augmented_mask_30.png mask\n",
            "/content/drive/MyDrive/dataset1 - Copy/annotations_prepped_train/augmented_mask_31.png mask\n",
            "/content/drive/MyDrive/dataset1 - Copy/annotations_prepped_train/augmented_mask_32.png mask\n",
            "/content/drive/MyDrive/dataset1 - Copy/annotations_prepped_train/augmented_mask_33.png mask\n",
            "/content/drive/MyDrive/dataset1 - Copy/annotations_prepped_train/augmented_mask_34.png mask\n",
            "/content/drive/MyDrive/dataset1 - Copy/annotations_prepped_train/augmented_mask_35.png mask\n",
            "/content/drive/MyDrive/dataset1 - Copy/annotations_prepped_train/augmented_mask_36.png mask\n",
            "/content/drive/MyDrive/dataset1 - Copy/annotations_prepped_train/augmented_mask_37.png mask\n",
            "/content/drive/MyDrive/dataset1 - Copy/annotations_prepped_train/augmented_mask_38.png mask\n",
            "/content/drive/MyDrive/dataset1 - Copy/annotations_prepped_train/augmented_mask_39.png mask\n",
            "/content/drive/MyDrive/dataset1 - Copy/annotations_prepped_train/augmented_mask_40.png mask\n",
            "/content/drive/MyDrive/dataset1 - Copy/annotations_prepped_train/augmented_mask_41.png mask\n",
            "/content/drive/MyDrive/dataset1 - Copy/annotations_prepped_train/augmented_mask_42.png mask\n",
            "/content/drive/MyDrive/dataset1 - Copy/annotations_prepped_train/augmented_mask_43.png mask\n",
            "/content/drive/MyDrive/dataset1 - Copy/annotations_prepped_train/augmented_mask_44.png mask\n",
            "/content/drive/MyDrive/dataset1 - Copy/annotations_prepped_train/augmented_mask_45.png mask\n",
            "/content/drive/MyDrive/dataset1 - Copy/annotations_prepped_train/augmented_mask_46.png mask\n",
            "/content/drive/MyDrive/dataset1 - Copy/annotations_prepped_train/augmented_mask_47.png mask\n",
            "/content/drive/MyDrive/dataset1 - Copy/annotations_prepped_train/augmented_mask_48.png mask\n",
            "/content/drive/MyDrive/dataset1 - Copy/annotations_prepped_train/augmented_mask_49.png mask\n",
            "/content/drive/MyDrive/dataset1 - Copy/annotations_prepped_train/augmented_mask_50.png mask\n",
            "/content/drive/MyDrive/dataset1 - Copy/annotations_prepped_train/augmented_mask_51.png mask\n",
            "/content/drive/MyDrive/dataset1 - Copy/annotations_prepped_train/augmented_mask_52.png mask\n",
            "/content/drive/MyDrive/dataset1 - Copy/annotations_prepped_train/augmented_mask_53.png mask\n",
            "/content/drive/MyDrive/dataset1 - Copy/annotations_prepped_train/augmented_mask_54.png mask\n",
            "/content/drive/MyDrive/dataset1 - Copy/annotations_prepped_train/augmented_mask_55.png mask\n",
            "/content/drive/MyDrive/dataset1 - Copy/annotations_prepped_train/augmented_mask_56.png mask\n",
            "/content/drive/MyDrive/dataset1 - Copy/annotations_prepped_train/augmented_mask_57.png mask\n",
            "/content/drive/MyDrive/dataset1 - Copy/annotations_prepped_train/augmented_mask_58.png mask\n",
            "/content/drive/MyDrive/dataset1 - Copy/annotations_prepped_train/augmented_mask_59.png mask\n",
            "/content/drive/MyDrive/dataset1 - Copy/annotations_prepped_train/augmented_mask_60.png mask\n",
            "/content/drive/MyDrive/dataset1 - Copy/annotations_prepped_train/augmented_mask_61.png mask\n",
            "/content/drive/MyDrive/dataset1 - Copy/annotations_prepped_train/augmented_mask_62.png mask\n",
            "/content/drive/MyDrive/dataset1 - Copy/annotations_prepped_train/augmented_mask_63.png mask\n",
            "/content/drive/MyDrive/dataset1 - Copy/annotations_prepped_train/augmented_mask_64.png mask\n",
            "/content/drive/MyDrive/dataset1 - Copy/annotations_prepped_train/augmented_mask_65.png mask\n",
            "/content/drive/MyDrive/dataset1 - Copy/annotations_prepped_train/augmented_mask_66.png mask\n",
            "/content/drive/MyDrive/dataset1 - Copy/annotations_prepped_train/augmented_mask_67.png mask\n",
            "/content/drive/MyDrive/dataset1 - Copy/annotations_prepped_train/augmented_mask_68.png mask\n",
            "/content/drive/MyDrive/dataset1 - Copy/annotations_prepped_train/augmented_mask_69.png mask\n",
            "/content/drive/MyDrive/dataset1 - Copy/annotations_prepped_train/augmented_mask_70.png mask\n",
            "/content/drive/MyDrive/dataset1 - Copy/annotations_prepped_train/augmented_mask_71.png mask\n",
            "/content/drive/MyDrive/dataset1 - Copy/annotations_prepped_train/augmented_mask_72.png mask\n",
            "/content/drive/MyDrive/dataset1 - Copy/annotations_prepped_train/augmented_mask_73.png mask\n",
            "/content/drive/MyDrive/dataset1 - Copy/annotations_prepped_train/augmented_mask_74.png mask\n",
            "/content/drive/MyDrive/dataset1 - Copy/annotations_prepped_train/augmented_mask_75.png mask\n",
            "/content/drive/MyDrive/dataset1 - Copy/annotations_prepped_train/augmented_mask_76.png mask\n",
            "/content/drive/MyDrive/dataset1 - Copy/annotations_prepped_train/augmented_mask_77.png mask\n",
            "/content/drive/MyDrive/dataset1 - Copy/annotations_prepped_train/augmented_mask_78.png mask\n",
            "/content/drive/MyDrive/dataset1 - Copy/annotations_prepped_train/augmented_mask_79.png mask\n",
            "/content/drive/MyDrive/dataset1 - Copy/annotations_prepped_train/augmented_mask_80.png mask\n",
            "/content/drive/MyDrive/dataset1 - Copy/annotations_prepped_train/augmented_mask_81.png mask\n",
            "/content/drive/MyDrive/dataset1 - Copy/annotations_prepped_train/augmented_mask_82.png mask\n",
            "/content/drive/MyDrive/dataset1 - Copy/annotations_prepped_train/augmented_mask_83.png mask\n",
            "/content/drive/MyDrive/dataset1 - Copy/annotations_prepped_train/augmented_mask_84.png mask\n",
            "/content/drive/MyDrive/dataset1 - Copy/annotations_prepped_train/augmented_mask_85.png mask\n",
            "/content/drive/MyDrive/dataset1 - Copy/annotations_prepped_train/augmented_mask_86.png mask\n",
            "/content/drive/MyDrive/dataset1 - Copy/annotations_prepped_train/augmented_mask_87.png mask\n",
            "/content/drive/MyDrive/dataset1 - Copy/annotations_prepped_train/augmented_mask_88.png mask\n",
            "/content/drive/MyDrive/dataset1 - Copy/annotations_prepped_train/augmented_mask_89.png mask\n",
            "/content/drive/MyDrive/dataset1 - Copy/annotations_prepped_train/augmented_mask_90.png mask\n",
            "/content/drive/MyDrive/dataset1 - Copy/annotations_prepped_train/augmented_mask_91.png mask\n",
            "/content/drive/MyDrive/dataset1 - Copy/annotations_prepped_train/augmented_mask_92.png mask\n",
            "/content/drive/MyDrive/dataset1 - Copy/annotations_prepped_train/augmented_mask_93.png mask\n",
            "/content/drive/MyDrive/dataset1 - Copy/annotations_prepped_train/augmented_mask_94.png mask\n",
            "/content/drive/MyDrive/dataset1 - Copy/annotations_prepped_train/augmented_mask_95.png mask\n",
            "/content/drive/MyDrive/dataset1 - Copy/annotations_prepped_train/augmented_mask_96.png mask\n",
            "/content/drive/MyDrive/dataset1 - Copy/annotations_prepped_train/augmented_mask_97.png mask\n",
            "/content/drive/MyDrive/dataset1 - Copy/annotations_prepped_train/augmented_mask_98.png mask\n",
            "/content/drive/MyDrive/dataset1 - Copy/annotations_prepped_train/augmented_mask_99.png mask\n",
            "/content/drive/MyDrive/dataset1 - Copy/annotations_prepped_train/augmented_mask_100.png mask\n",
            "/content/drive/MyDrive/dataset1 - Copy/annotations_prepped_train/augmented_mask_101.png mask\n",
            "/content/drive/MyDrive/dataset1 - Copy/annotations_prepped_train/augmented_mask_102.png mask\n",
            "/content/drive/MyDrive/dataset1 - Copy/annotations_prepped_train/augmented_mask_103.png mask\n",
            "/content/drive/MyDrive/dataset1 - Copy/annotations_prepped_train/augmented_mask_104.png mask\n",
            "/content/drive/MyDrive/dataset1 - Copy/annotations_prepped_train/augmented_mask_105.png mask\n",
            "/content/drive/MyDrive/dataset1 - Copy/annotations_prepped_train/augmented_mask_106.png mask\n",
            "/content/drive/MyDrive/dataset1 - Copy/annotations_prepped_train/augmented_mask_107.png mask\n",
            "/content/drive/MyDrive/dataset1 - Copy/annotations_prepped_train/augmented_mask_108.png mask\n",
            "/content/drive/MyDrive/dataset1 - Copy/annotations_prepped_train/augmented_mask_109.png mask\n",
            "/content/drive/MyDrive/dataset1 - Copy/annotations_prepped_train/augmented_mask_110.png mask\n",
            "/content/drive/MyDrive/dataset1 - Copy/annotations_prepped_train/augmented_mask_111.png mask\n",
            "/content/drive/MyDrive/dataset1 - Copy/annotations_prepped_train/augmented_mask_112.png mask\n",
            "/content/drive/MyDrive/dataset1 - Copy/annotations_prepped_train/augmented_mask_113.png mask\n",
            "/content/drive/MyDrive/dataset1 - Copy/annotations_prepped_train/augmented_mask_114.png mask\n",
            "/content/drive/MyDrive/dataset1 - Copy/annotations_prepped_train/augmented_mask_115.png mask\n",
            "/content/drive/MyDrive/dataset1 - Copy/annotations_prepped_train/augmented_mask_116.png mask\n",
            "/content/drive/MyDrive/dataset1 - Copy/annotations_prepped_train/augmented_mask_117.png mask\n",
            "/content/drive/MyDrive/dataset1 - Copy/annotations_prepped_train/augmented_mask_118.png mask\n",
            "/content/drive/MyDrive/dataset1 - Copy/annotations_prepped_train/augmented_mask_119.png mask\n",
            "/content/drive/MyDrive/dataset1 - Copy/annotations_prepped_train/augmented_mask_120.png mask\n",
            "/content/drive/MyDrive/dataset1 - Copy/annotations_prepped_train/augmented_mask_121.png mask\n",
            "/content/drive/MyDrive/dataset1 - Copy/annotations_prepped_train/augmented_mask_122.png mask\n",
            "/content/drive/MyDrive/dataset1 - Copy/annotations_prepped_train/augmented_mask_123.png mask\n",
            "/content/drive/MyDrive/dataset1 - Copy/annotations_prepped_train/augmented_mask_124.png mask\n",
            "/content/drive/MyDrive/dataset1 - Copy/annotations_prepped_train/augmented_mask_125.png mask\n",
            "/content/drive/MyDrive/dataset1 - Copy/annotations_prepped_train/augmented_mask_126.png mask\n",
            "/content/drive/MyDrive/dataset1 - Copy/annotations_prepped_train/augmented_mask_127.png mask\n",
            "/content/drive/MyDrive/dataset1 - Copy/annotations_prepped_train/augmented_mask_128.png mask\n",
            "/content/drive/MyDrive/dataset1 - Copy/annotations_prepped_train/augmented_mask_129.png mask\n",
            "/content/drive/MyDrive/dataset1 - Copy/annotations_prepped_train/augmented_mask_130.png mask\n",
            "/content/drive/MyDrive/dataset1 - Copy/annotations_prepped_train/augmented_mask_131.png mask\n",
            "/content/drive/MyDrive/dataset1 - Copy/annotations_prepped_train/augmented_mask_132.png mask\n",
            "/content/drive/MyDrive/dataset1 - Copy/annotations_prepped_train/augmented_mask_133.png mask\n",
            "/content/drive/MyDrive/dataset1 - Copy/annotations_prepped_train/augmented_mask_134.png mask\n",
            "/content/drive/MyDrive/dataset1 - Copy/annotations_prepped_train/augmented_mask_135.png mask\n",
            "/content/drive/MyDrive/dataset1 - Copy/annotations_prepped_train/augmented_mask_136.png mask\n",
            "/content/drive/MyDrive/dataset1 - Copy/annotations_prepped_train/augmented_mask_137.png mask\n",
            "/content/drive/MyDrive/dataset1 - Copy/annotations_prepped_train/augmented_mask_138.png mask\n",
            "/content/drive/MyDrive/dataset1 - Copy/annotations_prepped_train/augmented_mask_139.png mask\n",
            "/content/drive/MyDrive/dataset1 - Copy/annotations_prepped_train/augmented_mask_140.png mask\n",
            "/content/drive/MyDrive/dataset1 - Copy/annotations_prepped_train/augmented_mask_141.png mask\n",
            "/content/drive/MyDrive/dataset1 - Copy/annotations_prepped_train/augmented_mask_142.png mask\n",
            "/content/drive/MyDrive/dataset1 - Copy/annotations_prepped_train/augmented_mask_143.png mask\n",
            "/content/drive/MyDrive/dataset1 - Copy/annotations_prepped_train/augmented_mask_144.png mask\n",
            "/content/drive/MyDrive/dataset1 - Copy/annotations_prepped_train/augmented_mask_145.png mask\n",
            "/content/drive/MyDrive/dataset1 - Copy/annotations_prepped_train/augmented_mask_146.png mask\n",
            "/content/drive/MyDrive/dataset1 - Copy/annotations_prepped_train/augmented_mask_147.png mask\n",
            "/content/drive/MyDrive/dataset1 - Copy/annotations_prepped_train/augmented_mask_148.png mask\n",
            "/content/drive/MyDrive/dataset1 - Copy/annotations_prepped_train/augmented_mask_149.png mask\n",
            "/content/drive/MyDrive/dataset1 - Copy/annotations_prepped_train/augmented_mask_150.png mask\n",
            "/content/drive/MyDrive/dataset1 - Copy/annotations_prepped_train/augmented_mask_151.png mask\n",
            "/content/drive/MyDrive/dataset1 - Copy/annotations_prepped_train/augmented_mask_152.png mask\n",
            "/content/drive/MyDrive/dataset1 - Copy/annotations_prepped_train/augmented_mask_153.png mask\n",
            "/content/drive/MyDrive/dataset1 - Copy/annotations_prepped_train/augmented_mask_154.png mask\n",
            "/content/drive/MyDrive/dataset1 - Copy/annotations_prepped_train/augmented_mask_155.png mask\n",
            "/content/drive/MyDrive/dataset1 - Copy/annotations_prepped_train/augmented_mask_156.png mask\n",
            "/content/drive/MyDrive/dataset1 - Copy/annotations_prepped_train/augmented_mask_157.png mask\n",
            "/content/drive/MyDrive/dataset1 - Copy/annotations_prepped_train/augmented_mask_158.png mask\n",
            "/content/drive/MyDrive/dataset1 - Copy/annotations_prepped_train/augmented_mask_159.png mask\n",
            "/content/drive/MyDrive/dataset1 - Copy/annotations_prepped_train/augmented_mask_160.png mask\n",
            "/content/drive/MyDrive/dataset1 - Copy/annotations_prepped_train/augmented_mask_161.png mask\n",
            "/content/drive/MyDrive/dataset1 - Copy/annotations_prepped_train/augmented_mask_162.png mask\n",
            "/content/drive/MyDrive/dataset1 - Copy/annotations_prepped_train/augmented_mask_163.png mask\n",
            "/content/drive/MyDrive/dataset1 - Copy/annotations_prepped_train/augmented_mask_164.png mask\n",
            "/content/drive/MyDrive/dataset1 - Copy/annotations_prepped_train/augmented_mask_165.png mask\n",
            "/content/drive/MyDrive/dataset1 - Copy/annotations_prepped_train/augmented_mask_166.png mask\n",
            "/content/drive/MyDrive/dataset1 - Copy/annotations_prepped_train/augmented_mask_167.png mask\n",
            "/content/drive/MyDrive/dataset1 - Copy/annotations_prepped_train/augmented_mask_168.png mask\n",
            "/content/drive/MyDrive/dataset1 - Copy/annotations_prepped_train/augmented_mask_169.png mask\n",
            "/content/drive/MyDrive/dataset1 - Copy/annotations_prepped_train/augmented_mask_170.png mask\n",
            "/content/drive/MyDrive/dataset1 - Copy/annotations_prepped_train/augmented_mask_171.png mask\n",
            "/content/drive/MyDrive/dataset1 - Copy/annotations_prepped_train/augmented_mask_172.png mask\n",
            "/content/drive/MyDrive/dataset1 - Copy/annotations_prepped_train/augmented_mask_173.png mask\n",
            "/content/drive/MyDrive/dataset1 - Copy/annotations_prepped_train/augmented_mask_174.png mask\n",
            "/content/drive/MyDrive/dataset1 - Copy/annotations_prepped_train/augmented_mask_175.png mask\n",
            "/content/drive/MyDrive/dataset1 - Copy/annotations_prepped_train/augmented_mask_176.png mask\n",
            "/content/drive/MyDrive/dataset1 - Copy/annotations_prepped_train/augmented_mask_177.png mask\n",
            "/content/drive/MyDrive/dataset1 - Copy/annotations_prepped_train/augmented_mask_178.png mask\n",
            "/content/drive/MyDrive/dataset1 - Copy/annotations_prepped_train/augmented_mask_179.png mask\n",
            "/content/drive/MyDrive/dataset1 - Copy/annotations_prepped_train/augmented_mask_180.png mask\n",
            "/content/drive/MyDrive/dataset1 - Copy/annotations_prepped_train/augmented_mask_181.png mask\n",
            "/content/drive/MyDrive/dataset1 - Copy/annotations_prepped_train/augmented_mask_182.png mask\n",
            "/content/drive/MyDrive/dataset1 - Copy/annotations_prepped_train/augmented_mask_183.png mask\n",
            "/content/drive/MyDrive/dataset1 - Copy/annotations_prepped_train/augmented_mask_184.png mask\n",
            "/content/drive/MyDrive/dataset1 - Copy/annotations_prepped_train/augmented_mask_185.png mask\n",
            "/content/drive/MyDrive/dataset1 - Copy/annotations_prepped_train/augmented_mask_186.png mask\n",
            "/content/drive/MyDrive/dataset1 - Copy/annotations_prepped_train/augmented_mask_187.png mask\n",
            "/content/drive/MyDrive/dataset1 - Copy/annotations_prepped_train/augmented_mask_188.png mask\n",
            "/content/drive/MyDrive/dataset1 - Copy/annotations_prepped_train/augmented_mask_189.png mask\n",
            "/content/drive/MyDrive/dataset1 - Copy/annotations_prepped_train/augmented_mask_190.png mask\n",
            "/content/drive/MyDrive/dataset1 - Copy/annotations_prepped_train/augmented_mask_191.png mask\n",
            "/content/drive/MyDrive/dataset1 - Copy/annotations_prepped_train/augmented_mask_192.png mask\n",
            "/content/drive/MyDrive/dataset1 - Copy/annotations_prepped_train/augmented_mask_193.png mask\n",
            "/content/drive/MyDrive/dataset1 - Copy/annotations_prepped_train/augmented_mask_194.png mask\n",
            "/content/drive/MyDrive/dataset1 - Copy/annotations_prepped_train/augmented_mask_195.png mask\n",
            "/content/drive/MyDrive/dataset1 - Copy/annotations_prepped_train/augmented_mask_196.png mask\n",
            "/content/drive/MyDrive/dataset1 - Copy/annotations_prepped_train/augmented_mask_197.png mask\n",
            "/content/drive/MyDrive/dataset1 - Copy/annotations_prepped_train/augmented_mask_198.png mask\n",
            "/content/drive/MyDrive/dataset1 - Copy/annotations_prepped_train/augmented_mask_199.png mask\n",
            "/content/drive/MyDrive/dataset1 - Copy/annotations_prepped_train/augmented_mask_200.png mask\n",
            "/content/drive/MyDrive/dataset1 - Copy/annotations_prepped_train/augmented_mask_201.png mask\n",
            "/content/drive/MyDrive/dataset1 - Copy/annotations_prepped_train/augmented_mask_202.png mask\n",
            "/content/drive/MyDrive/dataset1 - Copy/annotations_prepped_train/augmented_mask_203.png mask\n",
            "/content/drive/MyDrive/dataset1 - Copy/annotations_prepped_train/augmented_mask_204.png mask\n",
            "/content/drive/MyDrive/dataset1 - Copy/annotations_prepped_train/augmented_mask_205.png mask\n",
            "/content/drive/MyDrive/dataset1 - Copy/annotations_prepped_train/augmented_mask_206.png mask\n",
            "/content/drive/MyDrive/dataset1 - Copy/annotations_prepped_train/augmented_mask_207.png mask\n",
            "/content/drive/MyDrive/dataset1 - Copy/annotations_prepped_train/augmented_mask_208.png mask\n",
            "/content/drive/MyDrive/dataset1 - Copy/annotations_prepped_train/augmented_mask_209.png mask\n",
            "/content/drive/MyDrive/dataset1 - Copy/annotations_prepped_train/augmented_mask_210.png mask\n",
            "/content/drive/MyDrive/dataset1 - Copy/annotations_prepped_train/augmented_mask_211.png mask\n",
            "/content/drive/MyDrive/dataset1 - Copy/annotations_prepped_train/augmented_mask_212.png mask\n",
            "/content/drive/MyDrive/dataset1 - Copy/annotations_prepped_train/augmented_mask_213.png mask\n",
            "/content/drive/MyDrive/dataset1 - Copy/annotations_prepped_train/augmented_mask_214.png mask\n",
            "/content/drive/MyDrive/dataset1 - Copy/annotations_prepped_train/augmented_mask_215.png mask\n",
            "/content/drive/MyDrive/dataset1 - Copy/annotations_prepped_train/augmented_mask_216.png mask\n",
            "/content/drive/MyDrive/dataset1 - Copy/annotations_prepped_train/augmented_mask_217.png mask\n",
            "/content/drive/MyDrive/dataset1 - Copy/annotations_prepped_train/augmented_mask_218.png mask\n",
            "/content/drive/MyDrive/dataset1 - Copy/annotations_prepped_train/augmented_mask_219.png mask\n",
            "/content/drive/MyDrive/dataset1 - Copy/annotations_prepped_train/augmented_mask_220.png mask\n",
            "/content/drive/MyDrive/dataset1 - Copy/annotations_prepped_train/augmented_mask_221.png mask\n",
            "/content/drive/MyDrive/dataset1 - Copy/annotations_prepped_train/augmented_mask_222.png mask\n",
            "/content/drive/MyDrive/dataset1 - Copy/annotations_prepped_train/augmented_mask_223.png mask\n",
            "/content/drive/MyDrive/dataset1 - Copy/annotations_prepped_train/augmented_mask_224.png mask\n",
            "/content/drive/MyDrive/dataset1 - Copy/annotations_prepped_train/augmented_mask_225.png mask\n",
            "/content/drive/MyDrive/dataset1 - Copy/annotations_prepped_train/augmented_mask_226.png mask\n",
            "/content/drive/MyDrive/dataset1 - Copy/annotations_prepped_train/augmented_mask_227.png mask\n",
            "/content/drive/MyDrive/dataset1 - Copy/annotations_prepped_train/augmented_mask_228.png mask\n",
            "/content/drive/MyDrive/dataset1 - Copy/annotations_prepped_train/augmented_mask_229.png mask\n",
            "/content/drive/MyDrive/dataset1 - Copy/annotations_prepped_train/augmented_mask_230.png mask\n",
            "/content/drive/MyDrive/dataset1 - Copy/annotations_prepped_train/augmented_mask_231.png mask\n",
            "/content/drive/MyDrive/dataset1 - Copy/annotations_prepped_train/augmented_mask_232.png mask\n",
            "/content/drive/MyDrive/dataset1 - Copy/annotations_prepped_train/augmented_mask_233.png mask\n",
            "/content/drive/MyDrive/dataset1 - Copy/annotations_prepped_train/augmented_mask_234.png mask\n",
            "/content/drive/MyDrive/dataset1 - Copy/annotations_prepped_train/augmented_mask_235.png mask\n",
            "/content/drive/MyDrive/dataset1 - Copy/annotations_prepped_train/augmented_mask_236.png mask\n",
            "/content/drive/MyDrive/dataset1 - Copy/annotations_prepped_train/augmented_mask_237.png mask\n",
            "/content/drive/MyDrive/dataset1 - Copy/annotations_prepped_train/augmented_mask_238.png mask\n",
            "/content/drive/MyDrive/dataset1 - Copy/annotations_prepped_train/augmented_mask_239.png mask\n",
            "/content/drive/MyDrive/dataset1 - Copy/annotations_prepped_train/augmented_mask_240.png mask\n",
            "/content/drive/MyDrive/dataset1 - Copy/annotations_prepped_train/augmented_mask_241.png mask\n",
            "/content/drive/MyDrive/dataset1 - Copy/annotations_prepped_train/augmented_mask_242.png mask\n",
            "/content/drive/MyDrive/dataset1 - Copy/annotations_prepped_train/augmented_mask_243.png mask\n",
            "/content/drive/MyDrive/dataset1 - Copy/annotations_prepped_train/augmented_mask_244.png mask\n",
            "/content/drive/MyDrive/dataset1 - Copy/annotations_prepped_train/augmented_mask_245.png mask\n",
            "/content/drive/MyDrive/dataset1 - Copy/annotations_prepped_train/augmented_mask_246.png mask\n",
            "/content/drive/MyDrive/dataset1 - Copy/annotations_prepped_train/augmented_mask_247.png mask\n",
            "/content/drive/MyDrive/dataset1 - Copy/annotations_prepped_train/augmented_mask_248.png mask\n",
            "/content/drive/MyDrive/dataset1 - Copy/annotations_prepped_train/augmented_mask_249.png mask\n",
            "/content/drive/MyDrive/dataset1 - Copy/annotations_prepped_train/augmented_mask_250.png mask\n",
            "/content/drive/MyDrive/dataset1 - Copy/annotations_prepped_train/augmented_mask_251.png mask\n",
            "/content/drive/MyDrive/dataset1 - Copy/annotations_prepped_train/augmented_mask_252.png mask\n",
            "/content/drive/MyDrive/dataset1 - Copy/annotations_prepped_train/augmented_mask_253.png mask\n",
            "/content/drive/MyDrive/dataset1 - Copy/annotations_prepped_train/augmented_mask_254.png mask\n",
            "/content/drive/MyDrive/dataset1 - Copy/annotations_prepped_train/augmented_mask_255.png mask\n",
            "/content/drive/MyDrive/dataset1 - Copy/annotations_prepped_train/augmented_mask_256.png mask\n",
            "/content/drive/MyDrive/dataset1 - Copy/annotations_prepped_train/augmented_mask_257.png mask\n",
            "/content/drive/MyDrive/dataset1 - Copy/annotations_prepped_train/augmented_mask_258.png mask\n",
            "/content/drive/MyDrive/dataset1 - Copy/annotations_prepped_train/augmented_mask_259.png mask\n",
            "/content/drive/MyDrive/dataset1 - Copy/annotations_prepped_train/augmented_mask_260.png mask\n",
            "/content/drive/MyDrive/dataset1 - Copy/annotations_prepped_train/augmented_mask_261.png mask\n",
            "/content/drive/MyDrive/dataset1 - Copy/annotations_prepped_train/augmented_mask_262.png mask\n",
            "/content/drive/MyDrive/dataset1 - Copy/annotations_prepped_train/augmented_mask_263.png mask\n",
            "/content/drive/MyDrive/dataset1 - Copy/annotations_prepped_train/augmented_mask_264.png mask\n",
            "/content/drive/MyDrive/dataset1 - Copy/annotations_prepped_train/augmented_mask_265.png mask\n",
            "/content/drive/MyDrive/dataset1 - Copy/annotations_prepped_train/augmented_mask_266.png mask\n",
            "/content/drive/MyDrive/dataset1 - Copy/annotations_prepped_train/augmented_mask_267.png mask\n",
            "/content/drive/MyDrive/dataset1 - Copy/annotations_prepped_train/augmented_mask_268.png mask\n",
            "/content/drive/MyDrive/dataset1 - Copy/annotations_prepped_train/augmented_mask_269.png mask\n",
            "/content/drive/MyDrive/dataset1 - Copy/annotations_prepped_train/augmented_mask_270.png mask\n",
            "/content/drive/MyDrive/dataset1 - Copy/annotations_prepped_train/augmented_mask_271.png mask\n",
            "/content/drive/MyDrive/dataset1 - Copy/annotations_prepped_train/augmented_mask_272.png mask\n",
            "/content/drive/MyDrive/dataset1 - Copy/annotations_prepped_train/augmented_mask_273.png mask\n",
            "/content/drive/MyDrive/dataset1 - Copy/annotations_prepped_train/augmented_mask_274.png mask\n",
            "/content/drive/MyDrive/dataset1 - Copy/annotations_prepped_train/augmented_mask_275.png mask\n",
            "/content/drive/MyDrive/dataset1 - Copy/annotations_prepped_train/augmented_mask_276.png mask\n",
            "/content/drive/MyDrive/dataset1 - Copy/annotations_prepped_train/augmented_mask_277.png mask\n",
            "/content/drive/MyDrive/dataset1 - Copy/annotations_prepped_train/augmented_mask_278.png mask\n",
            "/content/drive/MyDrive/dataset1 - Copy/annotations_prepped_train/augmented_mask_279.png mask\n",
            "/content/drive/MyDrive/dataset1 - Copy/annotations_prepped_train/augmented_mask_280.png mask\n",
            "/content/drive/MyDrive/dataset1 - Copy/annotations_prepped_train/augmented_mask_281.png mask\n",
            "/content/drive/MyDrive/dataset1 - Copy/annotations_prepped_train/augmented_mask_282.png mask\n",
            "/content/drive/MyDrive/dataset1 - Copy/annotations_prepped_train/augmented_mask_283.png mask\n",
            "/content/drive/MyDrive/dataset1 - Copy/annotations_prepped_train/augmented_mask_284.png mask\n",
            "/content/drive/MyDrive/dataset1 - Copy/annotations_prepped_train/augmented_mask_285.png mask\n",
            "/content/drive/MyDrive/dataset1 - Copy/annotations_prepped_train/augmented_mask_286.png mask\n",
            "/content/drive/MyDrive/dataset1 - Copy/annotations_prepped_train/augmented_mask_287.png mask\n",
            "/content/drive/MyDrive/dataset1 - Copy/annotations_prepped_train/augmented_mask_288.png mask\n",
            "/content/drive/MyDrive/dataset1 - Copy/annotations_prepped_train/augmented_mask_289.png mask\n",
            "/content/drive/MyDrive/dataset1 - Copy/annotations_prepped_train/augmented_mask_290.png mask\n",
            "/content/drive/MyDrive/dataset1 - Copy/annotations_prepped_train/augmented_mask_291.png mask\n",
            "/content/drive/MyDrive/dataset1 - Copy/annotations_prepped_train/augmented_mask_292.png mask\n",
            "/content/drive/MyDrive/dataset1 - Copy/annotations_prepped_train/augmented_mask_293.png mask\n",
            "/content/drive/MyDrive/dataset1 - Copy/annotations_prepped_train/augmented_mask_294.png mask\n",
            "/content/drive/MyDrive/dataset1 - Copy/annotations_prepped_train/augmented_mask_295.png mask\n",
            "/content/drive/MyDrive/dataset1 - Copy/annotations_prepped_train/augmented_mask_296.png mask\n",
            "/content/drive/MyDrive/dataset1 - Copy/annotations_prepped_train/augmented_mask_297.png mask\n",
            "/content/drive/MyDrive/dataset1 - Copy/annotations_prepped_train/augmented_mask_298.png mask\n",
            "/content/drive/MyDrive/dataset1 - Copy/annotations_prepped_train/augmented_mask_299.png mask\n",
            "/content/drive/MyDrive/dataset1 - Copy/annotations_prepped_train/augmented_mask_300.png mask\n",
            "/content/drive/MyDrive/dataset1 - Copy/annotations_prepped_train/augmented_mask_301.png mask\n",
            "/content/drive/MyDrive/dataset1 - Copy/annotations_prepped_train/augmented_mask_302.png mask\n",
            "/content/drive/MyDrive/dataset1 - Copy/annotations_prepped_train/augmented_mask_303.png mask\n",
            "/content/drive/MyDrive/dataset1 - Copy/annotations_prepped_train/augmented_mask_304.png mask\n",
            "/content/drive/MyDrive/dataset1 - Copy/annotations_prepped_train/augmented_mask_305.png mask\n",
            "/content/drive/MyDrive/dataset1 - Copy/annotations_prepped_train/augmented_mask_306.png mask\n",
            "/content/drive/MyDrive/dataset1 - Copy/annotations_prepped_train/augmented_mask_307.png mask\n",
            "/content/drive/MyDrive/dataset1 - Copy/annotations_prepped_train/augmented_mask_308.png mask\n",
            "/content/drive/MyDrive/dataset1 - Copy/annotations_prepped_train/augmented_mask_309.png mask\n",
            "/content/drive/MyDrive/dataset1 - Copy/annotations_prepped_train/augmented_mask_310.png mask\n",
            "/content/drive/MyDrive/dataset1 - Copy/annotations_prepped_train/augmented_mask_311.png mask\n",
            "/content/drive/MyDrive/dataset1 - Copy/annotations_prepped_train/augmented_mask_312.png mask\n",
            "/content/drive/MyDrive/dataset1 - Copy/annotations_prepped_train/augmented_mask_313.png mask\n",
            "/content/drive/MyDrive/dataset1 - Copy/annotations_prepped_train/augmented_mask_314.png mask\n",
            "/content/drive/MyDrive/dataset1 - Copy/annotations_prepped_train/augmented_mask_315.png mask\n",
            "/content/drive/MyDrive/dataset1 - Copy/annotations_prepped_train/augmented_mask_316.png mask\n",
            "/content/drive/MyDrive/dataset1 - Copy/annotations_prepped_train/augmented_mask_317.png mask\n",
            "/content/drive/MyDrive/dataset1 - Copy/annotations_prepped_train/augmented_mask_318.png mask\n",
            "/content/drive/MyDrive/dataset1 - Copy/annotations_prepped_train/augmented_mask_319.png mask\n",
            "/content/drive/MyDrive/dataset1 - Copy/annotations_prepped_train/augmented_mask_320.png mask\n",
            "/content/drive/MyDrive/dataset1 - Copy/annotations_prepped_train/augmented_mask_321.png mask\n",
            "/content/drive/MyDrive/dataset1 - Copy/annotations_prepped_train/augmented_mask_322.png mask\n",
            "/content/drive/MyDrive/dataset1 - Copy/annotations_prepped_train/augmented_mask_323.png mask\n",
            "/content/drive/MyDrive/dataset1 - Copy/annotations_prepped_train/augmented_mask_324.png mask\n",
            "/content/drive/MyDrive/dataset1 - Copy/annotations_prepped_train/augmented_mask_325.png mask\n",
            "/content/drive/MyDrive/dataset1 - Copy/annotations_prepped_train/augmented_mask_326.png mask\n",
            "/content/drive/MyDrive/dataset1 - Copy/annotations_prepped_train/augmented_mask_327.png mask\n",
            "/content/drive/MyDrive/dataset1 - Copy/annotations_prepped_train/augmented_mask_328.png mask\n",
            "/content/drive/MyDrive/dataset1 - Copy/annotations_prepped_train/augmented_mask_329.png mask\n",
            "/content/drive/MyDrive/dataset1 - Copy/annotations_prepped_train/augmented_mask_330.png mask\n",
            "/content/drive/MyDrive/dataset1 - Copy/annotations_prepped_train/augmented_mask_331.png mask\n",
            "/content/drive/MyDrive/dataset1 - Copy/annotations_prepped_train/augmented_mask_332.png mask\n",
            "/content/drive/MyDrive/dataset1 - Copy/annotations_prepped_train/augmented_mask_333.png mask\n",
            "/content/drive/MyDrive/dataset1 - Copy/annotations_prepped_train/augmented_mask_334.png mask\n",
            "/content/drive/MyDrive/dataset1 - Copy/annotations_prepped_train/augmented_mask_335.png mask\n",
            "/content/drive/MyDrive/dataset1 - Copy/annotations_prepped_train/augmented_mask_336.png mask\n",
            "/content/drive/MyDrive/dataset1 - Copy/annotations_prepped_train/augmented_mask_337.png mask\n",
            "/content/drive/MyDrive/dataset1 - Copy/annotations_prepped_train/augmented_mask_338.png mask\n",
            "/content/drive/MyDrive/dataset1 - Copy/annotations_prepped_train/augmented_mask_339.png mask\n",
            "/content/drive/MyDrive/dataset1 - Copy/annotations_prepped_train/augmented_mask_340.png mask\n",
            "/content/drive/MyDrive/dataset1 - Copy/annotations_prepped_train/augmented_mask_341.png mask\n",
            "/content/drive/MyDrive/dataset1 - Copy/annotations_prepped_train/augmented_mask_342.png mask\n",
            "/content/drive/MyDrive/dataset1 - Copy/annotations_prepped_train/augmented_mask_343.png mask\n",
            "/content/drive/MyDrive/dataset1 - Copy/annotations_prepped_train/augmented_mask_344.png mask\n",
            "/content/drive/MyDrive/dataset1 - Copy/annotations_prepped_train/augmented_mask_345.png mask\n",
            "/content/drive/MyDrive/dataset1 - Copy/annotations_prepped_train/augmented_mask_346.png mask\n",
            "/content/drive/MyDrive/dataset1 - Copy/annotations_prepped_train/augmented_mask_347.png mask\n",
            "/content/drive/MyDrive/dataset1 - Copy/annotations_prepped_train/augmented_mask_348.png mask\n",
            "/content/drive/MyDrive/dataset1 - Copy/annotations_prepped_train/augmented_mask_349.png mask\n",
            "/content/drive/MyDrive/dataset1 - Copy/annotations_prepped_train/augmented_mask_350.png mask\n",
            "/content/drive/MyDrive/dataset1 - Copy/annotations_prepped_train/augmented_mask_351.png mask\n",
            "/content/drive/MyDrive/dataset1 - Copy/annotations_prepped_train/augmented_mask_352.png mask\n",
            "/content/drive/MyDrive/dataset1 - Copy/annotations_prepped_train/augmented_mask_353.png mask\n",
            "/content/drive/MyDrive/dataset1 - Copy/annotations_prepped_train/augmented_mask_354.png mask\n",
            "/content/drive/MyDrive/dataset1 - Copy/annotations_prepped_train/augmented_mask_355.png mask\n",
            "/content/drive/MyDrive/dataset1 - Copy/annotations_prepped_train/augmented_mask_356.png mask\n",
            "/content/drive/MyDrive/dataset1 - Copy/annotations_prepped_train/augmented_mask_357.png mask\n",
            "/content/drive/MyDrive/dataset1 - Copy/annotations_prepped_train/augmented_mask_358.png mask\n",
            "/content/drive/MyDrive/dataset1 - Copy/annotations_prepped_train/augmented_mask_359.png mask\n",
            "/content/drive/MyDrive/dataset1 - Copy/annotations_prepped_train/augmented_mask_360.png mask\n",
            "/content/drive/MyDrive/dataset1 - Copy/annotations_prepped_train/augmented_mask_361.png mask\n",
            "/content/drive/MyDrive/dataset1 - Copy/annotations_prepped_train/augmented_mask_362.png mask\n",
            "/content/drive/MyDrive/dataset1 - Copy/annotations_prepped_train/augmented_mask_363.png mask\n",
            "/content/drive/MyDrive/dataset1 - Copy/annotations_prepped_train/augmented_mask_364.png mask\n",
            "/content/drive/MyDrive/dataset1 - Copy/annotations_prepped_train/augmented_mask_365.png mask\n",
            "/content/drive/MyDrive/dataset1 - Copy/annotations_prepped_train/augmented_mask_366.png mask\n"
          ]
        },
        {
          "output_type": "stream",
          "name": "stderr",
          "text": [
            "/usr/local/lib/python3.7/dist-packages/sklearn/preprocessing/_label.py:115: DataConversionWarning: A column-vector y was passed when a 1d array was expected. Please change the shape of y to (n_samples, ), for example using ravel().\n",
            "  y = column_or_1d(y, warn=True)\n"
          ]
        },
        {
          "output_type": "stream",
          "name": "stdout",
          "text": [
            "Model: \"model_9\"\n",
            "__________________________________________________________________________________________________\n",
            " Layer (type)                   Output Shape         Param #     Connected to                     \n",
            "==================================================================================================\n",
            " data (InputLayer)              [(None, None, None,  0           []                               \n",
            "                                 3)]                                                              \n",
            "                                                                                                  \n",
            " bn_data (BatchNormalization)   (None, None, None,   9           ['data[0][0]']                   \n",
            "                                3)                                                                \n",
            "                                                                                                  \n",
            " zero_padding2d_136 (ZeroPaddin  (None, None, None,   0          ['bn_data[0][0]']                \n",
            " g2D)                           3)                                                                \n",
            "                                                                                                  \n",
            " conv0 (Conv2D)                 (None, None, None,   9408        ['zero_padding2d_136[0][0]']     \n",
            "                                64)                                                               \n",
            "                                                                                                  \n",
            " bn0 (BatchNormalization)       (None, None, None,   256         ['conv0[0][0]']                  \n",
            "                                64)                                                               \n",
            "                                                                                                  \n",
            " relu0 (Activation)             (None, None, None,   0           ['bn0[0][0]']                    \n",
            "                                64)                                                               \n",
            "                                                                                                  \n",
            " zero_padding2d_137 (ZeroPaddin  (None, None, None,   0          ['relu0[0][0]']                  \n",
            " g2D)                           64)                                                               \n",
            "                                                                                                  \n",
            " pooling0 (MaxPooling2D)        (None, None, None,   0           ['zero_padding2d_137[0][0]']     \n",
            "                                64)                                                               \n",
            "                                                                                                  \n",
            " stage1_unit1_bn1 (BatchNormali  (None, None, None,   256        ['pooling0[0][0]']               \n",
            " zation)                        64)                                                               \n",
            "                                                                                                  \n",
            " stage1_unit1_relu1 (Activation  (None, None, None,   0          ['stage1_unit1_bn1[0][0]']       \n",
            " )                              64)                                                               \n",
            "                                                                                                  \n",
            " zero_padding2d_138 (ZeroPaddin  (None, None, None,   0          ['stage1_unit1_relu1[0][0]']     \n",
            " g2D)                           64)                                                               \n",
            "                                                                                                  \n",
            " stage1_unit1_conv1 (Conv2D)    (None, None, None,   36864       ['zero_padding2d_138[0][0]']     \n",
            "                                64)                                                               \n",
            "                                                                                                  \n",
            " stage1_unit1_bn2 (BatchNormali  (None, None, None,   256        ['stage1_unit1_conv1[0][0]']     \n",
            " zation)                        64)                                                               \n",
            "                                                                                                  \n",
            " stage1_unit1_relu2 (Activation  (None, None, None,   0          ['stage1_unit1_bn2[0][0]']       \n",
            " )                              64)                                                               \n",
            "                                                                                                  \n",
            " zero_padding2d_139 (ZeroPaddin  (None, None, None,   0          ['stage1_unit1_relu2[0][0]']     \n",
            " g2D)                           64)                                                               \n",
            "                                                                                                  \n",
            " stage1_unit1_conv2 (Conv2D)    (None, None, None,   36864       ['zero_padding2d_139[0][0]']     \n",
            "                                64)                                                               \n",
            "                                                                                                  \n",
            " stage1_unit1_sc (Conv2D)       (None, None, None,   4096        ['stage1_unit1_relu1[0][0]']     \n",
            "                                64)                                                               \n",
            "                                                                                                  \n",
            " add_64 (Add)                   (None, None, None,   0           ['stage1_unit1_conv2[0][0]',     \n",
            "                                64)                               'stage1_unit1_sc[0][0]']        \n",
            "                                                                                                  \n",
            " stage1_unit2_bn1 (BatchNormali  (None, None, None,   256        ['add_64[0][0]']                 \n",
            " zation)                        64)                                                               \n",
            "                                                                                                  \n",
            " stage1_unit2_relu1 (Activation  (None, None, None,   0          ['stage1_unit2_bn1[0][0]']       \n",
            " )                              64)                                                               \n",
            "                                                                                                  \n",
            " zero_padding2d_140 (ZeroPaddin  (None, None, None,   0          ['stage1_unit2_relu1[0][0]']     \n",
            " g2D)                           64)                                                               \n",
            "                                                                                                  \n",
            " stage1_unit2_conv1 (Conv2D)    (None, None, None,   36864       ['zero_padding2d_140[0][0]']     \n",
            "                                64)                                                               \n",
            "                                                                                                  \n",
            " stage1_unit2_bn2 (BatchNormali  (None, None, None,   256        ['stage1_unit2_conv1[0][0]']     \n",
            " zation)                        64)                                                               \n",
            "                                                                                                  \n",
            " stage1_unit2_relu2 (Activation  (None, None, None,   0          ['stage1_unit2_bn2[0][0]']       \n",
            " )                              64)                                                               \n",
            "                                                                                                  \n",
            " zero_padding2d_141 (ZeroPaddin  (None, None, None,   0          ['stage1_unit2_relu2[0][0]']     \n",
            " g2D)                           64)                                                               \n",
            "                                                                                                  \n",
            " stage1_unit2_conv2 (Conv2D)    (None, None, None,   36864       ['zero_padding2d_141[0][0]']     \n",
            "                                64)                                                               \n",
            "                                                                                                  \n",
            " add_65 (Add)                   (None, None, None,   0           ['stage1_unit2_conv2[0][0]',     \n",
            "                                64)                               'add_64[0][0]']                 \n",
            "                                                                                                  \n",
            " stage1_unit3_bn1 (BatchNormali  (None, None, None,   256        ['add_65[0][0]']                 \n",
            " zation)                        64)                                                               \n",
            "                                                                                                  \n",
            " stage1_unit3_relu1 (Activation  (None, None, None,   0          ['stage1_unit3_bn1[0][0]']       \n",
            " )                              64)                                                               \n",
            "                                                                                                  \n",
            " zero_padding2d_142 (ZeroPaddin  (None, None, None,   0          ['stage1_unit3_relu1[0][0]']     \n",
            " g2D)                           64)                                                               \n",
            "                                                                                                  \n",
            " stage1_unit3_conv1 (Conv2D)    (None, None, None,   36864       ['zero_padding2d_142[0][0]']     \n",
            "                                64)                                                               \n",
            "                                                                                                  \n",
            " stage1_unit3_bn2 (BatchNormali  (None, None, None,   256        ['stage1_unit3_conv1[0][0]']     \n",
            " zation)                        64)                                                               \n",
            "                                                                                                  \n",
            " stage1_unit3_relu2 (Activation  (None, None, None,   0          ['stage1_unit3_bn2[0][0]']       \n",
            " )                              64)                                                               \n",
            "                                                                                                  \n",
            " zero_padding2d_143 (ZeroPaddin  (None, None, None,   0          ['stage1_unit3_relu2[0][0]']     \n",
            " g2D)                           64)                                                               \n",
            "                                                                                                  \n",
            " stage1_unit3_conv2 (Conv2D)    (None, None, None,   36864       ['zero_padding2d_143[0][0]']     \n",
            "                                64)                                                               \n",
            "                                                                                                  \n",
            " add_66 (Add)                   (None, None, None,   0           ['stage1_unit3_conv2[0][0]',     \n",
            "                                64)                               'add_65[0][0]']                 \n",
            "                                                                                                  \n",
            " stage2_unit1_bn1 (BatchNormali  (None, None, None,   256        ['add_66[0][0]']                 \n",
            " zation)                        64)                                                               \n",
            "                                                                                                  \n",
            " stage2_unit1_relu1 (Activation  (None, None, None,   0          ['stage2_unit1_bn1[0][0]']       \n",
            " )                              64)                                                               \n",
            "                                                                                                  \n",
            " zero_padding2d_144 (ZeroPaddin  (None, None, None,   0          ['stage2_unit1_relu1[0][0]']     \n",
            " g2D)                           64)                                                               \n",
            "                                                                                                  \n",
            " stage2_unit1_conv1 (Conv2D)    (None, None, None,   73728       ['zero_padding2d_144[0][0]']     \n",
            "                                128)                                                              \n",
            "                                                                                                  \n",
            " stage2_unit1_bn2 (BatchNormali  (None, None, None,   512        ['stage2_unit1_conv1[0][0]']     \n",
            " zation)                        128)                                                              \n",
            "                                                                                                  \n",
            " stage2_unit1_relu2 (Activation  (None, None, None,   0          ['stage2_unit1_bn2[0][0]']       \n",
            " )                              128)                                                              \n",
            "                                                                                                  \n",
            " zero_padding2d_145 (ZeroPaddin  (None, None, None,   0          ['stage2_unit1_relu2[0][0]']     \n",
            " g2D)                           128)                                                              \n",
            "                                                                                                  \n",
            " stage2_unit1_conv2 (Conv2D)    (None, None, None,   147456      ['zero_padding2d_145[0][0]']     \n",
            "                                128)                                                              \n",
            "                                                                                                  \n",
            " stage2_unit1_sc (Conv2D)       (None, None, None,   8192        ['stage2_unit1_relu1[0][0]']     \n",
            "                                128)                                                              \n",
            "                                                                                                  \n",
            " add_67 (Add)                   (None, None, None,   0           ['stage2_unit1_conv2[0][0]',     \n",
            "                                128)                              'stage2_unit1_sc[0][0]']        \n",
            "                                                                                                  \n",
            " stage2_unit2_bn1 (BatchNormali  (None, None, None,   512        ['add_67[0][0]']                 \n",
            " zation)                        128)                                                              \n",
            "                                                                                                  \n",
            " stage2_unit2_relu1 (Activation  (None, None, None,   0          ['stage2_unit2_bn1[0][0]']       \n",
            " )                              128)                                                              \n",
            "                                                                                                  \n",
            " zero_padding2d_146 (ZeroPaddin  (None, None, None,   0          ['stage2_unit2_relu1[0][0]']     \n",
            " g2D)                           128)                                                              \n",
            "                                                                                                  \n",
            " stage2_unit2_conv1 (Conv2D)    (None, None, None,   147456      ['zero_padding2d_146[0][0]']     \n",
            "                                128)                                                              \n",
            "                                                                                                  \n",
            " stage2_unit2_bn2 (BatchNormali  (None, None, None,   512        ['stage2_unit2_conv1[0][0]']     \n",
            " zation)                        128)                                                              \n",
            "                                                                                                  \n",
            " stage2_unit2_relu2 (Activation  (None, None, None,   0          ['stage2_unit2_bn2[0][0]']       \n",
            " )                              128)                                                              \n",
            "                                                                                                  \n",
            " zero_padding2d_147 (ZeroPaddin  (None, None, None,   0          ['stage2_unit2_relu2[0][0]']     \n",
            " g2D)                           128)                                                              \n",
            "                                                                                                  \n",
            " stage2_unit2_conv2 (Conv2D)    (None, None, None,   147456      ['zero_padding2d_147[0][0]']     \n",
            "                                128)                                                              \n",
            "                                                                                                  \n",
            " add_68 (Add)                   (None, None, None,   0           ['stage2_unit2_conv2[0][0]',     \n",
            "                                128)                              'add_67[0][0]']                 \n",
            "                                                                                                  \n",
            " stage2_unit3_bn1 (BatchNormali  (None, None, None,   512        ['add_68[0][0]']                 \n",
            " zation)                        128)                                                              \n",
            "                                                                                                  \n",
            " stage2_unit3_relu1 (Activation  (None, None, None,   0          ['stage2_unit3_bn1[0][0]']       \n",
            " )                              128)                                                              \n",
            "                                                                                                  \n",
            " zero_padding2d_148 (ZeroPaddin  (None, None, None,   0          ['stage2_unit3_relu1[0][0]']     \n",
            " g2D)                           128)                                                              \n",
            "                                                                                                  \n",
            " stage2_unit3_conv1 (Conv2D)    (None, None, None,   147456      ['zero_padding2d_148[0][0]']     \n",
            "                                128)                                                              \n",
            "                                                                                                  \n",
            " stage2_unit3_bn2 (BatchNormali  (None, None, None,   512        ['stage2_unit3_conv1[0][0]']     \n",
            " zation)                        128)                                                              \n",
            "                                                                                                  \n",
            " stage2_unit3_relu2 (Activation  (None, None, None,   0          ['stage2_unit3_bn2[0][0]']       \n",
            " )                              128)                                                              \n",
            "                                                                                                  \n",
            " zero_padding2d_149 (ZeroPaddin  (None, None, None,   0          ['stage2_unit3_relu2[0][0]']     \n",
            " g2D)                           128)                                                              \n",
            "                                                                                                  \n",
            " stage2_unit3_conv2 (Conv2D)    (None, None, None,   147456      ['zero_padding2d_149[0][0]']     \n",
            "                                128)                                                              \n",
            "                                                                                                  \n",
            " add_69 (Add)                   (None, None, None,   0           ['stage2_unit3_conv2[0][0]',     \n",
            "                                128)                              'add_68[0][0]']                 \n",
            "                                                                                                  \n",
            " stage2_unit4_bn1 (BatchNormali  (None, None, None,   512        ['add_69[0][0]']                 \n",
            " zation)                        128)                                                              \n",
            "                                                                                                  \n",
            " stage2_unit4_relu1 (Activation  (None, None, None,   0          ['stage2_unit4_bn1[0][0]']       \n",
            " )                              128)                                                              \n",
            "                                                                                                  \n",
            " zero_padding2d_150 (ZeroPaddin  (None, None, None,   0          ['stage2_unit4_relu1[0][0]']     \n",
            " g2D)                           128)                                                              \n",
            "                                                                                                  \n",
            " stage2_unit4_conv1 (Conv2D)    (None, None, None,   147456      ['zero_padding2d_150[0][0]']     \n",
            "                                128)                                                              \n",
            "                                                                                                  \n",
            " stage2_unit4_bn2 (BatchNormali  (None, None, None,   512        ['stage2_unit4_conv1[0][0]']     \n",
            " zation)                        128)                                                              \n",
            "                                                                                                  \n",
            " stage2_unit4_relu2 (Activation  (None, None, None,   0          ['stage2_unit4_bn2[0][0]']       \n",
            " )                              128)                                                              \n",
            "                                                                                                  \n",
            " zero_padding2d_151 (ZeroPaddin  (None, None, None,   0          ['stage2_unit4_relu2[0][0]']     \n",
            " g2D)                           128)                                                              \n",
            "                                                                                                  \n",
            " stage2_unit4_conv2 (Conv2D)    (None, None, None,   147456      ['zero_padding2d_151[0][0]']     \n",
            "                                128)                                                              \n",
            "                                                                                                  \n",
            " add_70 (Add)                   (None, None, None,   0           ['stage2_unit4_conv2[0][0]',     \n",
            "                                128)                              'add_69[0][0]']                 \n",
            "                                                                                                  \n",
            " stage3_unit1_bn1 (BatchNormali  (None, None, None,   512        ['add_70[0][0]']                 \n",
            " zation)                        128)                                                              \n",
            "                                                                                                  \n",
            " stage3_unit1_relu1 (Activation  (None, None, None,   0          ['stage3_unit1_bn1[0][0]']       \n",
            " )                              128)                                                              \n",
            "                                                                                                  \n",
            " zero_padding2d_152 (ZeroPaddin  (None, None, None,   0          ['stage3_unit1_relu1[0][0]']     \n",
            " g2D)                           128)                                                              \n",
            "                                                                                                  \n",
            " stage3_unit1_conv1 (Conv2D)    (None, None, None,   294912      ['zero_padding2d_152[0][0]']     \n",
            "                                256)                                                              \n",
            "                                                                                                  \n",
            " stage3_unit1_bn2 (BatchNormali  (None, None, None,   1024       ['stage3_unit1_conv1[0][0]']     \n",
            " zation)                        256)                                                              \n",
            "                                                                                                  \n",
            " stage3_unit1_relu2 (Activation  (None, None, None,   0          ['stage3_unit1_bn2[0][0]']       \n",
            " )                              256)                                                              \n",
            "                                                                                                  \n",
            " zero_padding2d_153 (ZeroPaddin  (None, None, None,   0          ['stage3_unit1_relu2[0][0]']     \n",
            " g2D)                           256)                                                              \n",
            "                                                                                                  \n",
            " stage3_unit1_conv2 (Conv2D)    (None, None, None,   589824      ['zero_padding2d_153[0][0]']     \n",
            "                                256)                                                              \n",
            "                                                                                                  \n",
            " stage3_unit1_sc (Conv2D)       (None, None, None,   32768       ['stage3_unit1_relu1[0][0]']     \n",
            "                                256)                                                              \n",
            "                                                                                                  \n",
            " add_71 (Add)                   (None, None, None,   0           ['stage3_unit1_conv2[0][0]',     \n",
            "                                256)                              'stage3_unit1_sc[0][0]']        \n",
            "                                                                                                  \n",
            " stage3_unit2_bn1 (BatchNormali  (None, None, None,   1024       ['add_71[0][0]']                 \n",
            " zation)                        256)                                                              \n",
            "                                                                                                  \n",
            " stage3_unit2_relu1 (Activation  (None, None, None,   0          ['stage3_unit2_bn1[0][0]']       \n",
            " )                              256)                                                              \n",
            "                                                                                                  \n",
            " zero_padding2d_154 (ZeroPaddin  (None, None, None,   0          ['stage3_unit2_relu1[0][0]']     \n",
            " g2D)                           256)                                                              \n",
            "                                                                                                  \n",
            " stage3_unit2_conv1 (Conv2D)    (None, None, None,   589824      ['zero_padding2d_154[0][0]']     \n",
            "                                256)                                                              \n",
            "                                                                                                  \n",
            " stage3_unit2_bn2 (BatchNormali  (None, None, None,   1024       ['stage3_unit2_conv1[0][0]']     \n",
            " zation)                        256)                                                              \n",
            "                                                                                                  \n",
            " stage3_unit2_relu2 (Activation  (None, None, None,   0          ['stage3_unit2_bn2[0][0]']       \n",
            " )                              256)                                                              \n",
            "                                                                                                  \n",
            " zero_padding2d_155 (ZeroPaddin  (None, None, None,   0          ['stage3_unit2_relu2[0][0]']     \n",
            " g2D)                           256)                                                              \n",
            "                                                                                                  \n",
            " stage3_unit2_conv2 (Conv2D)    (None, None, None,   589824      ['zero_padding2d_155[0][0]']     \n",
            "                                256)                                                              \n",
            "                                                                                                  \n",
            " add_72 (Add)                   (None, None, None,   0           ['stage3_unit2_conv2[0][0]',     \n",
            "                                256)                              'add_71[0][0]']                 \n",
            "                                                                                                  \n",
            " stage3_unit3_bn1 (BatchNormali  (None, None, None,   1024       ['add_72[0][0]']                 \n",
            " zation)                        256)                                                              \n",
            "                                                                                                  \n",
            " stage3_unit3_relu1 (Activation  (None, None, None,   0          ['stage3_unit3_bn1[0][0]']       \n",
            " )                              256)                                                              \n",
            "                                                                                                  \n",
            " zero_padding2d_156 (ZeroPaddin  (None, None, None,   0          ['stage3_unit3_relu1[0][0]']     \n",
            " g2D)                           256)                                                              \n",
            "                                                                                                  \n",
            " stage3_unit3_conv1 (Conv2D)    (None, None, None,   589824      ['zero_padding2d_156[0][0]']     \n",
            "                                256)                                                              \n",
            "                                                                                                  \n",
            " stage3_unit3_bn2 (BatchNormali  (None, None, None,   1024       ['stage3_unit3_conv1[0][0]']     \n",
            " zation)                        256)                                                              \n",
            "                                                                                                  \n",
            " stage3_unit3_relu2 (Activation  (None, None, None,   0          ['stage3_unit3_bn2[0][0]']       \n",
            " )                              256)                                                              \n",
            "                                                                                                  \n",
            " zero_padding2d_157 (ZeroPaddin  (None, None, None,   0          ['stage3_unit3_relu2[0][0]']     \n",
            " g2D)                           256)                                                              \n",
            "                                                                                                  \n",
            " stage3_unit3_conv2 (Conv2D)    (None, None, None,   589824      ['zero_padding2d_157[0][0]']     \n",
            "                                256)                                                              \n",
            "                                                                                                  \n",
            " add_73 (Add)                   (None, None, None,   0           ['stage3_unit3_conv2[0][0]',     \n",
            "                                256)                              'add_72[0][0]']                 \n",
            "                                                                                                  \n",
            " stage3_unit4_bn1 (BatchNormali  (None, None, None,   1024       ['add_73[0][0]']                 \n",
            " zation)                        256)                                                              \n",
            "                                                                                                  \n",
            " stage3_unit4_relu1 (Activation  (None, None, None,   0          ['stage3_unit4_bn1[0][0]']       \n",
            " )                              256)                                                              \n",
            "                                                                                                  \n",
            " zero_padding2d_158 (ZeroPaddin  (None, None, None,   0          ['stage3_unit4_relu1[0][0]']     \n",
            " g2D)                           256)                                                              \n",
            "                                                                                                  \n",
            " stage3_unit4_conv1 (Conv2D)    (None, None, None,   589824      ['zero_padding2d_158[0][0]']     \n",
            "                                256)                                                              \n",
            "                                                                                                  \n",
            " stage3_unit4_bn2 (BatchNormali  (None, None, None,   1024       ['stage3_unit4_conv1[0][0]']     \n",
            " zation)                        256)                                                              \n",
            "                                                                                                  \n",
            " stage3_unit4_relu2 (Activation  (None, None, None,   0          ['stage3_unit4_bn2[0][0]']       \n",
            " )                              256)                                                              \n",
            "                                                                                                  \n",
            " zero_padding2d_159 (ZeroPaddin  (None, None, None,   0          ['stage3_unit4_relu2[0][0]']     \n",
            " g2D)                           256)                                                              \n",
            "                                                                                                  \n",
            " stage3_unit4_conv2 (Conv2D)    (None, None, None,   589824      ['zero_padding2d_159[0][0]']     \n",
            "                                256)                                                              \n",
            "                                                                                                  \n",
            " add_74 (Add)                   (None, None, None,   0           ['stage3_unit4_conv2[0][0]',     \n",
            "                                256)                              'add_73[0][0]']                 \n",
            "                                                                                                  \n",
            " stage3_unit5_bn1 (BatchNormali  (None, None, None,   1024       ['add_74[0][0]']                 \n",
            " zation)                        256)                                                              \n",
            "                                                                                                  \n",
            " stage3_unit5_relu1 (Activation  (None, None, None,   0          ['stage3_unit5_bn1[0][0]']       \n",
            " )                              256)                                                              \n",
            "                                                                                                  \n",
            " zero_padding2d_160 (ZeroPaddin  (None, None, None,   0          ['stage3_unit5_relu1[0][0]']     \n",
            " g2D)                           256)                                                              \n",
            "                                                                                                  \n",
            " stage3_unit5_conv1 (Conv2D)    (None, None, None,   589824      ['zero_padding2d_160[0][0]']     \n",
            "                                256)                                                              \n",
            "                                                                                                  \n",
            " stage3_unit5_bn2 (BatchNormali  (None, None, None,   1024       ['stage3_unit5_conv1[0][0]']     \n",
            " zation)                        256)                                                              \n",
            "                                                                                                  \n",
            " stage3_unit5_relu2 (Activation  (None, None, None,   0          ['stage3_unit5_bn2[0][0]']       \n",
            " )                              256)                                                              \n",
            "                                                                                                  \n",
            " zero_padding2d_161 (ZeroPaddin  (None, None, None,   0          ['stage3_unit5_relu2[0][0]']     \n",
            " g2D)                           256)                                                              \n",
            "                                                                                                  \n",
            " stage3_unit5_conv2 (Conv2D)    (None, None, None,   589824      ['zero_padding2d_161[0][0]']     \n",
            "                                256)                                                              \n",
            "                                                                                                  \n",
            " add_75 (Add)                   (None, None, None,   0           ['stage3_unit5_conv2[0][0]',     \n",
            "                                256)                              'add_74[0][0]']                 \n",
            "                                                                                                  \n",
            " stage3_unit6_bn1 (BatchNormali  (None, None, None,   1024       ['add_75[0][0]']                 \n",
            " zation)                        256)                                                              \n",
            "                                                                                                  \n",
            " stage3_unit6_relu1 (Activation  (None, None, None,   0          ['stage3_unit6_bn1[0][0]']       \n",
            " )                              256)                                                              \n",
            "                                                                                                  \n",
            " zero_padding2d_162 (ZeroPaddin  (None, None, None,   0          ['stage3_unit6_relu1[0][0]']     \n",
            " g2D)                           256)                                                              \n",
            "                                                                                                  \n",
            " stage3_unit6_conv1 (Conv2D)    (None, None, None,   589824      ['zero_padding2d_162[0][0]']     \n",
            "                                256)                                                              \n",
            "                                                                                                  \n",
            " stage3_unit6_bn2 (BatchNormali  (None, None, None,   1024       ['stage3_unit6_conv1[0][0]']     \n",
            " zation)                        256)                                                              \n",
            "                                                                                                  \n",
            " stage3_unit6_relu2 (Activation  (None, None, None,   0          ['stage3_unit6_bn2[0][0]']       \n",
            " )                              256)                                                              \n",
            "                                                                                                  \n",
            " zero_padding2d_163 (ZeroPaddin  (None, None, None,   0          ['stage3_unit6_relu2[0][0]']     \n",
            " g2D)                           256)                                                              \n",
            "                                                                                                  \n",
            " stage3_unit6_conv2 (Conv2D)    (None, None, None,   589824      ['zero_padding2d_163[0][0]']     \n",
            "                                256)                                                              \n",
            "                                                                                                  \n",
            " add_76 (Add)                   (None, None, None,   0           ['stage3_unit6_conv2[0][0]',     \n",
            "                                256)                              'add_75[0][0]']                 \n",
            "                                                                                                  \n",
            " stage4_unit1_bn1 (BatchNormali  (None, None, None,   1024       ['add_76[0][0]']                 \n",
            " zation)                        256)                                                              \n",
            "                                                                                                  \n",
            " stage4_unit1_relu1 (Activation  (None, None, None,   0          ['stage4_unit1_bn1[0][0]']       \n",
            " )                              256)                                                              \n",
            "                                                                                                  \n",
            " zero_padding2d_164 (ZeroPaddin  (None, None, None,   0          ['stage4_unit1_relu1[0][0]']     \n",
            " g2D)                           256)                                                              \n",
            "                                                                                                  \n",
            " stage4_unit1_conv1 (Conv2D)    (None, None, None,   1179648     ['zero_padding2d_164[0][0]']     \n",
            "                                512)                                                              \n",
            "                                                                                                  \n",
            " stage4_unit1_bn2 (BatchNormali  (None, None, None,   2048       ['stage4_unit1_conv1[0][0]']     \n",
            " zation)                        512)                                                              \n",
            "                                                                                                  \n",
            " stage4_unit1_relu2 (Activation  (None, None, None,   0          ['stage4_unit1_bn2[0][0]']       \n",
            " )                              512)                                                              \n",
            "                                                                                                  \n",
            " zero_padding2d_165 (ZeroPaddin  (None, None, None,   0          ['stage4_unit1_relu2[0][0]']     \n",
            " g2D)                           512)                                                              \n",
            "                                                                                                  \n",
            " stage4_unit1_conv2 (Conv2D)    (None, None, None,   2359296     ['zero_padding2d_165[0][0]']     \n",
            "                                512)                                                              \n",
            "                                                                                                  \n",
            " stage4_unit1_sc (Conv2D)       (None, None, None,   131072      ['stage4_unit1_relu1[0][0]']     \n",
            "                                512)                                                              \n",
            "                                                                                                  \n",
            " add_77 (Add)                   (None, None, None,   0           ['stage4_unit1_conv2[0][0]',     \n",
            "                                512)                              'stage4_unit1_sc[0][0]']        \n",
            "                                                                                                  \n",
            " stage4_unit2_bn1 (BatchNormali  (None, None, None,   2048       ['add_77[0][0]']                 \n",
            " zation)                        512)                                                              \n",
            "                                                                                                  \n",
            " stage4_unit2_relu1 (Activation  (None, None, None,   0          ['stage4_unit2_bn1[0][0]']       \n",
            " )                              512)                                                              \n",
            "                                                                                                  \n",
            " zero_padding2d_166 (ZeroPaddin  (None, None, None,   0          ['stage4_unit2_relu1[0][0]']     \n",
            " g2D)                           512)                                                              \n",
            "                                                                                                  \n",
            " stage4_unit2_conv1 (Conv2D)    (None, None, None,   2359296     ['zero_padding2d_166[0][0]']     \n",
            "                                512)                                                              \n",
            "                                                                                                  \n",
            " stage4_unit2_bn2 (BatchNormali  (None, None, None,   2048       ['stage4_unit2_conv1[0][0]']     \n",
            " zation)                        512)                                                              \n",
            "                                                                                                  \n",
            " stage4_unit2_relu2 (Activation  (None, None, None,   0          ['stage4_unit2_bn2[0][0]']       \n",
            " )                              512)                                                              \n",
            "                                                                                                  \n",
            " zero_padding2d_167 (ZeroPaddin  (None, None, None,   0          ['stage4_unit2_relu2[0][0]']     \n",
            " g2D)                           512)                                                              \n",
            "                                                                                                  \n",
            " stage4_unit2_conv2 (Conv2D)    (None, None, None,   2359296     ['zero_padding2d_167[0][0]']     \n",
            "                                512)                                                              \n",
            "                                                                                                  \n",
            " add_78 (Add)                   (None, None, None,   0           ['stage4_unit2_conv2[0][0]',     \n",
            "                                512)                              'add_77[0][0]']                 \n",
            "                                                                                                  \n",
            " stage4_unit3_bn1 (BatchNormali  (None, None, None,   2048       ['add_78[0][0]']                 \n",
            " zation)                        512)                                                              \n",
            "                                                                                                  \n",
            " stage4_unit3_relu1 (Activation  (None, None, None,   0          ['stage4_unit3_bn1[0][0]']       \n",
            " )                              512)                                                              \n",
            "                                                                                                  \n",
            " zero_padding2d_168 (ZeroPaddin  (None, None, None,   0          ['stage4_unit3_relu1[0][0]']     \n",
            " g2D)                           512)                                                              \n",
            "                                                                                                  \n",
            " stage4_unit3_conv1 (Conv2D)    (None, None, None,   2359296     ['zero_padding2d_168[0][0]']     \n",
            "                                512)                                                              \n",
            "                                                                                                  \n",
            " stage4_unit3_bn2 (BatchNormali  (None, None, None,   2048       ['stage4_unit3_conv1[0][0]']     \n",
            " zation)                        512)                                                              \n",
            "                                                                                                  \n",
            " stage4_unit3_relu2 (Activation  (None, None, None,   0          ['stage4_unit3_bn2[0][0]']       \n",
            " )                              512)                                                              \n",
            "                                                                                                  \n",
            " zero_padding2d_169 (ZeroPaddin  (None, None, None,   0          ['stage4_unit3_relu2[0][0]']     \n",
            " g2D)                           512)                                                              \n",
            "                                                                                                  \n",
            " stage4_unit3_conv2 (Conv2D)    (None, None, None,   2359296     ['zero_padding2d_169[0][0]']     \n",
            "                                512)                                                              \n",
            "                                                                                                  \n",
            " add_79 (Add)                   (None, None, None,   0           ['stage4_unit3_conv2[0][0]',     \n",
            "                                512)                              'add_78[0][0]']                 \n",
            "                                                                                                  \n",
            " bn1 (BatchNormalization)       (None, None, None,   2048        ['add_79[0][0]']                 \n",
            "                                512)                                                              \n",
            "                                                                                                  \n",
            " relu1 (Activation)             (None, None, None,   0           ['bn1[0][0]']                    \n",
            "                                512)                                                              \n",
            "                                                                                                  \n",
            " decoder_stage0_upsampling (UpS  (None, None, None,   0          ['relu1[0][0]']                  \n",
            " ampling2D)                     512)                                                              \n",
            "                                                                                                  \n",
            " decoder_stage0_concat (Concate  (None, None, None,   0          ['decoder_stage0_upsampling[0][0]\n",
            " nate)                          768)                             ',                               \n",
            "                                                                  'stage4_unit1_relu1[0][0]']     \n",
            "                                                                                                  \n",
            " decoder_stage0a_conv (Conv2D)  (None, None, None,   1769472     ['decoder_stage0_concat[0][0]']  \n",
            "                                256)                                                              \n",
            "                                                                                                  \n",
            " decoder_stage0a_bn (BatchNorma  (None, None, None,   1024       ['decoder_stage0a_conv[0][0]']   \n",
            " lization)                      256)                                                              \n",
            "                                                                                                  \n",
            " decoder_stage0a_relu (Activati  (None, None, None,   0          ['decoder_stage0a_bn[0][0]']     \n",
            " on)                            256)                                                              \n",
            "                                                                                                  \n",
            " decoder_stage0b_conv (Conv2D)  (None, None, None,   589824      ['decoder_stage0a_relu[0][0]']   \n",
            "                                256)                                                              \n",
            "                                                                                                  \n",
            " decoder_stage0b_bn (BatchNorma  (None, None, None,   1024       ['decoder_stage0b_conv[0][0]']   \n",
            " lization)                      256)                                                              \n",
            "                                                                                                  \n",
            " decoder_stage0b_relu (Activati  (None, None, None,   0          ['decoder_stage0b_bn[0][0]']     \n",
            " on)                            256)                                                              \n",
            "                                                                                                  \n",
            " decoder_stage1_upsampling (UpS  (None, None, None,   0          ['decoder_stage0b_relu[0][0]']   \n",
            " ampling2D)                     256)                                                              \n",
            "                                                                                                  \n",
            " decoder_stage1_concat (Concate  (None, None, None,   0          ['decoder_stage1_upsampling[0][0]\n",
            " nate)                          384)                             ',                               \n",
            "                                                                  'stage3_unit1_relu1[0][0]']     \n",
            "                                                                                                  \n",
            " decoder_stage1a_conv (Conv2D)  (None, None, None,   442368      ['decoder_stage1_concat[0][0]']  \n",
            "                                128)                                                              \n",
            "                                                                                                  \n",
            " decoder_stage1a_bn (BatchNorma  (None, None, None,   512        ['decoder_stage1a_conv[0][0]']   \n",
            " lization)                      128)                                                              \n",
            "                                                                                                  \n",
            " decoder_stage1a_relu (Activati  (None, None, None,   0          ['decoder_stage1a_bn[0][0]']     \n",
            " on)                            128)                                                              \n",
            "                                                                                                  \n",
            " decoder_stage1b_conv (Conv2D)  (None, None, None,   147456      ['decoder_stage1a_relu[0][0]']   \n",
            "                                128)                                                              \n",
            "                                                                                                  \n",
            " decoder_stage1b_bn (BatchNorma  (None, None, None,   512        ['decoder_stage1b_conv[0][0]']   \n",
            " lization)                      128)                                                              \n",
            "                                                                                                  \n",
            " decoder_stage1b_relu (Activati  (None, None, None,   0          ['decoder_stage1b_bn[0][0]']     \n",
            " on)                            128)                                                              \n",
            "                                                                                                  \n",
            " decoder_stage2_upsampling (UpS  (None, None, None,   0          ['decoder_stage1b_relu[0][0]']   \n",
            " ampling2D)                     128)                                                              \n",
            "                                                                                                  \n",
            " decoder_stage2_concat (Concate  (None, None, None,   0          ['decoder_stage2_upsampling[0][0]\n",
            " nate)                          192)                             ',                               \n",
            "                                                                  'stage2_unit1_relu1[0][0]']     \n",
            "                                                                                                  \n",
            " decoder_stage2a_conv (Conv2D)  (None, None, None,   110592      ['decoder_stage2_concat[0][0]']  \n",
            "                                64)                                                               \n",
            "                                                                                                  \n",
            " decoder_stage2a_bn (BatchNorma  (None, None, None,   256        ['decoder_stage2a_conv[0][0]']   \n",
            " lization)                      64)                                                               \n",
            "                                                                                                  \n",
            " decoder_stage2a_relu (Activati  (None, None, None,   0          ['decoder_stage2a_bn[0][0]']     \n",
            " on)                            64)                                                               \n",
            "                                                                                                  \n",
            " decoder_stage2b_conv (Conv2D)  (None, None, None,   36864       ['decoder_stage2a_relu[0][0]']   \n",
            "                                64)                                                               \n",
            "                                                                                                  \n",
            " decoder_stage2b_bn (BatchNorma  (None, None, None,   256        ['decoder_stage2b_conv[0][0]']   \n",
            " lization)                      64)                                                               \n",
            "                                                                                                  \n",
            " decoder_stage2b_relu (Activati  (None, None, None,   0          ['decoder_stage2b_bn[0][0]']     \n",
            " on)                            64)                                                               \n",
            "                                                                                                  \n",
            " decoder_stage3_upsampling (UpS  (None, None, None,   0          ['decoder_stage2b_relu[0][0]']   \n",
            " ampling2D)                     64)                                                               \n",
            "                                                                                                  \n",
            " decoder_stage3_concat (Concate  (None, None, None,   0          ['decoder_stage3_upsampling[0][0]\n",
            " nate)                          128)                             ',                               \n",
            "                                                                  'relu0[0][0]']                  \n",
            "                                                                                                  \n",
            " decoder_stage3a_conv (Conv2D)  (None, None, None,   36864       ['decoder_stage3_concat[0][0]']  \n",
            "                                32)                                                               \n",
            "                                                                                                  \n",
            " decoder_stage3a_bn (BatchNorma  (None, None, None,   128        ['decoder_stage3a_conv[0][0]']   \n",
            " lization)                      32)                                                               \n",
            "                                                                                                  \n",
            " decoder_stage3a_relu (Activati  (None, None, None,   0          ['decoder_stage3a_bn[0][0]']     \n",
            " on)                            32)                                                               \n",
            "                                                                                                  \n",
            " decoder_stage3b_conv (Conv2D)  (None, None, None,   9216        ['decoder_stage3a_relu[0][0]']   \n",
            "                                32)                                                               \n",
            "                                                                                                  \n",
            " decoder_stage3b_bn (BatchNorma  (None, None, None,   128        ['decoder_stage3b_conv[0][0]']   \n",
            " lization)                      32)                                                               \n",
            "                                                                                                  \n",
            " decoder_stage3b_relu (Activati  (None, None, None,   0          ['decoder_stage3b_bn[0][0]']     \n",
            " on)                            32)                                                               \n",
            "                                                                                                  \n",
            " decoder_stage4_upsampling (UpS  (None, None, None,   0          ['decoder_stage3b_relu[0][0]']   \n",
            " ampling2D)                     32)                                                               \n",
            "                                                                                                  \n",
            " decoder_stage4a_conv (Conv2D)  (None, None, None,   4608        ['decoder_stage4_upsampling[0][0]\n",
            "                                16)                              ']                               \n",
            "                                                                                                  \n",
            " decoder_stage4a_bn (BatchNorma  (None, None, None,   64         ['decoder_stage4a_conv[0][0]']   \n",
            " lization)                      16)                                                               \n",
            "                                                                                                  \n",
            " decoder_stage4a_relu (Activati  (None, None, None,   0          ['decoder_stage4a_bn[0][0]']     \n",
            " on)                            16)                                                               \n",
            "                                                                                                  \n",
            " decoder_stage4b_conv (Conv2D)  (None, None, None,   2304        ['decoder_stage4a_relu[0][0]']   \n",
            "                                16)                                                               \n",
            "                                                                                                  \n",
            " decoder_stage4b_bn (BatchNorma  (None, None, None,   64         ['decoder_stage4b_conv[0][0]']   \n",
            " lization)                      16)                                                               \n",
            "                                                                                                  \n",
            " decoder_stage4b_relu (Activati  (None, None, None,   0          ['decoder_stage4b_bn[0][0]']     \n",
            " on)                            16)                                                               \n",
            "                                                                                                  \n",
            " final_conv (Conv2D)            (None, None, None,   1740        ['decoder_stage4b_relu[0][0]']   \n",
            "                                12)                                                               \n",
            "                                                                                                  \n",
            " softmax (Activation)           (None, None, None,   0           ['final_conv[0][0]']             \n",
            "                                12)                                                               \n",
            "                                                                                                  \n",
            "==================================================================================================\n",
            "Total params: 24,457,749\n",
            "Trainable params: 24,440,399\n",
            "Non-trainable params: 17,350\n",
            "__________________________________________________________________________________________________\n",
            "None\n"
          ]
        }
      ]
    },
    {
      "cell_type": "code",
      "source": [
        "history2= model2.fit(training_imgs2, \n",
        "          y_masks2,\n",
        "          batch_size=32, \n",
        "          epochs=50,\n",
        "          verbose=1)\n",
        "#model2.save('res34_backbone_50epochs2.hdf5')\n",
        "tf.saved_model.save(model2, 'saved_model') "
      ],
      "metadata": {
        "colab": {
          "base_uri": "https://localhost:8080/",
          "height": 1000
        },
        "id": "G3Em-uZv7qEh",
        "outputId": "9a5d280b-c727-44b1-bed5-3ce860aaed2c"
      },
      "execution_count": null,
      "outputs": [
        {
          "output_type": "stream",
          "name": "stdout",
          "text": [
            "Epoch 1/50\n",
            "23/23 [==============================] - 270s 11s/step - loss: 1.0225 - iou_score: 0.0231 - f1-score: 0.0314\n",
            "Epoch 2/50\n",
            "23/23 [==============================] - 261s 11s/step - loss: 1.0026 - iou_score: 0.1142 - f1-score: 0.1481\n",
            "Epoch 3/50\n",
            "23/23 [==============================] - 266s 12s/step - loss: 0.9963 - iou_score: 0.1770 - f1-score: 0.2352\n",
            "Epoch 4/50\n",
            "23/23 [==============================] - 261s 11s/step - loss: 0.9925 - iou_score: 0.2215 - f1-score: 0.2935\n",
            "Epoch 5/50\n",
            "23/23 [==============================] - 263s 11s/step - loss: 0.9892 - iou_score: 0.2473 - f1-score: 0.3198\n",
            "Epoch 6/50\n",
            "23/23 [==============================] - 261s 11s/step - loss: 0.9868 - iou_score: 0.2650 - f1-score: 0.3379\n",
            "Epoch 7/50\n",
            "23/23 [==============================] - 261s 11s/step - loss: 0.9847 - iou_score: 0.2835 - f1-score: 0.3580\n",
            "Epoch 8/50\n",
            "23/23 [==============================] - 266s 12s/step - loss: 0.9823 - iou_score: 0.3043 - f1-score: 0.3801\n",
            "Epoch 9/50\n",
            "23/23 [==============================] - 261s 11s/step - loss: 0.9804 - iou_score: 0.3204 - f1-score: 0.3968\n",
            "Epoch 10/50\n",
            "23/23 [==============================] - 261s 11s/step - loss: 0.9784 - iou_score: 0.3368 - f1-score: 0.4126\n",
            "Epoch 11/50\n",
            "23/23 [==============================] - 262s 11s/step - loss: 0.9771 - iou_score: 0.3474 - f1-score: 0.4225\n",
            "Epoch 12/50\n",
            "23/23 [==============================] - 264s 11s/step - loss: 0.9758 - iou_score: 0.3577 - f1-score: 0.4317\n",
            "Epoch 13/50\n",
            "23/23 [==============================] - 264s 11s/step - loss: 0.9741 - iou_score: 0.3707 - f1-score: 0.4430\n",
            "Epoch 14/50\n",
            "23/23 [==============================] - 264s 11s/step - loss: 0.9729 - iou_score: 0.3783 - f1-score: 0.4492\n",
            "Epoch 15/50\n",
            "23/23 [==============================] - 264s 11s/step - loss: 0.9715 - iou_score: 0.3902 - f1-score: 0.4631\n",
            "Epoch 16/50\n",
            "23/23 [==============================] - 264s 11s/step - loss: 0.9700 - iou_score: 0.4204 - f1-score: 0.5029\n",
            "Epoch 17/50\n",
            "23/23 [==============================] - 263s 11s/step - loss: 0.9688 - iou_score: 0.4299 - f1-score: 0.5120\n",
            "Epoch 18/50\n",
            "23/23 [==============================] - 264s 11s/step - loss: 0.9680 - iou_score: 0.4341 - f1-score: 0.5156\n",
            "Epoch 19/50\n",
            "23/23 [==============================] - 265s 12s/step - loss: 0.9666 - iou_score: 0.4458 - f1-score: 0.5256\n",
            "Epoch 20/50\n",
            "23/23 [==============================] - 264s 11s/step - loss: 0.9658 - iou_score: 0.4514 - f1-score: 0.5300\n",
            "Epoch 21/50\n",
            "23/23 [==============================] - 263s 11s/step - loss: 0.9648 - iou_score: 0.4590 - f1-score: 0.5359\n",
            "Epoch 22/50\n",
            "23/23 [==============================] - 263s 11s/step - loss: 0.9638 - iou_score: 0.4678 - f1-score: 0.5432\n",
            "Epoch 23/50\n",
            "23/23 [==============================] - 264s 11s/step - loss: 0.9630 - iou_score: 0.4732 - f1-score: 0.5470\n",
            "Epoch 24/50\n",
            "23/23 [==============================] - 263s 11s/step - loss: 0.9624 - iou_score: 0.4771 - f1-score: 0.5502\n",
            "Epoch 25/50\n",
            "23/23 [==============================] - 266s 12s/step - loss: 0.9615 - iou_score: 0.4824 - f1-score: 0.5544\n",
            "Epoch 26/50\n",
            "23/23 [==============================] - 264s 11s/step - loss: 0.9608 - iou_score: 0.4923 - f1-score: 0.5682\n",
            "Epoch 27/50\n",
            "23/23 [==============================] - 264s 11s/step - loss: 0.9600 - iou_score: 0.5027 - f1-score: 0.5835\n",
            "Epoch 28/50\n",
            "23/23 [==============================] - 263s 11s/step - loss: 0.9591 - iou_score: 0.5142 - f1-score: 0.6005\n",
            "Epoch 29/50\n",
            "23/23 [==============================] - 265s 12s/step - loss: 0.9581 - iou_score: 0.5350 - f1-score: 0.6331\n",
            "Epoch 30/50\n",
            "23/23 [==============================] - 263s 11s/step - loss: 0.9569 - iou_score: 0.5492 - f1-score: 0.6514\n",
            "Epoch 31/50\n",
            "23/23 [==============================] - 263s 11s/step - loss: 0.9562 - iou_score: 0.5545 - f1-score: 0.6589\n",
            "Epoch 32/50\n",
            "23/23 [==============================] - 264s 11s/step - loss: 0.9548 - iou_score: 0.5669 - f1-score: 0.6736\n",
            "Epoch 33/50\n",
            "23/23 [==============================] - 264s 11s/step - loss: 0.9542 - iou_score: 0.5706 - f1-score: 0.6773\n",
            "Epoch 34/50\n",
            "23/23 [==============================] - 263s 11s/step - loss: 0.9532 - iou_score: 0.5787 - f1-score: 0.6853\n",
            "Epoch 35/50\n",
            "23/23 [==============================] - 263s 11s/step - loss: 0.9521 - iou_score: 0.5883 - f1-score: 0.6951\n",
            "Epoch 36/50\n",
            "23/23 [==============================] - 262s 11s/step - loss: 0.9518 - iou_score: 0.5909 - f1-score: 0.6976\n",
            "Epoch 37/50\n",
            "23/23 [==============================] - 261s 11s/step - loss: 0.9506 - iou_score: 0.6017 - f1-score: 0.7074\n",
            "Epoch 38/50\n",
            "23/23 [==============================] - 261s 11s/step - loss: 0.9498 - iou_score: 0.6074 - f1-score: 0.7132\n",
            "Epoch 39/50\n",
            "23/23 [==============================] - 262s 11s/step - loss: 0.9491 - iou_score: 0.6147 - f1-score: 0.7194\n",
            "Epoch 40/50\n",
            "23/23 [==============================] - 262s 11s/step - loss: 0.9484 - iou_score: 0.6203 - f1-score: 0.7239\n",
            "Epoch 41/50\n",
            "23/23 [==============================] - 261s 11s/step - loss: 0.9481 - iou_score: 0.6225 - f1-score: 0.7250\n",
            "Epoch 42/50\n",
            "23/23 [==============================] - 260s 11s/step - loss: 0.9475 - iou_score: 0.6282 - f1-score: 0.7308\n",
            "Epoch 43/50\n",
            "23/23 [==============================] - 262s 11s/step - loss: 0.9473 - iou_score: 0.6307 - f1-score: 0.7327\n",
            "Epoch 44/50\n",
            "23/23 [==============================] - 262s 11s/step - loss: 0.9467 - iou_score: 0.6361 - f1-score: 0.7374\n",
            "Epoch 45/50\n",
            "23/23 [==============================] - 262s 11s/step - loss: 0.9463 - iou_score: 0.6396 - f1-score: 0.7396\n",
            "Epoch 46/50\n",
            "23/23 [==============================] - 263s 11s/step - loss: 0.9464 - iou_score: 0.6377 - f1-score: 0.7379\n",
            "Epoch 47/50\n",
            "23/23 [==============================] - 261s 11s/step - loss: 0.9456 - iou_score: 0.6462 - f1-score: 0.7454\n",
            "Epoch 48/50\n",
            "23/23 [==============================] - 262s 11s/step - loss: 0.9453 - iou_score: 0.6487 - f1-score: 0.7476\n",
            "Epoch 49/50\n",
            "23/23 [==============================] - 262s 11s/step - loss: 0.9450 - iou_score: 0.6523 - f1-score: 0.7508\n",
            "Epoch 50/50\n",
            "23/23 [==============================] - 261s 11s/step - loss: 0.9449 - iou_score: 0.6539 - f1-score: 0.7515\n"
          ]
        },
        {
          "output_type": "stream",
          "name": "stderr",
          "text": [
            "/usr/local/lib/python3.7/dist-packages/keras/engine/functional.py:1410: CustomMaskWarning: Custom mask layers require a config and must override get_config. When loading, the custom mask layer must be passed to the custom_objects argument.\n",
            "  layer_config = serialize_layer_fn(layer)\n"
          ]
        },
        {
          "output_type": "error",
          "ename": "ValueError",
          "evalue": "ignored",
          "traceback": [
            "\u001b[0;31m---------------------------------------------------------------------------\u001b[0m",
            "\u001b[0;31mValueError\u001b[0m                                Traceback (most recent call last)",
            "\u001b[0;32m<ipython-input-118-b7571bca9ea6>\u001b[0m in \u001b[0;36m<module>\u001b[0;34m()\u001b[0m\n\u001b[1;32m      4\u001b[0m           \u001b[0mepochs\u001b[0m\u001b[0;34m=\u001b[0m\u001b[0;36m50\u001b[0m\u001b[0;34m,\u001b[0m\u001b[0;34m\u001b[0m\u001b[0;34m\u001b[0m\u001b[0m\n\u001b[1;32m      5\u001b[0m           verbose=1)\n\u001b[0;32m----> 6\u001b[0;31m \u001b[0mmodel2\u001b[0m\u001b[0;34m.\u001b[0m\u001b[0msave\u001b[0m\u001b[0;34m(\u001b[0m\u001b[0;34m'res34_backbone_50epochs2.hdf5'\u001b[0m\u001b[0;34m)\u001b[0m\u001b[0;34m\u001b[0m\u001b[0;34m\u001b[0m\u001b[0m\n\u001b[0m",
            "\u001b[0;32m/usr/local/lib/python3.7/dist-packages/keras/utils/traceback_utils.py\u001b[0m in \u001b[0;36merror_handler\u001b[0;34m(*args, **kwargs)\u001b[0m\n\u001b[1;32m     65\u001b[0m     \u001b[0;32mexcept\u001b[0m \u001b[0mException\u001b[0m \u001b[0;32mas\u001b[0m \u001b[0me\u001b[0m\u001b[0;34m:\u001b[0m  \u001b[0;31m# pylint: disable=broad-except\u001b[0m\u001b[0;34m\u001b[0m\u001b[0;34m\u001b[0m\u001b[0m\n\u001b[1;32m     66\u001b[0m       \u001b[0mfiltered_tb\u001b[0m \u001b[0;34m=\u001b[0m \u001b[0m_process_traceback_frames\u001b[0m\u001b[0;34m(\u001b[0m\u001b[0me\u001b[0m\u001b[0;34m.\u001b[0m\u001b[0m__traceback__\u001b[0m\u001b[0;34m)\u001b[0m\u001b[0;34m\u001b[0m\u001b[0;34m\u001b[0m\u001b[0m\n\u001b[0;32m---> 67\u001b[0;31m       \u001b[0;32mraise\u001b[0m \u001b[0me\u001b[0m\u001b[0;34m.\u001b[0m\u001b[0mwith_traceback\u001b[0m\u001b[0;34m(\u001b[0m\u001b[0mfiltered_tb\u001b[0m\u001b[0;34m)\u001b[0m \u001b[0;32mfrom\u001b[0m \u001b[0;32mNone\u001b[0m\u001b[0;34m\u001b[0m\u001b[0;34m\u001b[0m\u001b[0m\n\u001b[0m\u001b[1;32m     68\u001b[0m     \u001b[0;32mfinally\u001b[0m\u001b[0;34m:\u001b[0m\u001b[0;34m\u001b[0m\u001b[0;34m\u001b[0m\u001b[0m\n\u001b[1;32m     69\u001b[0m       \u001b[0;32mdel\u001b[0m \u001b[0mfiltered_tb\u001b[0m\u001b[0;34m\u001b[0m\u001b[0;34m\u001b[0m\u001b[0m\n",
            "\u001b[0;32m/usr/local/lib/python3.7/dist-packages/h5py/_hl/group.py\u001b[0m in \u001b[0;36mcreate_dataset\u001b[0;34m(self, name, shape, dtype, data, **kwds)\u001b[0m\n\u001b[1;32m    146\u001b[0m                     \u001b[0mgroup\u001b[0m \u001b[0;34m=\u001b[0m \u001b[0mself\u001b[0m\u001b[0;34m.\u001b[0m\u001b[0mrequire_group\u001b[0m\u001b[0;34m(\u001b[0m\u001b[0mparent_path\u001b[0m\u001b[0;34m)\u001b[0m\u001b[0;34m\u001b[0m\u001b[0;34m\u001b[0m\u001b[0m\n\u001b[1;32m    147\u001b[0m \u001b[0;34m\u001b[0m\u001b[0m\n\u001b[0;32m--> 148\u001b[0;31m             \u001b[0mdsid\u001b[0m \u001b[0;34m=\u001b[0m \u001b[0mdataset\u001b[0m\u001b[0;34m.\u001b[0m\u001b[0mmake_new_dset\u001b[0m\u001b[0;34m(\u001b[0m\u001b[0mgroup\u001b[0m\u001b[0;34m,\u001b[0m \u001b[0mshape\u001b[0m\u001b[0;34m,\u001b[0m \u001b[0mdtype\u001b[0m\u001b[0;34m,\u001b[0m \u001b[0mdata\u001b[0m\u001b[0;34m,\u001b[0m \u001b[0mname\u001b[0m\u001b[0;34m,\u001b[0m \u001b[0;34m**\u001b[0m\u001b[0mkwds\u001b[0m\u001b[0;34m)\u001b[0m\u001b[0;34m\u001b[0m\u001b[0;34m\u001b[0m\u001b[0m\n\u001b[0m\u001b[1;32m    149\u001b[0m             \u001b[0mdset\u001b[0m \u001b[0;34m=\u001b[0m \u001b[0mdataset\u001b[0m\u001b[0;34m.\u001b[0m\u001b[0mDataset\u001b[0m\u001b[0;34m(\u001b[0m\u001b[0mdsid\u001b[0m\u001b[0;34m)\u001b[0m\u001b[0;34m\u001b[0m\u001b[0;34m\u001b[0m\u001b[0m\n\u001b[1;32m    150\u001b[0m             \u001b[0;32mreturn\u001b[0m \u001b[0mdset\u001b[0m\u001b[0;34m\u001b[0m\u001b[0;34m\u001b[0m\u001b[0m\n",
            "\u001b[0;32m/usr/local/lib/python3.7/dist-packages/h5py/_hl/dataset.py\u001b[0m in \u001b[0;36mmake_new_dset\u001b[0;34m(parent, shape, dtype, data, name, chunks, compression, shuffle, fletcher32, maxshape, compression_opts, fillvalue, scaleoffset, track_times, external, track_order, dcpl, allow_unknown_filter)\u001b[0m\n\u001b[1;32m    135\u001b[0m \u001b[0;34m\u001b[0m\u001b[0m\n\u001b[1;32m    136\u001b[0m \u001b[0;34m\u001b[0m\u001b[0m\n\u001b[0;32m--> 137\u001b[0;31m     \u001b[0mdset_id\u001b[0m \u001b[0;34m=\u001b[0m \u001b[0mh5d\u001b[0m\u001b[0;34m.\u001b[0m\u001b[0mcreate\u001b[0m\u001b[0;34m(\u001b[0m\u001b[0mparent\u001b[0m\u001b[0;34m.\u001b[0m\u001b[0mid\u001b[0m\u001b[0;34m,\u001b[0m \u001b[0mname\u001b[0m\u001b[0;34m,\u001b[0m \u001b[0mtid\u001b[0m\u001b[0;34m,\u001b[0m \u001b[0msid\u001b[0m\u001b[0;34m,\u001b[0m \u001b[0mdcpl\u001b[0m\u001b[0;34m=\u001b[0m\u001b[0mdcpl\u001b[0m\u001b[0;34m)\u001b[0m\u001b[0;34m\u001b[0m\u001b[0;34m\u001b[0m\u001b[0m\n\u001b[0m\u001b[1;32m    138\u001b[0m \u001b[0;34m\u001b[0m\u001b[0m\n\u001b[1;32m    139\u001b[0m     \u001b[0;32mif\u001b[0m \u001b[0;34m(\u001b[0m\u001b[0mdata\u001b[0m \u001b[0;32mis\u001b[0m \u001b[0;32mnot\u001b[0m \u001b[0;32mNone\u001b[0m\u001b[0;34m)\u001b[0m \u001b[0;32mand\u001b[0m \u001b[0;34m(\u001b[0m\u001b[0;32mnot\u001b[0m \u001b[0misinstance\u001b[0m\u001b[0;34m(\u001b[0m\u001b[0mdata\u001b[0m\u001b[0;34m,\u001b[0m \u001b[0mEmpty\u001b[0m\u001b[0;34m)\u001b[0m\u001b[0;34m)\u001b[0m\u001b[0;34m:\u001b[0m\u001b[0;34m\u001b[0m\u001b[0;34m\u001b[0m\u001b[0m\n",
            "\u001b[0;32mh5py/_objects.pyx\u001b[0m in \u001b[0;36mh5py._objects.with_phil.wrapper\u001b[0;34m()\u001b[0m\n",
            "\u001b[0;32mh5py/_objects.pyx\u001b[0m in \u001b[0;36mh5py._objects.with_phil.wrapper\u001b[0;34m()\u001b[0m\n",
            "\u001b[0;32mh5py/h5d.pyx\u001b[0m in \u001b[0;36mh5py.h5d.create\u001b[0;34m()\u001b[0m\n",
            "\u001b[0;31mValueError\u001b[0m: Unable to create dataset (name already exists)"
          ]
        }
      ]
    },
    {
      "cell_type": "code",
      "source": [
        "\n",
        "from keras.models import load_model\n",
        "model = load_model('/content/drive/MyDrive/res34_backbone_50epochs2.hdf5', compile=False)"
      ],
      "metadata": {
        "id": "9tpGz1BC1wux"
      },
      "execution_count": null,
      "outputs": []
    },
    {
      "cell_type": "code",
      "source": [
        "preprocess_input = sm.get_preprocessing(\"resnet34\")\n",
        "test_img_number = random.randint(0, len(training_imgs) -1)\n",
        "test_img = training_imgs[test_img_number]\n",
        "ground_truth=y_masks[test_img_number]\n",
        "test_img_input=np.expand_dims(test_img, 0)\n",
        "\n",
        "test_img_input1 = preprocess_input(test_img_input)\n",
        "\n",
        "test_pred1 = model.predict(test_img_input1)\n",
        "\n",
        "\n",
        "\n",
        "test_prediction1 = np.argmax(test_pred1, axis=3)[0,:,:]\n",
        "\n",
        "\n",
        "plt.figure(figsize=(12, 8))\n",
        "plt.subplot(231)\n",
        "plt.title('Testing Image')\n",
        "plt.imshow(test_img[:,:,0])\n",
        "plt.subplot(232)\n",
        "plt.title('Testing Label')\n",
        "plt.imshow(trainingMsks[test_img_number])\n",
        "plt.subplot(233)\n",
        "plt.title('Prediction on test image')\n",
        "plt.imshow(test_prediction1)\n",
        "plt.show()"
      ],
      "metadata": {
        "colab": {
          "base_uri": "https://localhost:8080/",
          "height": 261
        },
        "id": "xqizDNwsxrIc",
        "outputId": "28ba1180-1de5-4dcb-c355-0589eb1eecb8"
      },
      "execution_count": null,
      "outputs": [
        {
          "output_type": "display_data",
          "data": {
            "text/plain": [
              "<Figure size 864x576 with 3 Axes>"
            ],
            "image/png": "[encoded data removed]"
          },
          "metadata": {
            "needs_background": "light"
          }
        }
      ]
    },
    {
      "cell_type": "code",
      "source": [
        "from skimage import color\n",
        "result_image = color.label2rgb(test_prediction1, training_imgs[test_img_number])"
      ],
      "metadata": {
        "colab": {
          "base_uri": "https://localhost:8080/"
        },
        "id": "VUp30e9xyISD",
        "outputId": "c075e98d-0c10-4185-94cb-0a9fd9608f57"
      },
      "execution_count": null,
      "outputs": [
        {
          "output_type": "stream",
          "name": "stderr",
          "text": [
            "/usr/local/lib/python3.7/dist-packages/ipykernel_launcher.py:2: FutureWarning: The new recommended value for bg_label is 0. Until version 0.19, the default bg_label value is -1. From version 0.19, the bg_label default value will be 0. To avoid this warning, please explicitly set bg_label value.\n",
            "  \n"
          ]
        }
      ]
    },
    {
      "cell_type": "code",
      "source": [
        "plt.imshow(result_image)"
      ],
      "metadata": {
        "colab": {
          "base_uri": "https://localhost:8080/",
          "height": 285
        },
        "id": "yGbNBxMayx4f",
        "outputId": "39b87432-91eb-41fe-e7a6-94d7d8223480"
      },
      "execution_count": null,
      "outputs": [
        {
          "output_type": "execute_result",
          "data": {
            "text/plain": [
              "<matplotlib.image.AxesImage at 0x7f6bf5953610>"
            ]
          },
          "metadata": {},
          "execution_count": 22
        },
        {
          "output_type": "display_data",
          "data": {
            "text/plain": [
              "<Figure size 432x288 with 1 Axes>"
            ],
            "image/png": "[encoded data removed]"
          },
          "metadata": {
            "needs_background": "light"
          }
        }
      ]
    },
    {
      "cell_type": "code",
      "source": [
        "result_image = color.label2rgb(trainingMsks[test_img_number],test_img )"
      ],
      "metadata": {
        "colab": {
          "base_uri": "https://localhost:8080/"
        },
        "id": "do5E3BmkzmNi",
        "outputId": "ffe995c6-c88b-46c1-f058-ac5febfd38a2"
      },
      "execution_count": null,
      "outputs": [
        {
          "output_type": "stream",
          "name": "stderr",
          "text": [
            "/usr/local/lib/python3.7/dist-packages/ipykernel_launcher.py:1: FutureWarning: The new recommended value for bg_label is 0. Until version 0.19, the default bg_label value is -1. From version 0.19, the bg_label default value will be 0. To avoid this warning, please explicitly set bg_label value.\n",
            "  \"\"\"Entry point for launching an IPython kernel.\n"
          ]
        }
      ]
    },
    {
      "cell_type": "code",
      "source": [
        "plt.imshow(result_image)"
      ],
      "metadata": {
        "colab": {
          "base_uri": "https://localhost:8080/",
          "height": 285
        },
        "id": "UgVr3CW8zMwZ",
        "outputId": "8e7de6b1-30c2-479e-afa4-e140dd388f36"
      },
      "execution_count": null,
      "outputs": [
        {
          "output_type": "execute_result",
          "data": {
            "text/plain": [
              "<matplotlib.image.AxesImage at 0x7f6bf58e9e50>"
            ]
          },
          "metadata": {},
          "execution_count": 24
        },
        {
          "output_type": "display_data",
          "data": {
            "text/plain": [
              "<Figure size 432x288 with 1 Axes>"
            ],
            "image/png": "[encoded data removed]"
          },
          "metadata": {
            "needs_background": "light"
          }
        }
      ]
    },
    {
      "cell_type": "code",
      "source": [
        "import tensorflow as tf\n",
        "import keras.backend as K\n",
        "from keras.losses import binary_crossentropy\n",
        "\n",
        "beta = 0.25\n",
        "alpha = 0.25\n",
        "gamma = 2\n",
        "epsilon = 1e-5\n",
        "smooth = 1\n",
        "def dice_coef( y_true, y_pred):\n",
        "        y_true_f = K.flatten(y_true)\n",
        "        y_pred_f = K.flatten(y_pred)\n",
        "        intersection = K.sum(y_true_f * y_pred_f)\n",
        "        return (2. * intersection + K.epsilon()) / (\n",
        "                    K.sum(y_true_f) + K.sum(y_pred_f) + K.epsilon())\n",
        "def f1( y_true, y_pred):\n",
        "        y_true_f = K.flatten(y_true)\n",
        "        y_pred_f = K.flatten(y_pred)\n",
        "        intersection = K.sum(y_true_f * y_pred_f)\n",
        "        v1 =  K.sum(y_true_f) / intersection\n",
        "        v2 =  K.sum(y_pred_f)/ intersection\n",
        "        return (2+ K.epsilon()) / (\n",
        "                   v1 + v2 + K.epsilon())        \n",
        "def sensitivity( y_true, y_pred):\n",
        "        true_positives = K.sum(K.round(K.clip(y_true * y_pred, 0, 1)))\n",
        "        possible_positives = K.sum(K.round(K.clip(y_true, 0, 1)))\n",
        "        return true_positives / (possible_positives + K.epsilon())\n",
        "        \n",
        "def specificity( y_true, y_pred):\n",
        "        true_negatives = K.sum(\n",
        "            K.round(K.clip((1 - y_true) * (1 - y_pred), 0, 1)))\n",
        "        possible_negatives = K.sum(K.round(K.clip(1 - y_true, 0, 1)))\n",
        "        return true_negatives / (possible_negatives + K.epsilon())        \n",
        "class Semantic_loss_functions(object):\n",
        "    def __init__(self):\n",
        "        print (\"semantic loss functions initialized\")\n",
        "\n",
        "    \n",
        "\n",
        "    \n",
        "\n",
        "    \n",
        "\n",
        "    def convert_to_logits(self, y_pred):\n",
        "        y_pred = tf.clip_by_value(y_pred, tf.keras.backend.epsilon(),\n",
        "                                  1 - tf.keras.backend.epsilon())\n",
        "        return tf.math.log(y_pred / (1 - y_pred))\n",
        "\n",
        "    def weighted_cross_entropyloss(self, y_true, y_pred):\n",
        "        y_pred = self.convert_to_logits(y_pred)\n",
        "        pos_weight = beta / (1 - beta)\n",
        "        loss = tf.nn.weighted_cross_entropy_with_logits(logits=y_pred,\n",
        "                                                        targets=y_true,\n",
        "                                                        pos_weight=pos_weight)\n",
        "        return tf.reduce_mean(loss)\n",
        "\n",
        "    def focal_loss_with_logits(self, logits, targets, alpha, gamma, y_pred):\n",
        "        weight_a = alpha * (1 - y_pred) ** gamma * targets\n",
        "        weight_b = (1 - alpha) * y_pred ** gamma * (1 - targets)\n",
        "\n",
        "        return (tf.math.log1p(tf.exp(-tf.abs(logits))) + tf.nn.relu(\n",
        "            -logits)) * (weight_a + weight_b) + logits * weight_b\n",
        "\n",
        "    def focal_loss(self, y_true, y_pred):\n",
        "        y_pred = tf.clip_by_value(y_pred, tf.keras.backend.epsilon(),\n",
        "                                  1 - tf.keras.backend.epsilon())\n",
        "        logits = tf.math.log(y_pred / (1 - y_pred))\n",
        "\n",
        "        loss = self.focal_loss_with_logits(logits=logits, targets=y_true,\n",
        "                                      alpha=alpha, gamma=gamma, y_pred=y_pred)\n",
        "\n",
        "        return tf.reduce_mean(loss)\n",
        "\n",
        "    def depth_softmax(self, matrix):\n",
        "        sigmoid = lambda x: 1 / (1 + K.exp(-x))\n",
        "        sigmoided_matrix = sigmoid(matrix)\n",
        "        softmax_matrix = sigmoided_matrix / K.sum(sigmoided_matrix, axis=0)\n",
        "        return softmax_matrix\n",
        "\n",
        "    def generalized_dice_coefficient(self, y_true, y_pred):\n",
        "        smooth = 1.\n",
        "        y_true_f = K.flatten(y_true)\n",
        "        y_pred_f = K.flatten(y_pred)\n",
        "        intersection = K.sum(y_true_f * y_pred_f)\n",
        "        score = (2. * intersection + smooth) / (\n",
        "                    K.sum(y_true_f) + K.sum(y_pred_f) + smooth)\n",
        "        return score\n",
        "\n",
        "    def dice_loss(self, y_true, y_pred):\n",
        "        loss = 1 - self.generalized_dice_coefficient(y_true, y_pred)\n",
        "        return loss\n",
        "\n",
        "    def bce_dice_loss(self, y_true, y_pred):\n",
        "        loss = binary_crossentropy(y_true, y_pred) + \\\n",
        "               self.dice_loss(y_true, y_pred)\n",
        "        return loss / 2.0\n",
        "\n",
        "    def confusion(self, y_true, y_pred):\n",
        "        smooth = 1\n",
        "        y_pred_pos = K.clip(y_pred, 0, 1)\n",
        "        y_pred_neg = 1 - y_pred_pos\n",
        "        y_pos = K.clip(y_true, 0, 1)\n",
        "        y_neg = 1 - y_pos\n",
        "        tp = K.sum(y_pos * y_pred_pos)\n",
        "        fp = K.sum(y_neg * y_pred_pos)\n",
        "        fn = K.sum(y_pos * y_pred_neg)\n",
        "        prec = (tp + smooth) / (tp + fp + smooth)\n",
        "        recall = (tp + smooth) / (tp + fn + smooth)\n",
        "        return prec, recall\n",
        "\n",
        "    def true_positive(self, y_true, y_pred):\n",
        "        smooth = 1\n",
        "        y_pred_pos = K.round(K.clip(y_pred, 0, 1))\n",
        "        y_pos = K.round(K.clip(y_true, 0, 1))\n",
        "        tp = (K.sum(y_pos * y_pred_pos) + smooth) / (K.sum(y_pos) + smooth)\n",
        "        return tp\n",
        "\n",
        "    def true_negative(self, y_true, y_pred):\n",
        "        smooth = 1\n",
        "        y_pred_pos = K.round(K.clip(y_pred, 0, 1))\n",
        "        y_pred_neg = 1 - y_pred_pos\n",
        "        y_pos = K.round(K.clip(y_true, 0, 1))\n",
        "        y_neg = 1 - y_pos\n",
        "        tn = (K.sum(y_neg * y_pred_neg) + smooth) / (K.sum(y_neg) + smooth)\n",
        "        return tn\n",
        "\n",
        "    def tversky_index(self, y_true, y_pred):\n",
        "        y_true_pos = K.flatten(y_true)\n",
        "        y_pred_pos = K.flatten(y_pred)\n",
        "        true_pos = K.sum(y_true_pos * y_pred_pos)\n",
        "        false_neg = K.sum(y_true_pos * (1 - y_pred_pos))\n",
        "        false_pos = K.sum((1 - y_true_pos) * y_pred_pos)\n",
        "        alpha = 0.7\n",
        "        return (true_pos + smooth) / (true_pos + alpha * false_neg + (\n",
        "                    1 - alpha) * false_pos + smooth)\n",
        "\n",
        "    def tversky_loss(self, y_true, y_pred):\n",
        "        return 1 - self.tversky_index(y_true, y_pred)\n",
        "\n",
        "    def focal_tversky(self, y_true, y_pred):\n",
        "        pt_1 = self.tversky_index(y_true, y_pred)\n",
        "        gamma = 0.75\n",
        "        return K.pow((1 - pt_1), gamma)\n",
        "\n",
        "    def log_cosh_dice_loss(self, y_true, y_pred):\n",
        "        x = self.dice_loss(y_true, y_pred)\n",
        "        return tf.math.log((tf.exp(x) + tf.exp(-x)) / 2.0)"
      ],
      "metadata": {
        "id": "0ztvQXby0Z0Z"
      },
      "execution_count": null,
      "outputs": []
    },
    {
      "cell_type": "code",
      "source": [
        "\n",
        "dice_coefficient_test = []\n",
        "sensitivity_test =[]\n",
        "specificity_test = []\n",
        "preprocess_input = sm.get_preprocessing(\"resnet34\")\n",
        "test_img_number = random.randint(0, len(training_imgs) -1)\n",
        "test_img = training_imgs[test_img_number]\n",
        "ground_truth=y_masks[test_img_number]\n",
        "test_img_input=np.expand_dims(test_img, 0)\n",
        "test_img_input1 = preprocess_input(test_img_input)\n",
        "#test_pred1 = model.predict(test_img_input1)\n",
        "y_test = model.predict(test_img_input1)\n",
        "test_mask=ground_truth.astype(np.float32)\n",
        "dice_coefficient_test.append(K.eval(dice_coef(test_mask, y_test)))\n",
        "sensitivity_test.append(K.eval(sensitivity(test_mask,y_test)))\n",
        "specificity_test.append(K.eval(specificity(test_mask,y_test)))\n",
        "print (\"average of Dice Coefficient, Sensitivity, Specificity\", dice_coefficient_test, sensitivity_test, specificity_test)"
      ],
      "metadata": {
        "colab": {
          "base_uri": "https://localhost:8080/"
        },
        "id": "YGN3iOd5JVYO",
        "outputId": "b9b96645-c39b-40d4-832e-0b2f66a2255f"
      },
      "execution_count": null,
      "outputs": [
        {
          "output_type": "stream",
          "name": "stdout",
          "text": [
            "average of Dice Coefficient, Sensitivity, Specificity [0.92823875] [0.9476929] [0.99638784]\n"
          ]
        }
      ]
    },
    {
      "cell_type": "code",
      "source": [
        "!pip install torchvision "
      ],
      "metadata": {
        "colab": {
          "base_uri": "https://localhost:8080/"
        },
        "id": "gxLt8IzjNfv-",
        "outputId": "ef48b3ff-fcaa-49d6-a046-490e15aa1557"
      },
      "execution_count": null,
      "outputs": [
        {
          "output_type": "stream",
          "name": "stdout",
          "text": [
            "Requirement already satisfied: torchvision in /usr/local/lib/python3.7/dist-packages (0.12.0+cu113)\n",
            "Requirement already satisfied: torch==1.11.0 in /usr/local/lib/python3.7/dist-packages (from torchvision) (1.11.0+cu113)\n",
            "Requirement already satisfied: typing-extensions in /usr/local/lib/python3.7/dist-packages (from torchvision) (4.2.0)\n",
            "Requirement already satisfied: pillow!=8.3.*,>=5.3.0 in /usr/local/lib/python3.7/dist-packages (from torchvision) (7.1.2)\n",
            "Requirement already satisfied: requests in /usr/local/lib/python3.7/dist-packages (from torchvision) (2.23.0)\n",
            "Requirement already satisfied: numpy in /usr/local/lib/python3.7/dist-packages (from torchvision) (1.21.6)\n",
            "Requirement already satisfied: urllib3!=1.25.0,!=1.25.1,<1.26,>=1.21.1 in /usr/local/lib/python3.7/dist-packages (from requests->torchvision) (1.24.3)\n",
            "Requirement already satisfied: chardet<4,>=3.0.2 in /usr/local/lib/python3.7/dist-packages (from requests->torchvision) (3.0.4)\n",
            "Requirement already satisfied: certifi>=2017.4.17 in /usr/local/lib/python3.7/dist-packages (from requests->torchvision) (2021.10.8)\n",
            "Requirement already satisfied: idna<3,>=2.5 in /usr/local/lib/python3.7/dist-packages (from requests->torchvision) (2.10)\n"
          ]
        }
      ]
    },
    {
      "cell_type": "code",
      "source": [
        ""
      ],
      "metadata": {
        "id": "VjKSLkC1OFMY"
      },
      "execution_count": null,
      "outputs": []
    },
    {
      "cell_type": "code",
      "source": [
        "!ls /content/drive/MyDrive/"
      ],
      "metadata": {
        "colab": {
          "base_uri": "https://localhost:8080/"
        },
        "id": "kVhHU3N0OFUU",
        "outputId": "0d87a282-5003-4232-db1e-b711a8eb4041"
      },
      "execution_count": null,
      "outputs": [
        {
          "output_type": "stream",
          "name": "stdout",
          "text": [
            " 00066_00002.ppm\n",
            "'Advanced Computer Vision'\n",
            " AffectNet-master\n",
            "'April 15 - Thursday-20210415_144235-Meeting Recording.mp4'\n",
            "'April 16 - Friday-20210416_160709-Meeting Recording.mp4'\n",
            " Assignment3\n",
            "'Attributes (1).csv'\n",
            " Attributes.csv\n",
            " augmentedimgs\n",
            " augmentedmasks\n",
            " classificator_weights.h5\n",
            "'Colab Notebooks'\n",
            "'Copy of test_set.tar'\n",
            "'Copy of train_and_val_set.tar'\n",
            " dataset1\n",
            "'dataset1 - Copy'\n",
            " emonet_5.pth\n",
            " features.csv\n",
            " Fid.pdf\n",
            " full_labels_for_deep_learning\n",
            "'Game Theory I - Kevin Leyton-Brown'\n",
            " images\n",
            " images2.csv\n",
            "'img3 (1).csv'\n",
            " img3.csv\n",
            "'img4 (1).csv'\n",
            " img4.csv\n",
            " img5.csv\n",
            " imgs.csv\n",
            " paths.csv\n",
            "'Project Proposal Template.gdoc'\n",
            " res34_backbone_50epochs2.hdf5\n",
            " submission2.csv\n",
            "'Task assignment papers.zip'\n",
            " tdata\n",
            " testd\n",
            " testdaa\n",
            " TestingData\n",
            " testing_dataA2\n",
            " test_set\n",
            " train\n",
            " TrainData\n",
            " TrainingData\n",
            " training_dataA2\n",
            " trainining_images\n",
            " train_set\n",
            "'Untitled Folder'\n",
            "'Week 2- Lecture 2-20210312_190258-Meeting Recording.mp4'\n",
            " weightd.h5\n"
          ]
        }
      ]
    },
    {
      "cell_type": "code",
      "source": [
        "cd /content/drive/MyDrive"
      ],
      "metadata": {
        "id": "2gksayEPOhAU",
        "outputId": "bfe92be6-bac1-4fe2-a4af-a4fdb2396958",
        "colab": {
          "base_uri": "https://localhost:8080/"
        }
      },
      "execution_count": 51,
      "outputs": [
        {
          "output_type": "stream",
          "name": "stdout",
          "text": [
            "/content/drive/MyDrive\n"
          ]
        }
      ]
    },
    {
      "cell_type": "code",
      "source": [
        "tf.saved_model.save(vgg16, 'vgg16_model') "
      ],
      "metadata": {
        "colab": {
          "base_uri": "https://localhost:8080/"
        },
        "id": "E6L8XPd9K6iF",
        "outputId": "c5bc5249-f0d3-457c-cf83-260bad7ca6fb"
      },
      "execution_count": 54,
      "outputs": [
        {
          "output_type": "stream",
          "name": "stdout",
          "text": [
            "INFO:tensorflow:Assets written to: vgg16_model/assets\n"
          ]
        }
      ]
    },
    {
      "cell_type": "code",
      "source": [
        ""
      ],
      "metadata": {
        "id": "-jiCpY-3NZ1X"
      },
      "execution_count": null,
      "outputs": []
    }
  ]
}